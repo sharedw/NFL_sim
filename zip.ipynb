{
 "cells": [
  {
   "cell_type": "code",
   "execution_count": 1,
   "metadata": {},
   "outputs": [],
   "source": [
    "import pandas as pd\n",
    "import yaml\n",
    "import joblib\n",
    "import xgboost as xgb\n",
    "from sklearn.model_selection import train_test_split\n",
    "from sklearn.metrics import accuracy_score, confusion_matrix, mean_squared_error, r2_score\n",
    "import numpy as np\n",
    "import torch\n",
    "import torch.nn as nn\n",
    "import torch.nn.functional as F"
   ]
  },
  {
   "cell_type": "code",
   "execution_count": 52,
   "metadata": {},
   "outputs": [],
   "source": [
    "rusher_stat_cols =[\n",
    " 'carries_roll',\n",
    " 'rushing_yards_roll',\n",
    " #'rushing_tds_roll',\n",
    " #'rushing_first_downs_roll',\n",
    " #'receiving_yards_roll',\n",
    " #'receiving_tds_roll',\n",
    " 'fantasy_points_ppr_roll']"
   ]
  },
  {
   "cell_type": "code",
   "execution_count": 29,
   "metadata": {},
   "outputs": [],
   "source": [
    "pbp = pd.read_parquet(\"data/pbp.parquet\")\n",
    "pbp[\"year\"] = pbp[\"game_id\"].apply(lambda x: int(x.split(\"_\")[0]))\n",
    "rushes = pbp.loc[(pbp.play_type=='run') & (~pbp.yards_gained.isna())].copy(\n",
    "    deep=True\n",
    ")\n"
   ]
  },
  {
   "cell_type": "code",
   "execution_count": 35,
   "metadata": {},
   "outputs": [],
   "source": [
    "rusher_stats = pd.read_parquet('data/agg/player_weekly_agg.parquet')[['season', 'team_name', 'week', 'game_type',  'gsis_id', \n",
    "       'position', 'depth_position', 'full_name', 'dense_depth',\n",
    " 'carries_roll',\n",
    " 'rushing_yards_roll',\n",
    " 'rushing_tds_roll',\n",
    " 'rushing_first_downs_roll',\n",
    " 'receptions_roll',\n",
    " 'targets_roll',\n",
    " 'receiving_yards_roll',\n",
    " 'receiving_tds_roll',\n",
    " 'fantasy_points_roll',\n",
    " 'fantasy_points_ppr_roll']]\n"
   ]
  },
  {
   "cell_type": "code",
   "execution_count": 36,
   "metadata": {},
   "outputs": [
    {
     "data": {
      "text/html": [
       "<div>\n",
       "<style scoped>\n",
       "    .dataframe tbody tr th:only-of-type {\n",
       "        vertical-align: middle;\n",
       "    }\n",
       "\n",
       "    .dataframe tbody tr th {\n",
       "        vertical-align: top;\n",
       "    }\n",
       "\n",
       "    .dataframe thead th {\n",
       "        text-align: right;\n",
       "    }\n",
       "</style>\n",
       "<table border=\"1\" class=\"dataframe\">\n",
       "  <thead>\n",
       "    <tr style=\"text-align: right;\">\n",
       "      <th></th>\n",
       "      <th>play_id</th>\n",
       "      <th>game_id</th>\n",
       "      <th>old_game_id</th>\n",
       "      <th>home_team</th>\n",
       "      <th>away_team</th>\n",
       "      <th>season_type</th>\n",
       "      <th>week</th>\n",
       "      <th>posteam</th>\n",
       "      <th>posteam_type</th>\n",
       "      <th>defteam</th>\n",
       "      <th>...</th>\n",
       "      <th>carries_roll</th>\n",
       "      <th>rushing_yards_roll</th>\n",
       "      <th>rushing_tds_roll</th>\n",
       "      <th>rushing_first_downs_roll</th>\n",
       "      <th>receptions_roll</th>\n",
       "      <th>targets_roll</th>\n",
       "      <th>receiving_yards_roll</th>\n",
       "      <th>receiving_tds_roll</th>\n",
       "      <th>fantasy_points_roll</th>\n",
       "      <th>fantasy_points_ppr_roll</th>\n",
       "    </tr>\n",
       "  </thead>\n",
       "  <tbody>\n",
       "    <tr>\n",
       "      <th>0</th>\n",
       "      <td>82.0</td>\n",
       "      <td>2010_01_ARI_STL</td>\n",
       "      <td>2010091208</td>\n",
       "      <td>LA</td>\n",
       "      <td>ARI</td>\n",
       "      <td>REG</td>\n",
       "      <td>1</td>\n",
       "      <td>ARI</td>\n",
       "      <td>away</td>\n",
       "      <td>LA</td>\n",
       "      <td>...</td>\n",
       "      <td>13.000000</td>\n",
       "      <td>54.000000</td>\n",
       "      <td>1.000000</td>\n",
       "      <td>3.000000</td>\n",
       "      <td>4.000000</td>\n",
       "      <td>4.000000</td>\n",
       "      <td>40.000000</td>\n",
       "      <td>0.000000</td>\n",
       "      <td>11.400000</td>\n",
       "      <td>15.400000</td>\n",
       "    </tr>\n",
       "    <tr>\n",
       "      <th>1</th>\n",
       "      <td>156.0</td>\n",
       "      <td>2010_01_ARI_STL</td>\n",
       "      <td>2010091208</td>\n",
       "      <td>LA</td>\n",
       "      <td>ARI</td>\n",
       "      <td>REG</td>\n",
       "      <td>1</td>\n",
       "      <td>ARI</td>\n",
       "      <td>away</td>\n",
       "      <td>LA</td>\n",
       "      <td>...</td>\n",
       "      <td>13.000000</td>\n",
       "      <td>54.000000</td>\n",
       "      <td>1.000000</td>\n",
       "      <td>3.000000</td>\n",
       "      <td>4.000000</td>\n",
       "      <td>4.000000</td>\n",
       "      <td>40.000000</td>\n",
       "      <td>0.000000</td>\n",
       "      <td>11.400000</td>\n",
       "      <td>15.400000</td>\n",
       "    </tr>\n",
       "    <tr>\n",
       "      <th>2</th>\n",
       "      <td>201.0</td>\n",
       "      <td>2010_01_ARI_STL</td>\n",
       "      <td>2010091208</td>\n",
       "      <td>LA</td>\n",
       "      <td>ARI</td>\n",
       "      <td>REG</td>\n",
       "      <td>1</td>\n",
       "      <td>ARI</td>\n",
       "      <td>away</td>\n",
       "      <td>LA</td>\n",
       "      <td>...</td>\n",
       "      <td>13.000000</td>\n",
       "      <td>54.000000</td>\n",
       "      <td>1.000000</td>\n",
       "      <td>3.000000</td>\n",
       "      <td>4.000000</td>\n",
       "      <td>4.000000</td>\n",
       "      <td>40.000000</td>\n",
       "      <td>0.000000</td>\n",
       "      <td>11.400000</td>\n",
       "      <td>15.400000</td>\n",
       "    </tr>\n",
       "    <tr>\n",
       "      <th>3</th>\n",
       "      <td>222.0</td>\n",
       "      <td>2010_01_ARI_STL</td>\n",
       "      <td>2010091208</td>\n",
       "      <td>LA</td>\n",
       "      <td>ARI</td>\n",
       "      <td>REG</td>\n",
       "      <td>1</td>\n",
       "      <td>ARI</td>\n",
       "      <td>away</td>\n",
       "      <td>LA</td>\n",
       "      <td>...</td>\n",
       "      <td>13.000000</td>\n",
       "      <td>54.000000</td>\n",
       "      <td>1.000000</td>\n",
       "      <td>3.000000</td>\n",
       "      <td>4.000000</td>\n",
       "      <td>4.000000</td>\n",
       "      <td>40.000000</td>\n",
       "      <td>0.000000</td>\n",
       "      <td>11.400000</td>\n",
       "      <td>15.400000</td>\n",
       "    </tr>\n",
       "    <tr>\n",
       "      <th>4</th>\n",
       "      <td>577.0</td>\n",
       "      <td>2010_01_ARI_STL</td>\n",
       "      <td>2010091208</td>\n",
       "      <td>LA</td>\n",
       "      <td>ARI</td>\n",
       "      <td>REG</td>\n",
       "      <td>1</td>\n",
       "      <td>ARI</td>\n",
       "      <td>away</td>\n",
       "      <td>LA</td>\n",
       "      <td>...</td>\n",
       "      <td>13.000000</td>\n",
       "      <td>54.000000</td>\n",
       "      <td>1.000000</td>\n",
       "      <td>3.000000</td>\n",
       "      <td>4.000000</td>\n",
       "      <td>4.000000</td>\n",
       "      <td>40.000000</td>\n",
       "      <td>0.000000</td>\n",
       "      <td>11.400000</td>\n",
       "      <td>15.400000</td>\n",
       "    </tr>\n",
       "    <tr>\n",
       "      <th>...</th>\n",
       "      <td>...</td>\n",
       "      <td>...</td>\n",
       "      <td>...</td>\n",
       "      <td>...</td>\n",
       "      <td>...</td>\n",
       "      <td>...</td>\n",
       "      <td>...</td>\n",
       "      <td>...</td>\n",
       "      <td>...</td>\n",
       "      <td>...</td>\n",
       "      <td>...</td>\n",
       "      <td>...</td>\n",
       "      <td>...</td>\n",
       "      <td>...</td>\n",
       "      <td>...</td>\n",
       "      <td>...</td>\n",
       "      <td>...</td>\n",
       "      <td>...</td>\n",
       "      <td>...</td>\n",
       "      <td>...</td>\n",
       "      <td>...</td>\n",
       "    </tr>\n",
       "    <tr>\n",
       "      <th>194691</th>\n",
       "      <td>3751.0</td>\n",
       "      <td>2024_11_WAS_PHI</td>\n",
       "      <td>2024111400</td>\n",
       "      <td>PHI</td>\n",
       "      <td>WAS</td>\n",
       "      <td>REG</td>\n",
       "      <td>11</td>\n",
       "      <td>PHI</td>\n",
       "      <td>home</td>\n",
       "      <td>WAS</td>\n",
       "      <td>...</td>\n",
       "      <td>20.145100</td>\n",
       "      <td>113.581922</td>\n",
       "      <td>0.865372</td>\n",
       "      <td>4.927239</td>\n",
       "      <td>1.820060</td>\n",
       "      <td>2.417159</td>\n",
       "      <td>26.638642</td>\n",
       "      <td>0.156754</td>\n",
       "      <td>19.931916</td>\n",
       "      <td>21.751977</td>\n",
       "    </tr>\n",
       "    <tr>\n",
       "      <th>194692</th>\n",
       "      <td>3973.0</td>\n",
       "      <td>2024_11_WAS_PHI</td>\n",
       "      <td>2024111400</td>\n",
       "      <td>PHI</td>\n",
       "      <td>WAS</td>\n",
       "      <td>REG</td>\n",
       "      <td>11</td>\n",
       "      <td>WAS</td>\n",
       "      <td>away</td>\n",
       "      <td>PHI</td>\n",
       "      <td>...</td>\n",
       "      <td>6.476085</td>\n",
       "      <td>28.898951</td>\n",
       "      <td>0.067896</td>\n",
       "      <td>1.533212</td>\n",
       "      <td>0.000000</td>\n",
       "      <td>0.000000</td>\n",
       "      <td>0.000000</td>\n",
       "      <td>0.000000</td>\n",
       "      <td>15.084039</td>\n",
       "      <td>15.084039</td>\n",
       "    </tr>\n",
       "    <tr>\n",
       "      <th>194693</th>\n",
       "      <td>4000.0</td>\n",
       "      <td>2024_11_WAS_PHI</td>\n",
       "      <td>2024111400</td>\n",
       "      <td>PHI</td>\n",
       "      <td>WAS</td>\n",
       "      <td>REG</td>\n",
       "      <td>11</td>\n",
       "      <td>WAS</td>\n",
       "      <td>away</td>\n",
       "      <td>PHI</td>\n",
       "      <td>...</td>\n",
       "      <td>4.142536</td>\n",
       "      <td>13.094517</td>\n",
       "      <td>0.296237</td>\n",
       "      <td>1.109361</td>\n",
       "      <td>0.323854</td>\n",
       "      <td>0.476345</td>\n",
       "      <td>0.535579</td>\n",
       "      <td>0.000045</td>\n",
       "      <td>3.140706</td>\n",
       "      <td>3.464560</td>\n",
       "    </tr>\n",
       "    <tr>\n",
       "      <th>194694</th>\n",
       "      <td>4052.0</td>\n",
       "      <td>2024_11_WAS_PHI</td>\n",
       "      <td>2024111400</td>\n",
       "      <td>PHI</td>\n",
       "      <td>WAS</td>\n",
       "      <td>REG</td>\n",
       "      <td>11</td>\n",
       "      <td>WAS</td>\n",
       "      <td>away</td>\n",
       "      <td>PHI</td>\n",
       "      <td>...</td>\n",
       "      <td>4.142536</td>\n",
       "      <td>13.094517</td>\n",
       "      <td>0.296237</td>\n",
       "      <td>1.109361</td>\n",
       "      <td>0.323854</td>\n",
       "      <td>0.476345</td>\n",
       "      <td>0.535579</td>\n",
       "      <td>0.000045</td>\n",
       "      <td>3.140706</td>\n",
       "      <td>3.464560</td>\n",
       "    </tr>\n",
       "    <tr>\n",
       "      <th>194695</th>\n",
       "      <td>4074.0</td>\n",
       "      <td>2024_11_WAS_PHI</td>\n",
       "      <td>2024111400</td>\n",
       "      <td>PHI</td>\n",
       "      <td>WAS</td>\n",
       "      <td>REG</td>\n",
       "      <td>11</td>\n",
       "      <td>WAS</td>\n",
       "      <td>away</td>\n",
       "      <td>PHI</td>\n",
       "      <td>...</td>\n",
       "      <td>4.142536</td>\n",
       "      <td>13.094517</td>\n",
       "      <td>0.296237</td>\n",
       "      <td>1.109361</td>\n",
       "      <td>0.323854</td>\n",
       "      <td>0.476345</td>\n",
       "      <td>0.535579</td>\n",
       "      <td>0.000045</td>\n",
       "      <td>3.140706</td>\n",
       "      <td>3.464560</td>\n",
       "    </tr>\n",
       "  </tbody>\n",
       "</table>\n",
       "<p>194696 rows × 410 columns</p>\n",
       "</div>"
      ],
      "text/plain": [
       "        play_id          game_id old_game_id home_team away_team season_type  \\\n",
       "0          82.0  2010_01_ARI_STL  2010091208        LA       ARI         REG   \n",
       "1         156.0  2010_01_ARI_STL  2010091208        LA       ARI         REG   \n",
       "2         201.0  2010_01_ARI_STL  2010091208        LA       ARI         REG   \n",
       "3         222.0  2010_01_ARI_STL  2010091208        LA       ARI         REG   \n",
       "4         577.0  2010_01_ARI_STL  2010091208        LA       ARI         REG   \n",
       "...         ...              ...         ...       ...       ...         ...   \n",
       "194691   3751.0  2024_11_WAS_PHI  2024111400       PHI       WAS         REG   \n",
       "194692   3973.0  2024_11_WAS_PHI  2024111400       PHI       WAS         REG   \n",
       "194693   4000.0  2024_11_WAS_PHI  2024111400       PHI       WAS         REG   \n",
       "194694   4052.0  2024_11_WAS_PHI  2024111400       PHI       WAS         REG   \n",
       "194695   4074.0  2024_11_WAS_PHI  2024111400       PHI       WAS         REG   \n",
       "\n",
       "        week posteam posteam_type defteam  ... carries_roll  \\\n",
       "0          1     ARI         away      LA  ...    13.000000   \n",
       "1          1     ARI         away      LA  ...    13.000000   \n",
       "2          1     ARI         away      LA  ...    13.000000   \n",
       "3          1     ARI         away      LA  ...    13.000000   \n",
       "4          1     ARI         away      LA  ...    13.000000   \n",
       "...      ...     ...          ...     ...  ...          ...   \n",
       "194691    11     PHI         home     WAS  ...    20.145100   \n",
       "194692    11     WAS         away     PHI  ...     6.476085   \n",
       "194693    11     WAS         away     PHI  ...     4.142536   \n",
       "194694    11     WAS         away     PHI  ...     4.142536   \n",
       "194695    11     WAS         away     PHI  ...     4.142536   \n",
       "\n",
       "        rushing_yards_roll rushing_tds_roll  rushing_first_downs_roll  \\\n",
       "0                54.000000         1.000000                  3.000000   \n",
       "1                54.000000         1.000000                  3.000000   \n",
       "2                54.000000         1.000000                  3.000000   \n",
       "3                54.000000         1.000000                  3.000000   \n",
       "4                54.000000         1.000000                  3.000000   \n",
       "...                    ...              ...                       ...   \n",
       "194691          113.581922         0.865372                  4.927239   \n",
       "194692           28.898951         0.067896                  1.533212   \n",
       "194693           13.094517         0.296237                  1.109361   \n",
       "194694           13.094517         0.296237                  1.109361   \n",
       "194695           13.094517         0.296237                  1.109361   \n",
       "\n",
       "        receptions_roll  targets_roll receiving_yards_roll  \\\n",
       "0              4.000000      4.000000            40.000000   \n",
       "1              4.000000      4.000000            40.000000   \n",
       "2              4.000000      4.000000            40.000000   \n",
       "3              4.000000      4.000000            40.000000   \n",
       "4              4.000000      4.000000            40.000000   \n",
       "...                 ...           ...                  ...   \n",
       "194691         1.820060      2.417159            26.638642   \n",
       "194692         0.000000      0.000000             0.000000   \n",
       "194693         0.323854      0.476345             0.535579   \n",
       "194694         0.323854      0.476345             0.535579   \n",
       "194695         0.323854      0.476345             0.535579   \n",
       "\n",
       "        receiving_tds_roll  fantasy_points_roll  fantasy_points_ppr_roll  \n",
       "0                 0.000000            11.400000                15.400000  \n",
       "1                 0.000000            11.400000                15.400000  \n",
       "2                 0.000000            11.400000                15.400000  \n",
       "3                 0.000000            11.400000                15.400000  \n",
       "4                 0.000000            11.400000                15.400000  \n",
       "...                    ...                  ...                      ...  \n",
       "194691            0.156754            19.931916                21.751977  \n",
       "194692            0.000000            15.084039                15.084039  \n",
       "194693            0.000045             3.140706                 3.464560  \n",
       "194694            0.000045             3.140706                 3.464560  \n",
       "194695            0.000045             3.140706                 3.464560  \n",
       "\n",
       "[194696 rows x 410 columns]"
      ]
     },
     "execution_count": 36,
     "metadata": {},
     "output_type": "execute_result"
    }
   ],
   "source": [
    "rushes = rushes.merge(\n",
    "    rusher_stats,\n",
    "    left_on=[\"posteam\", \"season\", \"week\", \"rusher_player_id\"],\n",
    "    right_on=[\"team_name\", \"season\", \"week\", 'gsis_id'],\n",
    ")\n",
    "rushes"
   ]
  },
  {
   "cell_type": "code",
   "execution_count": 38,
   "metadata": {},
   "outputs": [],
   "source": [
    "rushes['play_end_ydline'] = (rushes['yardline_100'] - rushes['yards_gained'])\n",
    "rushes = rushes.loc[~rushes.down.isna()].copy(deep=True)"
   ]
  },
  {
   "cell_type": "code",
   "execution_count": 53,
   "metadata": {},
   "outputs": [],
   "source": [
    "game_context_cols = [\n",
    "    #'posteam',\n",
    "    \"yardline_100\",\n",
    "    \"down\",\n",
    "    \"goal_to_go\",\n",
    "    \"ydstogo\",\n",
    "    #\"yards_gained\",\n",
    "    \"posteam_score\",\n",
    "    #\"total_away_score\",\n",
    "    \"score_differential\",\n",
    "    'quarter_seconds_remaining',\n",
    "    'half_seconds_remaining',\n",
    "    'game_seconds_remaining',\n",
    "    #\"wind\",\n",
    "    #\"temp\",\n",
    "    'spread_line',\n",
    "    'total_line'\n",
    "]\n",
    "\n",
    "\n",
    "full = ['desc','yards_gained', 'play_end_ydline'] + game_context_cols + rusher_stat_cols"
   ]
  },
  {
   "cell_type": "code",
   "execution_count": 9,
   "metadata": {},
   "outputs": [],
   "source": [
    "rushes['play_end_ydline'] = (rushes['yardline_100'] - rushes['yards_gained'])\n",
    "rushes = rushes.loc[~rushes.down.isna()][full].copy(deep=True)"
   ]
  },
  {
   "cell_type": "code",
   "execution_count": 69,
   "metadata": {},
   "outputs": [
    {
     "data": {
      "text/plain": [
       "14"
      ]
     },
     "execution_count": 69,
     "metadata": {},
     "output_type": "execute_result"
    }
   ],
   "source": [
    "rush_yards_cols = (game_context_cols + rusher_stat_cols)\n",
    "len(rush_yards_cols)"
   ]
  },
  {
   "cell_type": "code",
   "execution_count": 55,
   "metadata": {},
   "outputs": [],
   "source": [
    "rushes['yards_shifted'] = (rushes['yards_gained'] + 30)"
   ]
  },
  {
   "cell_type": "code",
   "execution_count": 56,
   "metadata": {},
   "outputs": [
    {
     "data": {
      "text/plain": [
       "4.0"
      ]
     },
     "execution_count": 56,
     "metadata": {},
     "output_type": "execute_result"
    }
   ],
   "source": [
    "rushes['yards_shifted'].min()"
   ]
  },
  {
   "cell_type": "code",
   "execution_count": 61,
   "metadata": {},
   "outputs": [
    {
     "data": {
      "text/html": [
       "<div>\n",
       "<style scoped>\n",
       "    .dataframe tbody tr th:only-of-type {\n",
       "        vertical-align: middle;\n",
       "    }\n",
       "\n",
       "    .dataframe tbody tr th {\n",
       "        vertical-align: top;\n",
       "    }\n",
       "\n",
       "    .dataframe thead th {\n",
       "        text-align: right;\n",
       "    }\n",
       "</style>\n",
       "<table border=\"1\" class=\"dataframe\">\n",
       "  <thead>\n",
       "    <tr style=\"text-align: right;\">\n",
       "      <th></th>\n",
       "      <th>yardline_100</th>\n",
       "      <th>down</th>\n",
       "      <th>goal_to_go</th>\n",
       "      <th>ydstogo</th>\n",
       "      <th>posteam_score</th>\n",
       "      <th>score_differential</th>\n",
       "      <th>quarter_seconds_remaining</th>\n",
       "      <th>half_seconds_remaining</th>\n",
       "      <th>game_seconds_remaining</th>\n",
       "      <th>spread_line</th>\n",
       "      <th>total_line</th>\n",
       "      <th>carries_roll</th>\n",
       "      <th>rushing_yards_roll</th>\n",
       "      <th>fantasy_points_ppr_roll</th>\n",
       "    </tr>\n",
       "  </thead>\n",
       "  <tbody>\n",
       "    <tr>\n",
       "      <th>0</th>\n",
       "      <td>78.0</td>\n",
       "      <td>2.0</td>\n",
       "      <td>0</td>\n",
       "      <td>10.0</td>\n",
       "      <td>0.0</td>\n",
       "      <td>0.0</td>\n",
       "      <td>864.0</td>\n",
       "      <td>1764.0</td>\n",
       "      <td>3564.0</td>\n",
       "      <td>-3.0</td>\n",
       "      <td>39.5</td>\n",
       "      <td>13.000000</td>\n",
       "      <td>54.000000</td>\n",
       "      <td>15.400000</td>\n",
       "    </tr>\n",
       "    <tr>\n",
       "      <th>1</th>\n",
       "      <td>38.0</td>\n",
       "      <td>1.0</td>\n",
       "      <td>0</td>\n",
       "      <td>10.0</td>\n",
       "      <td>0.0</td>\n",
       "      <td>0.0</td>\n",
       "      <td>772.0</td>\n",
       "      <td>1672.0</td>\n",
       "      <td>3472.0</td>\n",
       "      <td>-3.0</td>\n",
       "      <td>39.5</td>\n",
       "      <td>13.000000</td>\n",
       "      <td>54.000000</td>\n",
       "      <td>15.400000</td>\n",
       "    </tr>\n",
       "    <tr>\n",
       "      <th>2</th>\n",
       "      <td>24.0</td>\n",
       "      <td>1.0</td>\n",
       "      <td>0</td>\n",
       "      <td>10.0</td>\n",
       "      <td>0.0</td>\n",
       "      <td>0.0</td>\n",
       "      <td>701.0</td>\n",
       "      <td>1601.0</td>\n",
       "      <td>3401.0</td>\n",
       "      <td>-3.0</td>\n",
       "      <td>39.5</td>\n",
       "      <td>13.000000</td>\n",
       "      <td>54.000000</td>\n",
       "      <td>15.400000</td>\n",
       "    </tr>\n",
       "    <tr>\n",
       "      <th>3</th>\n",
       "      <td>22.0</td>\n",
       "      <td>2.0</td>\n",
       "      <td>0</td>\n",
       "      <td>8.0</td>\n",
       "      <td>0.0</td>\n",
       "      <td>0.0</td>\n",
       "      <td>663.0</td>\n",
       "      <td>1563.0</td>\n",
       "      <td>3363.0</td>\n",
       "      <td>-3.0</td>\n",
       "      <td>39.5</td>\n",
       "      <td>13.000000</td>\n",
       "      <td>54.000000</td>\n",
       "      <td>15.400000</td>\n",
       "    </tr>\n",
       "    <tr>\n",
       "      <th>4</th>\n",
       "      <td>39.0</td>\n",
       "      <td>1.0</td>\n",
       "      <td>0</td>\n",
       "      <td>10.0</td>\n",
       "      <td>0.0</td>\n",
       "      <td>0.0</td>\n",
       "      <td>387.0</td>\n",
       "      <td>1287.0</td>\n",
       "      <td>3087.0</td>\n",
       "      <td>-3.0</td>\n",
       "      <td>39.5</td>\n",
       "      <td>13.000000</td>\n",
       "      <td>54.000000</td>\n",
       "      <td>15.400000</td>\n",
       "    </tr>\n",
       "    <tr>\n",
       "      <th>...</th>\n",
       "      <td>...</td>\n",
       "      <td>...</td>\n",
       "      <td>...</td>\n",
       "      <td>...</td>\n",
       "      <td>...</td>\n",
       "      <td>...</td>\n",
       "      <td>...</td>\n",
       "      <td>...</td>\n",
       "      <td>...</td>\n",
       "      <td>...</td>\n",
       "      <td>...</td>\n",
       "      <td>...</td>\n",
       "      <td>...</td>\n",
       "      <td>...</td>\n",
       "    </tr>\n",
       "    <tr>\n",
       "      <th>194691</th>\n",
       "      <td>39.0</td>\n",
       "      <td>2.0</td>\n",
       "      <td>0</td>\n",
       "      <td>3.0</td>\n",
       "      <td>19.0</td>\n",
       "      <td>9.0</td>\n",
       "      <td>285.0</td>\n",
       "      <td>285.0</td>\n",
       "      <td>285.0</td>\n",
       "      <td>4.5</td>\n",
       "      <td>49.5</td>\n",
       "      <td>20.145100</td>\n",
       "      <td>113.581922</td>\n",
       "      <td>21.751977</td>\n",
       "    </tr>\n",
       "    <tr>\n",
       "      <th>194692</th>\n",
       "      <td>43.0</td>\n",
       "      <td>1.0</td>\n",
       "      <td>0</td>\n",
       "      <td>10.0</td>\n",
       "      <td>10.0</td>\n",
       "      <td>-16.0</td>\n",
       "      <td>205.0</td>\n",
       "      <td>205.0</td>\n",
       "      <td>205.0</td>\n",
       "      <td>4.5</td>\n",
       "      <td>49.5</td>\n",
       "      <td>6.476085</td>\n",
       "      <td>28.898951</td>\n",
       "      <td>15.084039</td>\n",
       "    </tr>\n",
       "    <tr>\n",
       "      <th>194693</th>\n",
       "      <td>38.0</td>\n",
       "      <td>2.0</td>\n",
       "      <td>0</td>\n",
       "      <td>5.0</td>\n",
       "      <td>10.0</td>\n",
       "      <td>-16.0</td>\n",
       "      <td>199.0</td>\n",
       "      <td>199.0</td>\n",
       "      <td>199.0</td>\n",
       "      <td>4.5</td>\n",
       "      <td>49.5</td>\n",
       "      <td>4.142536</td>\n",
       "      <td>13.094517</td>\n",
       "      <td>3.464560</td>\n",
       "    </tr>\n",
       "    <tr>\n",
       "      <th>194694</th>\n",
       "      <td>23.0</td>\n",
       "      <td>2.0</td>\n",
       "      <td>0</td>\n",
       "      <td>1.0</td>\n",
       "      <td>10.0</td>\n",
       "      <td>-16.0</td>\n",
       "      <td>173.0</td>\n",
       "      <td>173.0</td>\n",
       "      <td>173.0</td>\n",
       "      <td>4.5</td>\n",
       "      <td>49.5</td>\n",
       "      <td>4.142536</td>\n",
       "      <td>13.094517</td>\n",
       "      <td>3.464560</td>\n",
       "    </tr>\n",
       "    <tr>\n",
       "      <th>194695</th>\n",
       "      <td>27.0</td>\n",
       "      <td>3.0</td>\n",
       "      <td>0</td>\n",
       "      <td>5.0</td>\n",
       "      <td>10.0</td>\n",
       "      <td>-16.0</td>\n",
       "      <td>142.0</td>\n",
       "      <td>142.0</td>\n",
       "      <td>142.0</td>\n",
       "      <td>4.5</td>\n",
       "      <td>49.5</td>\n",
       "      <td>4.142536</td>\n",
       "      <td>13.094517</td>\n",
       "      <td>3.464560</td>\n",
       "    </tr>\n",
       "  </tbody>\n",
       "</table>\n",
       "<p>194297 rows × 14 columns</p>\n",
       "</div>"
      ],
      "text/plain": [
       "        yardline_100  down  goal_to_go  ydstogo  posteam_score  \\\n",
       "0               78.0   2.0           0     10.0            0.0   \n",
       "1               38.0   1.0           0     10.0            0.0   \n",
       "2               24.0   1.0           0     10.0            0.0   \n",
       "3               22.0   2.0           0      8.0            0.0   \n",
       "4               39.0   1.0           0     10.0            0.0   \n",
       "...              ...   ...         ...      ...            ...   \n",
       "194691          39.0   2.0           0      3.0           19.0   \n",
       "194692          43.0   1.0           0     10.0           10.0   \n",
       "194693          38.0   2.0           0      5.0           10.0   \n",
       "194694          23.0   2.0           0      1.0           10.0   \n",
       "194695          27.0   3.0           0      5.0           10.0   \n",
       "\n",
       "        score_differential  quarter_seconds_remaining  half_seconds_remaining  \\\n",
       "0                      0.0                      864.0                  1764.0   \n",
       "1                      0.0                      772.0                  1672.0   \n",
       "2                      0.0                      701.0                  1601.0   \n",
       "3                      0.0                      663.0                  1563.0   \n",
       "4                      0.0                      387.0                  1287.0   \n",
       "...                    ...                        ...                     ...   \n",
       "194691                 9.0                      285.0                   285.0   \n",
       "194692               -16.0                      205.0                   205.0   \n",
       "194693               -16.0                      199.0                   199.0   \n",
       "194694               -16.0                      173.0                   173.0   \n",
       "194695               -16.0                      142.0                   142.0   \n",
       "\n",
       "        game_seconds_remaining  spread_line  total_line  carries_roll  \\\n",
       "0                       3564.0         -3.0        39.5     13.000000   \n",
       "1                       3472.0         -3.0        39.5     13.000000   \n",
       "2                       3401.0         -3.0        39.5     13.000000   \n",
       "3                       3363.0         -3.0        39.5     13.000000   \n",
       "4                       3087.0         -3.0        39.5     13.000000   \n",
       "...                        ...          ...         ...           ...   \n",
       "194691                   285.0          4.5        49.5     20.145100   \n",
       "194692                   205.0          4.5        49.5      6.476085   \n",
       "194693                   199.0          4.5        49.5      4.142536   \n",
       "194694                   173.0          4.5        49.5      4.142536   \n",
       "194695                   142.0          4.5        49.5      4.142536   \n",
       "\n",
       "        rushing_yards_roll  fantasy_points_ppr_roll  \n",
       "0                54.000000                15.400000  \n",
       "1                54.000000                15.400000  \n",
       "2                54.000000                15.400000  \n",
       "3                54.000000                15.400000  \n",
       "4                54.000000                15.400000  \n",
       "...                    ...                      ...  \n",
       "194691          113.581922                21.751977  \n",
       "194692           28.898951                15.084039  \n",
       "194693           13.094517                 3.464560  \n",
       "194694           13.094517                 3.464560  \n",
       "194695           13.094517                 3.464560  \n",
       "\n",
       "[194297 rows x 14 columns]"
      ]
     },
     "execution_count": 61,
     "metadata": {},
     "output_type": "execute_result"
    }
   ],
   "source": [
    "rushes[rush_yards_cols]"
   ]
  },
  {
   "cell_type": "code",
   "execution_count": 74,
   "metadata": {},
   "outputs": [],
   "source": [
    "from sklearn.preprocessing import StandardScaler\n",
    "\n",
    "scaler = StandardScaler()\n"
   ]
  },
  {
   "cell_type": "code",
   "execution_count": 108,
   "metadata": {},
   "outputs": [
    {
     "data": {
      "text/plain": [
       "(array([2.4045e+04, 5.4043e+04, 6.0142e+04, 3.7820e+04, 1.2965e+04,\n",
       "        2.5760e+03, 5.2000e+02, 8.8000e+01, 0.0000e+00, 3.3000e+01]),\n",
       " array([-12. ,  12.3,  36.6,  60.9,  85.2, 109.5, 133.8, 158.1, 182.4,\n",
       "        206.7, 231. ]),\n",
       " <BarContainer object of 10 artists>)"
      ]
     },
     "execution_count": 108,
     "metadata": {},
     "output_type": "execute_result"
    },
    {
     "data": {
      "image/png": "[encoded data removed]",
      "text/plain": [
       "<Figure size 640x480 with 1 Axes>"
      ]
     },
     "metadata": {},
     "output_type": "display_data"
    }
   ],
   "source": [
    "plt.hist(rushes['rushing_yards_roll'])"
   ]
  },
  {
   "cell_type": "code",
   "execution_count": 109,
   "metadata": {},
   "outputs": [
    {
     "data": {
      "text/plain": [
       "['yardline_100',\n",
       " 'down',\n",
       " 'goal_to_go',\n",
       " 'ydstogo',\n",
       " 'posteam_score',\n",
       " 'score_differential',\n",
       " 'quarter_seconds_remaining',\n",
       " 'half_seconds_remaining',\n",
       " 'game_seconds_remaining',\n",
       " 'spread_line',\n",
       " 'total_line',\n",
       " 'carries_roll',\n",
       " 'rushing_yards_roll',\n",
       " 'fantasy_points_ppr_roll']"
      ]
     },
     "execution_count": 109,
     "metadata": {},
     "output_type": "execute_result"
    }
   ],
   "source": [
    "(game_context_cols + rusher_stat_cols)"
   ]
  },
  {
   "cell_type": "code",
   "execution_count": 123,
   "metadata": {},
   "outputs": [],
   "source": [
    "rushes[[ 'carries_roll',\n",
    " 'rushing_yards_roll',\n",
    " 'fantasy_points_ppr_roll']] = rushes[[ 'carries_roll',\n",
    " 'rushing_yards_roll',\n",
    " 'fantasy_points_ppr_roll']].fillna(0)\n"
   ]
  },
  {
   "cell_type": "code",
   "execution_count": 462,
   "metadata": {},
   "outputs": [
    {
     "data": {
      "text/plain": [
       "14"
      ]
     },
     "execution_count": 462,
     "metadata": {},
     "output_type": "execute_result"
    }
   ],
   "source": [
    "rush_yards_cols = (game_context_cols + rusher_stat_cols)#[0:3] + [rusher_stat_cols[-1]]\n",
    "len(rush_yards_cols)"
   ]
  },
  {
   "cell_type": "code",
   "execution_count": 558,
   "metadata": {},
   "outputs": [],
   "source": [
    "rush_yards_cols = [ 'ydstogo',\n",
    " 'yardline_100',\n",
    " 'down',\n",
    " 'goal_to_go',\n",
    " 'posteam_score',\n",
    " 'score_differential',\n",
    " 'spread_line',\n",
    " 'total_line',\n",
    " 'carries_roll',\n",
    " 'rushing_yards_roll',\n",
    " 'fantasy_points_ppr_roll']"
   ]
  },
  {
   "cell_type": "code",
   "execution_count": 559,
   "metadata": {},
   "outputs": [],
   "source": [
    "rushes['yards_shifted'] = rushes['yards_gained'].apply(lambda x: max(0, (x+5)))"
   ]
  },
  {
   "cell_type": "code",
   "execution_count": 560,
   "metadata": {},
   "outputs": [],
   "source": [
    "\n",
    "small = rushes.copy(deep=True)"
   ]
  },
  {
   "cell_type": "code",
   "execution_count": 561,
   "metadata": {},
   "outputs": [
    {
     "name": "stdout",
     "output_type": "stream",
     "text": [
      "Epoch 1/20, Loss: 0.0061\n",
      "Epoch 2/20, Loss: 0.0056\n",
      "Epoch 3/20, Loss: 0.0055\n",
      "Epoch 4/20, Loss: 0.0055\n",
      "Epoch 5/20, Loss: 0.0055\n",
      "Epoch 6/20, Loss: 0.0055\n",
      "Epoch 7/20, Loss: 0.0055\n",
      "Epoch 8/20, Loss: 0.0054\n",
      "Epoch 9/20, Loss: 0.0054\n",
      "Epoch 10/20, Loss: 0.0054\n",
      "Epoch 11/20, Loss: 0.0054\n",
      "Epoch 12/20, Loss: 0.0054\n",
      "Epoch 13/20, Loss: 0.0054\n",
      "Epoch 14/20, Loss: 0.0054\n",
      "Epoch 15/20, Loss: 0.0054\n",
      "Epoch 16/20, Loss: 0.0054\n",
      "Epoch 17/20, Loss: 0.0054\n",
      "Epoch 18/20, Loss: 0.0054\n",
      "Epoch 19/20, Loss: 0.0054\n",
      "Epoch 20/20, Loss: 0.0054\n",
      "Test Loss: 2.7797, Test Accuracy: 0.1412\n"
     ]
    }
   ],
   "source": [
    "import torch\n",
    "import torch.nn as nn\n",
    "import torch.nn.functional as F\n",
    "import torch.optim as optim\n",
    "\n",
    "small = rushes#.loc[rushes.yardline_100 < 10]\n",
    "\n",
    "X = torch.Tensor((small[rush_yards_cols].values))\n",
    "y = torch.tensor(small['yards_shifted'].astype(int).values, dtype=torch.long)\n",
    "obs = len(X)\n",
    "num_feats = len(rush_yards_cols)\n",
    "# Update the model to match the input and output sizes\n",
    "class ThreeLayerClassifier(nn.Module):\n",
    "    def __init__(self, input_size=num_feats, hidden_size=30, output_size=106):\n",
    "        super(ThreeLayerClassifier, self).__init__()\n",
    "        self.hidden1 = nn.Linear(input_size, hidden_size)\n",
    "        self.hidden2 = nn.Linear(hidden_size, hidden_size)\n",
    "        self.hidden3 = nn.Linear(hidden_size, hidden_size)\n",
    "        self.output_layer = nn.Linear(hidden_size + 1, output_size)  # +1 for the additional feature\n",
    "    def forward(self, x):\n",
    "        # Extract the feature to pass to the final layer (e.g., the first feature)\n",
    "        feature_to_pass = x[:, 0].unsqueeze(1)  # Assuming you want the first feature, shape [batch_size, 1]\n",
    "        \n",
    "        # Pass through the first two layers\n",
    "        x = F.relu(self.hidden1(x))\n",
    "        x = F.relu(self.hidden2(x))\n",
    "        x = F.relu(self.hidden3(x))\n",
    "        # Concatenate the extracted feature with the output of the hidden layers\n",
    "        x = torch.cat((x, feature_to_pass), dim=1)  # Concatenate along the feature axis (dim=1)\n",
    "        \n",
    "        # Pass through the final layer\n",
    "        x = self.output_layer(x)\n",
    "        return x\n",
    "\n",
    "\n",
    "# Define the model, loss function, and optimizer\n",
    "model = ThreeLayerClassifier()\n",
    "criterion = nn.CrossEntropyLoss()  # Suitable for classification\n",
    "optimizer = optim.Adam(model.parameters(), lr=0.001)\n",
    "\n",
    "# Split data into training and testing sets\n",
    "train_X, test_X = X[obs//5:], X[:obs//5]\n",
    "train_y, test_y = y[obs//5:], y[:obs//5]\n",
    "\n",
    "# Training loop\n",
    "epochs = 20\n",
    "batch_size = 512\n",
    "\n",
    "for epoch in range(epochs):\n",
    "    model.train()\n",
    "    permutation = torch.randperm(train_X.size(0))\n",
    "    epoch_loss = 0\n",
    "\n",
    "    for i in range(0, train_X.size(0), batch_size):\n",
    "        indices = permutation[i:i + batch_size]\n",
    "        batch_X, batch_y = train_X[indices], train_y[indices]\n",
    "\n",
    "        optimizer.zero_grad()\n",
    "        outputs = model(batch_X)  # Shape: [batch_size, 100]\n",
    "        loss = criterion(outputs, batch_y)  # batch_y must be [batch_size] with class indices\n",
    "        loss.backward()\n",
    "        optimizer.step()\n",
    "\n",
    "        epoch_loss += loss.item()\n",
    "\n",
    "    print(f\"Epoch {epoch+1}/{epochs}, Loss: {epoch_loss/len(train_X):.4f}\")\n",
    "\n",
    "# Evaluation on the test set\n",
    "model.eval()\n",
    "with torch.no_grad():\n",
    "    test_preds = model(test_X)  # Shape: [num_samples, 100]\n",
    "    test_loss = criterion(test_preds, test_y).item()\n",
    "    accuracy = (test_preds.argmax(dim=1) == test_y).float().mean().item()\n",
    "\n",
    "print(f\"Test Loss: {test_loss:.4f}, Test Accuracy: {accuracy:.4f}\")\n"
   ]
  },
  {
   "cell_type": "code",
   "execution_count": null,
   "metadata": {},
   "outputs": [],
   "source": [
    "model_path = \"models/run_yards_gained.pt\"\n",
    "torch.save(model.state_dict(), model_path)\n"
   ]
  },
  {
   "cell_type": "code",
   "execution_count": 591,
   "metadata": {},
   "outputs": [
    {
     "data": {
      "text/plain": [
       "{'rush_yard_cols': ['ydstogo',\n",
       "  'yardline_100',\n",
       "  'down',\n",
       "  'goal_to_go',\n",
       "  'posteam_score',\n",
       "  'score_differential',\n",
       "  'spread_line',\n",
       "  'total_line',\n",
       "  'carries_roll',\n",
       "  'rushing_yards_roll',\n",
       "  'fantasy_points_ppr_roll']}"
      ]
     },
     "execution_count": 591,
     "metadata": {},
     "output_type": "execute_result"
    }
   ],
   "source": [
    "feature_config = {\n",
    "    'rush_yard_cols':rush_yards_cols\n",
    "}\n",
    "feature_config"
   ]
  },
  {
   "cell_type": "code",
   "execution_count": 592,
   "metadata": {},
   "outputs": [],
   "source": [
    "yaml_path = \"models/feature_config.yaml\"\n",
    "with open(yaml_path, \"r\") as file:\n",
    "    data = yaml.safe_load(file)  # Load the current content of the YAML file\n",
    "\n",
    "# Update the data with the provided updates\n",
    "data.update(feature_config)\n",
    "\n",
    "with open(yaml_path, \"w\") as file:\n",
    "    yaml.safe_dump(data, file)"
   ]
  },
  {
   "cell_type": "code",
   "execution_count": 1,
   "metadata": {},
   "outputs": [
    {
     "ename": "NameError",
     "evalue": "name 'small' is not defined",
     "output_type": "error",
     "traceback": [
      "\u001b[1;31m---------------------------------------------------------------------------\u001b[0m",
      "\u001b[1;31mNameError\u001b[0m                                 Traceback (most recent call last)",
      "Cell \u001b[1;32mIn[1], line 1\u001b[0m\n\u001b[1;32m----> 1\u001b[0m test \u001b[38;5;241m=\u001b[39m \u001b[43msmall\u001b[49m\u001b[38;5;241m.\u001b[39mloc[small\u001b[38;5;241m.\u001b[39myardline_100\u001b[38;5;241m==\u001b[39m\u001b[38;5;241m1\u001b[39m][rush_yards_cols\u001b[38;5;241m+\u001b[39m [\u001b[38;5;124m'\u001b[39m\u001b[38;5;124myards_gained\u001b[39m\u001b[38;5;124m'\u001b[39m,\u001b[38;5;124m'\u001b[39m\u001b[38;5;124myards_shifted\u001b[39m\u001b[38;5;124m'\u001b[39m]]\n\u001b[0;32m      2\u001b[0m test\n",
      "\u001b[1;31mNameError\u001b[0m: name 'small' is not defined"
     ]
    }
   ],
   "source": [
    "test = small.loc[small.yardline_100==1][rush_yards_cols+ ['yards_gained','yards_shifted']]\n",
    "test"
   ]
  },
  {
   "cell_type": "code",
   "execution_count": 564,
   "metadata": {},
   "outputs": [
    {
     "data": {
      "text/plain": [
       "tensor([6, 5, 5,  ..., 6, 6, 6])"
      ]
     },
     "execution_count": 564,
     "metadata": {},
     "output_type": "execute_result"
    }
   ],
   "source": [
    "model(torch.tensor(test[rush_yards_cols].values.tolist())).argmax(dim=1)"
   ]
  },
  {
   "cell_type": "code",
   "execution_count": 565,
   "metadata": {},
   "outputs": [],
   "source": [
    "import matplotlib.pyplot as plt\n",
    "import numpy as np\n",
    "import matplotlib.cm as cm"
   ]
  },
  {
   "cell_type": "code",
   "execution_count": 566,
   "metadata": {},
   "outputs": [
    {
     "data": {
      "text/plain": [
       "torch.float32"
      ]
     },
     "execution_count": 566,
     "metadata": {},
     "output_type": "execute_result"
    }
   ],
   "source": [
    "X.dtype"
   ]
  },
  {
   "cell_type": "code",
   "execution_count": 567,
   "metadata": {},
   "outputs": [
    {
     "data": {
      "text/plain": [
       "torch.float32"
      ]
     },
     "execution_count": 567,
     "metadata": {},
     "output_type": "execute_result"
    }
   ],
   "source": [
    "torch.Tensor(test.sample(1).values).dtype"
   ]
  },
  {
   "cell_type": "markdown",
   "metadata": {},
   "source": [
    "im at 1 yard line\n",
    "can get 1 yard, 0 yds, or negative yards\n",
    "yards shifted can be 6 or 5\n",
    "output is [-5, -4, -3, -2, -1, 0, 1]"
   ]
  },
  {
   "cell_type": "code",
   "execution_count": 569,
   "metadata": {},
   "outputs": [
    {
     "name": "stdout",
     "output_type": "stream",
     "text": [
      "torch.Size([1, 11])\n",
      "torch.Size([106])\n",
      "torch.Size([1, 11])\n",
      "torch.Size([106])\n"
     ]
    },
    {
     "data": {
      "text/plain": [
       "<matplotlib.legend.Legend at 0x2aaa200c7a0>"
      ]
     },
     "execution_count": 569,
     "metadata": {},
     "output_type": "execute_result"
    },
    {
     "data": {
      "image/png": "[encoded data removed]",
      "text/plain": [
       "<Figure size 1400x800 with 1 Axes>"
      ]
     },
     "metadata": {},
     "output_type": "display_data"
    }
   ],
   "source": [
    "colormap = cm.gnuplot\n",
    "plt.figure(figsize=(14, 8))\n",
    "num_yardlines = 3\n",
    "for yardline in range(1,num_yardlines):\n",
    "    color = colormap(yardline / num_yardlines) \n",
    "    down=1\n",
    "    test = small.loc[small.yardline_100==yardline]\n",
    "    xx = torch.Tensor(test[rush_yards_cols].sample(1).values)\n",
    "    print(xx.shape)\n",
    "    with torch.no_grad():\n",
    "        xy = model(xx)\n",
    "        xy = (100 * F.softmax(xy,dim=1))[0]\n",
    "        print(xy.shape)\n",
    "        x_range = range(0,25)\n",
    "    plt.axvline(yardline + 5, color=color, linestyle='-.')\n",
    "    plt.plot(x_range, xy[0:25], label=yardline, color=color)\n",
    "\n",
    "plt.legend()"
   ]
  },
  {
   "cell_type": "code",
   "execution_count": 588,
   "metadata": {},
   "outputs": [
    {
     "data": {
      "text/plain": [
       "(array([ 1542.,  1361.,  2493.,     0.,  4158.,  5004.,     0., 19757.,\n",
       "        21872., 43813.]),\n",
       " array([0. , 0.7, 1.4, 2.1, 2.8, 3.5, 4.2, 4.9, 5.6, 6.3, 7. ]),\n",
       " <BarContainer object of 10 artists>)"
      ]
     },
     "execution_count": 588,
     "metadata": {},
     "output_type": "execute_result"
    },
    {
     "data": {
      "image/png": "[encoded data removed]",
      "text/plain": [
       "<Figure size 640x480 with 1 Axes>"
      ]
     },
     "metadata": {},
     "output_type": "display_data"
    }
   ],
   "source": [
    "res = model(xx)\n",
    "res = F.softmax(res,dim=1)[0]\n",
    "samples = torch.clamp( torch.multinomial(res,100000,replacement=True), max=7)\n",
    "plt.hist(samples)"
   ]
  },
  {
   "cell_type": "code",
   "execution_count": 585,
   "metadata": {},
   "outputs": [
    {
     "data": {
      "text/plain": [
       "<Axes: >"
      ]
     },
     "execution_count": 585,
     "metadata": {},
     "output_type": "execute_result"
    },
    {
     "data": {
      "image/png": "[encoded data removed]",
      "text/plain": [
       "<Figure size 640x480 with 1 Axes>"
      ]
     },
     "metadata": {},
     "output_type": "display_data"
    }
   ],
   "source": [
    "rushes.loc[rushes.yardline_100==2]['yards_shifted'].hist()"
   ]
  },
  {
   "cell_type": "code",
   "execution_count": 578,
   "metadata": {},
   "outputs": [
    {
     "name": "stdout",
     "output_type": "stream",
     "text": [
      "{0: 1423, 1: 1340, 2: 2473, 3: 4072, 4: 4962, 5: 19750, 6: 21817, 7: 39833, 8: 4167, 9: 130, 10: 25, 11: 7, 12: 1}\n"
     ]
    }
   ],
   "source": [
    "unique_values, counts = np.unique(torch.multinomial(res,100000,replacement=True), return_counts=True)\n",
    "\n",
    "# Combine into a dictionary if needed\n",
    "value_counts = dict(zip(unique_values, counts))\n",
    "print(value_counts)"
   ]
  },
  {
   "cell_type": "code",
   "execution_count": 557,
   "metadata": {},
   "outputs": [
    {
     "data": {
      "text/plain": [
       "tensor([ 9.6374, 10.4172, 11.0791, 11.3591, 12.6232, 14.4422, 14.5139, 15.5944,\n",
       "        13.6766, 10.0847,  8.2475,  6.2622,  2.9956,  2.8594, -0.1928],\n",
       "       grad_fn=<SliceBackward0>)"
      ]
     },
     "execution_count": 557,
     "metadata": {},
     "output_type": "execute_result"
    }
   ],
   "source": [
    "model(xx)[0][0:15]"
   ]
  },
  {
   "cell_type": "code",
   "execution_count": 553,
   "metadata": {},
   "outputs": [
    {
     "data": {
      "text/plain": [
       "[(tensor(2.), 'ydstogo'),\n",
       " (tensor(2.), 'yardline_100'),\n",
       " (tensor(2.), 'down'),\n",
       " (tensor(1.), 'goal_to_go'),\n",
       " (tensor(0.), 'posteam_score'),\n",
       " (tensor(0.), 'score_differential'),\n",
       " (tensor(7.5167), 'quarter_seconds_remaining'),\n",
       " (tensor(22.5167), 'half_seconds_remaining'),\n",
       " (tensor(52.5167), 'game_seconds_remaining'),\n",
       " (tensor(4.), 'spread_line'),\n",
       " (tensor(48.5000), 'total_line'),\n",
       " (tensor(1.2753), 'carries_roll'),\n",
       " (tensor(3.4580), 'rushing_yards_roll'),\n",
       " (tensor(11.2293), 'fantasy_points_ppr_roll')]"
      ]
     },
     "execution_count": 553,
     "metadata": {},
     "output_type": "execute_result"
    }
   ],
   "source": [
    "[(x,y) for x,y in zip(xx[0], rush_yards_cols)]"
   ]
  },
  {
   "cell_type": "code",
   "execution_count": 420,
   "metadata": {},
   "outputs": [
    {
     "data": {
      "text/plain": [
       "yards_shifted\n",
       "6.0    2107\n",
       "5.0    1175\n",
       "4.0     241\n",
       "3.0     114\n",
       "2.0      68\n",
       "1.0      27\n",
       "0.0      15\n",
       "Name: count, dtype: int64"
      ]
     },
     "execution_count": 420,
     "metadata": {},
     "output_type": "execute_result"
    }
   ],
   "source": [
    "rushes.loc[rushes.yardline_100==1]['yards_shifted'].value_counts()"
   ]
  },
  {
   "cell_type": "code",
   "execution_count": 383,
   "metadata": {},
   "outputs": [
    {
     "name": "stdout",
     "output_type": "stream",
     "text": [
      "torch.Size([1503, 2])\n"
     ]
    },
    {
     "data": {
      "text/plain": [
       "tensor([[-8.9882, -5.4124, -8.3221,  ..., -4.7312, -8.0279, -8.6038],\n",
       "        [-8.9882, -5.4124, -8.3221,  ..., -4.7312, -8.0279, -8.6038],\n",
       "        [-8.9882, -5.4124, -8.3221,  ..., -4.7312, -8.0279, -8.6038],\n",
       "        ...,\n",
       "        [-8.9882, -5.4124, -8.3221,  ..., -4.7312, -8.0279, -8.6038],\n",
       "        [-8.9882, -5.4124, -8.3221,  ..., -4.7312, -8.0279, -8.6038],\n",
       "        [-8.9882, -5.4124, -8.3221,  ..., -4.7312, -8.0279, -8.6038]])"
      ]
     },
     "execution_count": 383,
     "metadata": {},
     "output_type": "execute_result"
    }
   ],
   "source": [
    "import torch.nn.functional as F\n",
    "\n",
    "def test_yardline(data, yards, model):\n",
    "    df = data.loc[data.yardline_100 == yards].copy(deep=True)\n",
    "    X = torch.tensor(df[rush_yards_cols].values, dtype=torch.float32)\n",
    "    print(X.shape)\n",
    "    with torch.no_grad():\n",
    "        logits = model(X)\n",
    "        log_probs = F.log_softmax(logits, dim=1)\n",
    "    real = df['yards_gained'].values\n",
    "    return real, log_probs\n",
    "\n",
    "real, preds = test_yardline(rushes, 5, ThreeLayerClassifier())\n",
    "preds"
   ]
  },
  {
   "cell_type": "code",
   "execution_count": 384,
   "metadata": {},
   "outputs": [
    {
     "data": {
      "text/plain": [
       "tensor([[-0.4340, -0.7040,  0.2759,  0.7797,  0.2009,  0.9770,  1.4400,  1.5112,\n",
       "          0.7812,  0.9166, -0.1143,  0.2268, -0.6508, -1.0717, -0.9341, -1.6849,\n",
       "         -1.0823, -0.5090, -1.5325, -0.6986, -1.9033, -1.0819, -1.4371, -1.0032,\n",
       "         -1.2512, -1.3337, -0.7753, -1.2143, -1.0720, -0.8927, -0.6031, -0.5764,\n",
       "         -0.4501, -0.7508, -0.9085, -1.8817, -0.8404, -1.0066, -1.7966, -1.3974,\n",
       "         -1.8494, -1.3384, -0.6606, -1.4855, -1.7336, -0.3582, -2.0130, -1.6090,\n",
       "         -1.2197, -0.7489, -0.5621, -0.2860, -0.3420, -0.5296, -1.2504, -1.3422,\n",
       "         -0.9126, -0.8509, -1.3878, -0.8661, -0.9211, -1.2604, -1.0775, -0.6465,\n",
       "         -1.5183, -0.3083, -0.7899, -1.1217, -1.4818, -1.7068, -1.6035, -1.1324,\n",
       "         -1.2606, -0.3636, -1.1748, -1.2080, -1.2997, -0.8629, -2.1455, -0.8797,\n",
       "         -1.3717, -0.6524, -0.8930, -0.7597, -0.8219, -0.8357, -1.1969, -0.9748,\n",
       "         -0.5167, -1.2381, -1.3107, -1.1663, -0.7343, -1.0433, -0.7570, -0.5942,\n",
       "         -0.5312, -1.0403, -1.2292, -1.4480, -0.8331, -2.0473, -1.8180, -0.9708,\n",
       "         -1.2553, -2.0627]], grad_fn=<AddmmBackward0>)"
      ]
     },
     "execution_count": 384,
     "metadata": {},
     "output_type": "execute_result"
    }
   ],
   "source": [
    "model(X[0].reshape(1,-1))"
   ]
  },
  {
   "cell_type": "code",
   "execution_count": 386,
   "metadata": {},
   "outputs": [
    {
     "data": {
      "text/plain": [
       "<Axes: >"
      ]
     },
     "execution_count": 386,
     "metadata": {},
     "output_type": "execute_result"
    },
    {
     "data": {
      "image/png": "[encoded data removed]",
      "text/plain": [
       "<Figure size 640x480 with 1 Axes>"
      ]
     },
     "metadata": {},
     "output_type": "display_data"
    }
   ],
   "source": [
    "rushes.loc[(rushes.yardline_100 == 3)]['yards_gained'].hist(density=True)"
   ]
  },
  {
   "cell_type": "code",
   "execution_count": 389,
   "metadata": {},
   "outputs": [
    {
     "data": {
      "text/plain": [
       "array([3., 3., 2., ..., 0., 2., 3.], dtype=float32)"
      ]
     },
     "execution_count": 389,
     "metadata": {},
     "output_type": "execute_result"
    }
   ],
   "source": [
    "rushes.loc[(rushes.yardline_100 == 3) ]['yards_gained'].values"
   ]
  },
  {
   "cell_type": "code",
   "execution_count": 390,
   "metadata": {},
   "outputs": [
    {
     "data": {
      "text/plain": [
       "yards_gained\n",
       " 3.0    497\n",
       " 2.0    320\n",
       " 1.0    216\n",
       " 0.0    181\n",
       "-1.0     87\n",
       "-2.0     62\n",
       "-3.0     26\n",
       "-4.0     17\n",
       "-5.0      9\n",
       "-7.0      2\n",
       "-8.0      1\n",
       "-6.0      1\n",
       "-9.0      1\n",
       "Name: count, dtype: int64"
      ]
     },
     "execution_count": 390,
     "metadata": {},
     "output_type": "execute_result"
    }
   ],
   "source": [
    "rushes.loc[(rushes.yardline_100 == 3)]['yards_gained'].value_counts()"
   ]
  },
  {
   "cell_type": "code",
   "execution_count": null,
   "metadata": {},
   "outputs": [],
   "source": []
  }
 ],
 "metadata": {
  "kernelspec": {
   "display_name": ".venv",
   "language": "python",
   "name": "python3"
  },
  "language_info": {
   "codemirror_mode": {
    "name": "ipython",
    "version": 3
   },
   "file_extension": ".py",
   "mimetype": "text/x-python",
   "name": "python",
   "nbconvert_exporter": "python",
   "pygments_lexer": "ipython3",
   "version": "3.12.2"
  }
 },
 "nbformat": 4,
 "nbformat_minor": 2
}
