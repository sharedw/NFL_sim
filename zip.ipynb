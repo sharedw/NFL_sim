{
 "cells": [
  {
   "cell_type": "code",
   "execution_count": 1,
   "metadata": {},
   "outputs": [],
   "source": [
    "import pandas as pd\n",
    "import yaml\n",
    "import joblib\n",
    "import xgboost as xgb\n",
    "from sklearn.model_selection import train_test_split\n",
    "from sklearn.metrics import accuracy_score, confusion_matrix, mean_squared_error, r2_score\n",
    "import numpy as np\n",
    "import torch\n",
    "import torch.nn as nn\n",
    "import torch.nn.functional as F"
   ]
  },
  {
   "cell_type": "code",
   "execution_count": 2,
   "metadata": {},
   "outputs": [
    {
     "name": "stderr",
     "output_type": "stream",
     "text": [
      "C:\\Users\\Sharedw\\AppData\\Local\\Temp\\ipykernel_8552\\2929713968.py:1: DtypeWarning: Columns (54,187,188,219,220,221,223,225,227,234,235,236,237,238,239,254,255,256,261,263,264,284,285,371,373,374,375,377,379,380,381) have mixed types. Specify dtype option on import or set low_memory=False.\n",
      "  rushes = pd.read_csv('zip_data.csv', index_col=0)\n"
     ]
    }
   ],
   "source": [
    "rushes = pd.read_csv('zip_data.csv', index_col=0)\n",
    "rushes['play_end_ydline'] = (rushes['yardline_100'] - rushes['yards_gained'])"
   ]
  },
  {
   "cell_type": "code",
   "execution_count": 3,
   "metadata": {},
   "outputs": [],
   "source": [
    "\n",
    "def create_model(df, x_cols, y_col):\n",
    "    data = df.loc[~(df[y_col].isna())].copy(deep=True)\n",
    "    X, y = data[x_cols], data[y_col]\n",
    "    X_train, X_test, y_train, y_test = train_test_split(X, y, test_size=0.2, random_state=42)\n",
    "    model = xgb.XGBClassifier( eval_metric='mlogloss')\n",
    "    model.fit(X_train, y_train)\n",
    "\n",
    "\n",
    "    y_pred = model.predict(X_test)\n",
    "\n",
    "    # Evaluate\n",
    "    accuracy = accuracy_score(y_test, y_pred)\n",
    "    print(f'Accuracy: {accuracy:.2f}')\n",
    "\n",
    "    # Compute confusion matrix\n",
    "    cm = confusion_matrix(y_test, y_pred)\n",
    "    print('Confusion Matrix:')\n",
    "    display(cm)\n",
    "    return model\n",
    "\n",
    "\n",
    "def create_reg_model(df, x_cols, y_col):\n",
    "    data = df.loc[~(df[y_col].isna())].copy(deep=True)\n",
    "    X, y = data[x_cols], data[y_col]\n",
    "    X_train, X_test, y_train, y_test = train_test_split(X, y, test_size=0.2, random_state=42)\n",
    "    model = xgb.XGBRegressor(objective='reg:squarederror', n_estimators=100)\n",
    "    model.fit(X_train, y_train)\n",
    "\n",
    "\n",
    "    y_pred = model.predict(X_test)\n",
    "\n",
    "    # Evaluate\n",
    "    mse = mean_squared_error(y_test, y_pred)\n",
    "    r2 = r2_score(y_test, y_pred)\n",
    "\n",
    "    print(f'Mean Squared Error: {mse}')\n",
    "    print(f'R-squared: {r2}')\n",
    "\n",
    "    residuals = y_test - y_pred\n",
    "\n",
    "    return model\n"
   ]
  },
  {
   "cell_type": "code",
   "execution_count": 5,
   "metadata": {},
   "outputs": [],
   "source": [
    "game_context_cols = [\n",
    "    #'posteam',\n",
    "    \"yardline_100\",\n",
    "    \"down\",\n",
    "    \"goal_to_go\",\n",
    "    \"ydstogo\",\n",
    "    #\"yards_gained\",\n",
    "    \"posteam_score\",\n",
    "    #\"total_away_score\",\n",
    "    \"score_differential\",\n",
    "    'quarter_seconds_remaining',\n",
    "    'half_seconds_remaining',\n",
    "    'game_seconds_remaining',\n",
    "    #\"wind\",\n",
    "    #\"temp\",\n",
    "    'spread_line',\n",
    "    'total_line'\n",
    "]\n",
    "\n",
    "team_rb_cols = [\n",
    "    \"ppr_roll_RB_0\",\n",
    "    \"ppr_roll_RB_1\",\n",
    "    \"ppr_roll_RB_2\",\n",
    "    \"rush_roll_RB_0\",\n",
    "    \"rush_roll_RB_1\",\n",
    "    \"rush_roll_RB_2\",\n",
    "    \"carries_roll_RB_1\",\n",
    "    \"carries_roll_RB_2\",\n",
    "    \"carries_roll_RB_0\",\n",
    "]\n",
    "rusher_stats = ['ppr_roll','rush_roll']\n",
    "\n",
    "full = ['desc','yards_gained','yards_quantile', 'play_end_ydline'] + game_context_cols + team_rb_cols + rusher_stats "
   ]
  },
  {
   "cell_type": "code",
   "execution_count": 6,
   "metadata": {},
   "outputs": [
    {
     "name": "stdout",
     "output_type": "stream",
     "text": [
      "Accuracy: 0.30\n",
      "Confusion Matrix:\n"
     ]
    },
    {
     "data": {
      "text/plain": [
       "array([[1179,   66,  354,  185,  110],\n",
       "       [ 465,   39,  168,   78,   43],\n",
       "       [ 743,   39,  333,  134,   99],\n",
       "       [ 525,   27,  236,  129,   74],\n",
       "       [ 544,   23,  214,  116,  112]], dtype=int64)"
      ]
     },
     "metadata": {},
     "output_type": "display_data"
    }
   ],
   "source": [
    "rush_yards_cols = (game_context_cols + rusher_stats)\n",
    "rush_quantile_model = create_model(rushes, x_cols=rush_yards_cols, y_col='yards_quantile')"
   ]
  },
  {
   "cell_type": "code",
   "execution_count": 7,
   "metadata": {},
   "outputs": [],
   "source": [
    "new = rushes.loc[~rushes.down.isna()][full].copy(deep=True)"
   ]
  },
  {
   "cell_type": "code",
   "execution_count": 8,
   "metadata": {},
   "outputs": [],
   "source": [
    "new['pred_quantile'] = rush_quantile_model.predict(new[rush_yards_cols]).round()"
   ]
  },
  {
   "cell_type": "code",
   "execution_count": 12,
   "metadata": {},
   "outputs": [],
   "source": [
    "X = torch.Tensor(new[rush_yards_cols].values)\n",
    "Y = torch.Tensor(new['play_end_ydline'].values)"
   ]
  },
  {
   "cell_type": "code",
   "execution_count": 16,
   "metadata": {},
   "outputs": [],
   "source": [
    "new['yards_shifted'] = (new['yards_gained'] + 20)"
   ]
  },
  {
   "cell_type": "code",
   "execution_count": 17,
   "metadata": {},
   "outputs": [
    {
     "data": {
      "text/plain": [
       "7.0"
      ]
     },
     "execution_count": 17,
     "metadata": {},
     "output_type": "execute_result"
    }
   ],
   "source": [
    "new['yards_shifted'].min()"
   ]
  },
  {
   "cell_type": "code",
   "execution_count": 54,
   "metadata": {},
   "outputs": [
    {
     "data": {
      "text/html": [
       "<div>\n",
       "<style scoped>\n",
       "    .dataframe tbody tr th:only-of-type {\n",
       "        vertical-align: middle;\n",
       "    }\n",
       "\n",
       "    .dataframe tbody tr th {\n",
       "        vertical-align: top;\n",
       "    }\n",
       "\n",
       "    .dataframe thead th {\n",
       "        text-align: right;\n",
       "    }\n",
       "</style>\n",
       "<table border=\"1\" class=\"dataframe\">\n",
       "  <thead>\n",
       "    <tr style=\"text-align: right;\">\n",
       "      <th></th>\n",
       "      <th>yardline_100</th>\n",
       "      <th>down</th>\n",
       "      <th>ppr_roll</th>\n",
       "    </tr>\n",
       "  </thead>\n",
       "  <tbody>\n",
       "    <tr>\n",
       "      <th>0</th>\n",
       "      <td>43.0</td>\n",
       "      <td>2.0</td>\n",
       "      <td>7.750000</td>\n",
       "    </tr>\n",
       "    <tr>\n",
       "      <th>1</th>\n",
       "      <td>36.0</td>\n",
       "      <td>3.0</td>\n",
       "      <td>7.750000</td>\n",
       "    </tr>\n",
       "    <tr>\n",
       "      <th>2</th>\n",
       "      <td>39.0</td>\n",
       "      <td>2.0</td>\n",
       "      <td>7.750000</td>\n",
       "    </tr>\n",
       "    <tr>\n",
       "      <th>3</th>\n",
       "      <td>93.0</td>\n",
       "      <td>2.0</td>\n",
       "      <td>7.750000</td>\n",
       "    </tr>\n",
       "    <tr>\n",
       "      <th>5</th>\n",
       "      <td>73.0</td>\n",
       "      <td>2.0</td>\n",
       "      <td>5.300000</td>\n",
       "    </tr>\n",
       "    <tr>\n",
       "      <th>...</th>\n",
       "      <td>...</td>\n",
       "      <td>...</td>\n",
       "      <td>...</td>\n",
       "    </tr>\n",
       "    <tr>\n",
       "      <th>30167</th>\n",
       "      <td>85.0</td>\n",
       "      <td>1.0</td>\n",
       "      <td>5.433333</td>\n",
       "    </tr>\n",
       "    <tr>\n",
       "      <th>30168</th>\n",
       "      <td>75.0</td>\n",
       "      <td>1.0</td>\n",
       "      <td>5.433333</td>\n",
       "    </tr>\n",
       "    <tr>\n",
       "      <th>30169</th>\n",
       "      <td>73.0</td>\n",
       "      <td>2.0</td>\n",
       "      <td>5.433333</td>\n",
       "    </tr>\n",
       "    <tr>\n",
       "      <th>30170</th>\n",
       "      <td>59.0</td>\n",
       "      <td>1.0</td>\n",
       "      <td>5.433333</td>\n",
       "    </tr>\n",
       "    <tr>\n",
       "      <th>30171</th>\n",
       "      <td>60.0</td>\n",
       "      <td>2.0</td>\n",
       "      <td>5.433333</td>\n",
       "    </tr>\n",
       "  </tbody>\n",
       "</table>\n",
       "<p>30112 rows × 3 columns</p>\n",
       "</div>"
      ],
      "text/plain": [
       "       yardline_100  down  ppr_roll\n",
       "0              43.0   2.0  7.750000\n",
       "1              36.0   3.0  7.750000\n",
       "2              39.0   2.0  7.750000\n",
       "3              93.0   2.0  7.750000\n",
       "5              73.0   2.0  5.300000\n",
       "...             ...   ...       ...\n",
       "30167          85.0   1.0  5.433333\n",
       "30168          75.0   1.0  5.433333\n",
       "30169          73.0   2.0  5.433333\n",
       "30170          59.0   1.0  5.433333\n",
       "30171          60.0   2.0  5.433333\n",
       "\n",
       "[30112 rows x 3 columns]"
      ]
     },
     "execution_count": 54,
     "metadata": {},
     "output_type": "execute_result"
    }
   ],
   "source": [
    "rush_yards_cols = ['yardline_100','down','ppr_roll']\n",
    "new[rush_yards_cols]"
   ]
  },
  {
   "cell_type": "code",
   "execution_count": 55,
   "metadata": {},
   "outputs": [
    {
     "name": "stdout",
     "output_type": "stream",
     "text": [
      "Epoch 1/10, Loss: 0.0176\n",
      "Epoch 2/10, Loss: 0.0113\n",
      "Epoch 3/10, Loss: 0.0113\n",
      "Epoch 4/10, Loss: 0.0112\n",
      "Epoch 5/10, Loss: 0.0112\n",
      "Epoch 6/10, Loss: 0.0111\n",
      "Epoch 7/10, Loss: 0.0111\n",
      "Epoch 8/10, Loss: 0.0111\n",
      "Epoch 9/10, Loss: 0.0111\n",
      "Epoch 10/10, Loss: 0.0111\n",
      "Test Loss: 2.8331, Test Accuracy: 0.1283\n"
     ]
    }
   ],
   "source": [
    "import torch\n",
    "import torch.nn as nn\n",
    "import torch.nn.functional as F\n",
    "import torch.optim as optim\n",
    "\n",
    "X = torch.Tensor(new[rush_yards_cols].values)\n",
    "y = torch.tensor(new['yards_shifted'].astype(int).values, dtype=torch.long)\n",
    "\n",
    "# Update the model to match the input and output sizes\n",
    "class ThreeLayerClassifier(nn.Module):\n",
    "    def __init__(self, input_size=3, hidden_size=50, output_size=110):\n",
    "        super(ThreeLayerClassifier, self).__init__()\n",
    "        self.hidden1 = nn.Linear(input_size, hidden_size)\n",
    "        self.hidden2 = nn.Linear(hidden_size, hidden_size)\n",
    "        self.output_layer = nn.Linear(hidden_size + 1, output_size)  # +1 for the additional feature\n",
    "    def forward(self, x):\n",
    "        # Extract the feature to pass to the final layer (e.g., the first feature)\n",
    "        feature_to_pass = x[:, 0].unsqueeze(1)  # Assuming you want the first feature, shape [batch_size, 1]\n",
    "        \n",
    "        # Pass through the first two layers\n",
    "        x = F.relu(self.hidden1(x))\n",
    "        x = F.relu(self.hidden2(x))\n",
    "        \n",
    "        # Concatenate the extracted feature with the output of the hidden layers\n",
    "        x = torch.cat((x, feature_to_pass), dim=1)  # Concatenate along the feature axis (dim=1)\n",
    "        \n",
    "        # Pass through the final layer\n",
    "        x = self.output_layer(x)\n",
    "        return x\n",
    "\n",
    "\n",
    "# Define the model, loss function, and optimizer\n",
    "model = ThreeLayerClassifier()\n",
    "criterion = nn.CrossEntropyLoss()  # Suitable for classification\n",
    "optimizer = optim.Adam(model.parameters(), lr=0.001)\n",
    "\n",
    "# Split data into training and testing sets\n",
    "train_X, test_X = X[:24000], X[24000:]\n",
    "train_y, test_y = y[:24000], y[24000:]\n",
    "\n",
    "# Training loop\n",
    "epochs = 10\n",
    "batch_size = 256\n",
    "\n",
    "for epoch in range(epochs):\n",
    "    model.train()\n",
    "    permutation = torch.randperm(train_X.size(0))\n",
    "    epoch_loss = 0\n",
    "\n",
    "    for i in range(0, train_X.size(0), batch_size):\n",
    "        indices = permutation[i:i + batch_size]\n",
    "        batch_X, batch_y = train_X[indices], train_y[indices]\n",
    "\n",
    "        optimizer.zero_grad()\n",
    "        outputs = model(batch_X)  # Shape: [batch_size, 100]\n",
    "        loss = criterion(outputs, batch_y)  # batch_y must be [batch_size] with class indices\n",
    "        loss.backward()\n",
    "        optimizer.step()\n",
    "\n",
    "        epoch_loss += loss.item()\n",
    "\n",
    "    print(f\"Epoch {epoch+1}/{epochs}, Loss: {epoch_loss/len(train_X):.4f}\")\n",
    "\n",
    "# Evaluation on the test set\n",
    "model.eval()\n",
    "with torch.no_grad():\n",
    "    test_preds = model(test_X)  # Shape: [num_samples, 100]\n",
    "    test_loss = criterion(test_preds, test_y).item()\n",
    "    accuracy = (test_preds.argmax(dim=1) == test_y).float().mean().item()\n",
    "\n",
    "print(f\"Test Loss: {test_loss:.4f}, Test Accuracy: {accuracy:.4f}\")\n"
   ]
  },
  {
   "cell_type": "code",
   "execution_count": 67,
   "metadata": {},
   "outputs": [],
   "source": [
    "model_path = \"models/run_yards_gained.pt\"\n",
    "torch.save(model.state_dict(), model_path)"
   ]
  },
  {
   "cell_type": "code",
   "execution_count": 64,
   "metadata": {},
   "outputs": [
    {
     "name": "stdout",
     "output_type": "stream",
     "text": [
      "torch.Size([1, 3])\n",
      "torch.Size([1, 3])\n",
      "torch.Size([1, 3])\n",
      "torch.Size([1, 3])\n",
      "torch.Size([1, 3])\n",
      "torch.Size([1, 3])\n"
     ]
    },
    {
     "data": {
      "text/plain": [
       "<matplotlib.legend.Legend at 0x13f11b92660>"
      ]
     },
     "execution_count": 64,
     "metadata": {},
     "output_type": "execute_result"
    },
    {
     "data": {
      "image/png": "[encoded data removed]",
      "text/plain": [
       "<Figure size 640x480 with 1 Axes>"
      ]
     },
     "metadata": {},
     "output_type": "display_data"
    }
   ],
   "source": [
    "for ppr in range(1,30,5):\n",
    "    yardline=1\n",
    "    xx = torch.tensor([[yardline,1. ,ppr]])\n",
    "    print(xx.shape)\n",
    "    with torch.no_grad():\n",
    "        xy = model(xx)\n",
    "        xy = 100 * F.softmax(xy,dim=1)\n",
    "        x_range = range(-2,20)\n",
    "    plt.scatter(x_range, xy[:,18:40], label=ppr)\n",
    "\n",
    "plt.legend()"
   ]
  },
  {
   "cell_type": "code",
   "execution_count": 71,
   "metadata": {},
   "outputs": [
    {
     "name": "stdout",
     "output_type": "stream",
     "text": [
      "torch.Size([254, 3])\n"
     ]
    },
    {
     "data": {
      "text/plain": [
       "tensor([[-4.9983, -4.7414, -5.2373,  ..., -5.6698, -5.3637, -5.5804],\n",
       "        [-5.0142, -4.7916, -5.0606,  ..., -5.5810, -5.3017, -5.5484],\n",
       "        [-4.5986, -4.9628, -5.9550,  ..., -5.7484, -5.1854, -6.3954],\n",
       "        ...,\n",
       "        [-4.5542, -4.9491, -6.1617,  ..., -5.8390, -5.1745, -6.6061],\n",
       "        [-4.5258, -5.0202, -6.1449,  ..., -5.7696, -5.1890, -6.6136],\n",
       "        [-5.0164, -4.7791, -5.1175,  ..., -5.6100, -5.3129, -5.5597]])"
      ]
     },
     "execution_count": 71,
     "metadata": {},
     "output_type": "execute_result"
    }
   ],
   "source": [
    "import torch.nn.functional as F\n",
    "\n",
    "def test_yardline(data, yards, model):\n",
    "    df = data.loc[data.yardline_100 == yards].copy(deep=True)\n",
    "    X = torch.tensor(df[rush_yards_cols].values, dtype=torch.float32)\n",
    "    print(X.shape)\n",
    "    with torch.no_grad():\n",
    "        logits = model(X)\n",
    "        log_probs = F.log_softmax(logits, dim=1)\n",
    "    real = df['yards_gained'].values\n",
    "    return real, log_probs\n",
    "\n",
    "real, preds = test_yardline(new, 5, ThreeLayerClassifier())\n",
    "preds"
   ]
  },
  {
   "cell_type": "code",
   "execution_count": 73,
   "metadata": {},
   "outputs": [
    {
     "data": {
      "text/plain": [
       "tensor([[ -7.4983, -15.6217, -15.2593,  -7.4945,  -5.7590, -16.8270, -12.2715,\n",
       "          -5.0731, -16.4356, -16.7469,  -6.2904, -12.7241,  -1.8738,  -0.8459,\n",
       "          -0.6888,  -0.3017,   1.2072,   1.0621,   1.6711,   2.0845,   3.0938,\n",
       "           3.0846,   3.3138,   3.2260,   3.0214,   2.8779,   2.4972,   2.1185,\n",
       "           1.8356,   1.9796,   1.2601,   0.9370,   0.6646,   1.0711,   0.7168,\n",
       "           0.3206,   0.1598,   0.1108,  -0.5120,  -0.2080,  -0.5567,  -0.3647,\n",
       "          -0.2570,  -0.9358,  -1.0829,  -0.9672,  -1.2587,  -1.4058,  -1.2585,\n",
       "          -1.7257,  -1.5233,  -1.2907,  -1.6518,  -3.0474,  -2.6075,  -1.1923,\n",
       "          -1.4342,  -2.0244,  -2.1151,  -1.9167,  -1.2660,  -2.0637,  -1.8047,\n",
       "          -2.4966,  -2.2961,  -3.2006,  -4.1376, -13.7330,  -3.3040,  -1.7957,\n",
       "          -3.1017,  -3.9171,  -3.3366,  -2.9711,  -3.7340,  -2.8022,  -3.0358,\n",
       "          -3.9967,  -3.9547, -12.3658,  -2.8627,  -3.4474,  -2.7497,  -2.4836,\n",
       "          -3.6825,  -4.1223,  -3.5704,  -3.2876,  -3.3357,  -2.5072, -15.7168,\n",
       "          -4.5585,  -2.6793, -15.7397,  -3.1235,  -3.4992,  -4.5924,  -9.7377,\n",
       "         -13.1934,  -4.5646,  -5.6847,  -2.9904, -10.0599,  -3.5902, -18.7513,\n",
       "         -15.4932,  -3.7574,  -4.1430,  -9.0243, -16.7690]],\n",
       "       grad_fn=<AddmmBackward0>)"
      ]
     },
     "execution_count": 73,
     "metadata": {},
     "output_type": "execute_result"
    }
   ],
   "source": [
    "model(X[0].reshape(1,-1))"
   ]
  },
  {
   "cell_type": "code",
   "execution_count": 84,
   "metadata": {},
   "outputs": [
    {
     "data": {
      "text/plain": [
       "<Axes: >"
      ]
     },
     "execution_count": 84,
     "metadata": {},
     "output_type": "execute_result"
    },
    {
     "data": {
      "image/png": "[encoded data removed]",
      "text/plain": [
       "<Figure size 640x480 with 1 Axes>"
      ]
     },
     "metadata": {},
     "output_type": "display_data"
    }
   ],
   "source": [
    "new.loc[(new.yardline_100 == 3) & (new.ppr_roll > 17)]['yards_gained'].hist(density=True)"
   ]
  },
  {
   "cell_type": "code",
   "execution_count": 82,
   "metadata": {},
   "outputs": [
    {
     "data": {
      "text/plain": [
       "array([ 3.,  2.,  3.,  3., -2.,  1.,  1.,  3.,  2.,  2.,  1.,  3.,  3.,\n",
       "        3.,  3.,  3.,  3.])"
      ]
     },
     "execution_count": 82,
     "metadata": {},
     "output_type": "execute_result"
    }
   ],
   "source": [
    "new.loc[(new.yardline_100 == 3) & (new.ppr_roll > 20)]['yards_gained'].values"
   ]
  },
  {
   "cell_type": "code",
   "execution_count": 98,
   "metadata": {},
   "outputs": [
    {
     "data": {
      "text/plain": [
       "yards_gained\n",
       " 3.0    87\n",
       " 2.0    49\n",
       " 0.0    37\n",
       " 1.0    30\n",
       "-1.0    21\n",
       "-2.0    17\n",
       "-4.0     3\n",
       "-3.0     1\n",
       "-7.0     1\n",
       "Name: count, dtype: int64"
      ]
     },
     "execution_count": 98,
     "metadata": {},
     "output_type": "execute_result"
    }
   ],
   "source": [
    "rushes.loc[(rushes.yardline_100 == 3)]['yards_gained'].value_counts()"
   ]
  },
  {
   "cell_type": "code",
   "execution_count": 92,
   "metadata": {},
   "outputs": [
    {
     "data": {
      "text/html": [
       "<div>\n",
       "<style scoped>\n",
       "    .dataframe tbody tr th:only-of-type {\n",
       "        vertical-align: middle;\n",
       "    }\n",
       "\n",
       "    .dataframe tbody tr th {\n",
       "        vertical-align: top;\n",
       "    }\n",
       "\n",
       "    .dataframe thead th {\n",
       "        text-align: right;\n",
       "    }\n",
       "</style>\n",
       "<table border=\"1\" class=\"dataframe\">\n",
       "  <thead>\n",
       "    <tr style=\"text-align: right;\">\n",
       "      <th></th>\n",
       "      <th>player_id</th>\n",
       "      <th>ppr_roll</th>\n",
       "      <th>rush_roll</th>\n",
       "      <th>week</th>\n",
       "      <th>season</th>\n",
       "      <th>play_id</th>\n",
       "      <th>game_id</th>\n",
       "      <th>old_game_id</th>\n",
       "      <th>home_team</th>\n",
       "      <th>away_team</th>\n",
       "      <th>...</th>\n",
       "      <th>carries_roll_RB_1</th>\n",
       "      <th>carries_roll_RB_2</th>\n",
       "      <th>carries_roll_RB_0</th>\n",
       "      <th>rusher_depth_num</th>\n",
       "      <th>yards_quantile</th>\n",
       "      <th>pred_quantile</th>\n",
       "      <th>pred_yards</th>\n",
       "      <th>residuals</th>\n",
       "      <th>calc_end</th>\n",
       "      <th>play_end_ydline</th>\n",
       "    </tr>\n",
       "  </thead>\n",
       "  <tbody>\n",
       "    <tr>\n",
       "      <th>5125</th>\n",
       "      <td>00-0034844</td>\n",
       "      <td>13.866667</td>\n",
       "      <td>73.666667</td>\n",
       "      <td>1</td>\n",
       "      <td>2022</td>\n",
       "      <td>62.0</td>\n",
       "      <td>2022_01_NYG_TEN</td>\n",
       "      <td>NaN</td>\n",
       "      <td>TEN</td>\n",
       "      <td>NYG</td>\n",
       "      <td>...</td>\n",
       "      <td>0.666667</td>\n",
       "      <td>0.000000</td>\n",
       "      <td>16.000000</td>\n",
       "      <td>0.0</td>\n",
       "      <td>0</td>\n",
       "      <td>0</td>\n",
       "      <td>0.414951</td>\n",
       "      <td>-0.585049</td>\n",
       "      <td>77.0</td>\n",
       "      <td>77.0</td>\n",
       "    </tr>\n",
       "    <tr>\n",
       "      <th>5126</th>\n",
       "      <td>00-0034844</td>\n",
       "      <td>13.866667</td>\n",
       "      <td>73.666667</td>\n",
       "      <td>1</td>\n",
       "      <td>2022</td>\n",
       "      <td>947.0</td>\n",
       "      <td>2022_01_NYG_TEN</td>\n",
       "      <td>NaN</td>\n",
       "      <td>TEN</td>\n",
       "      <td>NYG</td>\n",
       "      <td>...</td>\n",
       "      <td>0.666667</td>\n",
       "      <td>0.000000</td>\n",
       "      <td>16.000000</td>\n",
       "      <td>0.0</td>\n",
       "      <td>2</td>\n",
       "      <td>0</td>\n",
       "      <td>3.700843</td>\n",
       "      <td>-0.299157</td>\n",
       "      <td>71.0</td>\n",
       "      <td>71.0</td>\n",
       "    </tr>\n",
       "    <tr>\n",
       "      <th>5127</th>\n",
       "      <td>00-0034844</td>\n",
       "      <td>13.866667</td>\n",
       "      <td>73.666667</td>\n",
       "      <td>1</td>\n",
       "      <td>2022</td>\n",
       "      <td>968.0</td>\n",
       "      <td>2022_01_NYG_TEN</td>\n",
       "      <td>NaN</td>\n",
       "      <td>TEN</td>\n",
       "      <td>NYG</td>\n",
       "      <td>...</td>\n",
       "      <td>0.666667</td>\n",
       "      <td>0.000000</td>\n",
       "      <td>16.000000</td>\n",
       "      <td>0.0</td>\n",
       "      <td>4</td>\n",
       "      <td>0</td>\n",
       "      <td>19.014664</td>\n",
       "      <td>4.014664</td>\n",
       "      <td>56.0</td>\n",
       "      <td>56.0</td>\n",
       "    </tr>\n",
       "    <tr>\n",
       "      <th>5128</th>\n",
       "      <td>00-0034844</td>\n",
       "      <td>13.866667</td>\n",
       "      <td>73.666667</td>\n",
       "      <td>1</td>\n",
       "      <td>2022</td>\n",
       "      <td>1039.0</td>\n",
       "      <td>2022_01_NYG_TEN</td>\n",
       "      <td>NaN</td>\n",
       "      <td>TEN</td>\n",
       "      <td>NYG</td>\n",
       "      <td>...</td>\n",
       "      <td>0.666667</td>\n",
       "      <td>0.000000</td>\n",
       "      <td>16.000000</td>\n",
       "      <td>0.0</td>\n",
       "      <td>1</td>\n",
       "      <td>0</td>\n",
       "      <td>1.981137</td>\n",
       "      <td>-0.018863</td>\n",
       "      <td>42.0</td>\n",
       "      <td>42.0</td>\n",
       "    </tr>\n",
       "    <tr>\n",
       "      <th>5129</th>\n",
       "      <td>00-0034844</td>\n",
       "      <td>13.866667</td>\n",
       "      <td>73.666667</td>\n",
       "      <td>1</td>\n",
       "      <td>2022</td>\n",
       "      <td>1333.0</td>\n",
       "      <td>2022_01_NYG_TEN</td>\n",
       "      <td>NaN</td>\n",
       "      <td>TEN</td>\n",
       "      <td>NYG</td>\n",
       "      <td>...</td>\n",
       "      <td>0.666667</td>\n",
       "      <td>0.000000</td>\n",
       "      <td>16.000000</td>\n",
       "      <td>0.0</td>\n",
       "      <td>3</td>\n",
       "      <td>2</td>\n",
       "      <td>6.303679</td>\n",
       "      <td>-0.696321</td>\n",
       "      <td>69.0</td>\n",
       "      <td>69.0</td>\n",
       "    </tr>\n",
       "    <tr>\n",
       "      <th>...</th>\n",
       "      <td>...</td>\n",
       "      <td>...</td>\n",
       "      <td>...</td>\n",
       "      <td>...</td>\n",
       "      <td>...</td>\n",
       "      <td>...</td>\n",
       "      <td>...</td>\n",
       "      <td>...</td>\n",
       "      <td>...</td>\n",
       "      <td>...</td>\n",
       "      <td>...</td>\n",
       "      <td>...</td>\n",
       "      <td>...</td>\n",
       "      <td>...</td>\n",
       "      <td>...</td>\n",
       "      <td>...</td>\n",
       "      <td>...</td>\n",
       "      <td>...</td>\n",
       "      <td>...</td>\n",
       "      <td>...</td>\n",
       "      <td>...</td>\n",
       "    </tr>\n",
       "    <tr>\n",
       "      <th>25138</th>\n",
       "      <td>00-0034844</td>\n",
       "      <td>20.283334</td>\n",
       "      <td>117.000000</td>\n",
       "      <td>11</td>\n",
       "      <td>2024</td>\n",
       "      <td>3511.0</td>\n",
       "      <td>2024_11_WAS_PHI</td>\n",
       "      <td>2.024111e+09</td>\n",
       "      <td>PHI</td>\n",
       "      <td>WAS</td>\n",
       "      <td>...</td>\n",
       "      <td>6.166667</td>\n",
       "      <td>6.333333</td>\n",
       "      <td>20.666667</td>\n",
       "      <td>0.0</td>\n",
       "      <td>2</td>\n",
       "      <td>2</td>\n",
       "      <td>3.650193</td>\n",
       "      <td>0.650193</td>\n",
       "      <td>71.0</td>\n",
       "      <td>71.0</td>\n",
       "    </tr>\n",
       "    <tr>\n",
       "      <th>25139</th>\n",
       "      <td>00-0034844</td>\n",
       "      <td>20.283334</td>\n",
       "      <td>117.000000</td>\n",
       "      <td>11</td>\n",
       "      <td>2024</td>\n",
       "      <td>3586.0</td>\n",
       "      <td>2024_11_WAS_PHI</td>\n",
       "      <td>2.024111e+09</td>\n",
       "      <td>PHI</td>\n",
       "      <td>WAS</td>\n",
       "      <td>...</td>\n",
       "      <td>6.166667</td>\n",
       "      <td>6.333333</td>\n",
       "      <td>20.666667</td>\n",
       "      <td>0.0</td>\n",
       "      <td>0</td>\n",
       "      <td>0</td>\n",
       "      <td>0.022016</td>\n",
       "      <td>-0.977984</td>\n",
       "      <td>29.0</td>\n",
       "      <td>29.0</td>\n",
       "    </tr>\n",
       "    <tr>\n",
       "      <th>25140</th>\n",
       "      <td>00-0034844</td>\n",
       "      <td>20.283334</td>\n",
       "      <td>117.000000</td>\n",
       "      <td>11</td>\n",
       "      <td>2024</td>\n",
       "      <td>3633.0</td>\n",
       "      <td>2024_11_WAS_PHI</td>\n",
       "      <td>2.024111e+09</td>\n",
       "      <td>PHI</td>\n",
       "      <td>WAS</td>\n",
       "      <td>...</td>\n",
       "      <td>6.166667</td>\n",
       "      <td>6.333333</td>\n",
       "      <td>20.666667</td>\n",
       "      <td>0.0</td>\n",
       "      <td>4</td>\n",
       "      <td>0</td>\n",
       "      <td>20.225922</td>\n",
       "      <td>-2.774078</td>\n",
       "      <td>0.0</td>\n",
       "      <td>0.0</td>\n",
       "    </tr>\n",
       "    <tr>\n",
       "      <th>25141</th>\n",
       "      <td>00-0034844</td>\n",
       "      <td>20.283334</td>\n",
       "      <td>117.000000</td>\n",
       "      <td>11</td>\n",
       "      <td>2024</td>\n",
       "      <td>3722.0</td>\n",
       "      <td>2024_11_WAS_PHI</td>\n",
       "      <td>2.024111e+09</td>\n",
       "      <td>PHI</td>\n",
       "      <td>WAS</td>\n",
       "      <td>...</td>\n",
       "      <td>6.166667</td>\n",
       "      <td>6.333333</td>\n",
       "      <td>20.666667</td>\n",
       "      <td>0.0</td>\n",
       "      <td>3</td>\n",
       "      <td>0</td>\n",
       "      <td>6.270894</td>\n",
       "      <td>-0.729106</td>\n",
       "      <td>39.0</td>\n",
       "      <td>39.0</td>\n",
       "    </tr>\n",
       "    <tr>\n",
       "      <th>25142</th>\n",
       "      <td>00-0034844</td>\n",
       "      <td>20.283334</td>\n",
       "      <td>117.000000</td>\n",
       "      <td>11</td>\n",
       "      <td>2024</td>\n",
       "      <td>3751.0</td>\n",
       "      <td>2024_11_WAS_PHI</td>\n",
       "      <td>2.024111e+09</td>\n",
       "      <td>PHI</td>\n",
       "      <td>WAS</td>\n",
       "      <td>...</td>\n",
       "      <td>6.166667</td>\n",
       "      <td>6.333333</td>\n",
       "      <td>20.666667</td>\n",
       "      <td>0.0</td>\n",
       "      <td>4</td>\n",
       "      <td>4</td>\n",
       "      <td>28.970280</td>\n",
       "      <td>-10.029720</td>\n",
       "      <td>0.0</td>\n",
       "      <td>0.0</td>\n",
       "    </tr>\n",
       "  </tbody>\n",
       "</table>\n",
       "<p>782 rows × 415 columns</p>\n",
       "</div>"
      ],
      "text/plain": [
       "        player_id   ppr_roll   rush_roll  week  season  play_id  \\\n",
       "5125   00-0034844  13.866667   73.666667     1    2022     62.0   \n",
       "5126   00-0034844  13.866667   73.666667     1    2022    947.0   \n",
       "5127   00-0034844  13.866667   73.666667     1    2022    968.0   \n",
       "5128   00-0034844  13.866667   73.666667     1    2022   1039.0   \n",
       "5129   00-0034844  13.866667   73.666667     1    2022   1333.0   \n",
       "...           ...        ...         ...   ...     ...      ...   \n",
       "25138  00-0034844  20.283334  117.000000    11    2024   3511.0   \n",
       "25139  00-0034844  20.283334  117.000000    11    2024   3586.0   \n",
       "25140  00-0034844  20.283334  117.000000    11    2024   3633.0   \n",
       "25141  00-0034844  20.283334  117.000000    11    2024   3722.0   \n",
       "25142  00-0034844  20.283334  117.000000    11    2024   3751.0   \n",
       "\n",
       "               game_id   old_game_id home_team away_team  ...  \\\n",
       "5125   2022_01_NYG_TEN           NaN       TEN       NYG  ...   \n",
       "5126   2022_01_NYG_TEN           NaN       TEN       NYG  ...   \n",
       "5127   2022_01_NYG_TEN           NaN       TEN       NYG  ...   \n",
       "5128   2022_01_NYG_TEN           NaN       TEN       NYG  ...   \n",
       "5129   2022_01_NYG_TEN           NaN       TEN       NYG  ...   \n",
       "...                ...           ...       ...       ...  ...   \n",
       "25138  2024_11_WAS_PHI  2.024111e+09       PHI       WAS  ...   \n",
       "25139  2024_11_WAS_PHI  2.024111e+09       PHI       WAS  ...   \n",
       "25140  2024_11_WAS_PHI  2.024111e+09       PHI       WAS  ...   \n",
       "25141  2024_11_WAS_PHI  2.024111e+09       PHI       WAS  ...   \n",
       "25142  2024_11_WAS_PHI  2.024111e+09       PHI       WAS  ...   \n",
       "\n",
       "      carries_roll_RB_1 carries_roll_RB_2 carries_roll_RB_0 rusher_depth_num  \\\n",
       "5125           0.666667          0.000000         16.000000              0.0   \n",
       "5126           0.666667          0.000000         16.000000              0.0   \n",
       "5127           0.666667          0.000000         16.000000              0.0   \n",
       "5128           0.666667          0.000000         16.000000              0.0   \n",
       "5129           0.666667          0.000000         16.000000              0.0   \n",
       "...                 ...               ...               ...              ...   \n",
       "25138          6.166667          6.333333         20.666667              0.0   \n",
       "25139          6.166667          6.333333         20.666667              0.0   \n",
       "25140          6.166667          6.333333         20.666667              0.0   \n",
       "25141          6.166667          6.333333         20.666667              0.0   \n",
       "25142          6.166667          6.333333         20.666667              0.0   \n",
       "\n",
       "      yards_quantile  pred_quantile pred_yards  residuals  calc_end  \\\n",
       "5125               0              0   0.414951  -0.585049      77.0   \n",
       "5126               2              0   3.700843  -0.299157      71.0   \n",
       "5127               4              0  19.014664   4.014664      56.0   \n",
       "5128               1              0   1.981137  -0.018863      42.0   \n",
       "5129               3              2   6.303679  -0.696321      69.0   \n",
       "...              ...            ...        ...        ...       ...   \n",
       "25138              2              2   3.650193   0.650193      71.0   \n",
       "25139              0              0   0.022016  -0.977984      29.0   \n",
       "25140              4              0  20.225922  -2.774078       0.0   \n",
       "25141              3              0   6.270894  -0.729106      39.0   \n",
       "25142              4              4  28.970280 -10.029720       0.0   \n",
       "\n",
       "       play_end_ydline  \n",
       "5125              77.0  \n",
       "5126              71.0  \n",
       "5127              56.0  \n",
       "5128              42.0  \n",
       "5129              69.0  \n",
       "...                ...  \n",
       "25138             71.0  \n",
       "25139             29.0  \n",
       "25140              0.0  \n",
       "25141             39.0  \n",
       "25142              0.0  \n",
       "\n",
       "[782 rows x 415 columns]"
      ]
     },
     "execution_count": 92,
     "metadata": {},
     "output_type": "execute_result"
    }
   ],
   "source": [
    "rushes.loc[rushes.rusher == 'S.Barkley']"
   ]
  },
  {
   "cell_type": "code",
   "execution_count": 91,
   "metadata": {},
   "outputs": [
    {
     "data": {
      "text/plain": [
       "0        M.Ingram\n",
       "1        M.Ingram\n",
       "2        M.Ingram\n",
       "3        M.Ingram\n",
       "4        M.Ingram\n",
       "           ...   \n",
       "30167    T.Benson\n",
       "30168    T.Benson\n",
       "30169    T.Benson\n",
       "30170    T.Benson\n",
       "30171    T.Benson\n",
       "Name: rusher, Length: 30172, dtype: object"
      ]
     },
     "execution_count": 91,
     "metadata": {},
     "output_type": "execute_result"
    }
   ],
   "source": [
    "rushes.rusher"
   ]
  },
  {
   "cell_type": "code",
   "execution_count": null,
   "metadata": {},
   "outputs": [],
   "source": []
  }
 ],
 "metadata": {
  "kernelspec": {
   "display_name": ".venv",
   "language": "python",
   "name": "python3"
  },
  "language_info": {
   "codemirror_mode": {
    "name": "ipython",
    "version": 3
   },
   "file_extension": ".py",
   "mimetype": "text/x-python",
   "name": "python",
   "nbconvert_exporter": "python",
   "pygments_lexer": "ipython3",
   "version": "3.12.2"
  }
 },
 "nbformat": 4,
 "nbformat_minor": 2
}
