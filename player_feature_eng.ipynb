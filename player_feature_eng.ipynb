{
 "cells": [
  {
   "cell_type": "code",
   "execution_count": 24,
   "metadata": {},
   "outputs": [],
   "source": [
    "import pandas as pd\n",
    "pd.set_option('display.max_columns', 55)"
   ]
  },
  {
   "cell_type": "code",
   "execution_count": 25,
   "metadata": {},
   "outputs": [],
   "source": [
    "weekly = pd.read_parquet('data/weekly.parquet')\n",
    "weekly = weekly.loc[weekly.index != 3821]"
   ]
  },
  {
   "cell_type": "code",
   "execution_count": 26,
   "metadata": {},
   "outputs": [],
   "source": [
    "depth = pd.read_csv('data/depth.csv', index_col=0).sort_values(by='depth_team')\n",
    "depth['dense_depth'] = depth.groupby(['club_code','season','week','position', 'game_type','formation']).cumcount()\n",
    "off = depth.loc[depth.formation=='Offense']"
   ]
  },
  {
   "cell_type": "code",
   "execution_count": 27,
   "metadata": {},
   "outputs": [],
   "source": [
    "context_cols = ['player_id', 'player_display_name', 'position',\n",
    "       'position_group',\n",
    "]\n",
    "game_context = ['week','season_type', 'season', 'opponent_team', 'recent_team', ]\n",
    "stat_cols = ['completions', 'attempts',\n",
    "       'passing_yards', 'passing_tds', 'interceptions', 'sacks', 'sack_yards',\n",
    "       'sack_fumbles', 'sack_fumbles_lost', 'passing_air_yards',\n",
    "       'passing_yards_after_catch', 'passing_first_downs', 'passing_epa',\n",
    "       'passing_2pt_conversions', 'pacr', 'dakota', 'carries', 'rushing_yards',\n",
    "       'rushing_tds', 'rushing_fumbles', 'rushing_fumbles_lost',\n",
    "       'rushing_first_downs', 'rushing_epa', 'rushing_2pt_conversions',\n",
    "       'receptions', 'targets', 'receiving_yards', 'receiving_tds',\n",
    "       'receiving_fumbles', 'receiving_fumbles_lost', 'receiving_air_yards',\n",
    "       'receiving_yards_after_catch', 'receiving_first_downs', 'receiving_epa',\n",
    "       'receiving_2pt_conversions', 'racr', 'target_share', 'air_yards_share',\n",
    "       'wopr', 'special_teams_tds', 'fantasy_points', 'fantasy_points_ppr']\n",
    "rush_stat_cols = [\n",
    "     'carries', 'rushing_yards',\n",
    "       'rushing_tds', 'rushing_fumbles', 'rushing_fumbles_lost',\n",
    "       'rushing_first_downs', 'rushing_epa', 'rushing_2pt_conversions',\n",
    "       'receptions', 'targets', 'receiving_yards', 'receiving_tds',\n",
    "       'fantasy_points', 'fantasy_points_ppr'\n",
    "]\n",
    "\n",
    "depth_cols = ['season', 'last_name',\n",
    "       'first_name', 'football_name', 'formation', 'gsis_id', 'jersey_number',\n",
    "       'position', 'elias_id', 'depth_position', 'full_name']"
   ]
  },
  {
   "cell_type": "code",
   "execution_count": 28,
   "metadata": {},
   "outputs": [],
   "source": [
    "qb_stats_eng = [\n",
    "    \"completions\",\n",
    "    \"attempts\",\n",
    "    \"passing_yards\",\n",
    "    \"passing_tds\",\n",
    "    \"interceptions\",\n",
    "    \"sacks\",\n",
    "    \"sack_yards\",\n",
    "    \"passing_air_yards\",\n",
    "    \"passing_yards_after_catch\",\n",
    "    \"passing_first_downs\",\n",
    "    \"passing_2pt_conversions\",\n",
    "    \"fantasy_points_ppr\"\n",
    "]\n",
    "\n",
    "rush_stats_eng = [\n",
    "    \"carries\",\n",
    "    \"rushing_yards\",\n",
    "    \"rushing_tds\",\n",
    "    \"rushing_first_downs\",\n",
    "    \"receptions\",\n",
    "    \"targets\",\n",
    "    \"receiving_yards\",\n",
    "    \"receiving_tds\",\n",
    "    \"fantasy_points\",\n",
    "    \"fantasy_points_ppr\",\n",
    "]\n",
    "receiver_stats_eng = [\n",
    "    \"receptions\",\n",
    "    \"targets\",\n",
    "    \"receiving_yards\",\n",
    "    \"receiving_tds\",\n",
    "    \"receiving_air_yards\",\n",
    "    \"receiving_yards_after_catch\",\n",
    "    \"receiving_first_downs\",\n",
    "    \"target_share\",\n",
    "    \"air_yards_share\",\n",
    "    \"fantasy_points_ppr\",\n",
    "]\n"
   ]
  },
  {
   "cell_type": "code",
   "execution_count": 29,
   "metadata": {},
   "outputs": [],
   "source": [
    "stats_to_eng = list(set(qb_stats_eng + rush_stats_eng + receiver_stats_eng))"
   ]
  },
  {
   "cell_type": "code",
   "execution_count": 30,
   "metadata": {},
   "outputs": [],
   "source": [
    "#week_small = weekly.loc[(weekly.player_id=='00-0039746') & (weekly.season==2024)]\n",
    "temp = off.merge(\n",
    "    weekly,\n",
    "    how=\"outer\",\n",
    "    left_on=[\"gsis_id\", \"club_code\", \"season\", \"week\", \"position\"],\n",
    "    right_on=[\"player_id\", \"recent_team\", \"season\", \"week\", \"position\"],\n",
    ").sort_values(by=\"week\").reset_index(drop=True)\n"
   ]
  },
  {
   "cell_type": "code",
   "execution_count": 31,
   "metadata": {},
   "outputs": [],
   "source": [
    "temp[context_cols] = temp.groupby(depth_cols)[context_cols].bfill()\n",
    "temp[context_cols] = temp.groupby(depth_cols)[context_cols].ffill()\n",
    "temp[stat_cols] = temp[stat_cols].fillna(0)"
   ]
  },
  {
   "cell_type": "code",
   "execution_count": 32,
   "metadata": {},
   "outputs": [],
   "source": [
    "player_fantasy = temp.copy(deep=True).sort_values(by=['season','week']) #[context_cols + game_context + rush_stat_cols]\n",
    "#player_fantasy.loc[player_fantasy.gsis_id==\"00-0039746\"]"
   ]
  },
  {
   "cell_type": "code",
   "execution_count": 33,
   "metadata": {},
   "outputs": [],
   "source": [
    "roll_columns = [x + '_roll' for x in stats_to_eng]\n",
    "player_fantasy[roll_columns] = player_fantasy.groupby(context_cols)[stats_to_eng].transform(lambda x: x.ewm(span=6, min_periods=0).mean())\n",
    "#player_fantasy[['carries_median']] = player_fantasy.groupby(context_cols)[['carries']].transform(lambda x: x.rolling(6, min_periods=0).median())\n",
    "#player_fantasy.loc[player_fantasy.gsis_id==\"00-0039746\"][['carries','carries_median']]"
   ]
  },
  {
   "cell_type": "code",
   "execution_count": 95,
   "metadata": {},
   "outputs": [],
   "source": [
    "player_fantasy = player_fantasy.rename({'club_code':'team_name'},axis=1)\n",
    "player_fantasy.to_parquet('data/agg/player_weekly_agg.parquet')"
   ]
  },
  {
   "cell_type": "code",
   "execution_count": null,
   "metadata": {},
   "outputs": [],
   "source": [
    "agg = player_fantasy.copy()\n",
    "agg = agg.sort_values(by=['club_code','season','week','full_name'])"
   ]
  },
  {
   "cell_type": "code",
   "execution_count": 70,
   "metadata": {},
   "outputs": [],
   "source": [
    "a =weekly.loc[(weekly.targets > 0) & (weekly.position.isin([\"RB\", \"WR\", \"TE\"]))][\n",
    "    [\"player_display_name\", \"targets\", \"week\", \"season\", \"position\", \"recent_team\"]\n",
    "].groupby([\"week\", \"season\", \"recent_team\", \"position\"]).count().reset_index().groupby(\n",
    "    [\"position\"]\n",
    ")[\"targets\"].value_counts().reset_index()\n"
   ]
  },
  {
   "cell_type": "code",
   "execution_count": 71,
   "metadata": {},
   "outputs": [],
   "source": [
    "def stack_players(df, num_players, index_cols, value_cols):\n",
    "    'df should be seperated by position already'\n",
    "    df = df.loc[df.dense_depth < num_players]\n",
    "    piv = df.pivot(index=index_cols, columns=['position','dense_depth'], values=value_cols).reset_index()\n",
    "    piv.columns = [x[0] + '_' + x[1] +'_' +  (str(int(x[2]))) if x[2] != '' else x[0] + x[1] for x in piv.columns ]\n",
    "    return piv"
   ]
  },
  {
   "cell_type": "code",
   "execution_count": 73,
   "metadata": {},
   "outputs": [
    {
     "name": "stderr",
     "output_type": "stream",
     "text": [
      "C:\\Users\\Sharedw\\AppData\\Local\\Temp\\ipykernel_30180\\3295183237.py:5: FutureWarning: Downcasting object dtype arrays on .fillna, .ffill, .bfill is deprecated and will change in a future version. Call result.infer_objects(copy=False) instead. To opt-in to the future behavior, set `pd.set_option('future.no_silent_downcasting', True)`\n",
      "  team_player_stats[agg_roll_cols] = team_player_stats[agg_roll_cols].fillna(0).astype(float)\n"
     ]
    }
   ],
   "source": [
    "cols_to_agg =  (['gsis_id','full_name'] + roll_columns)\n",
    "\n",
    "team_player_stats = stack_players(agg.loc[(agg.position.isin(['RB','WR'])) & (~agg.week.isna())],3,  ['team_name','season','week', 'game_type'], cols_to_agg)\n",
    "agg_roll_cols = [x for x in team_player_stats.columns if '_roll' in x]\n",
    "team_player_stats[agg_roll_cols] = team_player_stats[agg_roll_cols].fillna(0).astype(float)"
   ]
  },
  {
   "cell_type": "code",
   "execution_count": 74,
   "metadata": {},
   "outputs": [
    {
     "data": {
      "text/html": [
       "<div>\n",
       "<style scoped>\n",
       "    .dataframe tbody tr th:only-of-type {\n",
       "        vertical-align: middle;\n",
       "    }\n",
       "\n",
       "    .dataframe tbody tr th {\n",
       "        vertical-align: top;\n",
       "    }\n",
       "\n",
       "    .dataframe thead th {\n",
       "        text-align: right;\n",
       "    }\n",
       "</style>\n",
       "<table border=\"1\" class=\"dataframe\">\n",
       "  <thead>\n",
       "    <tr style=\"text-align: right;\">\n",
       "      <th></th>\n",
       "      <th>team_name</th>\n",
       "      <th>season</th>\n",
       "      <th>week</th>\n",
       "      <th>game_type</th>\n",
       "      <th>dense_depth</th>\n",
       "    </tr>\n",
       "  </thead>\n",
       "  <tbody>\n",
       "    <tr>\n",
       "      <th>4027</th>\n",
       "      <td>ARI</td>\n",
       "      <td>2010</td>\n",
       "      <td>1.0</td>\n",
       "      <td>REG</td>\n",
       "      <td>0.0</td>\n",
       "    </tr>\n",
       "    <tr>\n",
       "      <th>2573</th>\n",
       "      <td>ARI</td>\n",
       "      <td>2010</td>\n",
       "      <td>1.0</td>\n",
       "      <td>REG</td>\n",
       "      <td>2.0</td>\n",
       "    </tr>\n",
       "    <tr>\n",
       "      <th>381</th>\n",
       "      <td>ARI</td>\n",
       "      <td>2010</td>\n",
       "      <td>1.0</td>\n",
       "      <td>REG</td>\n",
       "      <td>1.0</td>\n",
       "    </tr>\n",
       "    <tr>\n",
       "      <th>24005</th>\n",
       "      <td>ARI</td>\n",
       "      <td>2010</td>\n",
       "      <td>2.0</td>\n",
       "      <td>REG</td>\n",
       "      <td>0.0</td>\n",
       "    </tr>\n",
       "    <tr>\n",
       "      <th>14632</th>\n",
       "      <td>ARI</td>\n",
       "      <td>2010</td>\n",
       "      <td>2.0</td>\n",
       "      <td>REG</td>\n",
       "      <td>2.0</td>\n",
       "    </tr>\n",
       "    <tr>\n",
       "      <th>...</th>\n",
       "      <td>...</td>\n",
       "      <td>...</td>\n",
       "      <td>...</td>\n",
       "      <td>...</td>\n",
       "      <td>...</td>\n",
       "    </tr>\n",
       "    <tr>\n",
       "      <th>133529</th>\n",
       "      <td>WAS</td>\n",
       "      <td>2024</td>\n",
       "      <td>11.0</td>\n",
       "      <td>REG</td>\n",
       "      <td>2.0</td>\n",
       "    </tr>\n",
       "    <tr>\n",
       "      <th>135111</th>\n",
       "      <td>WAS</td>\n",
       "      <td>2024</td>\n",
       "      <td>11.0</td>\n",
       "      <td>REG</td>\n",
       "      <td>1.0</td>\n",
       "    </tr>\n",
       "    <tr>\n",
       "      <th>137968</th>\n",
       "      <td>WAS</td>\n",
       "      <td>2024</td>\n",
       "      <td>12.0</td>\n",
       "      <td>REG</td>\n",
       "      <td>0.0</td>\n",
       "    </tr>\n",
       "    <tr>\n",
       "      <th>141537</th>\n",
       "      <td>WAS</td>\n",
       "      <td>2024</td>\n",
       "      <td>12.0</td>\n",
       "      <td>REG</td>\n",
       "      <td>2.0</td>\n",
       "    </tr>\n",
       "    <tr>\n",
       "      <th>140545</th>\n",
       "      <td>WAS</td>\n",
       "      <td>2024</td>\n",
       "      <td>12.0</td>\n",
       "      <td>REG</td>\n",
       "      <td>1.0</td>\n",
       "    </tr>\n",
       "  </tbody>\n",
       "</table>\n",
       "<p>22079 rows × 5 columns</p>\n",
       "</div>"
      ],
      "text/plain": [
       "       team_name  season  week game_type  dense_depth\n",
       "4027         ARI    2010   1.0       REG          0.0\n",
       "2573         ARI    2010   1.0       REG          2.0\n",
       "381          ARI    2010   1.0       REG          1.0\n",
       "24005        ARI    2010   2.0       REG          0.0\n",
       "14632        ARI    2010   2.0       REG          2.0\n",
       "...          ...     ...   ...       ...          ...\n",
       "133529       WAS    2024  11.0       REG          2.0\n",
       "135111       WAS    2024  11.0       REG          1.0\n",
       "137968       WAS    2024  12.0       REG          0.0\n",
       "141537       WAS    2024  12.0       REG          2.0\n",
       "140545       WAS    2024  12.0       REG          1.0\n",
       "\n",
       "[22079 rows x 5 columns]"
      ]
     },
     "execution_count": 74,
     "metadata": {},
     "output_type": "execute_result"
    }
   ],
   "source": [
    "agg.loc[(agg.position.isin(['QB'])) & (~agg.week.isna())][['team_name','season','week', 'game_type', 'dense_depth']]"
   ]
  },
  {
   "cell_type": "code",
   "execution_count": 89,
   "metadata": {},
   "outputs": [],
   "source": [
    "qb_roll_stat_cols = ['gsis_id','full_name'] + [x + '_roll' for x in qb_stats_eng] \n",
    "receiver_roll_stat_cols = ['gsis_id','full_name'] + [x + '_roll' for x in receiver_stats_eng] \n",
    "rush_stat_cols = ['gsis_id','full_name'] + [x + '_roll' for x in rush_stats_eng]\n",
    "\n",
    "team_qb_stats = stack_players(agg.loc[(agg.position.isin(['QB'])) & (~agg.week.isna())],2,  ['team_name','season','week', 'game_type'], qb_roll_stat_cols)\n",
    "wr_temp = stack_players(agg.loc[(agg.position.isin(['WR'])) & (~agg.week.isna())],5,  ['team_name','season','week', 'game_type'], receiver_roll_stat_cols)\n",
    "te_temp = stack_players(agg.loc[(agg.position.isin(['TE'])) & (~agg.week.isna())],3,  ['team_name','season','week', 'game_type'], receiver_roll_stat_cols)\n",
    "rb_temp =stack_players(agg.loc[(agg.position.isin(['RB'])) & (~agg.week.isna())],2,  ['team_name','season','week', 'game_type'], receiver_roll_stat_cols)\n",
    "team_receiver_stats = wr_temp.merge(te_temp, on=['team_name','season','week', 'game_type'])\n",
    "team_receiver_stats = team_receiver_stats.merge(rb_temp, on=['team_name','season','week', 'game_type'])\n",
    "team_rb_stats = stack_players(agg.loc[(agg.position.isin(['RB'])) & (~agg.week.isna())],3,  ['team_name','season','week', 'game_type'], rush_stat_cols)"
   ]
  },
  {
   "cell_type": "code",
   "execution_count": 90,
   "metadata": {},
   "outputs": [
    {
     "data": {
      "text/plain": [
       "Index(['team_name', 'season', 'week', 'game_type', 'gsis_id_WR_2',\n",
       "       'gsis_id_WR_1', 'gsis_id_WR_4', 'gsis_id_WR_3', 'gsis_id_WR_0',\n",
       "       'full_name_WR_2',\n",
       "       ...\n",
       "       'receiving_yards_after_catch_roll_RB_1',\n",
       "       'receiving_yards_after_catch_roll_RB_0',\n",
       "       'receiving_first_downs_roll_RB_1', 'receiving_first_downs_roll_RB_0',\n",
       "       'target_share_roll_RB_1', 'target_share_roll_RB_0',\n",
       "       'air_yards_share_roll_RB_1', 'air_yards_share_roll_RB_0',\n",
       "       'fantasy_points_ppr_roll_RB_1', 'fantasy_points_ppr_roll_RB_0'],\n",
       "      dtype='object', length=124)"
      ]
     },
     "execution_count": 90,
     "metadata": {},
     "output_type": "execute_result"
    }
   ],
   "source": [
    "team_receiver_stats.columns"
   ]
  },
  {
   "cell_type": "code",
   "execution_count": 91,
   "metadata": {},
   "outputs": [],
   "source": [
    "team_qb_stats.to_csv('data/team_qb_stats.csv')\n",
    "team_receiver_stats.to_csv('data/team_receiver_stats.csv')\n",
    "team_rb_stats.to_csv('data/team_rb_stats.csv')"
   ]
  },
  {
   "cell_type": "code",
   "execution_count": null,
   "metadata": {},
   "outputs": [],
   "source": []
  }
 ],
 "metadata": {
  "kernelspec": {
   "display_name": ".venv",
   "language": "python",
   "name": "python3"
  },
  "language_info": {
   "codemirror_mode": {
    "name": "ipython",
    "version": 3
   },
   "file_extension": ".py",
   "mimetype": "text/x-python",
   "name": "python",
   "nbconvert_exporter": "python",
   "pygments_lexer": "ipython3",
   "version": "3.12.2"
  }
 },
 "nbformat": 4,
 "nbformat_minor": 2
}
