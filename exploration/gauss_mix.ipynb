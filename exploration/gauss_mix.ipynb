{
 "cells": [
  {
   "cell_type": "code",
   "execution_count": 10,
   "metadata": {},
   "outputs": [],
   "source": [
    "import numpy as np\n",
    "import pandas as pd"
   ]
  },
  {
   "cell_type": "code",
   "execution_count": 11,
   "metadata": {},
   "outputs": [],
   "source": [
    "rush_yards_cols = ['yardline_100',\n",
    " 'down',\n",
    " 'goal_to_go',\n",
    " 'ydstogo',\n",
    " 'posteam_score',\n",
    " 'defteam_score',\n",
    " 'score_differential',\n",
    " 'game_seconds_remaining',\n",
    " 'wind',\n",
    " 'temp',\n",
    " 'spread_line',\n",
    " 'total_line',\n",
    " 'carries_roll',\n",
    " 'rushing_yards_roll',\n",
    " 'yards_per_carry_roll',\n",
    " 'rushing_yards_team_roll',\n",
    " 'rushing_yards_opp_roll']\n"
   ]
  },
  {
   "cell_type": "code",
   "execution_count": 36,
   "metadata": {},
   "outputs": [],
   "source": [
    "\n",
    "rushes = pd.read_parquet('nn_rush_data.parquet')\n",
    "rush_yards_cols = rush_yards_cols[0:4]\n",
    "X = rushes[rush_yards_cols]\n",
    "train_yards = rushes['yards_shifted']\n",
    "train_TD = rushes['touchdown']"
   ]
  },
  {
   "cell_type": "code",
   "execution_count": 44,
   "metadata": {},
   "outputs": [
    {
     "data": {
      "text/plain": [
       "array([ 3,  2,  0,  0, -1,  2,  0,  0,  1, -1, -1, -5, -1,  3,  3,  0,  1,\n",
       "        0, -1,  3,  1, -1, -2, -6,  0,  0,  1,  2, -1,  3,  2,  1,  1,  0,\n",
       "        4,  1, -1,  0,  0, 10,  4,  1,  1,  0,  1, -2,  2, -4,  0,  6,  2,\n",
       "        2,  3,  0,  0,  0,  5,  1,  0,  3, -2,  5,  3,  0,  2,  4,  1,  5,\n",
       "       -2,  4, -5,  0,  0, -3,  0,  6,  1, -3,  5,  0,  6,  4,  1,  2,  7,\n",
       "        1,  3, -2,  3,  0,  0,  9,  4,  2,  2,  0,  0,  6, -3,  0,  1, -1,\n",
       "        0, -4, -1,  1,  2,  0,  0,  4,  3,  3,  0,  1, -1, -1,  2,  0,  1,\n",
       "       -3,  1,  0, -1,  3,  3,  2,  0,  0,  1,  0,  0, -1,  0,  3,  6,  6,\n",
       "        0, -1,  1,  4,  2,  3,  1,  0,  0,  3, -2,  0,  6,  4,  8,  0,  4,\n",
       "        4,  1,  3,  4,  1, -1, -6, -1, -3, -5,  2,  0,  4, -1,  0,  6,  3,\n",
       "        4,  0,  1,  0,  0,  7,  0,  1,  4, -3,  3,  0, -1,  0,  6, -1,  3,\n",
       "        0,  1,  6,  3,  8,  2,  1,  1,  4,  4, -4,  0,  3, -2, -1, -1,  0,\n",
       "        0,  0, -5, -3,  2,  0,  4,  0,  3,  0,  3,  2,  3,  2,  3,  2,  4,\n",
       "        5,  2,  1,  0,  2,  3,  0,  0, -1,  0,  4,  0, -3,  0,  0,  0,  1,\n",
       "        1,  2,  0,  0,  1, -5,  3,  4,  2, -1, -2,  2,  0,  3,  0, -2,  2,\n",
       "       -2,  5,  0, -2,  2,  0,  0,  1,  2,  3, -2, -2,  3, -1,  4,  4,  2,\n",
       "        2,  0,  2,  0, -1,  0,  0,  0,  1,  0,  2, -1,  1,  4,  0,  0,  5,\n",
       "       -3,  0,  2,  0,  1,  5, -1,  4,  1, -2,  0,  0,  4,  4, -3, -6,  0,\n",
       "        3, -1,  2,  3,  3,  6, -5,  2,  5, -3,  0,  0,  0,  0, -2,  4,  3,\n",
       "        2,  2,  5,  1,  2,  2,  5, -3, -7,  0,  2,  6, -1,  0,  0,  1,  3,\n",
       "       -2,  1,  7,  2,  1,  2,  1,  3,  0, -4,  3,  5,  1, -1,  1,  4, -4,\n",
       "        0,  0,  0,  2,  0,  0,  3,  0,  0,  1,  5, -2,  2,  2,  5,  6,  0,\n",
       "        0,  0,  1,  4,  4,  1,  5,  0, -3,  2,  0,  4,  0,  0,  5,  1, -1,\n",
       "        4,  3,  0,  4, -1,  1, -6,  3,  5, -4,  5,  3,  4,  1,  2,  0,  3,\n",
       "       -5, -2, -1,  0,  2,  1,  3, -1,  2,  3,  2, -5,  3,  4,  5, -4, -2,\n",
       "        8,  6,  7,  0,  0,  5, -2, -7,  6,  7,  6,  5,  2, -3, -2,  3,  9,\n",
       "        2, -1,  0,  2,  4,  5, -4,  0,  1,  8,  2,  2, -2,  1,  3,  3,  0,\n",
       "        0, -1,  0,  4,  5,  3,  2,  4,  3,  4,  6,  1,  2, -2,  1, -1, -2,\n",
       "        8,  5,  0,  3,  0,  2,  6,  3,  4, -2,  6, -3,  5,  1, -3,  0,  0,\n",
       "        3,  0, -2,  3, -2,  1,  2,  4,  4,  4,  4,  4,  4,  4,  4,  4,  4,\n",
       "        4,  4,  4,  4,  4,  4,  4,  4,  4,  4,  4,  4,  4,  4,  4,  4,  4,\n",
       "        4,  4,  4,  4,  4,  4,  4,  4,  4,  4,  4,  4,  4,  4,  4,  4,  4,\n",
       "        4,  4,  4,  4,  4,  4,  4,  4,  4,  4,  4,  4,  4,  4,  4,  4,  4,\n",
       "        4,  4,  4,  4,  4,  4,  4,  4,  4,  4,  4,  4,  4,  4,  4,  4,  4,\n",
       "        4,  4,  4,  4,  4,  4,  4,  4,  4,  4,  4,  4,  4,  4,  4,  4,  4,\n",
       "        4,  4,  4,  4,  4,  4,  4,  4,  4,  4,  4,  4,  4,  4,  4,  4,  4,\n",
       "        4,  4,  4,  4,  4,  4,  4,  4,  4,  4,  4,  4,  4,  4,  4,  4,  4,\n",
       "        4,  4,  4,  4,  4,  4,  4,  4,  4,  4,  4,  4,  4,  4,  4,  4,  4,\n",
       "        4,  4,  4,  4,  4,  4,  4,  4,  4,  4,  4,  4,  4,  4,  4,  4,  4,\n",
       "        4,  4,  4,  4,  4,  4,  4,  4,  4,  4,  4,  4,  4,  4,  4,  4,  4,\n",
       "        4,  4,  4,  4,  4,  4,  4,  4,  4,  4,  4,  4,  4,  4,  4,  4,  4,\n",
       "        4,  4,  4,  4,  4,  4,  4,  4,  4,  4,  4,  4,  4,  4,  4,  4,  4,\n",
       "        4,  4,  4,  4,  4,  4,  4,  4,  4,  4,  4,  4,  4,  4,  4,  4,  4,\n",
       "        4,  4,  4,  4,  4,  4,  4,  4,  4,  4,  4,  4,  4,  4,  4,  4,  4,\n",
       "        4,  4,  4,  4,  4,  4,  4,  4,  4,  4,  4,  4,  4,  4,  4,  4,  4,\n",
       "        4,  4,  4,  4,  4,  4,  4,  4,  4,  4,  4,  4,  4,  4,  4,  4,  4,\n",
       "        4,  4,  4,  4,  4,  4,  4,  4,  4,  4,  4,  4,  4,  4,  4,  4,  4,\n",
       "        4,  4,  4,  4,  4,  4,  4,  4,  4,  4,  4,  4,  4,  4,  4,  4,  4,\n",
       "        4,  4,  4,  4,  4,  4,  4,  4,  4,  4,  4,  4,  4,  4,  4,  4,  4,\n",
       "        4,  4,  4,  4,  4,  4,  4,  4,  4,  4,  4,  4,  4,  4,  4,  4,  4,\n",
       "        4,  4,  4,  4,  4,  4,  4,  4,  4,  4,  4,  4,  4,  4,  4,  4,  4,\n",
       "        4,  4,  4,  4,  4,  4,  4,  4,  4,  4,  4,  4,  4,  4,  4,  4,  4,\n",
       "        4,  4,  4,  4,  4,  4,  4,  4,  4,  4,  4,  4,  4,  4,  4,  4,  4,\n",
       "        4,  4,  4,  4,  4,  4,  4,  4,  4,  4,  4,  4,  4,  4,  4,  4,  4,\n",
       "        4,  4,  4,  4,  4,  4,  4,  4,  4,  4,  4,  4,  4,  4,  4,  4,  4,\n",
       "        4,  4,  4,  4,  4,  4,  4,  4,  4,  4,  4,  4,  4,  4,  4,  4,  4,\n",
       "        4,  4,  4,  4,  4,  4,  4,  4,  4,  4,  4,  4,  4,  4,  4,  4,  4,\n",
       "        4,  4,  4,  4,  4,  4,  4,  4,  4,  4,  4,  4,  4,  4,  4,  4,  4,\n",
       "        4,  4,  4,  4,  4,  4,  4,  4,  4,  4,  4,  4,  4,  4])"
      ]
     },
     "execution_count": 44,
     "metadata": {},
     "output_type": "execute_result"
    }
   ],
   "source": [
    "samples.astype(int)"
   ]
  },
  {
   "cell_type": "code",
   "execution_count": 95,
   "metadata": {},
   "outputs": [],
   "source": [
    "import matplotlib.pyplot as plt\n",
    "from scipy.stats import skewnorm\n",
    "# Parameters for the skewed Gaussians\n",
    "mu1, sigma1, skew1, weight1 = 1.54, 5, 1, 0.93 # mean, std, skewness, weight for the first Gaussian\n",
    "mu2, sigma2, skew2, weight2 = 4.6, .01, 0, 0.07  # mean, std, skewness, weight for the second Gaussian\n",
    "\n",
    "# Number of samples\n",
    "n_samples = 1000\n",
    "\n",
    "# Generate samples from the two skewed Gaussians\n",
    "n_samples_1 = int(weight1 * n_samples)\n",
    "n_samples_2 = n_samples - n_samples_1\n",
    "samples_1 = skewnorm.rvs(skew1, loc=mu1, scale=sigma1, size=n_samples_1)\n",
    "samples_2 = skewnorm.rvs(skew2, loc=mu2, scale=sigma2, size=n_samples_2)\n",
    "\n",
    "# Combine the samples\n",
    "samples = np.concatenate([samples_1, samples_2])\n",
    "\n",
    "# Plot the histogram of the samples\n",
    "#plt.hist(samples, bins=30, density=True, alpha=0.6, color='g')\n",
    "\n",
    "# Plot the individual Gaussian distributions\n",
    "x = np.linspace(min(samples), max(samples), 1000)\n",
    "pdf1 = weight1 * (1/np.sqrt(2 * np.pi * sigma1**2)) * np.exp(-(x - mu1)**2 / (2 * sigma1**2))\n",
    "pdf2 = weight2 * (1/np.sqrt(2 * np.pi * sigma2**2)) * np.exp(-(x - mu2)**2 / (2 * sigma2**2))\n",
    "\n",
    "# Plot the mixture of Gaussians\n",
    "#plt.plot(x, pdf1 + pdf2, label=\"Mixture of Gaussians\", color='r')\n",
    "\n",
    "#plt.legend()\n",
    "#plt.show()\n"
   ]
  },
  {
   "cell_type": "code",
   "execution_count": 96,
   "metadata": {},
   "outputs": [
    {
     "data": {
      "text/plain": [
       "(array([0.        , 0.00142248, 0.00142248, 0.00142248, 0.00426743,\n",
       "        0.0056899 , 0.01849218, 0.02418208, 0.05547653, 0.06827881,\n",
       "        0.07539118, 0.08961593, 0.11237553, 0.10810811, 0.15362731,\n",
       "        0.22332859, 0.056899  , 0.        , 0.        ]),\n",
       " array([-10.,  -9.,  -8.,  -7.,  -6.,  -5.,  -4.,  -3.,  -2.,  -1.,   0.,\n",
       "          1.,   2.,   3.,   4.,   5.,   6.,   7.,   8.,   9.]),\n",
       " <BarContainer object of 19 artists>)"
      ]
     },
     "execution_count": 96,
     "metadata": {},
     "output_type": "execute_result"
    },
    {
     "data": {
      "image/png": "[encoded data removed]",
      "text/plain": [
       "<Figure size 640x480 with 1 Axes>"
      ]
     },
     "metadata": {},
     "output_type": "display_data"
    }
   ],
   "source": [
    "ydl = 5\n",
    "\n",
    "vals = rushes.loc[rushes.yardline_100 == ydl]['yards_gained']\n",
    "vals.hist(color='b', bins=range(-10,10),density=True)\n",
    "plt.hist(np.round(samples[samples < 6]).astype(int), color='r', alpha=0.5, bins=range(-10,10), density=True)"
   ]
  },
  {
   "cell_type": "code",
   "execution_count": null,
   "metadata": {},
   "outputs": [
    {
     "data": {
      "text/plain": [
       "166       2.0\n",
       "307       3.0\n",
       "416       4.0\n",
       "740       2.0\n",
       "1013      3.0\n",
       "         ... \n",
       "211900    3.0\n",
       "212118    3.0\n",
       "212124   -2.0\n",
       "212154    4.0\n",
       "212209    0.0\n",
       "Name: yards_gained, Length: 1275, dtype: float32"
      ]
     },
     "execution_count": 19,
     "metadata": {},
     "output_type": "execute_result"
    }
   ],
   "source": []
  },
  {
   "cell_type": "code",
   "execution_count": null,
   "metadata": {},
   "outputs": [],
   "source": []
  }
 ],
 "metadata": {
  "kernelspec": {
   "display_name": ".venv",
   "language": "python",
   "name": "python3"
  },
  "language_info": {
   "codemirror_mode": {
    "name": "ipython",
    "version": 3
   },
   "file_extension": ".py",
   "mimetype": "text/x-python",
   "name": "python",
   "nbconvert_exporter": "python",
   "pygments_lexer": "ipython3",
   "version": "3.12.2"
  }
 },
 "nbformat": 4,
 "nbformat_minor": 2
}
