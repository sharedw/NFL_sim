{
 "cells": [
  {
   "cell_type": "code",
   "execution_count": 83,
   "metadata": {},
   "outputs": [],
   "source": [
    "import nflreadpy as nfl\n",
    "import pandas as pd\n",
    "import duckdb\n",
    "import polars as pl\n",
    "pd.set_option('display.max_columns',30)"
   ]
  },
  {
   "cell_type": "code",
   "execution_count": 84,
   "metadata": {},
   "outputs": [],
   "source": [
    "con = duckdb.connect(\"data/nfl.duckdb\")"
   ]
  },
  {
   "cell_type": "code",
   "execution_count": 72,
   "metadata": {},
   "outputs": [],
   "source": [
    "end_year = 2026\n",
    "years=range(2000,end_year)"
   ]
  },
  {
   "cell_type": "code",
   "execution_count": 7,
   "metadata": {},
   "outputs": [
    {
     "data": {
      "text/html": [
       "<div><style>\n",
       ".dataframe > thead > tr,\n",
       ".dataframe > tbody > tr {\n",
       "  text-align: right;\n",
       "  white-space: pre-wrap;\n",
       "}\n",
       "</style>\n",
       "<small>shape: (7_004, 46)</small><table border=\"1\" class=\"dataframe\"><thead><tr><th>game_id</th><th>season</th><th>game_type</th><th>week</th><th>gameday</th><th>weekday</th><th>gametime</th><th>away_team</th><th>away_score</th><th>home_team</th><th>home_score</th><th>location</th><th>result</th><th>total</th><th>overtime</th><th>old_game_id</th><th>gsis</th><th>nfl_detail_id</th><th>pfr</th><th>pff</th><th>espn</th><th>ftn</th><th>away_rest</th><th>home_rest</th><th>away_moneyline</th><th>home_moneyline</th><th>spread_line</th><th>away_spread_odds</th><th>home_spread_odds</th><th>total_line</th><th>under_odds</th><th>over_odds</th><th>div_game</th><th>roof</th><th>surface</th><th>temp</th><th>wind</th><th>away_qb_id</th><th>home_qb_id</th><th>away_qb_name</th><th>home_qb_name</th><th>away_coach</th><th>home_coach</th><th>referee</th><th>stadium_id</th><th>stadium</th></tr><tr><td>str</td><td>i64</td><td>str</td><td>i64</td><td>str</td><td>str</td><td>str</td><td>str</td><td>i64</td><td>str</td><td>i64</td><td>str</td><td>i64</td><td>i64</td><td>i64</td><td>i64</td><td>i64</td><td>str</td><td>str</td><td>str</td><td>i64</td><td>str</td><td>i64</td><td>i64</td><td>str</td><td>str</td><td>f64</td><td>str</td><td>str</td><td>f64</td><td>str</td><td>str</td><td>i64</td><td>str</td><td>str</td><td>i64</td><td>i64</td><td>str</td><td>str</td><td>str</td><td>str</td><td>str</td><td>str</td><td>str</td><td>str</td><td>str</td></tr></thead><tbody><tr><td>&quot;2000_01_SF_ATL&quot;</td><td>2000</td><td>&quot;REG&quot;</td><td>1</td><td>&quot;2000-09-03&quot;</td><td>&quot;Sunday&quot;</td><td>&quot;13:00&quot;</td><td>&quot;SF&quot;</td><td>28</td><td>&quot;ATL&quot;</td><td>36</td><td>&quot;Home&quot;</td><td>8</td><td>64</td><td>0</td><td>2000090310</td><td>998</td><td>null</td><td>&quot;200009030atl&quot;</td><td>null</td><td>200903001</td><td>null</td><td>7</td><td>7</td><td>null</td><td>null</td><td>6.5</td><td>null</td><td>null</td><td>46.5</td><td>null</td><td>null</td><td>1</td><td>&quot;dome&quot;</td><td>&quot;astroturf&quot;</td><td>null</td><td>null</td><td>&quot;00-0005755&quot;</td><td>&quot;00-0002876&quot;</td><td>&quot;Jeff Garcia&quot;</td><td>&quot;Chris Chandler&quot;</td><td>&quot;Steve Mariucci&quot;</td><td>&quot;Dan Reeves&quot;</td><td>&quot;Walt Coleman&quot;</td><td>&quot;ATL00&quot;</td><td>&quot;Georgia Dome&quot;</td></tr><tr><td>&quot;2000_01_JAX_CLE&quot;</td><td>2000</td><td>&quot;REG&quot;</td><td>1</td><td>&quot;2000-09-03&quot;</td><td>&quot;Sunday&quot;</td><td>&quot;13:00&quot;</td><td>&quot;JAX&quot;</td><td>27</td><td>&quot;CLE&quot;</td><td>7</td><td>&quot;Home&quot;</td><td>-20</td><td>34</td><td>0</td><td>2000090306</td><td>994</td><td>null</td><td>&quot;200009030cle&quot;</td><td>null</td><td>200903005</td><td>null</td><td>7</td><td>7</td><td>null</td><td>null</td><td>-10.5</td><td>null</td><td>null</td><td>38.5</td><td>null</td><td>null</td><td>1</td><td>&quot;outdoors&quot;</td><td>&quot;grass&quot;</td><td>78</td><td>6</td><td>&quot;00-0002110&quot;</td><td>&quot;00-0003535&quot;</td><td>&quot;Mark Brunell&quot;</td><td>&quot;Tim Couch&quot;</td><td>&quot;Tom Coughlin&quot;</td><td>&quot;Chris Palmer&quot;</td><td>&quot;Bernie Kukar&quot;</td><td>&quot;CLE00&quot;</td><td>&quot;Cleveland Browns Stadium&quot;</td></tr><tr><td>&quot;2000_01_IND_KC&quot;</td><td>2000</td><td>&quot;REG&quot;</td><td>1</td><td>&quot;2000-09-03&quot;</td><td>&quot;Sunday&quot;</td><td>&quot;13:00&quot;</td><td>&quot;IND&quot;</td><td>27</td><td>&quot;KC&quot;</td><td>14</td><td>&quot;Home&quot;</td><td>-13</td><td>41</td><td>0</td><td>2000090305</td><td>993</td><td>null</td><td>&quot;200009030kan&quot;</td><td>null</td><td>200903012</td><td>null</td><td>7</td><td>7</td><td>null</td><td>null</td><td>-3.5</td><td>null</td><td>null</td><td>44.0</td><td>null</td><td>null</td><td>0</td><td>&quot;outdoors&quot;</td><td>&quot;grass&quot;</td><td>90</td><td>5</td><td>&quot;00-0010346&quot;</td><td>&quot;00-0006300&quot;</td><td>&quot;Peyton Manning&quot;</td><td>&quot;Elvis Grbac&quot;</td><td>&quot;Jim Mora&quot;</td><td>&quot;Gunther Cunningham&quot;</td><td>&quot;Larry Nemmers&quot;</td><td>&quot;KAN00&quot;</td><td>&quot;Arrowhead Stadium&quot;</td></tr><tr><td>&quot;2000_01_CHI_MIN&quot;</td><td>2000</td><td>&quot;REG&quot;</td><td>1</td><td>&quot;2000-09-03&quot;</td><td>&quot;Sunday&quot;</td><td>&quot;13:00&quot;</td><td>&quot;CHI&quot;</td><td>27</td><td>&quot;MIN&quot;</td><td>30</td><td>&quot;Home&quot;</td><td>3</td><td>57</td><td>0</td><td>2000090303</td><td>991</td><td>null</td><td>&quot;200009030min&quot;</td><td>null</td><td>200903016</td><td>null</td><td>7</td><td>7</td><td>null</td><td>null</td><td>4.5</td><td>null</td><td>null</td><td>46.5</td><td>null</td><td>null</td><td>1</td><td>&quot;dome&quot;</td><td>&quot;astroturf&quot;</td><td>null</td><td>null</td><td>&quot;00-0011044&quot;</td><td>&quot;00-0003739&quot;</td><td>&quot;Cade McNown&quot;</td><td>&quot;Daunte Culpepper&quot;</td><td>&quot;Dick Jauron&quot;</td><td>&quot;Dennis Green&quot;</td><td>&quot;Ed Hochuli&quot;</td><td>&quot;MIN00&quot;</td><td>&quot;Hubert H. Humphrey Metrodome&quot;</td></tr><tr><td>&quot;2000_01_TB_NE&quot;</td><td>2000</td><td>&quot;REG&quot;</td><td>1</td><td>&quot;2000-09-03&quot;</td><td>&quot;Sunday&quot;</td><td>&quot;13:00&quot;</td><td>&quot;TB&quot;</td><td>21</td><td>&quot;NE&quot;</td><td>16</td><td>&quot;Home&quot;</td><td>-5</td><td>37</td><td>0</td><td>2000090312</td><td>1000</td><td>null</td><td>&quot;200009030nwe&quot;</td><td>null</td><td>200903017</td><td>null</td><td>7</td><td>7</td><td>null</td><td>null</td><td>-3.0</td><td>null</td><td>null</td><td>36.0</td><td>null</td><td>null</td><td>0</td><td>&quot;outdoors&quot;</td><td>&quot;grass&quot;</td><td>71</td><td>5</td><td>&quot;00-0009266&quot;</td><td>&quot;00-0001361&quot;</td><td>&quot;Shaun King&quot;</td><td>&quot;Drew Bledsoe&quot;</td><td>&quot;Tony Dungy&quot;</td><td>&quot;Bill Belichick&quot;</td><td>&quot;Jeff Triplette&quot;</td><td>&quot;BOS99&quot;</td><td>&quot;Foxboro Stadium&quot;</td></tr><tr><td>&hellip;</td><td>&hellip;</td><td>&hellip;</td><td>&hellip;</td><td>&hellip;</td><td>&hellip;</td><td>&hellip;</td><td>&hellip;</td><td>&hellip;</td><td>&hellip;</td><td>&hellip;</td><td>&hellip;</td><td>&hellip;</td><td>&hellip;</td><td>&hellip;</td><td>&hellip;</td><td>&hellip;</td><td>&hellip;</td><td>&hellip;</td><td>&hellip;</td><td>&hellip;</td><td>&hellip;</td><td>&hellip;</td><td>&hellip;</td><td>&hellip;</td><td>&hellip;</td><td>&hellip;</td><td>&hellip;</td><td>&hellip;</td><td>&hellip;</td><td>&hellip;</td><td>&hellip;</td><td>&hellip;</td><td>&hellip;</td><td>&hellip;</td><td>&hellip;</td><td>&hellip;</td><td>&hellip;</td><td>&hellip;</td><td>&hellip;</td><td>&hellip;</td><td>&hellip;</td><td>&hellip;</td><td>&hellip;</td><td>&hellip;</td><td>&hellip;</td></tr><tr><td>&quot;2025_18_DAL_NYG&quot;</td><td>2025</td><td>&quot;REG&quot;</td><td>18</td><td>&quot;2026-01-04&quot;</td><td>&quot;Sunday&quot;</td><td>&quot;13:00&quot;</td><td>&quot;DAL&quot;</td><td>null</td><td>&quot;NYG&quot;</td><td>null</td><td>&quot;Home&quot;</td><td>null</td><td>null</td><td>null</td><td>2025010411</td><td>null</td><td>null</td><td>&quot;202501040nyg&quot;</td><td>&quot;28684&quot;</td><td>401772963</td><td>&quot;7001&quot;</td><td>6</td><td>6</td><td>null</td><td>null</td><td>null</td><td>null</td><td>null</td><td>null</td><td>null</td><td>null</td><td>1</td><td>&quot;outdoors&quot;</td><td>&quot;fieldturf&quot;</td><td>null</td><td>null</td><td>null</td><td>null</td><td>null</td><td>null</td><td>&quot;Brian Schottenheimer&quot;</td><td>&quot;Brian Daboll&quot;</td><td>null</td><td>&quot;NYC01&quot;</td><td>&quot;MetLife Stadium&quot;</td></tr><tr><td>&quot;2025_18_WAS_PHI&quot;</td><td>2025</td><td>&quot;REG&quot;</td><td>18</td><td>&quot;2026-01-04&quot;</td><td>&quot;Sunday&quot;</td><td>&quot;13:00&quot;</td><td>&quot;WAS&quot;</td><td>null</td><td>&quot;PHI&quot;</td><td>null</td><td>&quot;Home&quot;</td><td>null</td><td>null</td><td>null</td><td>2025010412</td><td>null</td><td>null</td><td>&quot;202501040phi&quot;</td><td>&quot;28685&quot;</td><td>401772959</td><td>&quot;7002&quot;</td><td>6</td><td>6</td><td>null</td><td>null</td><td>null</td><td>null</td><td>null</td><td>null</td><td>null</td><td>null</td><td>1</td><td>&quot;outdoors&quot;</td><td>&quot;grass&quot;</td><td>null</td><td>null</td><td>null</td><td>null</td><td>null</td><td>null</td><td>&quot;Dan Quinn&quot;</td><td>&quot;Nick Sirianni&quot;</td><td>null</td><td>&quot;PHI00&quot;</td><td>&quot;Lincoln Financial Field&quot;</td></tr><tr><td>&quot;2025_18_BAL_PIT&quot;</td><td>2025</td><td>&quot;REG&quot;</td><td>18</td><td>&quot;2026-01-04&quot;</td><td>&quot;Sunday&quot;</td><td>&quot;13:00&quot;</td><td>&quot;BAL&quot;</td><td>null</td><td>&quot;PIT&quot;</td><td>null</td><td>&quot;Home&quot;</td><td>null</td><td>null</td><td>null</td><td>2025010413</td><td>null</td><td>null</td><td>&quot;202501040pit&quot;</td><td>&quot;28686&quot;</td><td>401772960</td><td>&quot;7003&quot;</td><td>10</td><td>10</td><td>null</td><td>null</td><td>null</td><td>null</td><td>null</td><td>null</td><td>null</td><td>null</td><td>1</td><td>&quot;outdoors&quot;</td><td>&quot;grass&quot;</td><td>null</td><td>null</td><td>null</td><td>null</td><td>null</td><td>null</td><td>&quot;John Harbaugh&quot;</td><td>&quot;Mike Tomlin&quot;</td><td>null</td><td>&quot;PIT00&quot;</td><td>&quot;Acrisure Stadium&quot;</td></tr><tr><td>&quot;2025_18_SEA_SF&quot;</td><td>2025</td><td>&quot;REG&quot;</td><td>18</td><td>&quot;2026-01-04&quot;</td><td>&quot;Sunday&quot;</td><td>&quot;13:00&quot;</td><td>&quot;SEA&quot;</td><td>null</td><td>&quot;SF&quot;</td><td>null</td><td>&quot;Home&quot;</td><td>null</td><td>null</td><td>null</td><td>2025010414</td><td>null</td><td>null</td><td>&quot;202501040sfo&quot;</td><td>&quot;28687&quot;</td><td>401772961</td><td>&quot;7004&quot;</td><td>9</td><td>5</td><td>null</td><td>null</td><td>null</td><td>null</td><td>null</td><td>null</td><td>null</td><td>null</td><td>1</td><td>&quot;outdoors&quot;</td><td>&quot;grass&quot;</td><td>null</td><td>null</td><td>null</td><td>null</td><td>null</td><td>null</td><td>&quot;Mike Macdonald&quot;</td><td>&quot;Kyle Shanahan&quot;</td><td>null</td><td>&quot;SFO01&quot;</td><td>&quot;Levi&#x27;s Stadium&quot;</td></tr><tr><td>&quot;2025_18_CAR_TB&quot;</td><td>2025</td><td>&quot;REG&quot;</td><td>18</td><td>&quot;2026-01-04&quot;</td><td>&quot;Sunday&quot;</td><td>&quot;13:00&quot;</td><td>&quot;CAR&quot;</td><td>null</td><td>&quot;TB&quot;</td><td>null</td><td>&quot;Home&quot;</td><td>null</td><td>null</td><td>null</td><td>2025010415</td><td>null</td><td>null</td><td>&quot;202501040tam&quot;</td><td>&quot;28688&quot;</td><td>401772969</td><td>&quot;7005&quot;</td><td>6</td><td>6</td><td>null</td><td>null</td><td>null</td><td>null</td><td>null</td><td>null</td><td>null</td><td>null</td><td>1</td><td>&quot;outdoors&quot;</td><td>&quot;grass&quot;</td><td>null</td><td>null</td><td>null</td><td>null</td><td>null</td><td>null</td><td>&quot;Dave Canales&quot;</td><td>&quot;Todd Bowles&quot;</td><td>null</td><td>&quot;TAM00&quot;</td><td>&quot;Raymond James Stadium&quot;</td></tr></tbody></table></div>"
      ],
      "text/plain": [
       "shape: (7_004, 46)\n",
       "┌─────────────┬────────┬───────────┬──────┬───┬─────────────┬────────────┬────────────┬────────────┐\n",
       "│ game_id     ┆ season ┆ game_type ┆ week ┆ … ┆ home_coach  ┆ referee    ┆ stadium_id ┆ stadium    │\n",
       "│ ---         ┆ ---    ┆ ---       ┆ ---  ┆   ┆ ---         ┆ ---        ┆ ---        ┆ ---        │\n",
       "│ str         ┆ i64    ┆ str       ┆ i64  ┆   ┆ str         ┆ str        ┆ str        ┆ str        │\n",
       "╞═════════════╪════════╪═══════════╪══════╪═══╪═════════════╪════════════╪════════════╪════════════╡\n",
       "│ 2000_01_SF_ ┆ 2000   ┆ REG       ┆ 1    ┆ … ┆ Dan Reeves  ┆ Walt       ┆ ATL00      ┆ Georgia    │\n",
       "│ ATL         ┆        ┆           ┆      ┆   ┆             ┆ Coleman    ┆            ┆ Dome       │\n",
       "│ 2000_01_JAX ┆ 2000   ┆ REG       ┆ 1    ┆ … ┆ Chris       ┆ Bernie     ┆ CLE00      ┆ Cleveland  │\n",
       "│ _CLE        ┆        ┆           ┆      ┆   ┆ Palmer      ┆ Kukar      ┆            ┆ Browns     │\n",
       "│             ┆        ┆           ┆      ┆   ┆             ┆            ┆            ┆ Stadium    │\n",
       "│ 2000_01_IND ┆ 2000   ┆ REG       ┆ 1    ┆ … ┆ Gunther     ┆ Larry      ┆ KAN00      ┆ Arrowhead  │\n",
       "│ _KC         ┆        ┆           ┆      ┆   ┆ Cunningham  ┆ Nemmers    ┆            ┆ Stadium    │\n",
       "│ 2000_01_CHI ┆ 2000   ┆ REG       ┆ 1    ┆ … ┆ Dennis      ┆ Ed Hochuli ┆ MIN00      ┆ Hubert H.  │\n",
       "│ _MIN        ┆        ┆           ┆      ┆   ┆ Green       ┆            ┆            ┆ Humphrey   │\n",
       "│             ┆        ┆           ┆      ┆   ┆             ┆            ┆            ┆ Metrodome  │\n",
       "│ 2000_01_TB_ ┆ 2000   ┆ REG       ┆ 1    ┆ … ┆ Bill        ┆ Jeff       ┆ BOS99      ┆ Foxboro    │\n",
       "│ NE          ┆        ┆           ┆      ┆   ┆ Belichick   ┆ Triplette  ┆            ┆ Stadium    │\n",
       "│ …           ┆ …      ┆ …         ┆ …    ┆ … ┆ …           ┆ …          ┆ …          ┆ …          │\n",
       "│ 2025_18_DAL ┆ 2025   ┆ REG       ┆ 18   ┆ … ┆ Brian       ┆ null       ┆ NYC01      ┆ MetLife    │\n",
       "│ _NYG        ┆        ┆           ┆      ┆   ┆ Daboll      ┆            ┆            ┆ Stadium    │\n",
       "│ 2025_18_WAS ┆ 2025   ┆ REG       ┆ 18   ┆ … ┆ Nick        ┆ null       ┆ PHI00      ┆ Lincoln    │\n",
       "│ _PHI        ┆        ┆           ┆      ┆   ┆ Sirianni    ┆            ┆            ┆ Financial  │\n",
       "│             ┆        ┆           ┆      ┆   ┆             ┆            ┆            ┆ Field      │\n",
       "│ 2025_18_BAL ┆ 2025   ┆ REG       ┆ 18   ┆ … ┆ Mike Tomlin ┆ null       ┆ PIT00      ┆ Acrisure   │\n",
       "│ _PIT        ┆        ┆           ┆      ┆   ┆             ┆            ┆            ┆ Stadium    │\n",
       "│ 2025_18_SEA ┆ 2025   ┆ REG       ┆ 18   ┆ … ┆ Kyle        ┆ null       ┆ SFO01      ┆ Levi's     │\n",
       "│ _SF         ┆        ┆           ┆      ┆   ┆ Shanahan    ┆            ┆            ┆ Stadium    │\n",
       "│ 2025_18_CAR ┆ 2025   ┆ REG       ┆ 18   ┆ … ┆ Todd Bowles ┆ null       ┆ TAM00      ┆ Raymond    │\n",
       "│ _TB         ┆        ┆           ┆      ┆   ┆             ┆            ┆            ┆ James      │\n",
       "│             ┆        ┆           ┆      ┆   ┆             ┆            ┆            ┆ Stadium    │\n",
       "└─────────────┴────────┴───────────┴──────┴───┴─────────────┴────────────┴────────────┴────────────┘"
      ]
     },
     "execution_count": 7,
     "metadata": {},
     "output_type": "execute_result"
    }
   ],
   "source": [
    "schedule_raw = nfl.load_schedules(years)\n",
    "#schedule.to_sql('schedule', conn, if_exists='replace', index=False)\n",
    "con.execute(\"CREATE OR REPLACE TABLE schedule AS SELECT * FROM schedule_raw\")\n",
    "schedule_raw"
   ]
  },
  {
   "cell_type": "code",
   "execution_count": 8,
   "metadata": {},
   "outputs": [
    {
     "data": {
      "application/vnd.jupyter.widget-view+json": {
       "model_id": "68b94f2050d04ab88c2eef56273aecbc",
       "version_major": 2,
       "version_minor": 0
      },
      "text/plain": [
       "FloatProgress(value=0.0, layout=Layout(width='auto'), style=ProgressStyle(bar_color='black'))"
      ]
     },
     "metadata": {},
     "output_type": "display_data"
    },
    {
     "data": {
      "text/plain": [
       "<duckdb.duckdb.DuckDBPyConnection at 0x2338411c5f0>"
      ]
     },
     "execution_count": 8,
     "metadata": {},
     "output_type": "execute_result"
    }
   ],
   "source": [
    "weekly_raw = nfl.load_player_stats(range(2000,end_year))\n",
    "weekly_raw.write_parquet('data/weekly.parquet')\n",
    "con.execute(\"\"\"CREATE OR REPLACE TABLE weekly AS \n",
    "select schedule.game_id, schedule.gameday, weekly_raw.* from weekly_raw\n",
    "join schedule ON\n",
    "schedule.season = weekly_raw.season\n",
    "and schedule.week = weekly_raw.week\n",
    "and (schedule.home_team = weekly_raw.team\n",
    "or schedule.away_team = weekly_raw.team)\n",
    "            \"\"\")"
   ]
  },
  {
   "cell_type": "code",
   "execution_count": 9,
   "metadata": {},
   "outputs": [
    {
     "data": {
      "text/html": [
       "<div>\n",
       "<style scoped>\n",
       "    .dataframe tbody tr th:only-of-type {\n",
       "        vertical-align: middle;\n",
       "    }\n",
       "\n",
       "    .dataframe tbody tr th {\n",
       "        vertical-align: top;\n",
       "    }\n",
       "\n",
       "    .dataframe thead th {\n",
       "        text-align: right;\n",
       "    }\n",
       "</style>\n",
       "<table border=\"1\" class=\"dataframe\">\n",
       "  <thead>\n",
       "    <tr style=\"text-align: right;\">\n",
       "      <th></th>\n",
       "      <th>game_id</th>\n",
       "      <th>gameday</th>\n",
       "      <th>player_id</th>\n",
       "      <th>player_name</th>\n",
       "      <th>player_display_name</th>\n",
       "      <th>position</th>\n",
       "      <th>position_group</th>\n",
       "      <th>headshot_url</th>\n",
       "      <th>season</th>\n",
       "      <th>week</th>\n",
       "      <th>season_type</th>\n",
       "      <th>team</th>\n",
       "      <th>opponent_team</th>\n",
       "      <th>completions</th>\n",
       "      <th>attempts</th>\n",
       "      <th>...</th>\n",
       "      <th>fg_made_distance</th>\n",
       "      <th>fg_missed_distance</th>\n",
       "      <th>fg_blocked_distance</th>\n",
       "      <th>pat_made</th>\n",
       "      <th>pat_att</th>\n",
       "      <th>pat_missed</th>\n",
       "      <th>pat_blocked</th>\n",
       "      <th>pat_pct</th>\n",
       "      <th>gwfg_made</th>\n",
       "      <th>gwfg_att</th>\n",
       "      <th>gwfg_missed</th>\n",
       "      <th>gwfg_blocked</th>\n",
       "      <th>gwfg_distance</th>\n",
       "      <th>fantasy_points</th>\n",
       "      <th>fantasy_points_ppr</th>\n",
       "    </tr>\n",
       "  </thead>\n",
       "  <tbody>\n",
       "    <tr>\n",
       "      <th>0</th>\n",
       "      <td>2000_01_IND_KC</td>\n",
       "      <td>2000-09-03</td>\n",
       "      <td>00-0019726</td>\n",
       "      <td>S.Morris</td>\n",
       "      <td>Sylvester Morris</td>\n",
       "      <td>WR</td>\n",
       "      <td>WR</td>\n",
       "      <td>https://static.www.nfl.com/image/private/f_aut...</td>\n",
       "      <td>2000</td>\n",
       "      <td>1</td>\n",
       "      <td>REG</td>\n",
       "      <td>KC</td>\n",
       "      <td>IND</td>\n",
       "      <td>0</td>\n",
       "      <td>0</td>\n",
       "      <td>...</td>\n",
       "      <td>0</td>\n",
       "      <td>0</td>\n",
       "      <td>0</td>\n",
       "      <td>0</td>\n",
       "      <td>0</td>\n",
       "      <td>0</td>\n",
       "      <td>0</td>\n",
       "      <td>NaN</td>\n",
       "      <td>0</td>\n",
       "      <td>0</td>\n",
       "      <td>0</td>\n",
       "      <td>0</td>\n",
       "      <td>0</td>\n",
       "      <td>5.8</td>\n",
       "      <td>8.8</td>\n",
       "    </tr>\n",
       "    <tr>\n",
       "      <th>1</th>\n",
       "      <td>2000_05_SEA_KC</td>\n",
       "      <td>2000-10-02</td>\n",
       "      <td>00-0019726</td>\n",
       "      <td>S.Morris</td>\n",
       "      <td>Sylvester Morris</td>\n",
       "      <td>WR</td>\n",
       "      <td>WR</td>\n",
       "      <td>https://static.www.nfl.com/image/private/f_aut...</td>\n",
       "      <td>2000</td>\n",
       "      <td>5</td>\n",
       "      <td>REG</td>\n",
       "      <td>KC</td>\n",
       "      <td>SEA</td>\n",
       "      <td>0</td>\n",
       "      <td>0</td>\n",
       "      <td>...</td>\n",
       "      <td>0</td>\n",
       "      <td>0</td>\n",
       "      <td>0</td>\n",
       "      <td>0</td>\n",
       "      <td>0</td>\n",
       "      <td>0</td>\n",
       "      <td>0</td>\n",
       "      <td>NaN</td>\n",
       "      <td>0</td>\n",
       "      <td>0</td>\n",
       "      <td>0</td>\n",
       "      <td>0</td>\n",
       "      <td>0</td>\n",
       "      <td>4.0</td>\n",
       "      <td>7.0</td>\n",
       "    </tr>\n",
       "  </tbody>\n",
       "</table>\n",
       "<p>2 rows × 116 columns</p>\n",
       "</div>"
      ],
      "text/plain": [
       "          game_id     gameday   player_id player_name player_display_name  \\\n",
       "0  2000_01_IND_KC  2000-09-03  00-0019726    S.Morris    Sylvester Morris   \n",
       "1  2000_05_SEA_KC  2000-10-02  00-0019726    S.Morris    Sylvester Morris   \n",
       "\n",
       "  position position_group                                       headshot_url  \\\n",
       "0       WR             WR  https://static.www.nfl.com/image/private/f_aut...   \n",
       "1       WR             WR  https://static.www.nfl.com/image/private/f_aut...   \n",
       "\n",
       "   season  week season_type team opponent_team  completions  attempts  ...  \\\n",
       "0    2000     1         REG   KC           IND            0         0  ...   \n",
       "1    2000     5         REG   KC           SEA            0         0  ...   \n",
       "\n",
       "   fg_made_distance  fg_missed_distance  fg_blocked_distance  pat_made  \\\n",
       "0                 0                   0                    0         0   \n",
       "1                 0                   0                    0         0   \n",
       "\n",
       "   pat_att  pat_missed  pat_blocked  pat_pct  gwfg_made  gwfg_att  \\\n",
       "0        0           0            0      NaN          0         0   \n",
       "1        0           0            0      NaN          0         0   \n",
       "\n",
       "   gwfg_missed  gwfg_blocked  gwfg_distance  fantasy_points  \\\n",
       "0            0             0              0             5.8   \n",
       "1            0             0              0             4.0   \n",
       "\n",
       "   fantasy_points_ppr  \n",
       "0                 8.8  \n",
       "1                 7.0  \n",
       "\n",
       "[2 rows x 116 columns]"
      ]
     },
     "execution_count": 9,
     "metadata": {},
     "output_type": "execute_result"
    }
   ],
   "source": [
    "con.execute(\"select * from weekly order by  season limit 2\").df()"
   ]
  },
  {
   "cell_type": "code",
   "execution_count": 10,
   "metadata": {},
   "outputs": [],
   "source": [
    "pbp_raw = nfl.load_pbp(years)"
   ]
  },
  {
   "cell_type": "code",
   "execution_count": 11,
   "metadata": {},
   "outputs": [],
   "source": [
    "pbp_raw.write_parquet('data/pbp.parquet')"
   ]
  },
  {
   "cell_type": "code",
   "execution_count": 12,
   "metadata": {},
   "outputs": [
    {
     "data": {
      "application/vnd.jupyter.widget-view+json": {
       "model_id": "eb77681e904f47e5b48e1244853011af",
       "version_major": 2,
       "version_minor": 0
      },
      "text/plain": [
       "FloatProgress(value=0.0, layout=Layout(width='auto'), style=ProgressStyle(bar_color='black'))"
      ]
     },
     "metadata": {},
     "output_type": "display_data"
    },
    {
     "data": {
      "text/plain": [
       "<duckdb.duckdb.DuckDBPyConnection at 0x2338411c5f0>"
      ]
     },
     "execution_count": 12,
     "metadata": {},
     "output_type": "execute_result"
    }
   ],
   "source": [
    "#pbp.write_database('pbp', 'sqlite:///data/nfl.db', if_table_exists='replace')\n",
    "con.execute(\"CREATE OR REPLACE TABLE pbp AS SELECT * FROM pbp_raw\")"
   ]
  },
  {
   "cell_type": "code",
   "execution_count": 13,
   "metadata": {},
   "outputs": [
    {
     "data": {
      "text/plain": [
       "<duckdb.duckdb.DuckDBPyConnection at 0x2338411c5f0>"
      ]
     },
     "execution_count": 13,
     "metadata": {},
     "output_type": "execute_result"
    }
   ],
   "source": [
    "rosters_raw = nfl.load_rosters(range(2002,end_year))\n",
    "con.execute(\"CREATE OR REPLACE TABLE rosters AS SELECT * FROM rosters_raw\")"
   ]
  },
  {
   "cell_type": "code",
   "execution_count": 14,
   "metadata": {},
   "outputs": [
    {
     "data": {
      "text/plain": [
       "<duckdb.duckdb.DuckDBPyConnection at 0x2338411c5f0>"
      ]
     },
     "execution_count": 14,
     "metadata": {},
     "output_type": "execute_result"
    }
   ],
   "source": [
    "ids_raw = nfl.load_ff_playerids()\n",
    "con.execute(\"CREATE OR REPLACE TABLE ids AS SELECT * FROM ids_raw\")"
   ]
  },
  {
   "cell_type": "code",
   "execution_count": 34,
   "metadata": {},
   "outputs": [
    {
     "data": {
      "text/plain": [
       "<duckdb.duckdb.DuckDBPyConnection at 0x233ad5684b0>"
      ]
     },
     "execution_count": 34,
     "metadata": {},
     "output_type": "execute_result"
    }
   ],
   "source": [
    "snaps_raw = nfl.load_snap_counts(range(2012,end_year))\n",
    "team_map = {'OAK':'LV',\n",
    "            'STL':'LA',\n",
    "            'SD':'LAC'}\n",
    "snaps_raw = snaps_raw.to_pandas()  # temporarily convert\n",
    "snaps_raw['team'] = snaps_raw['team'].map(lambda x: team_map.get(x,x))\n",
    "snaps_raw = pl.from_pandas(snaps_raw)\n",
    "#snaps.to_sql('snaps', conn, if_exists='replace', index=False)\n",
    "con.execute(\"CREATE OR REPLACE TABLE snaps AS SELECT * FROM snaps_raw\")"
   ]
  },
  {
   "cell_type": "code",
   "execution_count": 67,
   "metadata": {},
   "outputs": [
    {
     "data": {
      "text/plain": [
       "<duckdb.duckdb.DuckDBPyConnection at 0x233ad4a71b0>"
      ]
     },
     "execution_count": 67,
     "metadata": {},
     "output_type": "execute_result"
    }
   ],
   "source": [
    "con.execute(\"\"\"drop table depth\"\"\")"
   ]
  },
  {
   "cell_type": "code",
   "execution_count": 68,
   "metadata": {},
   "outputs": [
    {
     "ename": "CatalogException",
     "evalue": "Catalog Error: Table with name depth does not exist!\nDid you mean \"nfl.depth\"?\nLINE 1: select * from depth\n                      ^",
     "output_type": "error",
     "traceback": [
      "\u001b[1;31m---------------------------------------------------------------------------\u001b[0m",
      "\u001b[1;31mCatalogException\u001b[0m                          Traceback (most recent call last)",
      "Cell \u001b[1;32mIn[68], line 1\u001b[0m\n\u001b[1;32m----> 1\u001b[0m \u001b[43mcon\u001b[49m\u001b[38;5;241;43m.\u001b[39;49m\u001b[43mexecute\u001b[49m\u001b[43m(\u001b[49m\u001b[38;5;124;43m\"\"\"\u001b[39;49m\u001b[38;5;124;43mselect * from depth\u001b[39;49m\u001b[38;5;124;43m\"\"\"\u001b[39;49m\u001b[43m)\u001b[49m\u001b[38;5;241m.\u001b[39mfetchdf()\n",
      "\u001b[1;31mCatalogException\u001b[0m: Catalog Error: Table with name depth does not exist!\nDid you mean \"nfl.depth\"?\nLINE 1: select * from depth\n                      ^"
     ]
    }
   ],
   "source": [
    "con.execute(\"\"\"select * from depth\"\"\").fetchdf()"
   ]
  },
  {
   "cell_type": "code",
   "execution_count": 86,
   "metadata": {},
   "outputs": [
    {
     "data": {
      "application/vnd.jupyter.widget-view+json": {
       "model_id": "646643206c084cb78f72bf64519fba7f",
       "version_major": 2,
       "version_minor": 0
      },
      "text/plain": [
       "FloatProgress(value=0.0, layout=Layout(width='auto'), style=ProgressStyle(bar_color='black'))"
      ]
     },
     "metadata": {},
     "output_type": "display_data"
    },
    {
     "data": {
      "text/html": [
       "<div>\n",
       "<style scoped>\n",
       "    .dataframe tbody tr th:only-of-type {\n",
       "        vertical-align: middle;\n",
       "    }\n",
       "\n",
       "    .dataframe tbody tr th {\n",
       "        vertical-align: top;\n",
       "    }\n",
       "\n",
       "    .dataframe thead th {\n",
       "        text-align: right;\n",
       "    }\n",
       "</style>\n",
       "<table border=\"1\" class=\"dataframe\">\n",
       "  <thead>\n",
       "    <tr style=\"text-align: right;\">\n",
       "      <th></th>\n",
       "      <th>Count</th>\n",
       "    </tr>\n",
       "  </thead>\n",
       "  <tbody>\n",
       "    <tr>\n",
       "      <th>0</th>\n",
       "      <td>768442</td>\n",
       "    </tr>\n",
       "  </tbody>\n",
       "</table>\n",
       "</div>"
      ],
      "text/plain": [
       "    Count\n",
       "0  768442"
      ]
     },
     "execution_count": 86,
     "metadata": {},
     "output_type": "execute_result"
    }
   ],
   "source": [
    "depth_result = nfl.load_depth_charts(range(2001,end_year)).unique()\n",
    "con.register(\"depth_result\", depth_result)\n",
    "con.execute(\"\"\"drop table if exists depth\"\"\")\n",
    "con.execute(\"\"\"\n",
    "create or replace table depth as (\n",
    "with current as (\n",
    "\tselect s.gameday, s.game_id,\n",
    "\tROW_NUMBER() OVER (PARTITION BY d.team, d.gsis_id, d.pos_grp, s.gameday ORDER BY d.dt DESC) as row_num,\n",
    "\td.player_name, d.team, d.gsis_id, d.pos_abb, d.pos_rank, dt, \n",
    "\tcase when d.pos_grp = 'Base 4-3 D' then 'Defense'\n",
    "\t\twhen d.pos_grp = 'Base 3-4 D' then 'Defense'\n",
    "\t\twhen d.pos_grp = '3WR 1TE' then 'Offense'\n",
    "\t\telse d.pos_grp end as formation\n",
    "\tfrom depth_result as d\n",
    "\tjoin schedule as s on (s.home_team = d.team\n",
    "\tor s.away_team = d.team)\n",
    "\tand d.dt <= s.gameday\n",
    "\tand cast(d.dt as date ) >= cast(s.gameday as date) - INTERVAL 5 DAY\n",
    "\twhere dt > '2025-07-01'\n",
    "),\n",
    "pre2025 as (\n",
    "\tselect s.gameday, s.game_id,\n",
    "\td.football_name as player_name, d.club_code as team, d.gsis_id,\n",
    "\t case when d.depth_position ilike  '%\\n%' then d.position else d.depth_position end as pos_abb,\n",
    " d.depth_team as pos_rank, d.formation\n",
    "\tfrom depth_result as d\n",
    "\tjoin schedule as s on (s.home_team = d.club_code\n",
    "\tor s.away_team = d.club_code)\n",
    "\tand d.season = s.season\n",
    "\tand d.week = s.week\n",
    "\tand d.game_type = s.game_type\n",
    "),\n",
    "combined as (\n",
    "select gameday, game_id, player_name, team, gsis_id, pos_abb as position, pos_rank, formation\n",
    "from current \n",
    "where row_num = 1\n",
    "and formation = 'Offense'\n",
    "union\n",
    "select gameday, game_id, player_name, team, gsis_id, pos_abb as position, pos_rank, formation\n",
    "from pre2025\n",
    ")\n",
    "select *,SPLIT_PART(game_id, '_', 1)::int as season,\n",
    "        SPLIT_PART(game_id, '_', 2)::int as week,\n",
    "                     ROW_NUMBER() OVER (\n",
    "           PARTITION BY team, game_id, position, formation\n",
    "           ORDER BY game_id, team, pos_rank\n",
    "       ) - 1 AS dense_depth\n",
    "from combined\n",
    ")\n",
    "\"\"\").fetchdf()\n",
    "\n",
    "#\"\"\"\n",
    "#team_map = {'OAK':'LV',\n",
    "#            'STL':'LA',\n",
    "#            'SD':'LAC'}\n",
    "#\"\"\""
   ]
  },
  {
   "cell_type": "code",
   "execution_count": 76,
   "metadata": {},
   "outputs": [
    {
     "data": {
      "text/html": [
       "<div>\n",
       "<style scoped>\n",
       "    .dataframe tbody tr th:only-of-type {\n",
       "        vertical-align: middle;\n",
       "    }\n",
       "\n",
       "    .dataframe tbody tr th {\n",
       "        vertical-align: top;\n",
       "    }\n",
       "\n",
       "    .dataframe thead th {\n",
       "        text-align: right;\n",
       "    }\n",
       "</style>\n",
       "<table border=\"1\" class=\"dataframe\">\n",
       "  <thead>\n",
       "    <tr style=\"text-align: right;\">\n",
       "      <th></th>\n",
       "      <th>gameday</th>\n",
       "      <th>game_id</th>\n",
       "      <th>player_name</th>\n",
       "      <th>team</th>\n",
       "      <th>gsis_id</th>\n",
       "      <th>position</th>\n",
       "      <th>pos_rank</th>\n",
       "      <th>formation</th>\n",
       "      <th>dense_depth</th>\n",
       "    </tr>\n",
       "  </thead>\n",
       "  <tbody>\n",
       "    <tr>\n",
       "      <th>0</th>\n",
       "      <td>2024-09-30</td>\n",
       "      <td>2024_04_TEN_MIA</td>\n",
       "      <td>Skylar</td>\n",
       "      <td>MIA</td>\n",
       "      <td>00-0037327</td>\n",
       "      <td>QB</td>\n",
       "      <td>1</td>\n",
       "      <td>Offense</td>\n",
       "      <td>0</td>\n",
       "    </tr>\n",
       "    <tr>\n",
       "      <th>1</th>\n",
       "      <td>2024-09-30</td>\n",
       "      <td>2024_04_TEN_MIA</td>\n",
       "      <td>Tyler</td>\n",
       "      <td>MIA</td>\n",
       "      <td>00-0035993</td>\n",
       "      <td>QB</td>\n",
       "      <td>2</td>\n",
       "      <td>Offense</td>\n",
       "      <td>1</td>\n",
       "    </tr>\n",
       "  </tbody>\n",
       "</table>\n",
       "</div>"
      ],
      "text/plain": [
       "      gameday          game_id player_name team     gsis_id position pos_rank  \\\n",
       "0  2024-09-30  2024_04_TEN_MIA      Skylar  MIA  00-0037327       QB        1   \n",
       "1  2024-09-30  2024_04_TEN_MIA       Tyler  MIA  00-0035993       QB        2   \n",
       "\n",
       "  formation  dense_depth  \n",
       "0   Offense            0  \n",
       "1   Offense            1  "
      ]
     },
     "execution_count": 76,
     "metadata": {},
     "output_type": "execute_result"
    }
   ],
   "source": [
    "con.execute(\"select * from depth where team ='MIA' and game_id ilike '2024_04%' and position = 'QB' \").df()"
   ]
  },
  {
   "cell_type": "code",
   "execution_count": 77,
   "metadata": {},
   "outputs": [
    {
     "data": {
      "text/html": [
       "<div>\n",
       "<style scoped>\n",
       "    .dataframe tbody tr th:only-of-type {\n",
       "        vertical-align: middle;\n",
       "    }\n",
       "\n",
       "    .dataframe tbody tr th {\n",
       "        vertical-align: top;\n",
       "    }\n",
       "\n",
       "    .dataframe thead th {\n",
       "        text-align: right;\n",
       "    }\n",
       "</style>\n",
       "<table border=\"1\" class=\"dataframe\">\n",
       "  <thead>\n",
       "    <tr style=\"text-align: right;\">\n",
       "      <th></th>\n",
       "      <th>gameday</th>\n",
       "      <th>game_id</th>\n",
       "      <th>season</th>\n",
       "      <th>game_type</th>\n",
       "      <th>week</th>\n",
       "      <th>gameday_1</th>\n",
       "      <th>weekday</th>\n",
       "      <th>gametime</th>\n",
       "      <th>away_team</th>\n",
       "      <th>away_score</th>\n",
       "      <th>home_team</th>\n",
       "      <th>home_score</th>\n",
       "      <th>location</th>\n",
       "      <th>result</th>\n",
       "      <th>total</th>\n",
       "      <th>...</th>\n",
       "      <th>over_odds</th>\n",
       "      <th>div_game</th>\n",
       "      <th>roof</th>\n",
       "      <th>surface</th>\n",
       "      <th>temp</th>\n",
       "      <th>wind</th>\n",
       "      <th>away_qb_id</th>\n",
       "      <th>home_qb_id</th>\n",
       "      <th>away_qb_name</th>\n",
       "      <th>home_qb_name</th>\n",
       "      <th>away_coach</th>\n",
       "      <th>home_coach</th>\n",
       "      <th>referee</th>\n",
       "      <th>stadium_id</th>\n",
       "      <th>stadium</th>\n",
       "    </tr>\n",
       "  </thead>\n",
       "  <tbody>\n",
       "    <tr>\n",
       "      <th>211</th>\n",
       "      <td>2025-11-30</td>\n",
       "      <td>2025_13_NO_MIA</td>\n",
       "      <td>2025</td>\n",
       "      <td>REG</td>\n",
       "      <td>13</td>\n",
       "      <td>2025-11-30</td>\n",
       "      <td>Sunday</td>\n",
       "      <td>13:00</td>\n",
       "      <td>NO</td>\n",
       "      <td>NaN</td>\n",
       "      <td>MIA</td>\n",
       "      <td>NaN</td>\n",
       "      <td>Home</td>\n",
       "      <td>NaN</td>\n",
       "      <td>NaN</td>\n",
       "      <td>...</td>\n",
       "      <td>None</td>\n",
       "      <td>0</td>\n",
       "      <td>outdoors</td>\n",
       "      <td>grass</td>\n",
       "      <td>NaN</td>\n",
       "      <td>NaN</td>\n",
       "      <td>None</td>\n",
       "      <td>None</td>\n",
       "      <td>None</td>\n",
       "      <td>None</td>\n",
       "      <td>Kellen Moore</td>\n",
       "      <td>Mike McDaniel</td>\n",
       "      <td>None</td>\n",
       "      <td>MIA00</td>\n",
       "      <td>Hard Rock Stadium</td>\n",
       "    </tr>\n",
       "    <tr>\n",
       "      <th>212</th>\n",
       "      <td>2025-12-21</td>\n",
       "      <td>2025_16_CIN_MIA</td>\n",
       "      <td>2025</td>\n",
       "      <td>REG</td>\n",
       "      <td>16</td>\n",
       "      <td>2025-12-21</td>\n",
       "      <td>Sunday</td>\n",
       "      <td>20:20</td>\n",
       "      <td>CIN</td>\n",
       "      <td>NaN</td>\n",
       "      <td>MIA</td>\n",
       "      <td>NaN</td>\n",
       "      <td>Home</td>\n",
       "      <td>NaN</td>\n",
       "      <td>NaN</td>\n",
       "      <td>...</td>\n",
       "      <td>None</td>\n",
       "      <td>0</td>\n",
       "      <td>outdoors</td>\n",
       "      <td>grass</td>\n",
       "      <td>NaN</td>\n",
       "      <td>NaN</td>\n",
       "      <td>None</td>\n",
       "      <td>None</td>\n",
       "      <td>None</td>\n",
       "      <td>None</td>\n",
       "      <td>Zac Taylor</td>\n",
       "      <td>Mike McDaniel</td>\n",
       "      <td>None</td>\n",
       "      <td>MIA00</td>\n",
       "      <td>Hard Rock Stadium</td>\n",
       "    </tr>\n",
       "    <tr>\n",
       "      <th>213</th>\n",
       "      <td>2025-12-28</td>\n",
       "      <td>2025_17_TB_MIA</td>\n",
       "      <td>2025</td>\n",
       "      <td>REG</td>\n",
       "      <td>17</td>\n",
       "      <td>2025-12-28</td>\n",
       "      <td>Sunday</td>\n",
       "      <td>13:00</td>\n",
       "      <td>TB</td>\n",
       "      <td>NaN</td>\n",
       "      <td>MIA</td>\n",
       "      <td>NaN</td>\n",
       "      <td>Home</td>\n",
       "      <td>NaN</td>\n",
       "      <td>NaN</td>\n",
       "      <td>...</td>\n",
       "      <td>None</td>\n",
       "      <td>0</td>\n",
       "      <td>outdoors</td>\n",
       "      <td>grass</td>\n",
       "      <td>NaN</td>\n",
       "      <td>NaN</td>\n",
       "      <td>None</td>\n",
       "      <td>None</td>\n",
       "      <td>None</td>\n",
       "      <td>None</td>\n",
       "      <td>Todd Bowles</td>\n",
       "      <td>Mike McDaniel</td>\n",
       "      <td>None</td>\n",
       "      <td>MIA00</td>\n",
       "      <td>Hard Rock Stadium</td>\n",
       "    </tr>\n",
       "  </tbody>\n",
       "</table>\n",
       "<p>3 rows × 47 columns</p>\n",
       "</div>"
      ],
      "text/plain": [
       "        gameday          game_id  season game_type  week   gameday_1 weekday  \\\n",
       "211  2025-11-30   2025_13_NO_MIA    2025       REG    13  2025-11-30  Sunday   \n",
       "212  2025-12-21  2025_16_CIN_MIA    2025       REG    16  2025-12-21  Sunday   \n",
       "213  2025-12-28   2025_17_TB_MIA    2025       REG    17  2025-12-28  Sunday   \n",
       "\n",
       "    gametime away_team  away_score home_team  home_score location  result  \\\n",
       "211    13:00        NO         NaN       MIA         NaN     Home     NaN   \n",
       "212    20:20       CIN         NaN       MIA         NaN     Home     NaN   \n",
       "213    13:00        TB         NaN       MIA         NaN     Home     NaN   \n",
       "\n",
       "     total  ...  over_odds  div_game      roof surface temp wind  away_qb_id  \\\n",
       "211    NaN  ...       None         0  outdoors   grass  NaN  NaN        None   \n",
       "212    NaN  ...       None         0  outdoors   grass  NaN  NaN        None   \n",
       "213    NaN  ...       None         0  outdoors   grass  NaN  NaN        None   \n",
       "\n",
       "    home_qb_id  away_qb_name  home_qb_name    away_coach     home_coach  \\\n",
       "211       None          None          None  Kellen Moore  Mike McDaniel   \n",
       "212       None          None          None    Zac Taylor  Mike McDaniel   \n",
       "213       None          None          None   Todd Bowles  Mike McDaniel   \n",
       "\n",
       "     referee stadium_id            stadium  \n",
       "211     None      MIA00  Hard Rock Stadium  \n",
       "212     None      MIA00  Hard Rock Stadium  \n",
       "213     None      MIA00  Hard Rock Stadium  \n",
       "\n",
       "[3 rows x 47 columns]"
      ]
     },
     "execution_count": 77,
     "metadata": {},
     "output_type": "execute_result"
    }
   ],
   "source": [
    "con.execute(\"select gameday, * from schedule where home_team = 'MIA'\").df().tail(3)"
   ]
  },
  {
   "cell_type": "code",
   "execution_count": 87,
   "metadata": {},
   "outputs": [],
   "source": [
    "con.close()"
   ]
  },
  {
   "cell_type": "code",
   "execution_count": 27,
   "metadata": {},
   "outputs": [
    {
     "data": {
      "text/html": [
       "<div>\n",
       "<style scoped>\n",
       "    .dataframe tbody tr th:only-of-type {\n",
       "        vertical-align: middle;\n",
       "    }\n",
       "\n",
       "    .dataframe tbody tr th {\n",
       "        vertical-align: top;\n",
       "    }\n",
       "\n",
       "    .dataframe thead th {\n",
       "        text-align: right;\n",
       "    }\n",
       "</style>\n",
       "<table border=\"1\" class=\"dataframe\">\n",
       "  <thead>\n",
       "    <tr style=\"text-align: right;\">\n",
       "      <th></th>\n",
       "      <th>season</th>\n",
       "      <th>club_code</th>\n",
       "      <th>week</th>\n",
       "      <th>game_type</th>\n",
       "      <th>depth_team</th>\n",
       "      <th>last_name</th>\n",
       "      <th>first_name</th>\n",
       "      <th>football_name</th>\n",
       "      <th>formation</th>\n",
       "      <th>gsis_id</th>\n",
       "      <th>jersey_number</th>\n",
       "      <th>position</th>\n",
       "      <th>elias_id</th>\n",
       "      <th>depth_position</th>\n",
       "      <th>full_name</th>\n",
       "      <th>dt</th>\n",
       "      <th>team</th>\n",
       "      <th>player_name</th>\n",
       "      <th>espn_id</th>\n",
       "      <th>pos_grp_id</th>\n",
       "      <th>pos_grp</th>\n",
       "      <th>pos_id</th>\n",
       "      <th>pos_name</th>\n",
       "      <th>pos_abb</th>\n",
       "      <th>pos_slot</th>\n",
       "      <th>pos_rank</th>\n",
       "    </tr>\n",
       "  </thead>\n",
       "  <tbody>\n",
       "    <tr>\n",
       "      <th>445887</th>\n",
       "      <td>2024.0</td>\n",
       "      <td>MIA</td>\n",
       "      <td>4.0</td>\n",
       "      <td>REG</td>\n",
       "      <td>1</td>\n",
       "      <td>Thompson</td>\n",
       "      <td>Skylar</td>\n",
       "      <td>Skylar</td>\n",
       "      <td>Offense</td>\n",
       "      <td>00-0037327</td>\n",
       "      <td>19</td>\n",
       "      <td>QB</td>\n",
       "      <td>THO688036</td>\n",
       "      <td>QB</td>\n",
       "      <td>Skylar Thompson</td>\n",
       "      <td>None</td>\n",
       "      <td>None</td>\n",
       "      <td>None</td>\n",
       "      <td>None</td>\n",
       "      <td>None</td>\n",
       "      <td>None</td>\n",
       "      <td>None</td>\n",
       "      <td>None</td>\n",
       "      <td>None</td>\n",
       "      <td>NaN</td>\n",
       "      <td>NaN</td>\n",
       "    </tr>\n",
       "    <tr>\n",
       "      <th>502417</th>\n",
       "      <td>2024.0</td>\n",
       "      <td>MIA</td>\n",
       "      <td>4.0</td>\n",
       "      <td>REG</td>\n",
       "      <td>2</td>\n",
       "      <td>Huntley</td>\n",
       "      <td>Tyler</td>\n",
       "      <td>Tyler</td>\n",
       "      <td>Offense</td>\n",
       "      <td>00-0035993</td>\n",
       "      <td>18</td>\n",
       "      <td>QB</td>\n",
       "      <td>HUN827417</td>\n",
       "      <td>QB</td>\n",
       "      <td>Tyler Huntley</td>\n",
       "      <td>None</td>\n",
       "      <td>None</td>\n",
       "      <td>None</td>\n",
       "      <td>None</td>\n",
       "      <td>None</td>\n",
       "      <td>None</td>\n",
       "      <td>None</td>\n",
       "      <td>None</td>\n",
       "      <td>None</td>\n",
       "      <td>NaN</td>\n",
       "      <td>NaN</td>\n",
       "    </tr>\n",
       "  </tbody>\n",
       "</table>\n",
       "</div>"
      ],
      "text/plain": [
       "        season club_code  week game_type depth_team last_name first_name  \\\n",
       "445887  2024.0       MIA   4.0       REG          1  Thompson     Skylar   \n",
       "502417  2024.0       MIA   4.0       REG          2   Huntley      Tyler   \n",
       "\n",
       "       football_name formation     gsis_id jersey_number position   elias_id  \\\n",
       "445887        Skylar   Offense  00-0037327            19       QB  THO688036   \n",
       "502417         Tyler   Offense  00-0035993            18       QB  HUN827417   \n",
       "\n",
       "       depth_position        full_name    dt  team player_name espn_id  \\\n",
       "445887             QB  Skylar Thompson  None  None        None    None   \n",
       "502417             QB    Tyler Huntley  None  None        None    None   \n",
       "\n",
       "       pos_grp_id pos_grp pos_id pos_name pos_abb  pos_slot  pos_rank  \n",
       "445887       None    None   None     None    None       NaN       NaN  \n",
       "502417       None    None   None     None    None       NaN       NaN  "
      ]
     },
     "execution_count": 27,
     "metadata": {},
     "output_type": "execute_result"
    }
   ],
   "source": [
    "dep = depth_result.to_pandas()\n",
    "dep.loc[(dep.season==2024) &\n",
    "                  (dep.week==4) &\n",
    "                  (dep.club_code=='MIA')\n",
    "                  & (dep.position=='QB')]"
   ]
  },
  {
   "cell_type": "code",
   "execution_count": null,
   "metadata": {},
   "outputs": [],
   "source": []
  }
 ],
 "metadata": {
  "kernelspec": {
   "display_name": "nfl_sim",
   "language": "python",
   "name": "python3"
  },
  "language_info": {
   "codemirror_mode": {
    "name": "ipython",
    "version": 3
   },
   "file_extension": ".py",
   "mimetype": "text/x-python",
   "name": "python",
   "nbconvert_exporter": "python",
   "pygments_lexer": "ipython3",
   "version": "3.12.2"
  }
 },
 "nbformat": 4,
 "nbformat_minor": 2
}
