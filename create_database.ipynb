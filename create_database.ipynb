{
 "cells": [
  {
   "cell_type": "code",
   "execution_count": 4,
   "metadata": {},
   "outputs": [],
   "source": [
    "import nflreadpy as nfl\n",
    "import pandas as pd\n",
    "import duckdb\n",
    "import polars as pl\n",
    "pd.set_option('display.max_columns',30)"
   ]
  },
  {
   "cell_type": "code",
   "execution_count": 5,
   "metadata": {},
   "outputs": [],
   "source": [
    "con = duckdb.connect(\"data/nfl.duckdb\")"
   ]
  },
  {
   "cell_type": "code",
   "execution_count": 6,
   "metadata": {},
   "outputs": [],
   "source": [
    "end_year = 2026\n",
    "years=range(2000,end_year)"
   ]
  },
  {
   "cell_type": "code",
   "execution_count": 7,
   "metadata": {},
   "outputs": [
    {
     "name": "stdout",
     "output_type": "stream",
     "text": [
      "Downloading https://github.com/nflverse/nflverse-data/releases/download/stats_player/stats_player_week_2000.parquet\n"
     ]
    },
    {
     "name": "stderr",
     "output_type": "stream",
     "text": [
      "Downloading: 100%|██████████| 579k/579k [00:00<00:00, 16.8MB/s]\n"
     ]
    },
    {
     "name": "stdout",
     "output_type": "stream",
     "text": [
      "Downloading https://github.com/nflverse/nflverse-data/releases/download/stats_player/stats_player_week_2001.parquet\n"
     ]
    },
    {
     "name": "stderr",
     "output_type": "stream",
     "text": [
      "Downloading: 100%|██████████| 585k/585k [00:00<00:00, 83.6MB/s]\n"
     ]
    },
    {
     "name": "stdout",
     "output_type": "stream",
     "text": [
      "Downloading https://github.com/nflverse/nflverse-data/releases/download/stats_player/stats_player_week_2002.parquet\n"
     ]
    },
    {
     "name": "stderr",
     "output_type": "stream",
     "text": [
      "Downloading: 100%|██████████| 607k/607k [00:00<00:00, 202MB/s]\n"
     ]
    },
    {
     "name": "stdout",
     "output_type": "stream",
     "text": [
      "Downloading https://github.com/nflverse/nflverse-data/releases/download/stats_player/stats_player_week_2003.parquet\n"
     ]
    },
    {
     "name": "stderr",
     "output_type": "stream",
     "text": [
      "Downloading: 100%|██████████| 529k/529k [00:00<00:00, 132MB/s]\n"
     ]
    },
    {
     "name": "stdout",
     "output_type": "stream",
     "text": [
      "Downloading https://github.com/nflverse/nflverse-data/releases/download/stats_player/stats_player_week_2004.parquet\n"
     ]
    },
    {
     "name": "stderr",
     "output_type": "stream",
     "text": [
      "Downloading: 100%|██████████| 526k/526k [00:00<00:00, 65.7MB/s]\n"
     ]
    },
    {
     "name": "stdout",
     "output_type": "stream",
     "text": [
      "Downloading https://github.com/nflverse/nflverse-data/releases/download/stats_player/stats_player_week_2005.parquet\n"
     ]
    },
    {
     "name": "stderr",
     "output_type": "stream",
     "text": [
      "Downloading: 100%|██████████| 524k/524k [00:00<00:00, 87.3MB/s]\n"
     ]
    },
    {
     "name": "stdout",
     "output_type": "stream",
     "text": [
      "Downloading https://github.com/nflverse/nflverse-data/releases/download/stats_player/stats_player_week_2006.parquet\n"
     ]
    },
    {
     "name": "stderr",
     "output_type": "stream",
     "text": [
      "Downloading: 100%|██████████| 551k/551k [00:00<00:00, 141MB/s]\n"
     ]
    },
    {
     "name": "stdout",
     "output_type": "stream",
     "text": [
      "Downloading https://github.com/nflverse/nflverse-data/releases/download/stats_player/stats_player_week_2007.parquet\n"
     ]
    },
    {
     "name": "stderr",
     "output_type": "stream",
     "text": [
      "Downloading: 100%|██████████| 558k/558k [00:00<00:00, 186MB/s]\n"
     ]
    },
    {
     "name": "stdout",
     "output_type": "stream",
     "text": [
      "Downloading https://github.com/nflverse/nflverse-data/releases/download/stats_player/stats_player_week_2008.parquet\n"
     ]
    },
    {
     "name": "stderr",
     "output_type": "stream",
     "text": [
      "Downloading: 100%|██████████| 554k/554k [00:00<00:00, 138MB/s]\n"
     ]
    },
    {
     "name": "stdout",
     "output_type": "stream",
     "text": [
      "Downloading https://github.com/nflverse/nflverse-data/releases/download/stats_player/stats_player_week_2009.parquet\n"
     ]
    },
    {
     "name": "stderr",
     "output_type": "stream",
     "text": [
      "Downloading: 100%|██████████| 704k/704k [00:00<00:00, 176MB/s]\n"
     ]
    },
    {
     "name": "stdout",
     "output_type": "stream",
     "text": [
      "Downloading https://github.com/nflverse/nflverse-data/releases/download/stats_player/stats_player_week_2010.parquet\n"
     ]
    },
    {
     "name": "stderr",
     "output_type": "stream",
     "text": [
      "Downloading: 100%|██████████| 701k/701k [00:00<00:00, 39.0MB/s]\n"
     ]
    },
    {
     "name": "stdout",
     "output_type": "stream",
     "text": [
      "Downloading https://github.com/nflverse/nflverse-data/releases/download/stats_player/stats_player_week_2011.parquet\n"
     ]
    },
    {
     "name": "stderr",
     "output_type": "stream",
     "text": [
      "Downloading: 100%|██████████| 701k/701k [00:00<00:00, 175MB/s]\n"
     ]
    },
    {
     "name": "stdout",
     "output_type": "stream",
     "text": [
      "Downloading https://github.com/nflverse/nflverse-data/releases/download/stats_player/stats_player_week_2012.parquet\n"
     ]
    },
    {
     "name": "stderr",
     "output_type": "stream",
     "text": [
      "Downloading: 100%|██████████| 714k/714k [00:00<00:00, 179MB/s]\n"
     ]
    },
    {
     "name": "stdout",
     "output_type": "stream",
     "text": [
      "Downloading https://github.com/nflverse/nflverse-data/releases/download/stats_player/stats_player_week_2013.parquet\n"
     ]
    },
    {
     "name": "stderr",
     "output_type": "stream",
     "text": [
      "Downloading: 100%|██████████| 704k/704k [00:00<00:00, 87.9MB/s]\n"
     ]
    },
    {
     "name": "stdout",
     "output_type": "stream",
     "text": [
      "Downloading https://github.com/nflverse/nflverse-data/releases/download/stats_player/stats_player_week_2014.parquet\n"
     ]
    },
    {
     "name": "stderr",
     "output_type": "stream",
     "text": [
      "Downloading: 100%|██████████| 716k/716k [00:00<00:00, 89.5MB/s]\n"
     ]
    },
    {
     "name": "stdout",
     "output_type": "stream",
     "text": [
      "Downloading https://github.com/nflverse/nflverse-data/releases/download/stats_player/stats_player_week_2015.parquet\n"
     ]
    },
    {
     "name": "stderr",
     "output_type": "stream",
     "text": [
      "Downloading: 100%|██████████| 718k/718k [00:00<00:00, 120MB/s]\n"
     ]
    },
    {
     "name": "stdout",
     "output_type": "stream",
     "text": [
      "Downloading https://github.com/nflverse/nflverse-data/releases/download/stats_player/stats_player_week_2016.parquet\n"
     ]
    },
    {
     "name": "stderr",
     "output_type": "stream",
     "text": [
      "Downloading: 100%|██████████| 717k/717k [00:00<00:00, 59.3MB/s]\n"
     ]
    },
    {
     "name": "stdout",
     "output_type": "stream",
     "text": [
      "Downloading https://github.com/nflverse/nflverse-data/releases/download/stats_player/stats_player_week_2017.parquet\n"
     ]
    },
    {
     "name": "stderr",
     "output_type": "stream",
     "text": [
      "Downloading: 100%|██████████| 714k/714k [00:00<00:00, 143MB/s]\n"
     ]
    },
    {
     "name": "stdout",
     "output_type": "stream",
     "text": [
      "Downloading https://github.com/nflverse/nflverse-data/releases/download/stats_player/stats_player_week_2018.parquet\n"
     ]
    },
    {
     "name": "stderr",
     "output_type": "stream",
     "text": [
      "Downloading: 100%|██████████| 716k/716k [00:00<00:00, 119MB/s]\n"
     ]
    },
    {
     "name": "stdout",
     "output_type": "stream",
     "text": [
      "Downloading https://github.com/nflverse/nflverse-data/releases/download/stats_player/stats_player_week_2019.parquet\n"
     ]
    },
    {
     "name": "stderr",
     "output_type": "stream",
     "text": [
      "Downloading: 100%|██████████| 715k/715k [00:00<00:00, 179MB/s]\n"
     ]
    },
    {
     "name": "stdout",
     "output_type": "stream",
     "text": [
      "Downloading https://github.com/nflverse/nflverse-data/releases/download/stats_player/stats_player_week_2020.parquet\n"
     ]
    },
    {
     "name": "stderr",
     "output_type": "stream",
     "text": [
      "Downloading: 100%|██████████| 731k/731k [00:00<00:00, 104MB/s]\n"
     ]
    },
    {
     "name": "stdout",
     "output_type": "stream",
     "text": [
      "Downloading https://github.com/nflverse/nflverse-data/releases/download/stats_player/stats_player_week_2021.parquet\n"
     ]
    },
    {
     "name": "stderr",
     "output_type": "stream",
     "text": [
      "Downloading: 100%|██████████| 767k/767k [00:00<00:00, 110MB/s]\n"
     ]
    },
    {
     "name": "stdout",
     "output_type": "stream",
     "text": [
      "Downloading https://github.com/nflverse/nflverse-data/releases/download/stats_player/stats_player_week_2022.parquet\n"
     ]
    },
    {
     "name": "stderr",
     "output_type": "stream",
     "text": [
      "Downloading: 100%|██████████| 759k/759k [00:00<00:00, 94.9MB/s]\n"
     ]
    },
    {
     "name": "stdout",
     "output_type": "stream",
     "text": [
      "Downloading https://github.com/nflverse/nflverse-data/releases/download/stats_player/stats_player_week_2023.parquet\n"
     ]
    },
    {
     "name": "stderr",
     "output_type": "stream",
     "text": [
      "Downloading: 100%|██████████| 758k/758k [00:00<00:00, 151MB/s]\n"
     ]
    },
    {
     "name": "stdout",
     "output_type": "stream",
     "text": [
      "Downloading https://github.com/nflverse/nflverse-data/releases/download/stats_player/stats_player_week_2024.parquet\n"
     ]
    },
    {
     "name": "stderr",
     "output_type": "stream",
     "text": [
      "Downloading: 100%|██████████| 762k/762k [00:00<00:00, 109MB/s]\n"
     ]
    },
    {
     "name": "stdout",
     "output_type": "stream",
     "text": [
      "Downloading https://github.com/nflverse/nflverse-data/releases/download/stats_player/stats_player_week_2025.parquet\n"
     ]
    },
    {
     "name": "stderr",
     "output_type": "stream",
     "text": [
      "Downloading: 100%|██████████| 184k/184k [00:00<00:00, 184MB/s]\n"
     ]
    },
    {
     "data": {
      "text/plain": [
       "<duckdb.duckdb.DuckDBPyConnection at 0x23669992430>"
      ]
     },
     "execution_count": 7,
     "metadata": {},
     "output_type": "execute_result"
    }
   ],
   "source": [
    "weekly_raw = nfl.load_player_stats(range(2000,end_year))\n",
    "weekly_raw.write_parquet('data/weekly.parquet')\n",
    "con.execute(\"CREATE OR REPLACE TABLE weekly AS SELECT * FROM weekly_raw\")"
   ]
  },
  {
   "cell_type": "code",
   "execution_count": 20,
   "metadata": {},
   "outputs": [
    {
     "data": {
      "text/html": [
       "<div>\n",
       "<style scoped>\n",
       "    .dataframe tbody tr th:only-of-type {\n",
       "        vertical-align: middle;\n",
       "    }\n",
       "\n",
       "    .dataframe tbody tr th {\n",
       "        vertical-align: top;\n",
       "    }\n",
       "\n",
       "    .dataframe thead th {\n",
       "        text-align: right;\n",
       "    }\n",
       "</style>\n",
       "<table border=\"1\" class=\"dataframe\">\n",
       "  <thead>\n",
       "    <tr style=\"text-align: right;\">\n",
       "      <th></th>\n",
       "      <th>player_id</th>\n",
       "      <th>player_name</th>\n",
       "      <th>player_display_name</th>\n",
       "      <th>position</th>\n",
       "      <th>position_group</th>\n",
       "      <th>headshot_url</th>\n",
       "      <th>season</th>\n",
       "      <th>week</th>\n",
       "      <th>season_type</th>\n",
       "      <th>team</th>\n",
       "      <th>opponent_team</th>\n",
       "      <th>completions</th>\n",
       "      <th>attempts</th>\n",
       "      <th>passing_yards</th>\n",
       "      <th>passing_tds</th>\n",
       "      <th>...</th>\n",
       "      <th>fg_made_distance</th>\n",
       "      <th>fg_missed_distance</th>\n",
       "      <th>fg_blocked_distance</th>\n",
       "      <th>pat_made</th>\n",
       "      <th>pat_att</th>\n",
       "      <th>pat_missed</th>\n",
       "      <th>pat_blocked</th>\n",
       "      <th>pat_pct</th>\n",
       "      <th>gwfg_made</th>\n",
       "      <th>gwfg_att</th>\n",
       "      <th>gwfg_missed</th>\n",
       "      <th>gwfg_blocked</th>\n",
       "      <th>gwfg_distance</th>\n",
       "      <th>fantasy_points</th>\n",
       "      <th>fantasy_points_ppr</th>\n",
       "    </tr>\n",
       "  </thead>\n",
       "  <tbody>\n",
       "    <tr>\n",
       "      <th>0</th>\n",
       "      <td>0</td>\n",
       "      <td>None</td>\n",
       "      <td>None</td>\n",
       "      <td>None</td>\n",
       "      <td>None</td>\n",
       "      <td>None</td>\n",
       "      <td>2000</td>\n",
       "      <td>1</td>\n",
       "      <td>REG</td>\n",
       "      <td>SF</td>\n",
       "      <td>ATL</td>\n",
       "      <td>0</td>\n",
       "      <td>0</td>\n",
       "      <td>0</td>\n",
       "      <td>0</td>\n",
       "      <td>...</td>\n",
       "      <td>0</td>\n",
       "      <td>0</td>\n",
       "      <td>0</td>\n",
       "      <td>0</td>\n",
       "      <td>0</td>\n",
       "      <td>0</td>\n",
       "      <td>0</td>\n",
       "      <td>NaN</td>\n",
       "      <td>0</td>\n",
       "      <td>0</td>\n",
       "      <td>0</td>\n",
       "      <td>0</td>\n",
       "      <td>0</td>\n",
       "      <td>0.0</td>\n",
       "      <td>0.0</td>\n",
       "    </tr>\n",
       "    <tr>\n",
       "      <th>1</th>\n",
       "      <td>00-0000003</td>\n",
       "      <td>A.al-Jabbar</td>\n",
       "      <td>Abdul-Karim al-Jabbar</td>\n",
       "      <td>RB</td>\n",
       "      <td>RB</td>\n",
       "      <td>https://static.www.nfl.com/image/private/{form...</td>\n",
       "      <td>2000</td>\n",
       "      <td>1</td>\n",
       "      <td>REG</td>\n",
       "      <td>IND</td>\n",
       "      <td>KC</td>\n",
       "      <td>0</td>\n",
       "      <td>0</td>\n",
       "      <td>0</td>\n",
       "      <td>0</td>\n",
       "      <td>...</td>\n",
       "      <td>0</td>\n",
       "      <td>0</td>\n",
       "      <td>0</td>\n",
       "      <td>0</td>\n",
       "      <td>0</td>\n",
       "      <td>0</td>\n",
       "      <td>0</td>\n",
       "      <td>NaN</td>\n",
       "      <td>0</td>\n",
       "      <td>0</td>\n",
       "      <td>0</td>\n",
       "      <td>0</td>\n",
       "      <td>0</td>\n",
       "      <td>-0.2</td>\n",
       "      <td>-0.2</td>\n",
       "    </tr>\n",
       "    <tr>\n",
       "      <th>2</th>\n",
       "      <td>00-0000007</td>\n",
       "      <td>R.Abdullah</td>\n",
       "      <td>Rabih Abdullah</td>\n",
       "      <td>RB</td>\n",
       "      <td>RB</td>\n",
       "      <td>https://static.www.nfl.com/image/private/{form...</td>\n",
       "      <td>2000</td>\n",
       "      <td>1</td>\n",
       "      <td>REG</td>\n",
       "      <td>TB</td>\n",
       "      <td>NE</td>\n",
       "      <td>0</td>\n",
       "      <td>0</td>\n",
       "      <td>0</td>\n",
       "      <td>0</td>\n",
       "      <td>...</td>\n",
       "      <td>0</td>\n",
       "      <td>0</td>\n",
       "      <td>0</td>\n",
       "      <td>0</td>\n",
       "      <td>0</td>\n",
       "      <td>0</td>\n",
       "      <td>0</td>\n",
       "      <td>NaN</td>\n",
       "      <td>0</td>\n",
       "      <td>0</td>\n",
       "      <td>0</td>\n",
       "      <td>0</td>\n",
       "      <td>0</td>\n",
       "      <td>0.3</td>\n",
       "      <td>1.3</td>\n",
       "    </tr>\n",
       "    <tr>\n",
       "      <th>3</th>\n",
       "      <td>00-0000008</td>\n",
       "      <td>R.Abdullah</td>\n",
       "      <td>Rahim Abdullah</td>\n",
       "      <td>OLB</td>\n",
       "      <td>LB</td>\n",
       "      <td>https://static.www.nfl.com/image/private/{form...</td>\n",
       "      <td>2000</td>\n",
       "      <td>1</td>\n",
       "      <td>REG</td>\n",
       "      <td>CLE</td>\n",
       "      <td>JAX</td>\n",
       "      <td>0</td>\n",
       "      <td>0</td>\n",
       "      <td>0</td>\n",
       "      <td>0</td>\n",
       "      <td>...</td>\n",
       "      <td>0</td>\n",
       "      <td>0</td>\n",
       "      <td>0</td>\n",
       "      <td>0</td>\n",
       "      <td>0</td>\n",
       "      <td>0</td>\n",
       "      <td>0</td>\n",
       "      <td>NaN</td>\n",
       "      <td>0</td>\n",
       "      <td>0</td>\n",
       "      <td>0</td>\n",
       "      <td>0</td>\n",
       "      <td>0</td>\n",
       "      <td>0.0</td>\n",
       "      <td>0.0</td>\n",
       "    </tr>\n",
       "    <tr>\n",
       "      <th>4</th>\n",
       "      <td>00-0000017</td>\n",
       "      <td>D.Abraham</td>\n",
       "      <td>Donnie Abraham</td>\n",
       "      <td>CB</td>\n",
       "      <td>DB</td>\n",
       "      <td>https://static.www.nfl.com/image/private/{form...</td>\n",
       "      <td>2000</td>\n",
       "      <td>1</td>\n",
       "      <td>REG</td>\n",
       "      <td>TB</td>\n",
       "      <td>NE</td>\n",
       "      <td>0</td>\n",
       "      <td>0</td>\n",
       "      <td>0</td>\n",
       "      <td>0</td>\n",
       "      <td>...</td>\n",
       "      <td>0</td>\n",
       "      <td>0</td>\n",
       "      <td>0</td>\n",
       "      <td>0</td>\n",
       "      <td>0</td>\n",
       "      <td>0</td>\n",
       "      <td>0</td>\n",
       "      <td>NaN</td>\n",
       "      <td>0</td>\n",
       "      <td>0</td>\n",
       "      <td>0</td>\n",
       "      <td>0</td>\n",
       "      <td>0</td>\n",
       "      <td>0.0</td>\n",
       "      <td>0.0</td>\n",
       "    </tr>\n",
       "    <tr>\n",
       "      <th>5</th>\n",
       "      <td>00-0000045</td>\n",
       "      <td>F.Adams</td>\n",
       "      <td>Flozell Adams</td>\n",
       "      <td>OT</td>\n",
       "      <td>OL</td>\n",
       "      <td>https://static.www.nfl.com/image/private/{form...</td>\n",
       "      <td>2000</td>\n",
       "      <td>1</td>\n",
       "      <td>REG</td>\n",
       "      <td>DAL</td>\n",
       "      <td>PHI</td>\n",
       "      <td>0</td>\n",
       "      <td>0</td>\n",
       "      <td>0</td>\n",
       "      <td>0</td>\n",
       "      <td>...</td>\n",
       "      <td>0</td>\n",
       "      <td>0</td>\n",
       "      <td>0</td>\n",
       "      <td>0</td>\n",
       "      <td>0</td>\n",
       "      <td>0</td>\n",
       "      <td>0</td>\n",
       "      <td>NaN</td>\n",
       "      <td>0</td>\n",
       "      <td>0</td>\n",
       "      <td>0</td>\n",
       "      <td>0</td>\n",
       "      <td>0</td>\n",
       "      <td>0.0</td>\n",
       "      <td>0.0</td>\n",
       "    </tr>\n",
       "    <tr>\n",
       "      <th>6</th>\n",
       "      <td>00-0000065</td>\n",
       "      <td>S.Adams</td>\n",
       "      <td>Sam Adams</td>\n",
       "      <td>DT</td>\n",
       "      <td>DL</td>\n",
       "      <td>https://static.www.nfl.com/image/private/{form...</td>\n",
       "      <td>2000</td>\n",
       "      <td>1</td>\n",
       "      <td>REG</td>\n",
       "      <td>BAL</td>\n",
       "      <td>PIT</td>\n",
       "      <td>0</td>\n",
       "      <td>0</td>\n",
       "      <td>0</td>\n",
       "      <td>0</td>\n",
       "      <td>...</td>\n",
       "      <td>0</td>\n",
       "      <td>0</td>\n",
       "      <td>0</td>\n",
       "      <td>0</td>\n",
       "      <td>0</td>\n",
       "      <td>0</td>\n",
       "      <td>0</td>\n",
       "      <td>NaN</td>\n",
       "      <td>0</td>\n",
       "      <td>0</td>\n",
       "      <td>0</td>\n",
       "      <td>0</td>\n",
       "      <td>0</td>\n",
       "      <td>0.0</td>\n",
       "      <td>0.0</td>\n",
       "    </tr>\n",
       "    <tr>\n",
       "      <th>7</th>\n",
       "      <td>00-0000097</td>\n",
       "      <td>R.Agnew</td>\n",
       "      <td>Ray Agnew</td>\n",
       "      <td>DT</td>\n",
       "      <td>DL</td>\n",
       "      <td>https://static.www.nfl.com/image/private/{form...</td>\n",
       "      <td>2000</td>\n",
       "      <td>1</td>\n",
       "      <td>REG</td>\n",
       "      <td>STL</td>\n",
       "      <td>DEN</td>\n",
       "      <td>0</td>\n",
       "      <td>0</td>\n",
       "      <td>0</td>\n",
       "      <td>0</td>\n",
       "      <td>...</td>\n",
       "      <td>0</td>\n",
       "      <td>0</td>\n",
       "      <td>0</td>\n",
       "      <td>0</td>\n",
       "      <td>0</td>\n",
       "      <td>0</td>\n",
       "      <td>0</td>\n",
       "      <td>NaN</td>\n",
       "      <td>0</td>\n",
       "      <td>0</td>\n",
       "      <td>0</td>\n",
       "      <td>0</td>\n",
       "      <td>0</td>\n",
       "      <td>0.0</td>\n",
       "      <td>0.0</td>\n",
       "    </tr>\n",
       "    <tr>\n",
       "      <th>8</th>\n",
       "      <td>00-0000100</td>\n",
       "      <td>C.Ahanotu</td>\n",
       "      <td>Chidi Ahanotu</td>\n",
       "      <td>DT</td>\n",
       "      <td>DL</td>\n",
       "      <td>https://static.www.nfl.com/image/private/{form...</td>\n",
       "      <td>2000</td>\n",
       "      <td>1</td>\n",
       "      <td>REG</td>\n",
       "      <td>TB</td>\n",
       "      <td>NE</td>\n",
       "      <td>0</td>\n",
       "      <td>0</td>\n",
       "      <td>0</td>\n",
       "      <td>0</td>\n",
       "      <td>...</td>\n",
       "      <td>0</td>\n",
       "      <td>0</td>\n",
       "      <td>0</td>\n",
       "      <td>0</td>\n",
       "      <td>0</td>\n",
       "      <td>0</td>\n",
       "      <td>0</td>\n",
       "      <td>NaN</td>\n",
       "      <td>0</td>\n",
       "      <td>0</td>\n",
       "      <td>0</td>\n",
       "      <td>0</td>\n",
       "      <td>0</td>\n",
       "      <td>0.0</td>\n",
       "      <td>0.0</td>\n",
       "    </tr>\n",
       "    <tr>\n",
       "      <th>9</th>\n",
       "      <td>00-0000104</td>\n",
       "      <td>T.Aikman</td>\n",
       "      <td>Troy Aikman</td>\n",
       "      <td>QB</td>\n",
       "      <td>QB</td>\n",
       "      <td>https://static.www.nfl.com/image/private/{form...</td>\n",
       "      <td>2000</td>\n",
       "      <td>1</td>\n",
       "      <td>REG</td>\n",
       "      <td>DAL</td>\n",
       "      <td>PHI</td>\n",
       "      <td>0</td>\n",
       "      <td>5</td>\n",
       "      <td>0</td>\n",
       "      <td>0</td>\n",
       "      <td>...</td>\n",
       "      <td>0</td>\n",
       "      <td>0</td>\n",
       "      <td>0</td>\n",
       "      <td>0</td>\n",
       "      <td>0</td>\n",
       "      <td>0</td>\n",
       "      <td>0</td>\n",
       "      <td>NaN</td>\n",
       "      <td>0</td>\n",
       "      <td>0</td>\n",
       "      <td>0</td>\n",
       "      <td>0</td>\n",
       "      <td>0</td>\n",
       "      <td>-2.0</td>\n",
       "      <td>-2.0</td>\n",
       "    </tr>\n",
       "  </tbody>\n",
       "</table>\n",
       "<p>10 rows × 114 columns</p>\n",
       "</div>"
      ],
      "text/plain": [
       "    player_id  player_name    player_display_name position position_group  \\\n",
       "0           0         None                   None     None           None   \n",
       "1  00-0000003  A.al-Jabbar  Abdul-Karim al-Jabbar       RB             RB   \n",
       "2  00-0000007   R.Abdullah         Rabih Abdullah       RB             RB   \n",
       "3  00-0000008   R.Abdullah         Rahim Abdullah      OLB             LB   \n",
       "4  00-0000017    D.Abraham         Donnie Abraham       CB             DB   \n",
       "5  00-0000045      F.Adams          Flozell Adams       OT             OL   \n",
       "6  00-0000065      S.Adams              Sam Adams       DT             DL   \n",
       "7  00-0000097      R.Agnew              Ray Agnew       DT             DL   \n",
       "8  00-0000100    C.Ahanotu          Chidi Ahanotu       DT             DL   \n",
       "9  00-0000104     T.Aikman            Troy Aikman       QB             QB   \n",
       "\n",
       "                                        headshot_url  season  week  \\\n",
       "0                                               None    2000     1   \n",
       "1  https://static.www.nfl.com/image/private/{form...    2000     1   \n",
       "2  https://static.www.nfl.com/image/private/{form...    2000     1   \n",
       "3  https://static.www.nfl.com/image/private/{form...    2000     1   \n",
       "4  https://static.www.nfl.com/image/private/{form...    2000     1   \n",
       "5  https://static.www.nfl.com/image/private/{form...    2000     1   \n",
       "6  https://static.www.nfl.com/image/private/{form...    2000     1   \n",
       "7  https://static.www.nfl.com/image/private/{form...    2000     1   \n",
       "8  https://static.www.nfl.com/image/private/{form...    2000     1   \n",
       "9  https://static.www.nfl.com/image/private/{form...    2000     1   \n",
       "\n",
       "  season_type team opponent_team  completions  attempts  passing_yards  \\\n",
       "0         REG   SF           ATL            0         0              0   \n",
       "1         REG  IND            KC            0         0              0   \n",
       "2         REG   TB            NE            0         0              0   \n",
       "3         REG  CLE           JAX            0         0              0   \n",
       "4         REG   TB            NE            0         0              0   \n",
       "5         REG  DAL           PHI            0         0              0   \n",
       "6         REG  BAL           PIT            0         0              0   \n",
       "7         REG  STL           DEN            0         0              0   \n",
       "8         REG   TB            NE            0         0              0   \n",
       "9         REG  DAL           PHI            0         5              0   \n",
       "\n",
       "   passing_tds  ...  fg_made_distance  fg_missed_distance  \\\n",
       "0            0  ...                 0                   0   \n",
       "1            0  ...                 0                   0   \n",
       "2            0  ...                 0                   0   \n",
       "3            0  ...                 0                   0   \n",
       "4            0  ...                 0                   0   \n",
       "5            0  ...                 0                   0   \n",
       "6            0  ...                 0                   0   \n",
       "7            0  ...                 0                   0   \n",
       "8            0  ...                 0                   0   \n",
       "9            0  ...                 0                   0   \n",
       "\n",
       "   fg_blocked_distance  pat_made  pat_att  pat_missed  pat_blocked  pat_pct  \\\n",
       "0                    0         0        0           0            0      NaN   \n",
       "1                    0         0        0           0            0      NaN   \n",
       "2                    0         0        0           0            0      NaN   \n",
       "3                    0         0        0           0            0      NaN   \n",
       "4                    0         0        0           0            0      NaN   \n",
       "5                    0         0        0           0            0      NaN   \n",
       "6                    0         0        0           0            0      NaN   \n",
       "7                    0         0        0           0            0      NaN   \n",
       "8                    0         0        0           0            0      NaN   \n",
       "9                    0         0        0           0            0      NaN   \n",
       "\n",
       "   gwfg_made  gwfg_att  gwfg_missed  gwfg_blocked  gwfg_distance  \\\n",
       "0          0         0            0             0              0   \n",
       "1          0         0            0             0              0   \n",
       "2          0         0            0             0              0   \n",
       "3          0         0            0             0              0   \n",
       "4          0         0            0             0              0   \n",
       "5          0         0            0             0              0   \n",
       "6          0         0            0             0              0   \n",
       "7          0         0            0             0              0   \n",
       "8          0         0            0             0              0   \n",
       "9          0         0            0             0              0   \n",
       "\n",
       "   fantasy_points  fantasy_points_ppr  \n",
       "0             0.0                 0.0  \n",
       "1            -0.2                -0.2  \n",
       "2             0.3                 1.3  \n",
       "3             0.0                 0.0  \n",
       "4             0.0                 0.0  \n",
       "5             0.0                 0.0  \n",
       "6             0.0                 0.0  \n",
       "7             0.0                 0.0  \n",
       "8             0.0                 0.0  \n",
       "9            -2.0                -2.0  \n",
       "\n",
       "[10 rows x 114 columns]"
      ]
     },
     "execution_count": 20,
     "metadata": {},
     "output_type": "execute_result"
    }
   ],
   "source": [
    "con.execute(\"select * from weekly order by  season limit 10\").df()"
   ]
  },
  {
   "cell_type": "code",
   "execution_count": 21,
   "metadata": {},
   "outputs": [
    {
     "name": "stdout",
     "output_type": "stream",
     "text": [
      "Downloading https://github.com/nflverse/nflverse-data/releases/download/pbp/play_by_play_2000.parquet\n"
     ]
    },
    {
     "name": "stderr",
     "output_type": "stream",
     "text": [
      "Downloading: 100%|██████████| 13.4M/13.4M [00:02<00:00, 6.69MB/s]\n"
     ]
    },
    {
     "name": "stdout",
     "output_type": "stream",
     "text": [
      "Downloading https://github.com/nflverse/nflverse-data/releases/download/pbp/play_by_play_2001.parquet\n"
     ]
    },
    {
     "name": "stderr",
     "output_type": "stream",
     "text": [
      "Downloading: 100%|██████████| 14.0M/14.0M [00:02<00:00, 6.41MB/s]\n"
     ]
    },
    {
     "name": "stdout",
     "output_type": "stream",
     "text": [
      "Downloading https://github.com/nflverse/nflverse-data/releases/download/pbp/play_by_play_2002.parquet\n"
     ]
    },
    {
     "name": "stderr",
     "output_type": "stream",
     "text": [
      "Downloading: 100%|██████████| 14.8M/14.8M [00:02<00:00, 6.11MB/s]\n"
     ]
    },
    {
     "name": "stdout",
     "output_type": "stream",
     "text": [
      "Downloading https://github.com/nflverse/nflverse-data/releases/download/pbp/play_by_play_2003.parquet\n"
     ]
    },
    {
     "name": "stderr",
     "output_type": "stream",
     "text": [
      "Downloading: 100%|██████████| 14.6M/14.6M [00:02<00:00, 6.12MB/s]\n"
     ]
    },
    {
     "name": "stdout",
     "output_type": "stream",
     "text": [
      "Downloading https://github.com/nflverse/nflverse-data/releases/download/pbp/play_by_play_2004.parquet\n"
     ]
    },
    {
     "name": "stderr",
     "output_type": "stream",
     "text": [
      "Downloading: 100%|██████████| 14.6M/14.6M [00:02<00:00, 6.26MB/s]\n"
     ]
    },
    {
     "name": "stdout",
     "output_type": "stream",
     "text": [
      "Downloading https://github.com/nflverse/nflverse-data/releases/download/pbp/play_by_play_2005.parquet\n"
     ]
    },
    {
     "name": "stderr",
     "output_type": "stream",
     "text": [
      "Downloading: 100%|██████████| 14.6M/14.6M [00:02<00:00, 6.07MB/s]\n"
     ]
    },
    {
     "name": "stdout",
     "output_type": "stream",
     "text": [
      "Downloading https://github.com/nflverse/nflverse-data/releases/download/pbp/play_by_play_2006.parquet\n"
     ]
    },
    {
     "name": "stderr",
     "output_type": "stream",
     "text": [
      "Downloading: 100%|██████████| 18.6M/18.6M [00:03<00:00, 4.94MB/s]\n"
     ]
    },
    {
     "name": "stdout",
     "output_type": "stream",
     "text": [
      "Downloading https://github.com/nflverse/nflverse-data/releases/download/pbp/play_by_play_2007.parquet\n"
     ]
    },
    {
     "name": "stderr",
     "output_type": "stream",
     "text": [
      "Downloading: 100%|██████████| 18.7M/18.7M [00:03<00:00, 4.86MB/s]\n"
     ]
    },
    {
     "name": "stdout",
     "output_type": "stream",
     "text": [
      "Downloading https://github.com/nflverse/nflverse-data/releases/download/pbp/play_by_play_2008.parquet\n"
     ]
    },
    {
     "name": "stderr",
     "output_type": "stream",
     "text": [
      "Downloading: 100%|██████████| 18.6M/18.6M [00:03<00:00, 4.87MB/s]\n"
     ]
    },
    {
     "name": "stdout",
     "output_type": "stream",
     "text": [
      "Downloading https://github.com/nflverse/nflverse-data/releases/download/pbp/play_by_play_2009.parquet\n"
     ]
    },
    {
     "name": "stderr",
     "output_type": "stream",
     "text": [
      "Downloading: 100%|██████████| 18.9M/18.9M [00:03<00:00, 4.79MB/s]\n"
     ]
    },
    {
     "name": "stdout",
     "output_type": "stream",
     "text": [
      "Downloading https://github.com/nflverse/nflverse-data/releases/download/pbp/play_by_play_2010.parquet\n"
     ]
    },
    {
     "name": "stderr",
     "output_type": "stream",
     "text": [
      "Downloading: 100%|██████████| 19.1M/19.1M [00:03<00:00, 4.78MB/s]\n"
     ]
    },
    {
     "name": "stdout",
     "output_type": "stream",
     "text": [
      "Downloading https://github.com/nflverse/nflverse-data/releases/download/pbp/play_by_play_2011.parquet\n"
     ]
    },
    {
     "name": "stderr",
     "output_type": "stream",
     "text": [
      "Downloading: 100%|██████████| 19.1M/19.1M [00:04<00:00, 4.74MB/s]\n"
     ]
    },
    {
     "name": "stdout",
     "output_type": "stream",
     "text": [
      "Downloading https://github.com/nflverse/nflverse-data/releases/download/pbp/play_by_play_2012.parquet\n"
     ]
    },
    {
     "name": "stderr",
     "output_type": "stream",
     "text": [
      "Downloading: 100%|██████████| 19.3M/19.3M [00:04<00:00, 4.76MB/s]\n"
     ]
    },
    {
     "name": "stdout",
     "output_type": "stream",
     "text": [
      "Downloading https://github.com/nflverse/nflverse-data/releases/download/pbp/play_by_play_2013.parquet\n"
     ]
    },
    {
     "name": "stderr",
     "output_type": "stream",
     "text": [
      "Downloading: 100%|██████████| 19.5M/19.5M [00:04<00:00, 4.62MB/s]\n"
     ]
    },
    {
     "name": "stdout",
     "output_type": "stream",
     "text": [
      "Downloading https://github.com/nflverse/nflverse-data/releases/download/pbp/play_by_play_2014.parquet\n"
     ]
    },
    {
     "name": "stderr",
     "output_type": "stream",
     "text": [
      "Downloading: 100%|██████████| 19.4M/19.4M [00:04<00:00, 4.68MB/s]\n"
     ]
    },
    {
     "name": "stdout",
     "output_type": "stream",
     "text": [
      "Downloading https://github.com/nflverse/nflverse-data/releases/download/pbp/play_by_play_2015.parquet\n"
     ]
    },
    {
     "name": "stderr",
     "output_type": "stream",
     "text": [
      "Downloading: 100%|██████████| 19.5M/19.5M [00:04<00:00, 4.65MB/s]\n"
     ]
    },
    {
     "name": "stdout",
     "output_type": "stream",
     "text": [
      "Downloading https://github.com/nflverse/nflverse-data/releases/download/pbp/play_by_play_2016.parquet\n"
     ]
    },
    {
     "name": "stderr",
     "output_type": "stream",
     "text": [
      "Downloading: 100%|██████████| 19.3M/19.3M [00:04<00:00, 4.59MB/s]\n"
     ]
    },
    {
     "name": "stdout",
     "output_type": "stream",
     "text": [
      "Downloading https://github.com/nflverse/nflverse-data/releases/download/pbp/play_by_play_2017.parquet\n"
     ]
    },
    {
     "name": "stderr",
     "output_type": "stream",
     "text": [
      "Downloading: 100%|██████████| 19.1M/19.1M [00:04<00:00, 4.60MB/s]\n"
     ]
    },
    {
     "name": "stdout",
     "output_type": "stream",
     "text": [
      "Downloading https://github.com/nflverse/nflverse-data/releases/download/pbp/play_by_play_2018.parquet\n"
     ]
    },
    {
     "name": "stderr",
     "output_type": "stream",
     "text": [
      "Downloading: 100%|██████████| 19.1M/19.1M [00:04<00:00, 4.59MB/s]\n"
     ]
    },
    {
     "name": "stdout",
     "output_type": "stream",
     "text": [
      "Downloading https://github.com/nflverse/nflverse-data/releases/download/pbp/play_by_play_2019.parquet\n"
     ]
    },
    {
     "name": "stderr",
     "output_type": "stream",
     "text": [
      "Downloading: 100%|██████████| 19.1M/19.1M [00:04<00:00, 4.72MB/s]\n"
     ]
    },
    {
     "name": "stdout",
     "output_type": "stream",
     "text": [
      "Downloading https://github.com/nflverse/nflverse-data/releases/download/pbp/play_by_play_2020.parquet\n"
     ]
    },
    {
     "name": "stderr",
     "output_type": "stream",
     "text": [
      "Downloading: 100%|██████████| 19.3M/19.3M [00:04<00:00, 4.59MB/s]\n"
     ]
    },
    {
     "name": "stdout",
     "output_type": "stream",
     "text": [
      "Downloading https://github.com/nflverse/nflverse-data/releases/download/pbp/play_by_play_2021.parquet\n"
     ]
    },
    {
     "name": "stderr",
     "output_type": "stream",
     "text": [
      "Downloading: 100%|██████████| 20.3M/20.3M [00:04<00:00, 4.36MB/s]\n"
     ]
    },
    {
     "name": "stdout",
     "output_type": "stream",
     "text": [
      "Downloading https://github.com/nflverse/nflverse-data/releases/download/pbp/play_by_play_2022.parquet\n"
     ]
    },
    {
     "name": "stderr",
     "output_type": "stream",
     "text": [
      "Downloading: 100%|██████████| 20.4M/20.4M [00:04<00:00, 4.40MB/s]\n"
     ]
    },
    {
     "name": "stdout",
     "output_type": "stream",
     "text": [
      "Downloading https://github.com/nflverse/nflverse-data/releases/download/pbp/play_by_play_2023.parquet\n"
     ]
    },
    {
     "name": "stderr",
     "output_type": "stream",
     "text": [
      "Downloading: 100%|██████████| 20.5M/20.5M [00:04<00:00, 4.28MB/s]\n"
     ]
    },
    {
     "name": "stdout",
     "output_type": "stream",
     "text": [
      "Downloading https://github.com/nflverse/nflverse-data/releases/download/pbp/play_by_play_2024.parquet\n"
     ]
    },
    {
     "name": "stderr",
     "output_type": "stream",
     "text": [
      "Downloading: 100%|██████████| 20.6M/20.6M [00:04<00:00, 4.33MB/s]\n"
     ]
    },
    {
     "name": "stdout",
     "output_type": "stream",
     "text": [
      "Downloading https://github.com/nflverse/nflverse-data/releases/download/pbp/play_by_play_2025.parquet\n"
     ]
    },
    {
     "name": "stderr",
     "output_type": "stream",
     "text": [
      "Downloading: 100%|██████████| 2.38M/2.38M [00:00<00:00, 32.2MB/s]\n"
     ]
    }
   ],
   "source": [
    "pbp = nfl.load_pbp(years)"
   ]
  },
  {
   "cell_type": "code",
   "execution_count": 22,
   "metadata": {},
   "outputs": [],
   "source": [
    "pbp.write_parquet('data/pbp.parquet')"
   ]
  },
  {
   "cell_type": "code",
   "execution_count": 23,
   "metadata": {},
   "outputs": [
    {
     "data": {
      "application/vnd.jupyter.widget-view+json": {
       "model_id": "3ed527d350794cfa9166bdd0bb911333",
       "version_major": 2,
       "version_minor": 0
      },
      "text/plain": [
       "FloatProgress(value=0.0, layout=Layout(width='auto'), style=ProgressStyle(bar_color='black'))"
      ]
     },
     "metadata": {},
     "output_type": "display_data"
    },
    {
     "data": {
      "text/plain": [
       "<duckdb.duckdb.DuckDBPyConnection at 0x27004a6e6b0>"
      ]
     },
     "execution_count": 23,
     "metadata": {},
     "output_type": "execute_result"
    }
   ],
   "source": [
    "#pbp.write_database('pbp', 'sqlite:///data/nfl.db', if_table_exists='replace')\n",
    "con.execute(\"CREATE OR REPLACE TABLE pbp AS SELECT * FROM pbp\")"
   ]
  },
  {
   "cell_type": "code",
   "execution_count": 24,
   "metadata": {},
   "outputs": [
    {
     "name": "stdout",
     "output_type": "stream",
     "text": [
      "Downloading https://github.com/nflverse/nflverse-data/releases/download/rosters/roster_2002.parquet\n"
     ]
    },
    {
     "name": "stderr",
     "output_type": "stream",
     "text": [
      "Downloading: 100%|██████████| 247k/247k [00:00<00:00, 123MB/s]\n"
     ]
    },
    {
     "name": "stdout",
     "output_type": "stream",
     "text": [
      "Downloading https://github.com/nflverse/nflverse-data/releases/download/rosters/roster_2003.parquet\n"
     ]
    },
    {
     "name": "stderr",
     "output_type": "stream",
     "text": [
      "Downloading: 100%|██████████| 250k/250k [00:00<00:00, 125MB/s]\n"
     ]
    },
    {
     "name": "stdout",
     "output_type": "stream",
     "text": [
      "Downloading https://github.com/nflverse/nflverse-data/releases/download/rosters/roster_2004.parquet\n"
     ]
    },
    {
     "name": "stderr",
     "output_type": "stream",
     "text": [
      "Downloading: 100%|██████████| 255k/255k [00:00<00:00, 84.9MB/s]\n"
     ]
    },
    {
     "name": "stdout",
     "output_type": "stream",
     "text": [
      "Downloading https://github.com/nflverse/nflverse-data/releases/download/rosters/roster_2005.parquet\n"
     ]
    },
    {
     "name": "stderr",
     "output_type": "stream",
     "text": [
      "Downloading: 100%|██████████| 259k/259k [00:00<00:00, 129MB/s]\n"
     ]
    },
    {
     "name": "stdout",
     "output_type": "stream",
     "text": [
      "Downloading https://github.com/nflverse/nflverse-data/releases/download/rosters/roster_2006.parquet\n"
     ]
    },
    {
     "name": "stderr",
     "output_type": "stream",
     "text": [
      "Downloading: 100%|██████████| 263k/263k [00:00<00:00, 132MB/s]\n"
     ]
    },
    {
     "name": "stdout",
     "output_type": "stream",
     "text": [
      "Downloading https://github.com/nflverse/nflverse-data/releases/download/rosters/roster_2007.parquet\n"
     ]
    },
    {
     "name": "stderr",
     "output_type": "stream",
     "text": [
      "Downloading: 100%|██████████| 269k/269k [00:00<00:00, 67.2MB/s]"
     ]
    },
    {
     "name": "stdout",
     "output_type": "stream",
     "text": [
      "Downloading https://github.com/nflverse/nflverse-data/releases/download/rosters/roster_2008.parquet\n"
     ]
    },
    {
     "name": "stderr",
     "output_type": "stream",
     "text": [
      "\n",
      "Downloading: 100%|██████████| 275k/275k [00:00<00:00, 68.8MB/s]\n"
     ]
    },
    {
     "name": "stdout",
     "output_type": "stream",
     "text": [
      "Downloading https://github.com/nflverse/nflverse-data/releases/download/rosters/roster_2009.parquet\n"
     ]
    },
    {
     "name": "stderr",
     "output_type": "stream",
     "text": [
      "Downloading: 100%|██████████| 284k/284k [00:00<00:00, 94.5MB/s]\n"
     ]
    },
    {
     "name": "stdout",
     "output_type": "stream",
     "text": [
      "Downloading https://github.com/nflverse/nflverse-data/releases/download/rosters/roster_2010.parquet\n"
     ]
    },
    {
     "name": "stderr",
     "output_type": "stream",
     "text": [
      "Downloading: 100%|██████████| 296k/296k [00:00<00:00, 74.0MB/s]\n"
     ]
    },
    {
     "name": "stdout",
     "output_type": "stream",
     "text": [
      "Downloading https://github.com/nflverse/nflverse-data/releases/download/rosters/roster_2011.parquet\n"
     ]
    },
    {
     "name": "stderr",
     "output_type": "stream",
     "text": [
      "Downloading: 100%|██████████| 304k/304k [00:00<00:00, 76.0MB/s]\n"
     ]
    },
    {
     "name": "stdout",
     "output_type": "stream",
     "text": [
      "Downloading https://github.com/nflverse/nflverse-data/releases/download/rosters/roster_2012.parquet\n"
     ]
    },
    {
     "name": "stderr",
     "output_type": "stream",
     "text": [
      "Downloading: 100%|██████████| 319k/319k [00:00<00:00, 106MB/s]"
     ]
    },
    {
     "name": "stdout",
     "output_type": "stream",
     "text": [
      "Downloading https://github.com/nflverse/nflverse-data/releases/download/rosters/roster_2013.parquet\n"
     ]
    },
    {
     "name": "stderr",
     "output_type": "stream",
     "text": [
      "\n",
      "Downloading: 100%|██████████| 332k/332k [00:00<00:00, 166MB/s]\n"
     ]
    },
    {
     "name": "stdout",
     "output_type": "stream",
     "text": [
      "Downloading https://github.com/nflverse/nflverse-data/releases/download/rosters/roster_2014.parquet\n"
     ]
    },
    {
     "name": "stderr",
     "output_type": "stream",
     "text": [
      "Downloading: 100%|██████████| 351k/351k [00:00<00:00, 117MB/s]\n"
     ]
    },
    {
     "name": "stdout",
     "output_type": "stream",
     "text": [
      "Downloading https://github.com/nflverse/nflverse-data/releases/download/rosters/roster_2015.parquet\n"
     ]
    },
    {
     "name": "stderr",
     "output_type": "stream",
     "text": [
      "Downloading: 100%|██████████| 371k/371k [00:00<00:00, 124MB/s]"
     ]
    },
    {
     "name": "stdout",
     "output_type": "stream",
     "text": [
      "Downloading https://github.com/nflverse/nflverse-data/releases/download/rosters/roster_2016.parquet\n"
     ]
    },
    {
     "name": "stderr",
     "output_type": "stream",
     "text": [
      "\n",
      "Downloading: 100%|██████████| 502k/502k [00:00<00:00, 126MB/s]\n"
     ]
    },
    {
     "name": "stdout",
     "output_type": "stream",
     "text": [
      "Downloading https://github.com/nflverse/nflverse-data/releases/download/rosters/roster_2017.parquet\n"
     ]
    },
    {
     "name": "stderr",
     "output_type": "stream",
     "text": [
      "Downloading: 100%|██████████| 540k/540k [00:00<00:00, 108MB/s]\n"
     ]
    },
    {
     "name": "stdout",
     "output_type": "stream",
     "text": [
      "Downloading https://github.com/nflverse/nflverse-data/releases/download/rosters/roster_2018.parquet\n"
     ]
    },
    {
     "name": "stderr",
     "output_type": "stream",
     "text": [
      "Downloading: 100%|██████████| 574k/574k [00:00<00:00, 95.6MB/s]\n"
     ]
    },
    {
     "name": "stdout",
     "output_type": "stream",
     "text": [
      "Downloading https://github.com/nflverse/nflverse-data/releases/download/rosters/roster_2019.parquet\n"
     ]
    },
    {
     "name": "stderr",
     "output_type": "stream",
     "text": [
      "Downloading: 100%|██████████| 582k/582k [00:00<00:00, 83.1MB/s]\n"
     ]
    },
    {
     "name": "stdout",
     "output_type": "stream",
     "text": [
      "Downloading https://github.com/nflverse/nflverse-data/releases/download/rosters/roster_2020.parquet\n"
     ]
    },
    {
     "name": "stderr",
     "output_type": "stream",
     "text": [
      "Downloading: 100%|██████████| 583k/583k [00:00<00:00, 97.2MB/s]\n"
     ]
    },
    {
     "name": "stdout",
     "output_type": "stream",
     "text": [
      "Downloading https://github.com/nflverse/nflverse-data/releases/download/rosters/roster_2021.parquet\n"
     ]
    },
    {
     "name": "stderr",
     "output_type": "stream",
     "text": [
      "Downloading: 100%|██████████| 559k/559k [00:00<00:00, 112MB/s]\n"
     ]
    },
    {
     "name": "stdout",
     "output_type": "stream",
     "text": [
      "Downloading https://github.com/nflverse/nflverse-data/releases/download/rosters/roster_2022.parquet\n"
     ]
    },
    {
     "name": "stderr",
     "output_type": "stream",
     "text": [
      "Downloading: 100%|██████████| 560k/560k [00:00<00:00, 62.2MB/s]\n"
     ]
    },
    {
     "name": "stdout",
     "output_type": "stream",
     "text": [
      "Downloading https://github.com/nflverse/nflverse-data/releases/download/rosters/roster_2023.parquet\n"
     ]
    },
    {
     "name": "stderr",
     "output_type": "stream",
     "text": [
      "Downloading: 100%|██████████| 555k/555k [00:00<00:00, 111MB/s]\n"
     ]
    },
    {
     "name": "stdout",
     "output_type": "stream",
     "text": [
      "Downloading https://github.com/nflverse/nflverse-data/releases/download/rosters/roster_2024.parquet\n"
     ]
    },
    {
     "name": "stderr",
     "output_type": "stream",
     "text": [
      "Downloading: 100%|██████████| 566k/566k [00:00<00:00, 142MB/s]\n"
     ]
    },
    {
     "name": "stdout",
     "output_type": "stream",
     "text": [
      "Downloading https://github.com/nflverse/nflverse-data/releases/download/rosters/roster_2025.parquet\n"
     ]
    },
    {
     "name": "stderr",
     "output_type": "stream",
     "text": [
      "Downloading: 100%|██████████| 555k/555k [00:00<00:00, 55.5MB/s]\n"
     ]
    },
    {
     "data": {
      "text/html": [
       "<div><style>\n",
       ".dataframe > thead > tr,\n",
       ".dataframe > tbody > tr {\n",
       "  text-align: right;\n",
       "  white-space: pre-wrap;\n",
       "}\n",
       "</style>\n",
       "<small>shape: (60_269, 36)</small><table border=\"1\" class=\"dataframe\"><thead><tr><th>season</th><th>team</th><th>position</th><th>depth_chart_position</th><th>jersey_number</th><th>status</th><th>full_name</th><th>first_name</th><th>last_name</th><th>birth_date</th><th>height</th><th>weight</th><th>college</th><th>gsis_id</th><th>espn_id</th><th>sportradar_id</th><th>yahoo_id</th><th>rotowire_id</th><th>pff_id</th><th>pfr_id</th><th>fantasy_data_id</th><th>sleeper_id</th><th>years_exp</th><th>headshot_url</th><th>ngs_position</th><th>week</th><th>game_type</th><th>status_description_abbr</th><th>football_name</th><th>esb_id</th><th>gsis_it_id</th><th>smart_id</th><th>entry_year</th><th>rookie_year</th><th>draft_club</th><th>draft_number</th></tr><tr><td>i32</td><td>str</td><td>str</td><td>str</td><td>str</td><td>str</td><td>str</td><td>str</td><td>str</td><td>date</td><td>f64</td><td>i32</td><td>str</td><td>str</td><td>str</td><td>str</td><td>str</td><td>str</td><td>str</td><td>str</td><td>str</td><td>str</td><td>i32</td><td>str</td><td>str</td><td>i32</td><td>str</td><td>str</td><td>str</td><td>str</td><td>str</td><td>str</td><td>i32</td><td>i32</td><td>str</td><td>str</td></tr></thead><tbody><tr><td>2002</td><td>&quot;CHI&quot;</td><td>&quot;RB&quot;</td><td>null</td><td>&quot;27&quot;</td><td>&quot;ACT&quot;</td><td>&quot;Rabih Abdullah&quot;</td><td>&quot;Rabih&quot;</td><td>&quot;Abdullah&quot;</td><td>1975-04-27</td><td>72.0</td><td>220</td><td>null</td><td>&quot;00-0000007&quot;</td><td>null</td><td>null</td><td>null</td><td>null</td><td>null</td><td>null</td><td>null</td><td>null</td><td>4</td><td>&quot;https://static.www.nfl.com/ima…</td><td>null</td><td>17</td><td>&quot;REG&quot;</td><td>&quot;A01&quot;</td><td>&quot;Rabih&quot;</td><td>&quot;ABD675101&quot;</td><td>null</td><td>&quot;32004142-4467-5101-8326-4b71f9…</td><td>1998</td><td>1998</td><td>null</td><td>null</td></tr><tr><td>2002</td><td>&quot;NYJ&quot;</td><td>&quot;CB&quot;</td><td>null</td><td>&quot;29&quot;</td><td>&quot;ACT&quot;</td><td>&quot;Donnie Abraham&quot;</td><td>&quot;Nathaniel&quot;</td><td>&quot;Abraham&quot;</td><td>1973-10-08</td><td>70.0</td><td>192</td><td>null</td><td>&quot;00-0000017&quot;</td><td>null</td><td>null</td><td>null</td><td>null</td><td>null</td><td>null</td><td>null</td><td>null</td><td>6</td><td>&quot;https://static.www.nfl.com/ima…</td><td>null</td><td>19</td><td>&quot;DIV&quot;</td><td>&quot;A01&quot;</td><td>&quot;Donnie&quot;</td><td>&quot;ABR073258&quot;</td><td>null</td><td>&quot;32004142-5207-3258-ebd3-814f82…</td><td>1996</td><td>1996</td><td>&quot;TB&quot;</td><td>&quot;71&quot;</td></tr><tr><td>2002</td><td>&quot;TEN&quot;</td><td>&quot;G&quot;</td><td>null</td><td>&quot;67&quot;</td><td>&quot;ACT&quot;</td><td>&quot;Tom Ackerman&quot;</td><td>&quot;Thomas&quot;</td><td>&quot;Ackerman&quot;</td><td>1972-09-06</td><td>75.0</td><td>292</td><td>null</td><td>&quot;00-0000032&quot;</td><td>null</td><td>null</td><td>null</td><td>null</td><td>null</td><td>null</td><td>null</td><td>null</td><td>6</td><td>&quot;https://static.www.nfl.com/ima…</td><td>null</td><td>20</td><td>&quot;CON&quot;</td><td>&quot;A01&quot;</td><td>&quot;Tom&quot;</td><td>&quot;ACK425040&quot;</td><td>null</td><td>&quot;32004143-4b42-5040-5e4c-ffc269…</td><td>1996</td><td>1996</td><td>&quot;NO&quot;</td><td>&quot;145&quot;</td></tr><tr><td>2002</td><td>&quot;DAL&quot;</td><td>&quot;T&quot;</td><td>null</td><td>&quot;76&quot;</td><td>&quot;ACT&quot;</td><td>&quot;Flozell Adams&quot;</td><td>&quot;Flozell&quot;</td><td>&quot;Adams&quot;</td><td>1975-05-18</td><td>79.0</td><td>357</td><td>null</td><td>&quot;00-0000045&quot;</td><td>null</td><td>null</td><td>null</td><td>null</td><td>null</td><td>null</td><td>null</td><td>null</td><td>4</td><td>&quot;https://static.www.nfl.com/ima…</td><td>null</td><td>17</td><td>&quot;REG&quot;</td><td>&quot;A01&quot;</td><td>&quot;Flozell&quot;</td><td>&quot;ADA280969&quot;</td><td>null</td><td>&quot;32004144-4128-0969-9390-de3ae3…</td><td>1998</td><td>1998</td><td>&quot;DAL&quot;</td><td>&quot;38&quot;</td></tr><tr><td>2002</td><td>&quot;OAK&quot;</td><td>&quot;DT&quot;</td><td>null</td><td>&quot;95&quot;</td><td>&quot;ACT&quot;</td><td>&quot;Sam Adams&quot;</td><td>&quot;Sam&quot;</td><td>&quot;Adams&quot;</td><td>1973-06-13</td><td>75.0</td><td>330</td><td>null</td><td>&quot;00-0000065&quot;</td><td>null</td><td>null</td><td>null</td><td>null</td><td>null</td><td>null</td><td>null</td><td>null</td><td>8</td><td>&quot;https://static.www.nfl.com/ima…</td><td>null</td><td>21</td><td>&quot;SB&quot;</td><td>&quot;A01&quot;</td><td>&quot;Sam&quot;</td><td>&quot;ADA571656&quot;</td><td>null</td><td>&quot;32004144-4157-1656-c9b5-9681a9…</td><td>1994</td><td>1994</td><td>&quot;SEA&quot;</td><td>&quot;8&quot;</td></tr><tr><td>&hellip;</td><td>&hellip;</td><td>&hellip;</td><td>&hellip;</td><td>&hellip;</td><td>&hellip;</td><td>&hellip;</td><td>&hellip;</td><td>&hellip;</td><td>&hellip;</td><td>&hellip;</td><td>&hellip;</td><td>&hellip;</td><td>&hellip;</td><td>&hellip;</td><td>&hellip;</td><td>&hellip;</td><td>&hellip;</td><td>&hellip;</td><td>&hellip;</td><td>&hellip;</td><td>&hellip;</td><td>&hellip;</td><td>&hellip;</td><td>&hellip;</td><td>&hellip;</td><td>&hellip;</td><td>&hellip;</td><td>&hellip;</td><td>&hellip;</td><td>&hellip;</td><td>&hellip;</td><td>&hellip;</td><td>&hellip;</td><td>&hellip;</td><td>&hellip;</td></tr><tr><td>2025</td><td>&quot;IND&quot;</td><td>&quot;LB&quot;</td><td>&quot;LB&quot;</td><td>&quot;49&quot;</td><td>&quot;CUT&quot;</td><td>&quot;Joseph Vaughn&quot;</td><td>&quot;Joseph&quot;</td><td>&quot;Vaughn&quot;</td><td>null</td><td>null</td><td>238</td><td>null</td><td>&quot;00-0040781&quot;</td><td>null</td><td>null</td><td>null</td><td>null</td><td>null</td><td>null</td><td>null</td><td>null</td><td>0</td><td>null</td><td>null</td><td>1</td><td>&quot;REG&quot;</td><td>&quot;W03&quot;</td><td>&quot;Joseph&quot;</td><td>&quot;VAU443667&quot;</td><td>&quot;59277&quot;</td><td>&quot;32005641-5544-3667-4846-303a16…</td><td>2025</td><td>2025</td><td>null</td><td>null</td></tr><tr><td>2025</td><td>&quot;CLE&quot;</td><td>&quot;WR&quot;</td><td>&quot;WR&quot;</td><td>&quot;16&quot;</td><td>&quot;ACT&quot;</td><td>&quot;Isaiah Bond&quot;</td><td>&quot;Isaiah&quot;</td><td>&quot;Bond&quot;</td><td>2004-03-15</td><td>71.0</td><td>180</td><td>&quot;Texas; Alabama&quot;</td><td>&quot;00-0040782&quot;</td><td>&quot;4808839&quot;</td><td>&quot;6ceb1330-795d-11f0-aadf-fbc926…</td><td>null</td><td>&quot;18502&quot;</td><td>null</td><td>&quot;BondIs00&quot;</td><td>null</td><td>&quot;12503&quot;</td><td>0</td><td>&quot;https://static.www.nfl.com/ima…</td><td>&quot;WR&quot;</td><td>2</td><td>&quot;REG&quot;</td><td>&quot;A01&quot;</td><td>&quot;Isaiah&quot;</td><td>&quot;BON168854&quot;</td><td>&quot;59278&quot;</td><td>&quot;3200424f-4e16-8854-5500-4fcd95…</td><td>2025</td><td>2025</td><td>null</td><td>null</td></tr><tr><td>2025</td><td>&quot;IND&quot;</td><td>&quot;LB&quot;</td><td>&quot;LB&quot;</td><td>&quot;47&quot;</td><td>&quot;CUT&quot;</td><td>&quot;Jake Chaney&quot;</td><td>&quot;Jake&quot;</td><td>&quot;Chaney&quot;</td><td>null</td><td>null</td><td>230</td><td>null</td><td>&quot;00-0040783&quot;</td><td>null</td><td>null</td><td>null</td><td>null</td><td>null</td><td>null</td><td>null</td><td>null</td><td>0</td><td>null</td><td>null</td><td>1</td><td>&quot;REG&quot;</td><td>&quot;W03&quot;</td><td>&quot;Jake&quot;</td><td>&quot;CHA365039&quot;</td><td>&quot;59276&quot;</td><td>&quot;32004348-4136-5039-1d25-b16549…</td><td>2025</td><td>2025</td><td>null</td><td>null</td></tr><tr><td>2025</td><td>&quot;CLE&quot;</td><td>&quot;RB&quot;</td><td>&quot;RB&quot;</td><td>&quot;10&quot;</td><td>&quot;ACT&quot;</td><td>&quot;Quinshon Judkins&quot;</td><td>&quot;Quinshon&quot;</td><td>&quot;Judkins&quot;</td><td>2003-10-29</td><td>72.0</td><td>219</td><td>&quot;Ohio State; Mississippi&quot;</td><td>&quot;00-0040784&quot;</td><td>null</td><td>null</td><td>null</td><td>null</td><td>null</td><td>null</td><td>null</td><td>null</td><td>0</td><td>&quot;https://static.www.nfl.com/ima…</td><td>&quot;RB&quot;</td><td>2</td><td>&quot;REG&quot;</td><td>&quot;A01&quot;</td><td>&quot;Quinshon&quot;</td><td>&quot;JUD359919&quot;</td><td>&quot;58241&quot;</td><td>&quot;32004841-5351-2236-fd73-19b38e…</td><td>2025</td><td>2025</td><td>&quot;CLE&quot;</td><td>&quot;36&quot;</td></tr><tr><td>2025</td><td>&quot;CLE&quot;</td><td>&quot;RB&quot;</td><td>&quot;RB&quot;</td><td>&quot;10&quot;</td><td>&quot;EXE&quot;</td><td>&quot;Quinshon Judkins&quot;</td><td>&quot;Quinshon&quot;</td><td>&quot;Judkins&quot;</td><td>2003-10-29</td><td>72.0</td><td>219</td><td>&quot;Ohio State; Mississippi&quot;</td><td>&quot;00-0040784&quot;</td><td>null</td><td>null</td><td>null</td><td>null</td><td>null</td><td>null</td><td>null</td><td>null</td><td>0</td><td>&quot;https://static.www.nfl.com/ima…</td><td>null</td><td>1</td><td>&quot;REG&quot;</td><td>&quot;E02&quot;</td><td>&quot;Quinshon&quot;</td><td>&quot;JUD359919&quot;</td><td>&quot;58241&quot;</td><td>&quot;32004841-5351-2236-fd73-19b38e…</td><td>2025</td><td>2025</td><td>&quot;CLE&quot;</td><td>&quot;36&quot;</td></tr></tbody></table></div>"
      ],
      "text/plain": [
       "shape: (60_269, 36)\n",
       "┌────────┬──────┬──────────┬─────────────┬───┬────────────┬─────────────┬────────────┬─────────────┐\n",
       "│ season ┆ team ┆ position ┆ depth_chart ┆ … ┆ entry_year ┆ rookie_year ┆ draft_club ┆ draft_numbe │\n",
       "│ ---    ┆ ---  ┆ ---      ┆ _position   ┆   ┆ ---        ┆ ---         ┆ ---        ┆ r           │\n",
       "│ i32    ┆ str  ┆ str      ┆ ---         ┆   ┆ i32        ┆ i32         ┆ str        ┆ ---         │\n",
       "│        ┆      ┆          ┆ str         ┆   ┆            ┆             ┆            ┆ str         │\n",
       "╞════════╪══════╪══════════╪═════════════╪═══╪════════════╪═════════════╪════════════╪═════════════╡\n",
       "│ 2002   ┆ CHI  ┆ RB       ┆ null        ┆ … ┆ 1998       ┆ 1998        ┆ null       ┆ null        │\n",
       "│ 2002   ┆ NYJ  ┆ CB       ┆ null        ┆ … ┆ 1996       ┆ 1996        ┆ TB         ┆ 71          │\n",
       "│ 2002   ┆ TEN  ┆ G        ┆ null        ┆ … ┆ 1996       ┆ 1996        ┆ NO         ┆ 145         │\n",
       "│ 2002   ┆ DAL  ┆ T        ┆ null        ┆ … ┆ 1998       ┆ 1998        ┆ DAL        ┆ 38          │\n",
       "│ 2002   ┆ OAK  ┆ DT       ┆ null        ┆ … ┆ 1994       ┆ 1994        ┆ SEA        ┆ 8           │\n",
       "│ …      ┆ …    ┆ …        ┆ …           ┆ … ┆ …          ┆ …           ┆ …          ┆ …           │\n",
       "│ 2025   ┆ IND  ┆ LB       ┆ LB          ┆ … ┆ 2025       ┆ 2025        ┆ null       ┆ null        │\n",
       "│ 2025   ┆ CLE  ┆ WR       ┆ WR          ┆ … ┆ 2025       ┆ 2025        ┆ null       ┆ null        │\n",
       "│ 2025   ┆ IND  ┆ LB       ┆ LB          ┆ … ┆ 2025       ┆ 2025        ┆ null       ┆ null        │\n",
       "│ 2025   ┆ CLE  ┆ RB       ┆ RB          ┆ … ┆ 2025       ┆ 2025        ┆ CLE        ┆ 36          │\n",
       "│ 2025   ┆ CLE  ┆ RB       ┆ RB          ┆ … ┆ 2025       ┆ 2025        ┆ CLE        ┆ 36          │\n",
       "└────────┴──────┴──────────┴─────────────┴───┴────────────┴─────────────┴────────────┴─────────────┘"
      ]
     },
     "execution_count": 24,
     "metadata": {},
     "output_type": "execute_result"
    }
   ],
   "source": [
    "rosters = nfl.load_rosters(range(2002,end_year))\n",
    "rosters"
   ]
  },
  {
   "cell_type": "code",
   "execution_count": 25,
   "metadata": {},
   "outputs": [
    {
     "data": {
      "text/plain": [
       "<duckdb.duckdb.DuckDBPyConnection at 0x27004a6e6b0>"
      ]
     },
     "execution_count": 25,
     "metadata": {},
     "output_type": "execute_result"
    }
   ],
   "source": [
    "#rosters.to_sql('rosters', conn, if_exists='replace', index=False)\n",
    "con.execute(\"CREATE OR REPLACE TABLE rosters AS SELECT * FROM rosters\")"
   ]
  },
  {
   "cell_type": "code",
   "execution_count": 26,
   "metadata": {},
   "outputs": [
    {
     "name": "stdout",
     "output_type": "stream",
     "text": [
      "Downloading https://github.com/dynastyprocess/data/raw/master/files/db_playerids.csv\n"
     ]
    },
    {
     "name": "stderr",
     "output_type": "stream",
     "text": [
      "Downloading: 2.54MB [00:00, 25.4MB/s]                  \n"
     ]
    },
    {
     "data": {
      "text/html": [
       "<div><style>\n",
       ".dataframe > thead > tr,\n",
       ".dataframe > tbody > tr {\n",
       "  text-align: right;\n",
       "  white-space: pre-wrap;\n",
       "}\n",
       "</style>\n",
       "<small>shape: (12_126, 35)</small><table border=\"1\" class=\"dataframe\"><thead><tr><th>mfl_id</th><th>sportradar_id</th><th>fantasypros_id</th><th>gsis_id</th><th>pff_id</th><th>sleeper_id</th><th>nfl_id</th><th>espn_id</th><th>yahoo_id</th><th>fleaflicker_id</th><th>cbs_id</th><th>pfr_id</th><th>cfbref_id</th><th>rotowire_id</th><th>rotoworld_id</th><th>ktc_id</th><th>stats_id</th><th>stats_global_id</th><th>fantasy_data_id</th><th>swish_id</th><th>name</th><th>merge_name</th><th>position</th><th>team</th><th>birthdate</th><th>age</th><th>draft_year</th><th>draft_round</th><th>draft_pick</th><th>draft_ovr</th><th>twitter_username</th><th>height</th><th>weight</th><th>college</th><th>db_season</th></tr><tr><td>i64</td><td>str</td><td>i64</td><td>str</td><td>i64</td><td>i64</td><td>i64</td><td>i64</td><td>str</td><td>str</td><td>i64</td><td>str</td><td>str</td><td>i64</td><td>str</td><td>i64</td><td>i64</td><td>i64</td><td>str</td><td>str</td><td>str</td><td>str</td><td>str</td><td>str</td><td>str</td><td>f64</td><td>i64</td><td>i64</td><td>i64</td><td>i64</td><td>str</td><td>i64</td><td>i64</td><td>str</td><td>i64</td></tr></thead><tbody><tr><td>17030</td><td>&quot;3c76cab3-3df2-43dd-acaa-57e055…</td><td>24755</td><td>&quot;00-0040676&quot;</td><td>133244</td><td>12522</td><td>58203</td><td>4688380</td><td>null</td><td>null</td><td>3168422</td><td>&quot;WardCa00&quot;</td><td>null</td><td>16997</td><td>null</td><td>1730</td><td>41786</td><td>0</td><td>null</td><td>null</td><td>&quot;Cam Ward&quot;</td><td>&quot;cam ward&quot;</td><td>&quot;QB&quot;</td><td>&quot;TEN&quot;</td><td>&quot;2002-05-25&quot;</td><td>23.3</td><td>2025</td><td>1</td><td>1</td><td>1</td><td>null</td><td>74</td><td>219</td><td>&quot;Miami (FL)&quot;</td><td>2025</td></tr><tr><td>17031</td><td>&quot;270e09bc-8bf8-44b0-87ed-1fd014…</td><td>25968</td><td>&quot;00-0040668&quot;</td><td>131396</td><td>12524</td><td>58349</td><td>4432762</td><td>null</td><td>null</td><td>26710004</td><td>&quot;SandSh00&quot;</td><td>null</td><td>18479</td><td>null</td><td>1731</td><td>41930</td><td>0</td><td>null</td><td>null</td><td>&quot;Shedeur Sanders&quot;</td><td>&quot;shedeur sanders&quot;</td><td>&quot;QB&quot;</td><td>&quot;CLE&quot;</td><td>&quot;2002-02-07&quot;</td><td>23.6</td><td>2025</td><td>5</td><td>6</td><td>144</td><td>null</td><td>74</td><td>212</td><td>&quot;Colorado&quot;</td><td>2025</td></tr><tr><td>17032</td><td>&quot;53848cba-bcad-4cd0-bb35-0a1f6e…</td><td>23160</td><td>&quot;00-0040691&quot;</td><td>146409</td><td>12508</td><td>58227</td><td>4689114</td><td>null</td><td>null</td><td>26694019</td><td>&quot;DartJa00&quot;</td><td>null</td><td>18574</td><td>null</td><td>1732</td><td>41810</td><td>0</td><td>null</td><td>null</td><td>&quot;Jaxson Dart&quot;</td><td>&quot;jaxson dart&quot;</td><td>&quot;QB&quot;</td><td>&quot;NYG&quot;</td><td>&quot;2003-05-13&quot;</td><td>22.3</td><td>2025</td><td>1</td><td>25</td><td>25</td><td>null</td><td>74</td><td>223</td><td>&quot;Ole Miss&quot;</td><td>2025</td></tr><tr><td>17033</td><td>&quot;b0eb5b67-4ef2-462d-bfe7-e73bcc…</td><td>22884</td><td>&quot;00-0040673&quot;</td><td>146590</td><td>12510</td><td>58297</td><td>4432734</td><td>null</td><td>null</td><td>26694943</td><td>&quot;MilrJa00&quot;</td><td>null</td><td>18477</td><td>null</td><td>1733</td><td>41882</td><td>0</td><td>null</td><td>null</td><td>&quot;Jalen Milroe&quot;</td><td>&quot;jalen milroe&quot;</td><td>&quot;QB&quot;</td><td>&quot;SEA&quot;</td><td>&quot;2002-12-13&quot;</td><td>22.8</td><td>2025</td><td>3</td><td>28</td><td>92</td><td>null</td><td>74</td><td>216</td><td>&quot;Alabama&quot;</td><td>2025</td></tr><tr><td>17034</td><td>&quot;d89f0384-21a6-44e4-8aa6-324cb2…</td><td>23680</td><td>&quot;00-0040234&quot;</td><td>127253</td><td>12500</td><td>58436</td><td>4889929</td><td>null</td><td>null</td><td>26746721</td><td>&quot;EwerQu00&quot;</td><td>null</td><td>18505</td><td>null</td><td>1734</td><td>42037</td><td>0</td><td>null</td><td>null</td><td>&quot;Quinn Ewers&quot;</td><td>&quot;quinn ewers&quot;</td><td>&quot;QB&quot;</td><td>&quot;MIA&quot;</td><td>&quot;2003-05-13&quot;</td><td>22.3</td><td>2025</td><td>7</td><td>15</td><td>231</td><td>null</td><td>74</td><td>209</td><td>&quot;Texas&quot;</td><td>2025</td></tr><tr><td>&hellip;</td><td>&hellip;</td><td>&hellip;</td><td>&hellip;</td><td>&hellip;</td><td>&hellip;</td><td>&hellip;</td><td>&hellip;</td><td>&hellip;</td><td>&hellip;</td><td>&hellip;</td><td>&hellip;</td><td>&hellip;</td><td>&hellip;</td><td>&hellip;</td><td>&hellip;</td><td>&hellip;</td><td>&hellip;</td><td>&hellip;</td><td>&hellip;</td><td>&hellip;</td><td>&hellip;</td><td>&hellip;</td><td>&hellip;</td><td>&hellip;</td><td>&hellip;</td><td>&hellip;</td><td>&hellip;</td><td>&hellip;</td><td>&hellip;</td><td>&hellip;</td><td>&hellip;</td><td>&hellip;</td><td>&hellip;</td><td>&hellip;</td></tr><tr><td>17372</td><td>null</td><td>null</td><td>null</td><td>null</td><td>null</td><td>null</td><td>null</td><td>null</td><td>null</td><td>null</td><td>null</td><td>null</td><td>null</td><td>null</td><td>null</td><td>null</td><td>null</td><td>null</td><td>null</td><td>&quot;Zion Childress&quot;</td><td>&quot;zion childress&quot;</td><td>&quot;CB&quot;</td><td>&quot;DAL&quot;</td><td>null</td><td>null</td><td>null</td><td>null</td><td>null</td><td>null</td><td>null</td><td>null</td><td>null</td><td>null</td><td>2025</td></tr><tr><td>17373</td><td>null</td><td>null</td><td>null</td><td>null</td><td>null</td><td>null</td><td>null</td><td>null</td><td>null</td><td>null</td><td>null</td><td>null</td><td>null</td><td>null</td><td>null</td><td>null</td><td>null</td><td>null</td><td>null</td><td>&quot;Keonta Jenkins&quot;</td><td>&quot;keonta jenkins&quot;</td><td>&quot;S&quot;</td><td>&quot;BUF&quot;</td><td>null</td><td>null</td><td>null</td><td>null</td><td>null</td><td>null</td><td>null</td><td>null</td><td>null</td><td>null</td><td>2025</td></tr><tr><td>17374</td><td>null</td><td>null</td><td>null</td><td>null</td><td>null</td><td>null</td><td>null</td><td>null</td><td>null</td><td>null</td><td>null</td><td>null</td><td>null</td><td>null</td><td>null</td><td>null</td><td>null</td><td>null</td><td>null</td><td>&quot;C.J. Ravenell&quot;</td><td>&quot;cj ravenell&quot;</td><td>&quot;DE&quot;</td><td>&quot;TEN&quot;</td><td>null</td><td>null</td><td>null</td><td>null</td><td>null</td><td>null</td><td>null</td><td>null</td><td>null</td><td>null</td><td>2025</td></tr><tr><td>17375</td><td>null</td><td>null</td><td>null</td><td>null</td><td>null</td><td>null</td><td>null</td><td>null</td><td>null</td><td>null</td><td>null</td><td>null</td><td>null</td><td>null</td><td>null</td><td>null</td><td>null</td><td>null</td><td>null</td><td>&quot;Zaire Mitchell-Paden&quot;</td><td>&quot;zaire mitchell-paden&quot;</td><td>&quot;TE&quot;</td><td>&quot;BAL&quot;</td><td>null</td><td>null</td><td>null</td><td>null</td><td>null</td><td>null</td><td>null</td><td>null</td><td>null</td><td>null</td><td>2025</td></tr><tr><td>17376</td><td>null</td><td>null</td><td>null</td><td>null</td><td>null</td><td>null</td><td>null</td><td>null</td><td>null</td><td>null</td><td>null</td><td>null</td><td>null</td><td>null</td><td>null</td><td>null</td><td>null</td><td>null</td><td>null</td><td>&quot;Kevin Knowles&quot;</td><td>&quot;kevin knowles&quot;</td><td>&quot;CB&quot;</td><td>&quot;KCC&quot;</td><td>null</td><td>null</td><td>null</td><td>null</td><td>null</td><td>null</td><td>null</td><td>null</td><td>null</td><td>null</td><td>2025</td></tr></tbody></table></div>"
      ],
      "text/plain": [
       "shape: (12_126, 35)\n",
       "┌────────┬──────────────┬──────────────┬────────────┬───┬────────┬────────┬────────────┬───────────┐\n",
       "│ mfl_id ┆ sportradar_i ┆ fantasypros_ ┆ gsis_id    ┆ … ┆ height ┆ weight ┆ college    ┆ db_season │\n",
       "│ ---    ┆ d            ┆ id           ┆ ---        ┆   ┆ ---    ┆ ---    ┆ ---        ┆ ---       │\n",
       "│ i64    ┆ ---          ┆ ---          ┆ str        ┆   ┆ i64    ┆ i64    ┆ str        ┆ i64       │\n",
       "│        ┆ str          ┆ i64          ┆            ┆   ┆        ┆        ┆            ┆           │\n",
       "╞════════╪══════════════╪══════════════╪════════════╪═══╪════════╪════════╪════════════╪═══════════╡\n",
       "│ 17030  ┆ 3c76cab3-3df ┆ 24755        ┆ 00-0040676 ┆ … ┆ 74     ┆ 219    ┆ Miami (FL) ┆ 2025      │\n",
       "│        ┆ 2-43dd-acaa- ┆              ┆            ┆   ┆        ┆        ┆            ┆           │\n",
       "│        ┆ 57e055…      ┆              ┆            ┆   ┆        ┆        ┆            ┆           │\n",
       "│ 17031  ┆ 270e09bc-8bf ┆ 25968        ┆ 00-0040668 ┆ … ┆ 74     ┆ 212    ┆ Colorado   ┆ 2025      │\n",
       "│        ┆ 8-44b0-87ed- ┆              ┆            ┆   ┆        ┆        ┆            ┆           │\n",
       "│        ┆ 1fd014…      ┆              ┆            ┆   ┆        ┆        ┆            ┆           │\n",
       "│ 17032  ┆ 53848cba-bca ┆ 23160        ┆ 00-0040691 ┆ … ┆ 74     ┆ 223    ┆ Ole Miss   ┆ 2025      │\n",
       "│        ┆ d-4cd0-bb35- ┆              ┆            ┆   ┆        ┆        ┆            ┆           │\n",
       "│        ┆ 0a1f6e…      ┆              ┆            ┆   ┆        ┆        ┆            ┆           │\n",
       "│ 17033  ┆ b0eb5b67-4ef ┆ 22884        ┆ 00-0040673 ┆ … ┆ 74     ┆ 216    ┆ Alabama    ┆ 2025      │\n",
       "│        ┆ 2-462d-bfe7- ┆              ┆            ┆   ┆        ┆        ┆            ┆           │\n",
       "│        ┆ e73bcc…      ┆              ┆            ┆   ┆        ┆        ┆            ┆           │\n",
       "│ 17034  ┆ d89f0384-21a ┆ 23680        ┆ 00-0040234 ┆ … ┆ 74     ┆ 209    ┆ Texas      ┆ 2025      │\n",
       "│        ┆ 6-44e4-8aa6- ┆              ┆            ┆   ┆        ┆        ┆            ┆           │\n",
       "│        ┆ 324cb2…      ┆              ┆            ┆   ┆        ┆        ┆            ┆           │\n",
       "│ …      ┆ …            ┆ …            ┆ …          ┆ … ┆ …      ┆ …      ┆ …          ┆ …         │\n",
       "│ 17372  ┆ null         ┆ null         ┆ null       ┆ … ┆ null   ┆ null   ┆ null       ┆ 2025      │\n",
       "│ 17373  ┆ null         ┆ null         ┆ null       ┆ … ┆ null   ┆ null   ┆ null       ┆ 2025      │\n",
       "│ 17374  ┆ null         ┆ null         ┆ null       ┆ … ┆ null   ┆ null   ┆ null       ┆ 2025      │\n",
       "│ 17375  ┆ null         ┆ null         ┆ null       ┆ … ┆ null   ┆ null   ┆ null       ┆ 2025      │\n",
       "│ 17376  ┆ null         ┆ null         ┆ null       ┆ … ┆ null   ┆ null   ┆ null       ┆ 2025      │\n",
       "└────────┴──────────────┴──────────────┴────────────┴───┴────────┴────────┴────────────┴───────────┘"
      ]
     },
     "execution_count": 26,
     "metadata": {},
     "output_type": "execute_result"
    }
   ],
   "source": [
    "ids = nfl.load_ff_playerids()\n",
    "ids"
   ]
  },
  {
   "cell_type": "code",
   "execution_count": 27,
   "metadata": {},
   "outputs": [
    {
     "data": {
      "text/plain": [
       "<duckdb.duckdb.DuckDBPyConnection at 0x27004a6e6b0>"
      ]
     },
     "execution_count": 27,
     "metadata": {},
     "output_type": "execute_result"
    }
   ],
   "source": [
    "#ids.to_sql('ids', conn, if_exists='replace', index=False)\n",
    "con.execute(\"CREATE OR REPLACE TABLE ids AS SELECT * FROM ids\")"
   ]
  },
  {
   "cell_type": "code",
   "execution_count": 28,
   "metadata": {},
   "outputs": [
    {
     "name": "stdout",
     "output_type": "stream",
     "text": [
      "Downloading https://github.com/nflverse/nflverse-data/releases/download/snap_counts/snap_counts_2012.parquet\n"
     ]
    },
    {
     "name": "stderr",
     "output_type": "stream",
     "text": [
      "Downloading: 100%|██████████| 4.59k/4.59k [00:00<?, ?B/s]"
     ]
    },
    {
     "name": "stdout",
     "output_type": "stream",
     "text": [
      "Downloading https://github.com/nflverse/nflverse-data/releases/download/snap_counts/snap_counts_2013.parquet\n"
     ]
    },
    {
     "name": "stderr",
     "output_type": "stream",
     "text": [
      "\n",
      "Downloading: 100%|██████████| 210k/210k [00:00<00:00, 1.20MB/s] \n"
     ]
    },
    {
     "name": "stdout",
     "output_type": "stream",
     "text": [
      "Downloading https://github.com/nflverse/nflverse-data/releases/download/snap_counts/snap_counts_2014.parquet\n"
     ]
    },
    {
     "name": "stderr",
     "output_type": "stream",
     "text": [
      "Downloading: 100%|██████████| 212k/212k [00:00<00:00, 212MB/s]\n"
     ]
    },
    {
     "name": "stdout",
     "output_type": "stream",
     "text": [
      "Downloading https://github.com/nflverse/nflverse-data/releases/download/snap_counts/snap_counts_2015.parquet\n"
     ]
    },
    {
     "name": "stderr",
     "output_type": "stream",
     "text": [
      "Downloading: 100%|██████████| 213k/213k [00:00<00:00, 213MB/s]\n"
     ]
    },
    {
     "name": "stdout",
     "output_type": "stream",
     "text": [
      "Downloading https://github.com/nflverse/nflverse-data/releases/download/snap_counts/snap_counts_2016.parquet\n"
     ]
    },
    {
     "name": "stderr",
     "output_type": "stream",
     "text": [
      "Downloading: 100%|██████████| 213k/213k [00:00<00:00, 107MB/s]\n"
     ]
    },
    {
     "name": "stdout",
     "output_type": "stream",
     "text": [
      "Downloading https://github.com/nflverse/nflverse-data/releases/download/snap_counts/snap_counts_2017.parquet\n"
     ]
    },
    {
     "name": "stderr",
     "output_type": "stream",
     "text": [
      "Downloading: 100%|██████████| 213k/213k [00:00<00:00, 213MB/s]\n"
     ]
    },
    {
     "name": "stdout",
     "output_type": "stream",
     "text": [
      "Downloading https://github.com/nflverse/nflverse-data/releases/download/snap_counts/snap_counts_2018.parquet\n"
     ]
    },
    {
     "name": "stderr",
     "output_type": "stream",
     "text": [
      "Downloading: 100%|██████████| 213k/213k [00:00<00:00, 213MB/s]\n"
     ]
    },
    {
     "name": "stdout",
     "output_type": "stream",
     "text": [
      "Downloading https://github.com/nflverse/nflverse-data/releases/download/snap_counts/snap_counts_2019.parquet\n"
     ]
    },
    {
     "name": "stderr",
     "output_type": "stream",
     "text": [
      "Downloading: 100%|██████████| 196k/196k [00:00<00:00, 196MB/s]"
     ]
    },
    {
     "name": "stdout",
     "output_type": "stream",
     "text": [
      "Downloading https://github.com/nflverse/nflverse-data/releases/download/snap_counts/snap_counts_2020.parquet\n"
     ]
    },
    {
     "name": "stderr",
     "output_type": "stream",
     "text": [
      "\n",
      "Downloading: 100%|██████████| 233k/233k [00:00<00:00, 233MB/s]\n"
     ]
    },
    {
     "name": "stdout",
     "output_type": "stream",
     "text": [
      "Downloading https://github.com/nflverse/nflverse-data/releases/download/snap_counts/snap_counts_2021.parquet\n"
     ]
    },
    {
     "name": "stderr",
     "output_type": "stream",
     "text": [
      "Downloading: 100%|██████████| 242k/242k [00:00<00:00, 121MB/s]\n"
     ]
    },
    {
     "name": "stdout",
     "output_type": "stream",
     "text": [
      "Downloading https://github.com/nflverse/nflverse-data/releases/download/snap_counts/snap_counts_2022.parquet\n"
     ]
    },
    {
     "name": "stderr",
     "output_type": "stream",
     "text": [
      "Downloading: 100%|██████████| 239k/239k [00:00<00:00, 79.5MB/s]\n"
     ]
    },
    {
     "name": "stdout",
     "output_type": "stream",
     "text": [
      "Downloading https://github.com/nflverse/nflverse-data/releases/download/snap_counts/snap_counts_2023.parquet\n"
     ]
    },
    {
     "name": "stderr",
     "output_type": "stream",
     "text": [
      "Downloading: 100%|██████████| 239k/239k [00:00<00:00, 238MB/s]\n"
     ]
    },
    {
     "name": "stdout",
     "output_type": "stream",
     "text": [
      "Downloading https://github.com/nflverse/nflverse-data/releases/download/snap_counts/snap_counts_2024.parquet\n"
     ]
    },
    {
     "name": "stderr",
     "output_type": "stream",
     "text": [
      "Downloading: 100%|██████████| 241k/241k [00:00<00:00, 80.4MB/s]\n"
     ]
    },
    {
     "name": "stdout",
     "output_type": "stream",
     "text": [
      "Downloading https://github.com/nflverse/nflverse-data/releases/download/snap_counts/snap_counts_2025.parquet\n"
     ]
    },
    {
     "name": "stderr",
     "output_type": "stream",
     "text": [
      "Downloading: 100%|██████████| 58.6k/58.6k [00:00<00:00, 58.6MB/s]\n"
     ]
    },
    {
     "data": {
      "text/plain": [
       "<duckdb.duckdb.DuckDBPyConnection at 0x27004a6e6b0>"
      ]
     },
     "execution_count": 28,
     "metadata": {},
     "output_type": "execute_result"
    }
   ],
   "source": [
    "snaps = nfl.load_snap_counts(range(2012,end_year))\n",
    "team_map = {'OAK':'LV',\n",
    "            'STL':'LA',\n",
    "            'SD':'LAC'}\n",
    "snaps = snaps.to_pandas()  # temporarily convert\n",
    "snaps['team'] = snaps['team'].map(lambda x: team_map.get(x,x))\n",
    "snaps = pl.from_pandas(snaps)\n",
    "#snaps.to_sql('snaps', conn, if_exists='replace', index=False)\n",
    "con.execute(\"CREATE OR REPLACE TABLE snaps AS SELECT * FROM snaps\")"
   ]
  },
  {
   "cell_type": "code",
   "execution_count": 29,
   "metadata": {},
   "outputs": [
    {
     "name": "stdout",
     "output_type": "stream",
     "text": [
      "Downloading https://github.com/nflverse/nflverse-data/releases/download/depth_charts/depth_charts_2001.parquet\n"
     ]
    },
    {
     "name": "stderr",
     "output_type": "stream",
     "text": [
      "Downloading: 100%|██████████| 206k/206k [00:00<00:00, 103MB/s]"
     ]
    },
    {
     "name": "stdout",
     "output_type": "stream",
     "text": [
      "Downloading https://github.com/nflverse/nflverse-data/releases/download/depth_charts/depth_charts_2002.parquet\n"
     ]
    },
    {
     "name": "stderr",
     "output_type": "stream",
     "text": [
      "\n",
      "Downloading: 100%|██████████| 347k/347k [00:00<00:00, 86.7MB/s]\n"
     ]
    },
    {
     "name": "stdout",
     "output_type": "stream",
     "text": [
      "Downloading https://github.com/nflverse/nflverse-data/releases/download/depth_charts/depth_charts_2003.parquet\n"
     ]
    },
    {
     "name": "stderr",
     "output_type": "stream",
     "text": [
      "Downloading: 100%|██████████| 339k/339k [00:00<00:00, 113MB/s]\n"
     ]
    },
    {
     "name": "stdout",
     "output_type": "stream",
     "text": [
      "Downloading https://github.com/nflverse/nflverse-data/releases/download/depth_charts/depth_charts_2004.parquet\n"
     ]
    },
    {
     "name": "stderr",
     "output_type": "stream",
     "text": [
      "Downloading: 100%|██████████| 265k/265k [00:00<00:00, 133MB/s]\n"
     ]
    },
    {
     "name": "stdout",
     "output_type": "stream",
     "text": [
      "Downloading https://github.com/nflverse/nflverse-data/releases/download/depth_charts/depth_charts_2005.parquet\n"
     ]
    },
    {
     "name": "stderr",
     "output_type": "stream",
     "text": [
      "Downloading: 100%|██████████| 438k/438k [00:00<00:00, 73.0MB/s]\n"
     ]
    },
    {
     "name": "stdout",
     "output_type": "stream",
     "text": [
      "Downloading https://github.com/nflverse/nflverse-data/releases/download/depth_charts/depth_charts_2006.parquet\n"
     ]
    },
    {
     "name": "stderr",
     "output_type": "stream",
     "text": [
      "Downloading: 100%|██████████| 394k/394k [00:00<00:00, 131MB/s]\n"
     ]
    },
    {
     "name": "stdout",
     "output_type": "stream",
     "text": [
      "Downloading https://github.com/nflverse/nflverse-data/releases/download/depth_charts/depth_charts_2007.parquet\n"
     ]
    },
    {
     "name": "stderr",
     "output_type": "stream",
     "text": [
      "Downloading: 100%|██████████| 498k/498k [00:00<00:00, 99.6MB/s]\n"
     ]
    },
    {
     "name": "stdout",
     "output_type": "stream",
     "text": [
      "Downloading https://github.com/nflverse/nflverse-data/releases/download/depth_charts/depth_charts_2008.parquet\n"
     ]
    },
    {
     "name": "stderr",
     "output_type": "stream",
     "text": [
      "Downloading: 100%|██████████| 496k/496k [00:00<00:00, 99.2MB/s]\n"
     ]
    },
    {
     "name": "stdout",
     "output_type": "stream",
     "text": [
      "Downloading https://github.com/nflverse/nflverse-data/releases/download/depth_charts/depth_charts_2009.parquet\n"
     ]
    },
    {
     "name": "stderr",
     "output_type": "stream",
     "text": [
      "Downloading: 100%|██████████| 491k/491k [00:00<00:00, 81.8MB/s]\n"
     ]
    },
    {
     "name": "stdout",
     "output_type": "stream",
     "text": [
      "Downloading https://github.com/nflverse/nflverse-data/releases/download/depth_charts/depth_charts_2010.parquet\n"
     ]
    },
    {
     "name": "stderr",
     "output_type": "stream",
     "text": [
      "Downloading: 100%|██████████| 493k/493k [00:00<00:00, 109MB/s]\n"
     ]
    },
    {
     "name": "stdout",
     "output_type": "stream",
     "text": [
      "Downloading https://github.com/nflverse/nflverse-data/releases/download/depth_charts/depth_charts_2011.parquet\n"
     ]
    },
    {
     "name": "stderr",
     "output_type": "stream",
     "text": [
      "Downloading: 100%|██████████| 491k/491k [00:00<00:00, 123MB/s]\n"
     ]
    },
    {
     "name": "stdout",
     "output_type": "stream",
     "text": [
      "Downloading https://github.com/nflverse/nflverse-data/releases/download/depth_charts/depth_charts_2012.parquet\n"
     ]
    },
    {
     "name": "stderr",
     "output_type": "stream",
     "text": [
      "Downloading: 100%|██████████| 485k/485k [00:00<00:00, 162MB/s]\n"
     ]
    },
    {
     "name": "stdout",
     "output_type": "stream",
     "text": [
      "Downloading https://github.com/nflverse/nflverse-data/releases/download/depth_charts/depth_charts_2013.parquet\n"
     ]
    },
    {
     "name": "stderr",
     "output_type": "stream",
     "text": [
      "Downloading: 100%|██████████| 481k/481k [00:00<00:00, 120MB/s]\n"
     ]
    },
    {
     "name": "stdout",
     "output_type": "stream",
     "text": [
      "Downloading https://github.com/nflverse/nflverse-data/releases/download/depth_charts/depth_charts_2014.parquet\n"
     ]
    },
    {
     "name": "stderr",
     "output_type": "stream",
     "text": [
      "Downloading: 100%|██████████| 435k/435k [00:00<00:00, 20.7MB/s]\n"
     ]
    },
    {
     "name": "stdout",
     "output_type": "stream",
     "text": [
      "Downloading https://github.com/nflverse/nflverse-data/releases/download/depth_charts/depth_charts_2015.parquet\n"
     ]
    },
    {
     "name": "stderr",
     "output_type": "stream",
     "text": [
      "Downloading: 100%|██████████| 484k/484k [00:00<00:00, 96.9MB/s]\n"
     ]
    },
    {
     "name": "stdout",
     "output_type": "stream",
     "text": [
      "Downloading https://github.com/nflverse/nflverse-data/releases/download/depth_charts/depth_charts_2016.parquet\n"
     ]
    },
    {
     "name": "stderr",
     "output_type": "stream",
     "text": [
      "Downloading: 100%|██████████| 472k/472k [00:00<00:00, 94.5MB/s]\n"
     ]
    },
    {
     "name": "stdout",
     "output_type": "stream",
     "text": [
      "Downloading https://github.com/nflverse/nflverse-data/releases/download/depth_charts/depth_charts_2017.parquet\n"
     ]
    },
    {
     "name": "stderr",
     "output_type": "stream",
     "text": [
      "Downloading: 100%|██████████| 495k/495k [00:00<00:00, 124MB/s]\n"
     ]
    },
    {
     "name": "stdout",
     "output_type": "stream",
     "text": [
      "Downloading https://github.com/nflverse/nflverse-data/releases/download/depth_charts/depth_charts_2018.parquet\n"
     ]
    },
    {
     "name": "stderr",
     "output_type": "stream",
     "text": [
      "Downloading: 100%|██████████| 495k/495k [00:00<00:00, 124MB/s]\n"
     ]
    },
    {
     "name": "stdout",
     "output_type": "stream",
     "text": [
      "Downloading https://github.com/nflverse/nflverse-data/releases/download/depth_charts/depth_charts_2019.parquet\n"
     ]
    },
    {
     "name": "stderr",
     "output_type": "stream",
     "text": [
      "Downloading: 100%|██████████| 479k/479k [00:00<00:00, 79.8MB/s]\n"
     ]
    },
    {
     "name": "stdout",
     "output_type": "stream",
     "text": [
      "Downloading https://github.com/nflverse/nflverse-data/releases/download/depth_charts/depth_charts_2020.parquet\n"
     ]
    },
    {
     "name": "stderr",
     "output_type": "stream",
     "text": [
      "Downloading: 100%|██████████| 463k/463k [00:00<00:00, 51.4MB/s]\n"
     ]
    },
    {
     "name": "stdout",
     "output_type": "stream",
     "text": [
      "Downloading https://github.com/nflverse/nflverse-data/releases/download/depth_charts/depth_charts_2021.parquet\n"
     ]
    },
    {
     "name": "stderr",
     "output_type": "stream",
     "text": [
      "Downloading: 100%|██████████| 486k/486k [00:00<00:00, 81.0MB/s]\n"
     ]
    },
    {
     "name": "stdout",
     "output_type": "stream",
     "text": [
      "Downloading https://github.com/nflverse/nflverse-data/releases/download/depth_charts/depth_charts_2022.parquet\n"
     ]
    },
    {
     "name": "stderr",
     "output_type": "stream",
     "text": [
      "Downloading: 100%|██████████| 493k/493k [00:00<00:00, 98.6MB/s]\n"
     ]
    },
    {
     "name": "stdout",
     "output_type": "stream",
     "text": [
      "Downloading https://github.com/nflverse/nflverse-data/releases/download/depth_charts/depth_charts_2023.parquet\n"
     ]
    },
    {
     "name": "stderr",
     "output_type": "stream",
     "text": [
      "Downloading: 100%|██████████| 486k/486k [00:00<00:00, 69.4MB/s]\n"
     ]
    },
    {
     "name": "stdout",
     "output_type": "stream",
     "text": [
      "Downloading https://github.com/nflverse/nflverse-data/releases/download/depth_charts/depth_charts_2024.parquet\n"
     ]
    },
    {
     "name": "stderr",
     "output_type": "stream",
     "text": [
      "Downloading: 100%|██████████| 483k/483k [00:00<00:00, 69.0MB/s]\n"
     ]
    },
    {
     "name": "stdout",
     "output_type": "stream",
     "text": [
      "Downloading https://github.com/nflverse/nflverse-data/releases/download/depth_charts/depth_charts_2025.parquet\n"
     ]
    },
    {
     "name": "stderr",
     "output_type": "stream",
     "text": [
      "Downloading: 100%|██████████| 457k/457k [00:00<00:00, 114MB/s]\n"
     ]
    },
    {
     "data": {
      "text/plain": [
       "<duckdb.duckdb.DuckDBPyConnection at 0x27004a6e6b0>"
      ]
     },
     "execution_count": 29,
     "metadata": {},
     "output_type": "execute_result"
    }
   ],
   "source": [
    "depth = nfl.load_depth_charts(range(2001,end_year)).unique()\n",
    "\n",
    "team_map = {'OAK':'LV',\n",
    "            'STL':'LA',\n",
    "            'SD':'LAC'}\n",
    "\n",
    "depth = depth.to_pandas()  # temporarily convert\n",
    "depth['club_code'] = depth['club_code'].apply(lambda x: team_map.get(x,x))\n",
    "depth = depth.sort_values(by=['season','club_code','week','depth_team'])\n",
    "depth['dense_depth'] = depth.groupby(['club_code','season','week','position', 'game_type','formation']).cumcount()\n",
    "depth['depth_position'] = depth['depth_position'].replace({'\\n    ':None})\n",
    "depth['depth_position'] = depth['depth_position'].fillna(depth['position'])\n",
    "depth = depth.rename({'club_code':'team_name'},axis=1)\n",
    "\n",
    "#depth.to_sql('depth', conn, if_exists='replace', index=False)\n",
    "con.execute(\"CREATE OR REPLACE TABLE depth AS SELECT * FROM depth\")"
   ]
  },
  {
   "cell_type": "code",
   "execution_count": 41,
   "metadata": {},
   "outputs": [
    {
     "data": {
      "text/html": [
       "<div><style>\n",
       ".dataframe > thead > tr,\n",
       ".dataframe > tbody > tr {\n",
       "  text-align: right;\n",
       "  white-space: pre-wrap;\n",
       "}\n",
       "</style>\n",
       "<small>shape: (7_004, 46)</small><table border=\"1\" class=\"dataframe\"><thead><tr><th>game_id</th><th>season</th><th>game_type</th><th>week</th><th>gameday</th><th>weekday</th><th>gametime</th><th>away_team</th><th>away_score</th><th>home_team</th><th>home_score</th><th>location</th><th>result</th><th>total</th><th>overtime</th><th>old_game_id</th><th>gsis</th><th>nfl_detail_id</th><th>pfr</th><th>pff</th><th>espn</th><th>ftn</th><th>away_rest</th><th>home_rest</th><th>away_moneyline</th><th>home_moneyline</th><th>spread_line</th><th>away_spread_odds</th><th>home_spread_odds</th><th>total_line</th><th>under_odds</th><th>over_odds</th><th>div_game</th><th>roof</th><th>surface</th><th>temp</th><th>wind</th><th>away_qb_id</th><th>home_qb_id</th><th>away_qb_name</th><th>home_qb_name</th><th>away_coach</th><th>home_coach</th><th>referee</th><th>stadium_id</th><th>stadium</th></tr><tr><td>str</td><td>i64</td><td>str</td><td>i64</td><td>str</td><td>str</td><td>str</td><td>str</td><td>i64</td><td>str</td><td>i64</td><td>str</td><td>i64</td><td>i64</td><td>i64</td><td>i64</td><td>i64</td><td>str</td><td>str</td><td>str</td><td>i64</td><td>str</td><td>i64</td><td>i64</td><td>str</td><td>str</td><td>f64</td><td>str</td><td>str</td><td>f64</td><td>str</td><td>str</td><td>i64</td><td>str</td><td>str</td><td>i64</td><td>i64</td><td>str</td><td>str</td><td>str</td><td>str</td><td>str</td><td>str</td><td>str</td><td>str</td><td>str</td></tr></thead><tbody><tr><td>&quot;2000_01_SF_ATL&quot;</td><td>2000</td><td>&quot;REG&quot;</td><td>1</td><td>&quot;2000-09-03&quot;</td><td>&quot;Sunday&quot;</td><td>&quot;13:00&quot;</td><td>&quot;SF&quot;</td><td>28</td><td>&quot;ATL&quot;</td><td>36</td><td>&quot;Home&quot;</td><td>8</td><td>64</td><td>0</td><td>2000090310</td><td>998</td><td>null</td><td>&quot;200009030atl&quot;</td><td>null</td><td>200903001</td><td>null</td><td>7</td><td>7</td><td>null</td><td>null</td><td>6.5</td><td>null</td><td>null</td><td>46.5</td><td>null</td><td>null</td><td>1</td><td>&quot;dome&quot;</td><td>&quot;astroturf&quot;</td><td>null</td><td>null</td><td>&quot;00-0005755&quot;</td><td>&quot;00-0002876&quot;</td><td>&quot;Jeff Garcia&quot;</td><td>&quot;Chris Chandler&quot;</td><td>&quot;Steve Mariucci&quot;</td><td>&quot;Dan Reeves&quot;</td><td>&quot;Walt Coleman&quot;</td><td>&quot;ATL00&quot;</td><td>&quot;Georgia Dome&quot;</td></tr><tr><td>&quot;2000_01_JAX_CLE&quot;</td><td>2000</td><td>&quot;REG&quot;</td><td>1</td><td>&quot;2000-09-03&quot;</td><td>&quot;Sunday&quot;</td><td>&quot;13:00&quot;</td><td>&quot;JAX&quot;</td><td>27</td><td>&quot;CLE&quot;</td><td>7</td><td>&quot;Home&quot;</td><td>-20</td><td>34</td><td>0</td><td>2000090306</td><td>994</td><td>null</td><td>&quot;200009030cle&quot;</td><td>null</td><td>200903005</td><td>null</td><td>7</td><td>7</td><td>null</td><td>null</td><td>-10.5</td><td>null</td><td>null</td><td>38.5</td><td>null</td><td>null</td><td>1</td><td>&quot;outdoors&quot;</td><td>&quot;grass&quot;</td><td>78</td><td>6</td><td>&quot;00-0002110&quot;</td><td>&quot;00-0003535&quot;</td><td>&quot;Mark Brunell&quot;</td><td>&quot;Tim Couch&quot;</td><td>&quot;Tom Coughlin&quot;</td><td>&quot;Chris Palmer&quot;</td><td>&quot;Bernie Kukar&quot;</td><td>&quot;CLE00&quot;</td><td>&quot;Cleveland Browns Stadium&quot;</td></tr><tr><td>&quot;2000_01_IND_KC&quot;</td><td>2000</td><td>&quot;REG&quot;</td><td>1</td><td>&quot;2000-09-03&quot;</td><td>&quot;Sunday&quot;</td><td>&quot;13:00&quot;</td><td>&quot;IND&quot;</td><td>27</td><td>&quot;KC&quot;</td><td>14</td><td>&quot;Home&quot;</td><td>-13</td><td>41</td><td>0</td><td>2000090305</td><td>993</td><td>null</td><td>&quot;200009030kan&quot;</td><td>null</td><td>200903012</td><td>null</td><td>7</td><td>7</td><td>null</td><td>null</td><td>-3.5</td><td>null</td><td>null</td><td>44.0</td><td>null</td><td>null</td><td>0</td><td>&quot;outdoors&quot;</td><td>&quot;grass&quot;</td><td>90</td><td>5</td><td>&quot;00-0010346&quot;</td><td>&quot;00-0006300&quot;</td><td>&quot;Peyton Manning&quot;</td><td>&quot;Elvis Grbac&quot;</td><td>&quot;Jim Mora&quot;</td><td>&quot;Gunther Cunningham&quot;</td><td>&quot;Larry Nemmers&quot;</td><td>&quot;KAN00&quot;</td><td>&quot;Arrowhead Stadium&quot;</td></tr><tr><td>&quot;2000_01_CHI_MIN&quot;</td><td>2000</td><td>&quot;REG&quot;</td><td>1</td><td>&quot;2000-09-03&quot;</td><td>&quot;Sunday&quot;</td><td>&quot;13:00&quot;</td><td>&quot;CHI&quot;</td><td>27</td><td>&quot;MIN&quot;</td><td>30</td><td>&quot;Home&quot;</td><td>3</td><td>57</td><td>0</td><td>2000090303</td><td>991</td><td>null</td><td>&quot;200009030min&quot;</td><td>null</td><td>200903016</td><td>null</td><td>7</td><td>7</td><td>null</td><td>null</td><td>4.5</td><td>null</td><td>null</td><td>46.5</td><td>null</td><td>null</td><td>1</td><td>&quot;dome&quot;</td><td>&quot;astroturf&quot;</td><td>null</td><td>null</td><td>&quot;00-0011044&quot;</td><td>&quot;00-0003739&quot;</td><td>&quot;Cade McNown&quot;</td><td>&quot;Daunte Culpepper&quot;</td><td>&quot;Dick Jauron&quot;</td><td>&quot;Dennis Green&quot;</td><td>&quot;Ed Hochuli&quot;</td><td>&quot;MIN00&quot;</td><td>&quot;Hubert H. Humphrey Metrodome&quot;</td></tr><tr><td>&quot;2000_01_TB_NE&quot;</td><td>2000</td><td>&quot;REG&quot;</td><td>1</td><td>&quot;2000-09-03&quot;</td><td>&quot;Sunday&quot;</td><td>&quot;13:00&quot;</td><td>&quot;TB&quot;</td><td>21</td><td>&quot;NE&quot;</td><td>16</td><td>&quot;Home&quot;</td><td>-5</td><td>37</td><td>0</td><td>2000090312</td><td>1000</td><td>null</td><td>&quot;200009030nwe&quot;</td><td>null</td><td>200903017</td><td>null</td><td>7</td><td>7</td><td>null</td><td>null</td><td>-3.0</td><td>null</td><td>null</td><td>36.0</td><td>null</td><td>null</td><td>0</td><td>&quot;outdoors&quot;</td><td>&quot;grass&quot;</td><td>71</td><td>5</td><td>&quot;00-0009266&quot;</td><td>&quot;00-0001361&quot;</td><td>&quot;Shaun King&quot;</td><td>&quot;Drew Bledsoe&quot;</td><td>&quot;Tony Dungy&quot;</td><td>&quot;Bill Belichick&quot;</td><td>&quot;Jeff Triplette&quot;</td><td>&quot;BOS99&quot;</td><td>&quot;Foxboro Stadium&quot;</td></tr><tr><td>&hellip;</td><td>&hellip;</td><td>&hellip;</td><td>&hellip;</td><td>&hellip;</td><td>&hellip;</td><td>&hellip;</td><td>&hellip;</td><td>&hellip;</td><td>&hellip;</td><td>&hellip;</td><td>&hellip;</td><td>&hellip;</td><td>&hellip;</td><td>&hellip;</td><td>&hellip;</td><td>&hellip;</td><td>&hellip;</td><td>&hellip;</td><td>&hellip;</td><td>&hellip;</td><td>&hellip;</td><td>&hellip;</td><td>&hellip;</td><td>&hellip;</td><td>&hellip;</td><td>&hellip;</td><td>&hellip;</td><td>&hellip;</td><td>&hellip;</td><td>&hellip;</td><td>&hellip;</td><td>&hellip;</td><td>&hellip;</td><td>&hellip;</td><td>&hellip;</td><td>&hellip;</td><td>&hellip;</td><td>&hellip;</td><td>&hellip;</td><td>&hellip;</td><td>&hellip;</td><td>&hellip;</td><td>&hellip;</td><td>&hellip;</td><td>&hellip;</td></tr><tr><td>&quot;2025_18_DAL_NYG&quot;</td><td>2025</td><td>&quot;REG&quot;</td><td>18</td><td>&quot;2026-01-04&quot;</td><td>&quot;Sunday&quot;</td><td>&quot;13:00&quot;</td><td>&quot;DAL&quot;</td><td>null</td><td>&quot;NYG&quot;</td><td>null</td><td>&quot;Home&quot;</td><td>null</td><td>null</td><td>null</td><td>2025010411</td><td>null</td><td>null</td><td>&quot;202501040nyg&quot;</td><td>&quot;28684&quot;</td><td>401772963</td><td>&quot;7001&quot;</td><td>6</td><td>6</td><td>null</td><td>null</td><td>null</td><td>null</td><td>null</td><td>null</td><td>null</td><td>null</td><td>1</td><td>&quot;outdoors&quot;</td><td>&quot;fieldturf&quot;</td><td>null</td><td>null</td><td>null</td><td>null</td><td>null</td><td>null</td><td>&quot;Brian Schottenheimer&quot;</td><td>&quot;Brian Daboll&quot;</td><td>null</td><td>&quot;NYC01&quot;</td><td>&quot;MetLife Stadium&quot;</td></tr><tr><td>&quot;2025_18_WAS_PHI&quot;</td><td>2025</td><td>&quot;REG&quot;</td><td>18</td><td>&quot;2026-01-04&quot;</td><td>&quot;Sunday&quot;</td><td>&quot;13:00&quot;</td><td>&quot;WAS&quot;</td><td>null</td><td>&quot;PHI&quot;</td><td>null</td><td>&quot;Home&quot;</td><td>null</td><td>null</td><td>null</td><td>2025010412</td><td>null</td><td>null</td><td>&quot;202501040phi&quot;</td><td>&quot;28685&quot;</td><td>401772959</td><td>&quot;7002&quot;</td><td>6</td><td>6</td><td>null</td><td>null</td><td>null</td><td>null</td><td>null</td><td>null</td><td>null</td><td>null</td><td>1</td><td>&quot;outdoors&quot;</td><td>&quot;grass&quot;</td><td>null</td><td>null</td><td>null</td><td>null</td><td>null</td><td>null</td><td>&quot;Dan Quinn&quot;</td><td>&quot;Nick Sirianni&quot;</td><td>null</td><td>&quot;PHI00&quot;</td><td>&quot;Lincoln Financial Field&quot;</td></tr><tr><td>&quot;2025_18_BAL_PIT&quot;</td><td>2025</td><td>&quot;REG&quot;</td><td>18</td><td>&quot;2026-01-04&quot;</td><td>&quot;Sunday&quot;</td><td>&quot;13:00&quot;</td><td>&quot;BAL&quot;</td><td>null</td><td>&quot;PIT&quot;</td><td>null</td><td>&quot;Home&quot;</td><td>null</td><td>null</td><td>null</td><td>2025010413</td><td>null</td><td>null</td><td>&quot;202501040pit&quot;</td><td>&quot;28686&quot;</td><td>401772960</td><td>&quot;7003&quot;</td><td>10</td><td>10</td><td>null</td><td>null</td><td>null</td><td>null</td><td>null</td><td>null</td><td>null</td><td>null</td><td>1</td><td>&quot;outdoors&quot;</td><td>&quot;grass&quot;</td><td>null</td><td>null</td><td>null</td><td>null</td><td>null</td><td>null</td><td>&quot;John Harbaugh&quot;</td><td>&quot;Mike Tomlin&quot;</td><td>null</td><td>&quot;PIT00&quot;</td><td>&quot;Acrisure Stadium&quot;</td></tr><tr><td>&quot;2025_18_SEA_SF&quot;</td><td>2025</td><td>&quot;REG&quot;</td><td>18</td><td>&quot;2026-01-04&quot;</td><td>&quot;Sunday&quot;</td><td>&quot;13:00&quot;</td><td>&quot;SEA&quot;</td><td>null</td><td>&quot;SF&quot;</td><td>null</td><td>&quot;Home&quot;</td><td>null</td><td>null</td><td>null</td><td>2025010414</td><td>null</td><td>null</td><td>&quot;202501040sfo&quot;</td><td>&quot;28687&quot;</td><td>401772961</td><td>&quot;7004&quot;</td><td>9</td><td>5</td><td>null</td><td>null</td><td>null</td><td>null</td><td>null</td><td>null</td><td>null</td><td>null</td><td>1</td><td>&quot;outdoors&quot;</td><td>&quot;grass&quot;</td><td>null</td><td>null</td><td>null</td><td>null</td><td>null</td><td>null</td><td>&quot;Mike Macdonald&quot;</td><td>&quot;Kyle Shanahan&quot;</td><td>null</td><td>&quot;SFO01&quot;</td><td>&quot;Levi&#x27;s Stadium&quot;</td></tr><tr><td>&quot;2025_18_CAR_TB&quot;</td><td>2025</td><td>&quot;REG&quot;</td><td>18</td><td>&quot;2026-01-04&quot;</td><td>&quot;Sunday&quot;</td><td>&quot;13:00&quot;</td><td>&quot;CAR&quot;</td><td>null</td><td>&quot;TB&quot;</td><td>null</td><td>&quot;Home&quot;</td><td>null</td><td>null</td><td>null</td><td>2025010415</td><td>null</td><td>null</td><td>&quot;202501040tam&quot;</td><td>&quot;28688&quot;</td><td>401772969</td><td>&quot;7005&quot;</td><td>6</td><td>6</td><td>null</td><td>null</td><td>null</td><td>null</td><td>null</td><td>null</td><td>null</td><td>null</td><td>1</td><td>&quot;outdoors&quot;</td><td>&quot;grass&quot;</td><td>null</td><td>null</td><td>null</td><td>null</td><td>null</td><td>null</td><td>&quot;Dave Canales&quot;</td><td>&quot;Todd Bowles&quot;</td><td>null</td><td>&quot;TAM00&quot;</td><td>&quot;Raymond James Stadium&quot;</td></tr></tbody></table></div>"
      ],
      "text/plain": [
       "shape: (7_004, 46)\n",
       "┌─────────────┬────────┬───────────┬──────┬───┬─────────────┬────────────┬────────────┬────────────┐\n",
       "│ game_id     ┆ season ┆ game_type ┆ week ┆ … ┆ home_coach  ┆ referee    ┆ stadium_id ┆ stadium    │\n",
       "│ ---         ┆ ---    ┆ ---       ┆ ---  ┆   ┆ ---         ┆ ---        ┆ ---        ┆ ---        │\n",
       "│ str         ┆ i64    ┆ str       ┆ i64  ┆   ┆ str         ┆ str        ┆ str        ┆ str        │\n",
       "╞═════════════╪════════╪═══════════╪══════╪═══╪═════════════╪════════════╪════════════╪════════════╡\n",
       "│ 2000_01_SF_ ┆ 2000   ┆ REG       ┆ 1    ┆ … ┆ Dan Reeves  ┆ Walt       ┆ ATL00      ┆ Georgia    │\n",
       "│ ATL         ┆        ┆           ┆      ┆   ┆             ┆ Coleman    ┆            ┆ Dome       │\n",
       "│ 2000_01_JAX ┆ 2000   ┆ REG       ┆ 1    ┆ … ┆ Chris       ┆ Bernie     ┆ CLE00      ┆ Cleveland  │\n",
       "│ _CLE        ┆        ┆           ┆      ┆   ┆ Palmer      ┆ Kukar      ┆            ┆ Browns     │\n",
       "│             ┆        ┆           ┆      ┆   ┆             ┆            ┆            ┆ Stadium    │\n",
       "│ 2000_01_IND ┆ 2000   ┆ REG       ┆ 1    ┆ … ┆ Gunther     ┆ Larry      ┆ KAN00      ┆ Arrowhead  │\n",
       "│ _KC         ┆        ┆           ┆      ┆   ┆ Cunningham  ┆ Nemmers    ┆            ┆ Stadium    │\n",
       "│ 2000_01_CHI ┆ 2000   ┆ REG       ┆ 1    ┆ … ┆ Dennis      ┆ Ed Hochuli ┆ MIN00      ┆ Hubert H.  │\n",
       "│ _MIN        ┆        ┆           ┆      ┆   ┆ Green       ┆            ┆            ┆ Humphrey   │\n",
       "│             ┆        ┆           ┆      ┆   ┆             ┆            ┆            ┆ Metrodome  │\n",
       "│ 2000_01_TB_ ┆ 2000   ┆ REG       ┆ 1    ┆ … ┆ Bill        ┆ Jeff       ┆ BOS99      ┆ Foxboro    │\n",
       "│ NE          ┆        ┆           ┆      ┆   ┆ Belichick   ┆ Triplette  ┆            ┆ Stadium    │\n",
       "│ …           ┆ …      ┆ …         ┆ …    ┆ … ┆ …           ┆ …          ┆ …          ┆ …          │\n",
       "│ 2025_18_DAL ┆ 2025   ┆ REG       ┆ 18   ┆ … ┆ Brian       ┆ null       ┆ NYC01      ┆ MetLife    │\n",
       "│ _NYG        ┆        ┆           ┆      ┆   ┆ Daboll      ┆            ┆            ┆ Stadium    │\n",
       "│ 2025_18_WAS ┆ 2025   ┆ REG       ┆ 18   ┆ … ┆ Nick        ┆ null       ┆ PHI00      ┆ Lincoln    │\n",
       "│ _PHI        ┆        ┆           ┆      ┆   ┆ Sirianni    ┆            ┆            ┆ Financial  │\n",
       "│             ┆        ┆           ┆      ┆   ┆             ┆            ┆            ┆ Field      │\n",
       "│ 2025_18_BAL ┆ 2025   ┆ REG       ┆ 18   ┆ … ┆ Mike Tomlin ┆ null       ┆ PIT00      ┆ Acrisure   │\n",
       "│ _PIT        ┆        ┆           ┆      ┆   ┆             ┆            ┆            ┆ Stadium    │\n",
       "│ 2025_18_SEA ┆ 2025   ┆ REG       ┆ 18   ┆ … ┆ Kyle        ┆ null       ┆ SFO01      ┆ Levi's     │\n",
       "│ _SF         ┆        ┆           ┆      ┆   ┆ Shanahan    ┆            ┆            ┆ Stadium    │\n",
       "│ 2025_18_CAR ┆ 2025   ┆ REG       ┆ 18   ┆ … ┆ Todd Bowles ┆ null       ┆ TAM00      ┆ Raymond    │\n",
       "│ _TB         ┆        ┆           ┆      ┆   ┆             ┆            ┆            ┆ James      │\n",
       "│             ┆        ┆           ┆      ┆   ┆             ┆            ┆            ┆ Stadium    │\n",
       "└─────────────┴────────┴───────────┴──────┴───┴─────────────┴────────────┴────────────┴────────────┘"
      ]
     },
     "execution_count": 41,
     "metadata": {},
     "output_type": "execute_result"
    }
   ],
   "source": [
    "schedule = nfl.load_schedules(years)\n",
    "#schedule.to_sql('schedule', conn, if_exists='replace', index=False)\n",
    "con.execute(\"CREATE OR REPLACE TABLE schedule AS SELECT * FROM schedule\")\n",
    "schedule"
   ]
  },
  {
   "cell_type": "code",
   "execution_count": 42,
   "metadata": {},
   "outputs": [
    {
     "data": {
      "text/html": [
       "<div>\n",
       "<style scoped>\n",
       "    .dataframe tbody tr th:only-of-type {\n",
       "        vertical-align: middle;\n",
       "    }\n",
       "\n",
       "    .dataframe tbody tr th {\n",
       "        vertical-align: top;\n",
       "    }\n",
       "\n",
       "    .dataframe thead th {\n",
       "        text-align: right;\n",
       "    }\n",
       "</style>\n",
       "<table border=\"1\" class=\"dataframe\">\n",
       "  <thead>\n",
       "    <tr style=\"text-align: right;\">\n",
       "      <th></th>\n",
       "      <th>game_id</th>\n",
       "      <th>season</th>\n",
       "      <th>game_type</th>\n",
       "      <th>week</th>\n",
       "      <th>gameday</th>\n",
       "      <th>weekday</th>\n",
       "      <th>gametime</th>\n",
       "      <th>away_team</th>\n",
       "      <th>away_score</th>\n",
       "      <th>home_team</th>\n",
       "      <th>home_score</th>\n",
       "      <th>location</th>\n",
       "      <th>result</th>\n",
       "      <th>total</th>\n",
       "      <th>overtime</th>\n",
       "      <th>...</th>\n",
       "      <th>over_odds</th>\n",
       "      <th>div_game</th>\n",
       "      <th>roof</th>\n",
       "      <th>surface</th>\n",
       "      <th>temp</th>\n",
       "      <th>wind</th>\n",
       "      <th>away_qb_id</th>\n",
       "      <th>home_qb_id</th>\n",
       "      <th>away_qb_name</th>\n",
       "      <th>home_qb_name</th>\n",
       "      <th>away_coach</th>\n",
       "      <th>home_coach</th>\n",
       "      <th>referee</th>\n",
       "      <th>stadium_id</th>\n",
       "      <th>stadium</th>\n",
       "    </tr>\n",
       "  </thead>\n",
       "  <tbody>\n",
       "    <tr>\n",
       "      <th>11</th>\n",
       "      <td>2000_01_SEA_MIA</td>\n",
       "      <td>2000</td>\n",
       "      <td>REG</td>\n",
       "      <td>1</td>\n",
       "      <td>2000-09-03</td>\n",
       "      <td>Sunday</td>\n",
       "      <td>16:15</td>\n",
       "      <td>SEA</td>\n",
       "      <td>0.0</td>\n",
       "      <td>MIA</td>\n",
       "      <td>23.0</td>\n",
       "      <td>Home</td>\n",
       "      <td>23.0</td>\n",
       "      <td>23.0</td>\n",
       "      <td>0.0</td>\n",
       "      <td>...</td>\n",
       "      <td>None</td>\n",
       "      <td>0</td>\n",
       "      <td>outdoors</td>\n",
       "      <td>grass</td>\n",
       "      <td>89.0</td>\n",
       "      <td>13.0</td>\n",
       "      <td>00-0009311</td>\n",
       "      <td>00-0005180</td>\n",
       "      <td>Jon Kitna</td>\n",
       "      <td>Jay Fiedler</td>\n",
       "      <td>Mike Holmgren</td>\n",
       "      <td>Dave Wannstedt</td>\n",
       "      <td>Ron Winter</td>\n",
       "      <td>MIA00</td>\n",
       "      <td>Pro Player Stadium</td>\n",
       "    </tr>\n",
       "    <tr>\n",
       "      <th>42</th>\n",
       "      <td>2000_03_BAL_MIA</td>\n",
       "      <td>2000</td>\n",
       "      <td>REG</td>\n",
       "      <td>3</td>\n",
       "      <td>2000-09-17</td>\n",
       "      <td>Sunday</td>\n",
       "      <td>20:20</td>\n",
       "      <td>BAL</td>\n",
       "      <td>6.0</td>\n",
       "      <td>MIA</td>\n",
       "      <td>19.0</td>\n",
       "      <td>Home</td>\n",
       "      <td>13.0</td>\n",
       "      <td>25.0</td>\n",
       "      <td>0.0</td>\n",
       "      <td>...</td>\n",
       "      <td>None</td>\n",
       "      <td>0</td>\n",
       "      <td>outdoors</td>\n",
       "      <td>grass</td>\n",
       "      <td>80.0</td>\n",
       "      <td>10.0</td>\n",
       "      <td>00-0000722</td>\n",
       "      <td>00-0005180</td>\n",
       "      <td>Tony Banks</td>\n",
       "      <td>Jay Fiedler</td>\n",
       "      <td>Brian Billick</td>\n",
       "      <td>Dave Wannstedt</td>\n",
       "      <td>Jeff Triplette</td>\n",
       "      <td>MIA00</td>\n",
       "      <td>Pro Player Stadium</td>\n",
       "    </tr>\n",
       "    <tr>\n",
       "      <th>48</th>\n",
       "      <td>2000_04_NE_MIA</td>\n",
       "      <td>2000</td>\n",
       "      <td>REG</td>\n",
       "      <td>4</td>\n",
       "      <td>2000-09-24</td>\n",
       "      <td>Sunday</td>\n",
       "      <td>13:00</td>\n",
       "      <td>NE</td>\n",
       "      <td>3.0</td>\n",
       "      <td>MIA</td>\n",
       "      <td>10.0</td>\n",
       "      <td>Home</td>\n",
       "      <td>7.0</td>\n",
       "      <td>13.0</td>\n",
       "      <td>0.0</td>\n",
       "      <td>...</td>\n",
       "      <td>None</td>\n",
       "      <td>1</td>\n",
       "      <td>outdoors</td>\n",
       "      <td>grass</td>\n",
       "      <td>88.0</td>\n",
       "      <td>12.0</td>\n",
       "      <td>00-0001361</td>\n",
       "      <td>00-0005180</td>\n",
       "      <td>Drew Bledsoe</td>\n",
       "      <td>Jay Fiedler</td>\n",
       "      <td>Bill Belichick</td>\n",
       "      <td>Dave Wannstedt</td>\n",
       "      <td>Ed Hochuli</td>\n",
       "      <td>MIA00</td>\n",
       "      <td>Pro Player Stadium</td>\n",
       "    </tr>\n",
       "    <tr>\n",
       "      <th>75</th>\n",
       "      <td>2000_06_BUF_MIA</td>\n",
       "      <td>2000</td>\n",
       "      <td>REG</td>\n",
       "      <td>6</td>\n",
       "      <td>2000-10-08</td>\n",
       "      <td>Sunday</td>\n",
       "      <td>13:00</td>\n",
       "      <td>BUF</td>\n",
       "      <td>13.0</td>\n",
       "      <td>MIA</td>\n",
       "      <td>22.0</td>\n",
       "      <td>Home</td>\n",
       "      <td>9.0</td>\n",
       "      <td>35.0</td>\n",
       "      <td>0.0</td>\n",
       "      <td>...</td>\n",
       "      <td>None</td>\n",
       "      <td>1</td>\n",
       "      <td>outdoors</td>\n",
       "      <td>grass</td>\n",
       "      <td>NaN</td>\n",
       "      <td>NaN</td>\n",
       "      <td>00-0008612</td>\n",
       "      <td>00-0005180</td>\n",
       "      <td>Rob Johnson</td>\n",
       "      <td>Jay Fiedler</td>\n",
       "      <td>Wade Phillips</td>\n",
       "      <td>Dave Wannstedt</td>\n",
       "      <td>Bernie Kukar</td>\n",
       "      <td>MIA00</td>\n",
       "      <td>Pro Player Stadium</td>\n",
       "    </tr>\n",
       "    <tr>\n",
       "      <th>119</th>\n",
       "      <td>2000_09_GB_MIA</td>\n",
       "      <td>2000</td>\n",
       "      <td>REG</td>\n",
       "      <td>9</td>\n",
       "      <td>2000-10-29</td>\n",
       "      <td>Sunday</td>\n",
       "      <td>13:00</td>\n",
       "      <td>GB</td>\n",
       "      <td>20.0</td>\n",
       "      <td>MIA</td>\n",
       "      <td>28.0</td>\n",
       "      <td>Home</td>\n",
       "      <td>8.0</td>\n",
       "      <td>48.0</td>\n",
       "      <td>0.0</td>\n",
       "      <td>...</td>\n",
       "      <td>None</td>\n",
       "      <td>0</td>\n",
       "      <td>outdoors</td>\n",
       "      <td>grass</td>\n",
       "      <td>81.0</td>\n",
       "      <td>13.0</td>\n",
       "      <td>00-0005106</td>\n",
       "      <td>00-0005180</td>\n",
       "      <td>Brett Favre</td>\n",
       "      <td>Jay Fiedler</td>\n",
       "      <td>Mike Sherman</td>\n",
       "      <td>Dave Wannstedt</td>\n",
       "      <td>Gerry Austin</td>\n",
       "      <td>MIA00</td>\n",
       "      <td>Pro Player Stadium</td>\n",
       "    </tr>\n",
       "    <tr>\n",
       "      <th>...</th>\n",
       "      <td>...</td>\n",
       "      <td>...</td>\n",
       "      <td>...</td>\n",
       "      <td>...</td>\n",
       "      <td>...</td>\n",
       "      <td>...</td>\n",
       "      <td>...</td>\n",
       "      <td>...</td>\n",
       "      <td>...</td>\n",
       "      <td>...</td>\n",
       "      <td>...</td>\n",
       "      <td>...</td>\n",
       "      <td>...</td>\n",
       "      <td>...</td>\n",
       "      <td>...</td>\n",
       "      <td>...</td>\n",
       "      <td>...</td>\n",
       "      <td>...</td>\n",
       "      <td>...</td>\n",
       "      <td>...</td>\n",
       "      <td>...</td>\n",
       "      <td>...</td>\n",
       "      <td>...</td>\n",
       "      <td>...</td>\n",
       "      <td>...</td>\n",
       "      <td>...</td>\n",
       "      <td>...</td>\n",
       "      <td>...</td>\n",
       "      <td>...</td>\n",
       "      <td>...</td>\n",
       "      <td>...</td>\n",
       "    </tr>\n",
       "    <tr>\n",
       "      <th>6602</th>\n",
       "      <td>2024_11_LV_MIA</td>\n",
       "      <td>2024</td>\n",
       "      <td>REG</td>\n",
       "      <td>11</td>\n",
       "      <td>2024-11-17</td>\n",
       "      <td>Sunday</td>\n",
       "      <td>13:00</td>\n",
       "      <td>LV</td>\n",
       "      <td>19.0</td>\n",
       "      <td>MIA</td>\n",
       "      <td>34.0</td>\n",
       "      <td>Home</td>\n",
       "      <td>15.0</td>\n",
       "      <td>53.0</td>\n",
       "      <td>0.0</td>\n",
       "      <td>...</td>\n",
       "      <td>-108</td>\n",
       "      <td>0</td>\n",
       "      <td>outdoors</td>\n",
       "      <td>grass</td>\n",
       "      <td>80.0</td>\n",
       "      <td>16.0</td>\n",
       "      <td>00-0035289</td>\n",
       "      <td>00-0036212</td>\n",
       "      <td>Gardner Minshew</td>\n",
       "      <td>Tua Tagovailoa</td>\n",
       "      <td>Antonio Pierce</td>\n",
       "      <td>Mike McDaniel</td>\n",
       "      <td>John Hussey</td>\n",
       "      <td>MIA00</td>\n",
       "      <td>Hard Rock Stadium</td>\n",
       "    </tr>\n",
       "    <tr>\n",
       "      <th>6618</th>\n",
       "      <td>2024_12_NE_MIA</td>\n",
       "      <td>2024</td>\n",
       "      <td>REG</td>\n",
       "      <td>12</td>\n",
       "      <td>2024-11-24</td>\n",
       "      <td>Sunday</td>\n",
       "      <td>13:00</td>\n",
       "      <td>NE</td>\n",
       "      <td>15.0</td>\n",
       "      <td>MIA</td>\n",
       "      <td>34.0</td>\n",
       "      <td>Home</td>\n",
       "      <td>19.0</td>\n",
       "      <td>49.0</td>\n",
       "      <td>0.0</td>\n",
       "      <td>...</td>\n",
       "      <td>-112</td>\n",
       "      <td>1</td>\n",
       "      <td>outdoors</td>\n",
       "      <td>grass</td>\n",
       "      <td>77.0</td>\n",
       "      <td>6.0</td>\n",
       "      <td>00-0039851</td>\n",
       "      <td>00-0036212</td>\n",
       "      <td>Drake Maye</td>\n",
       "      <td>Tua Tagovailoa</td>\n",
       "      <td>Jerod Mayo</td>\n",
       "      <td>Mike McDaniel</td>\n",
       "      <td>Alan Eck</td>\n",
       "      <td>MIA00</td>\n",
       "      <td>Hard Rock Stadium</td>\n",
       "    </tr>\n",
       "    <tr>\n",
       "      <th>6643</th>\n",
       "      <td>2024_14_NYJ_MIA</td>\n",
       "      <td>2024</td>\n",
       "      <td>REG</td>\n",
       "      <td>14</td>\n",
       "      <td>2024-12-08</td>\n",
       "      <td>Sunday</td>\n",
       "      <td>13:00</td>\n",
       "      <td>NYJ</td>\n",
       "      <td>26.0</td>\n",
       "      <td>MIA</td>\n",
       "      <td>32.0</td>\n",
       "      <td>Home</td>\n",
       "      <td>6.0</td>\n",
       "      <td>58.0</td>\n",
       "      <td>1.0</td>\n",
       "      <td>...</td>\n",
       "      <td>-108</td>\n",
       "      <td>1</td>\n",
       "      <td>outdoors</td>\n",
       "      <td>grass</td>\n",
       "      <td>77.0</td>\n",
       "      <td>12.0</td>\n",
       "      <td>00-0023459</td>\n",
       "      <td>00-0036212</td>\n",
       "      <td>Aaron Rodgers</td>\n",
       "      <td>Tua Tagovailoa</td>\n",
       "      <td>Robert Saleh</td>\n",
       "      <td>Mike McDaniel</td>\n",
       "      <td>Shawn Hochuli</td>\n",
       "      <td>MIA00</td>\n",
       "      <td>Hard Rock Stadium</td>\n",
       "    </tr>\n",
       "    <tr>\n",
       "      <th>6684</th>\n",
       "      <td>2024_16_SF_MIA</td>\n",
       "      <td>2024</td>\n",
       "      <td>REG</td>\n",
       "      <td>16</td>\n",
       "      <td>2024-12-22</td>\n",
       "      <td>Sunday</td>\n",
       "      <td>16:25</td>\n",
       "      <td>SF</td>\n",
       "      <td>17.0</td>\n",
       "      <td>MIA</td>\n",
       "      <td>29.0</td>\n",
       "      <td>Home</td>\n",
       "      <td>12.0</td>\n",
       "      <td>46.0</td>\n",
       "      <td>0.0</td>\n",
       "      <td>...</td>\n",
       "      <td>-112</td>\n",
       "      <td>0</td>\n",
       "      <td>outdoors</td>\n",
       "      <td>grass</td>\n",
       "      <td>73.0</td>\n",
       "      <td>12.0</td>\n",
       "      <td>00-0037834</td>\n",
       "      <td>00-0036212</td>\n",
       "      <td>Brock Purdy</td>\n",
       "      <td>Tua Tagovailoa</td>\n",
       "      <td>Kyle Shanahan</td>\n",
       "      <td>Mike McDaniel</td>\n",
       "      <td>Scott Novak</td>\n",
       "      <td>MIA00</td>\n",
       "      <td>Hard Rock Stadium</td>\n",
       "    </tr>\n",
       "    <tr>\n",
       "      <th>6753</th>\n",
       "      <td>2025_02_NE_MIA</td>\n",
       "      <td>2025</td>\n",
       "      <td>REG</td>\n",
       "      <td>2</td>\n",
       "      <td>2025-09-14</td>\n",
       "      <td>Sunday</td>\n",
       "      <td>13:00</td>\n",
       "      <td>NE</td>\n",
       "      <td>33.0</td>\n",
       "      <td>MIA</td>\n",
       "      <td>27.0</td>\n",
       "      <td>Home</td>\n",
       "      <td>-6.0</td>\n",
       "      <td>60.0</td>\n",
       "      <td>0.0</td>\n",
       "      <td>...</td>\n",
       "      <td>-105</td>\n",
       "      <td>1</td>\n",
       "      <td>outdoors</td>\n",
       "      <td>grass</td>\n",
       "      <td>89.0</td>\n",
       "      <td>4.0</td>\n",
       "      <td>00-0039851</td>\n",
       "      <td>00-0036212</td>\n",
       "      <td>Drake Maye</td>\n",
       "      <td>Tua Tagovailoa</td>\n",
       "      <td>Mike Vrabel</td>\n",
       "      <td>Mike McDaniel</td>\n",
       "      <td>Alex Moore</td>\n",
       "      <td>MIA00</td>\n",
       "      <td>Hard Rock Stadium</td>\n",
       "    </tr>\n",
       "  </tbody>\n",
       "</table>\n",
       "<p>201 rows × 46 columns</p>\n",
       "</div>"
      ],
      "text/plain": [
       "              game_id  season game_type  week     gameday weekday gametime  \\\n",
       "11    2000_01_SEA_MIA    2000       REG     1  2000-09-03  Sunday    16:15   \n",
       "42    2000_03_BAL_MIA    2000       REG     3  2000-09-17  Sunday    20:20   \n",
       "48     2000_04_NE_MIA    2000       REG     4  2000-09-24  Sunday    13:00   \n",
       "75    2000_06_BUF_MIA    2000       REG     6  2000-10-08  Sunday    13:00   \n",
       "119    2000_09_GB_MIA    2000       REG     9  2000-10-29  Sunday    13:00   \n",
       "...               ...     ...       ...   ...         ...     ...      ...   \n",
       "6602   2024_11_LV_MIA    2024       REG    11  2024-11-17  Sunday    13:00   \n",
       "6618   2024_12_NE_MIA    2024       REG    12  2024-11-24  Sunday    13:00   \n",
       "6643  2024_14_NYJ_MIA    2024       REG    14  2024-12-08  Sunday    13:00   \n",
       "6684   2024_16_SF_MIA    2024       REG    16  2024-12-22  Sunday    16:25   \n",
       "6753   2025_02_NE_MIA    2025       REG     2  2025-09-14  Sunday    13:00   \n",
       "\n",
       "     away_team  away_score home_team  home_score location  result  total  \\\n",
       "11         SEA         0.0       MIA        23.0     Home    23.0   23.0   \n",
       "42         BAL         6.0       MIA        19.0     Home    13.0   25.0   \n",
       "48          NE         3.0       MIA        10.0     Home     7.0   13.0   \n",
       "75         BUF        13.0       MIA        22.0     Home     9.0   35.0   \n",
       "119         GB        20.0       MIA        28.0     Home     8.0   48.0   \n",
       "...        ...         ...       ...         ...      ...     ...    ...   \n",
       "6602        LV        19.0       MIA        34.0     Home    15.0   53.0   \n",
       "6618        NE        15.0       MIA        34.0     Home    19.0   49.0   \n",
       "6643       NYJ        26.0       MIA        32.0     Home     6.0   58.0   \n",
       "6684        SF        17.0       MIA        29.0     Home    12.0   46.0   \n",
       "6753        NE        33.0       MIA        27.0     Home    -6.0   60.0   \n",
       "\n",
       "      overtime  ...  over_odds  div_game      roof surface  temp  wind  \\\n",
       "11         0.0  ...       None         0  outdoors   grass  89.0  13.0   \n",
       "42         0.0  ...       None         0  outdoors   grass  80.0  10.0   \n",
       "48         0.0  ...       None         1  outdoors   grass  88.0  12.0   \n",
       "75         0.0  ...       None         1  outdoors   grass   NaN   NaN   \n",
       "119        0.0  ...       None         0  outdoors   grass  81.0  13.0   \n",
       "...        ...  ...        ...       ...       ...     ...   ...   ...   \n",
       "6602       0.0  ...       -108         0  outdoors   grass  80.0  16.0   \n",
       "6618       0.0  ...       -112         1  outdoors   grass  77.0   6.0   \n",
       "6643       1.0  ...       -108         1  outdoors   grass  77.0  12.0   \n",
       "6684       0.0  ...       -112         0  outdoors   grass  73.0  12.0   \n",
       "6753       0.0  ...       -105         1  outdoors   grass  89.0   4.0   \n",
       "\n",
       "      away_qb_id  home_qb_id     away_qb_name    home_qb_name      away_coach  \\\n",
       "11    00-0009311  00-0005180        Jon Kitna     Jay Fiedler   Mike Holmgren   \n",
       "42    00-0000722  00-0005180       Tony Banks     Jay Fiedler   Brian Billick   \n",
       "48    00-0001361  00-0005180     Drew Bledsoe     Jay Fiedler  Bill Belichick   \n",
       "75    00-0008612  00-0005180      Rob Johnson     Jay Fiedler   Wade Phillips   \n",
       "119   00-0005106  00-0005180      Brett Favre     Jay Fiedler    Mike Sherman   \n",
       "...          ...         ...              ...             ...             ...   \n",
       "6602  00-0035289  00-0036212  Gardner Minshew  Tua Tagovailoa  Antonio Pierce   \n",
       "6618  00-0039851  00-0036212       Drake Maye  Tua Tagovailoa      Jerod Mayo   \n",
       "6643  00-0023459  00-0036212    Aaron Rodgers  Tua Tagovailoa    Robert Saleh   \n",
       "6684  00-0037834  00-0036212      Brock Purdy  Tua Tagovailoa   Kyle Shanahan   \n",
       "6753  00-0039851  00-0036212       Drake Maye  Tua Tagovailoa     Mike Vrabel   \n",
       "\n",
       "          home_coach         referee stadium_id             stadium  \n",
       "11    Dave Wannstedt      Ron Winter      MIA00  Pro Player Stadium  \n",
       "42    Dave Wannstedt  Jeff Triplette      MIA00  Pro Player Stadium  \n",
       "48    Dave Wannstedt      Ed Hochuli      MIA00  Pro Player Stadium  \n",
       "75    Dave Wannstedt    Bernie Kukar      MIA00  Pro Player Stadium  \n",
       "119   Dave Wannstedt    Gerry Austin      MIA00  Pro Player Stadium  \n",
       "...              ...             ...        ...                 ...  \n",
       "6602   Mike McDaniel     John Hussey      MIA00   Hard Rock Stadium  \n",
       "6618   Mike McDaniel        Alan Eck      MIA00   Hard Rock Stadium  \n",
       "6643   Mike McDaniel   Shawn Hochuli      MIA00   Hard Rock Stadium  \n",
       "6684   Mike McDaniel     Scott Novak      MIA00   Hard Rock Stadium  \n",
       "6753   Mike McDaniel      Alex Moore      MIA00   Hard Rock Stadium  \n",
       "\n",
       "[201 rows x 46 columns]"
      ]
     },
     "execution_count": 42,
     "metadata": {},
     "output_type": "execute_result"
    }
   ],
   "source": [
    "test = schedule.to_pandas()\n",
    "test.loc[(test.home_team=='MIA') & (test.home_score > 0)]"
   ]
  },
  {
   "cell_type": "code",
   "execution_count": 43,
   "metadata": {},
   "outputs": [
    {
     "data": {
      "text/html": [
       "<div>\n",
       "<style scoped>\n",
       "    .dataframe tbody tr th:only-of-type {\n",
       "        vertical-align: middle;\n",
       "    }\n",
       "\n",
       "    .dataframe tbody tr th {\n",
       "        vertical-align: top;\n",
       "    }\n",
       "\n",
       "    .dataframe thead th {\n",
       "        text-align: right;\n",
       "    }\n",
       "</style>\n",
       "<table border=\"1\" class=\"dataframe\">\n",
       "  <thead>\n",
       "    <tr style=\"text-align: right;\">\n",
       "      <th></th>\n",
       "      <th>gameday</th>\n",
       "      <th>game_id</th>\n",
       "      <th>season</th>\n",
       "      <th>game_type</th>\n",
       "      <th>week</th>\n",
       "      <th>gameday_1</th>\n",
       "      <th>weekday</th>\n",
       "      <th>gametime</th>\n",
       "      <th>away_team</th>\n",
       "      <th>away_score</th>\n",
       "      <th>home_team</th>\n",
       "      <th>home_score</th>\n",
       "      <th>location</th>\n",
       "      <th>result</th>\n",
       "      <th>total</th>\n",
       "      <th>...</th>\n",
       "      <th>over_odds</th>\n",
       "      <th>div_game</th>\n",
       "      <th>roof</th>\n",
       "      <th>surface</th>\n",
       "      <th>temp</th>\n",
       "      <th>wind</th>\n",
       "      <th>away_qb_id</th>\n",
       "      <th>home_qb_id</th>\n",
       "      <th>away_qb_name</th>\n",
       "      <th>home_qb_name</th>\n",
       "      <th>away_coach</th>\n",
       "      <th>home_coach</th>\n",
       "      <th>referee</th>\n",
       "      <th>stadium_id</th>\n",
       "      <th>stadium</th>\n",
       "    </tr>\n",
       "  </thead>\n",
       "  <tbody>\n",
       "    <tr>\n",
       "      <th>204</th>\n",
       "      <td>2024-12-22</td>\n",
       "      <td>2024_16_SF_MIA</td>\n",
       "      <td>2024</td>\n",
       "      <td>REG</td>\n",
       "      <td>16</td>\n",
       "      <td>2024-12-22</td>\n",
       "      <td>Sunday</td>\n",
       "      <td>16:25</td>\n",
       "      <td>SF</td>\n",
       "      <td>17.0</td>\n",
       "      <td>MIA</td>\n",
       "      <td>29.0</td>\n",
       "      <td>Home</td>\n",
       "      <td>12.0</td>\n",
       "      <td>46.0</td>\n",
       "      <td>...</td>\n",
       "      <td>-112</td>\n",
       "      <td>0</td>\n",
       "      <td>outdoors</td>\n",
       "      <td>grass</td>\n",
       "      <td>73.0</td>\n",
       "      <td>12.0</td>\n",
       "      <td>00-0037834</td>\n",
       "      <td>00-0036212</td>\n",
       "      <td>Brock Purdy</td>\n",
       "      <td>Tua Tagovailoa</td>\n",
       "      <td>Kyle Shanahan</td>\n",
       "      <td>Mike McDaniel</td>\n",
       "      <td>Scott Novak</td>\n",
       "      <td>MIA00</td>\n",
       "      <td>Hard Rock Stadium</td>\n",
       "    </tr>\n",
       "    <tr>\n",
       "      <th>205</th>\n",
       "      <td>2025-09-14</td>\n",
       "      <td>2025_02_NE_MIA</td>\n",
       "      <td>2025</td>\n",
       "      <td>REG</td>\n",
       "      <td>2</td>\n",
       "      <td>2025-09-14</td>\n",
       "      <td>Sunday</td>\n",
       "      <td>13:00</td>\n",
       "      <td>NE</td>\n",
       "      <td>33.0</td>\n",
       "      <td>MIA</td>\n",
       "      <td>27.0</td>\n",
       "      <td>Home</td>\n",
       "      <td>-6.0</td>\n",
       "      <td>60.0</td>\n",
       "      <td>...</td>\n",
       "      <td>-105</td>\n",
       "      <td>1</td>\n",
       "      <td>outdoors</td>\n",
       "      <td>grass</td>\n",
       "      <td>89.0</td>\n",
       "      <td>4.0</td>\n",
       "      <td>00-0039851</td>\n",
       "      <td>00-0036212</td>\n",
       "      <td>Drake Maye</td>\n",
       "      <td>Tua Tagovailoa</td>\n",
       "      <td>Mike Vrabel</td>\n",
       "      <td>Mike McDaniel</td>\n",
       "      <td>Alex Moore</td>\n",
       "      <td>MIA00</td>\n",
       "      <td>Hard Rock Stadium</td>\n",
       "    </tr>\n",
       "    <tr>\n",
       "      <th>206</th>\n",
       "      <td>2025-09-29</td>\n",
       "      <td>2025_04_NYJ_MIA</td>\n",
       "      <td>2025</td>\n",
       "      <td>REG</td>\n",
       "      <td>4</td>\n",
       "      <td>2025-09-29</td>\n",
       "      <td>Monday</td>\n",
       "      <td>19:15</td>\n",
       "      <td>NYJ</td>\n",
       "      <td>NaN</td>\n",
       "      <td>MIA</td>\n",
       "      <td>NaN</td>\n",
       "      <td>Home</td>\n",
       "      <td>NaN</td>\n",
       "      <td>NaN</td>\n",
       "      <td>...</td>\n",
       "      <td>None</td>\n",
       "      <td>1</td>\n",
       "      <td>outdoors</td>\n",
       "      <td>grass</td>\n",
       "      <td>NaN</td>\n",
       "      <td>NaN</td>\n",
       "      <td>None</td>\n",
       "      <td>None</td>\n",
       "      <td>None</td>\n",
       "      <td>None</td>\n",
       "      <td>Aaron Glenn</td>\n",
       "      <td>Mike McDaniel</td>\n",
       "      <td>None</td>\n",
       "      <td>MIA00</td>\n",
       "      <td>Hard Rock Stadium</td>\n",
       "    </tr>\n",
       "    <tr>\n",
       "      <th>207</th>\n",
       "      <td>2025-10-12</td>\n",
       "      <td>2025_06_LAC_MIA</td>\n",
       "      <td>2025</td>\n",
       "      <td>REG</td>\n",
       "      <td>6</td>\n",
       "      <td>2025-10-12</td>\n",
       "      <td>Sunday</td>\n",
       "      <td>13:00</td>\n",
       "      <td>LAC</td>\n",
       "      <td>NaN</td>\n",
       "      <td>MIA</td>\n",
       "      <td>NaN</td>\n",
       "      <td>Home</td>\n",
       "      <td>NaN</td>\n",
       "      <td>NaN</td>\n",
       "      <td>...</td>\n",
       "      <td>None</td>\n",
       "      <td>0</td>\n",
       "      <td>outdoors</td>\n",
       "      <td>grass</td>\n",
       "      <td>NaN</td>\n",
       "      <td>NaN</td>\n",
       "      <td>None</td>\n",
       "      <td>None</td>\n",
       "      <td>None</td>\n",
       "      <td>None</td>\n",
       "      <td>Jim Harbaugh</td>\n",
       "      <td>Mike McDaniel</td>\n",
       "      <td>None</td>\n",
       "      <td>MIA00</td>\n",
       "      <td>Hard Rock Stadium</td>\n",
       "    </tr>\n",
       "    <tr>\n",
       "      <th>208</th>\n",
       "      <td>2025-10-30</td>\n",
       "      <td>2025_09_BAL_MIA</td>\n",
       "      <td>2025</td>\n",
       "      <td>REG</td>\n",
       "      <td>9</td>\n",
       "      <td>2025-10-30</td>\n",
       "      <td>Thursday</td>\n",
       "      <td>20:15</td>\n",
       "      <td>BAL</td>\n",
       "      <td>NaN</td>\n",
       "      <td>MIA</td>\n",
       "      <td>NaN</td>\n",
       "      <td>Home</td>\n",
       "      <td>NaN</td>\n",
       "      <td>NaN</td>\n",
       "      <td>...</td>\n",
       "      <td>None</td>\n",
       "      <td>0</td>\n",
       "      <td>outdoors</td>\n",
       "      <td>grass</td>\n",
       "      <td>NaN</td>\n",
       "      <td>NaN</td>\n",
       "      <td>None</td>\n",
       "      <td>None</td>\n",
       "      <td>None</td>\n",
       "      <td>None</td>\n",
       "      <td>John Harbaugh</td>\n",
       "      <td>Mike McDaniel</td>\n",
       "      <td>None</td>\n",
       "      <td>MIA00</td>\n",
       "      <td>Hard Rock Stadium</td>\n",
       "    </tr>\n",
       "    <tr>\n",
       "      <th>209</th>\n",
       "      <td>2025-11-09</td>\n",
       "      <td>2025_10_BUF_MIA</td>\n",
       "      <td>2025</td>\n",
       "      <td>REG</td>\n",
       "      <td>10</td>\n",
       "      <td>2025-11-09</td>\n",
       "      <td>Sunday</td>\n",
       "      <td>13:00</td>\n",
       "      <td>BUF</td>\n",
       "      <td>NaN</td>\n",
       "      <td>MIA</td>\n",
       "      <td>NaN</td>\n",
       "      <td>Home</td>\n",
       "      <td>NaN</td>\n",
       "      <td>NaN</td>\n",
       "      <td>...</td>\n",
       "      <td>None</td>\n",
       "      <td>1</td>\n",
       "      <td>outdoors</td>\n",
       "      <td>grass</td>\n",
       "      <td>NaN</td>\n",
       "      <td>NaN</td>\n",
       "      <td>None</td>\n",
       "      <td>None</td>\n",
       "      <td>None</td>\n",
       "      <td>None</td>\n",
       "      <td>Sean McDermott</td>\n",
       "      <td>Mike McDaniel</td>\n",
       "      <td>None</td>\n",
       "      <td>MIA00</td>\n",
       "      <td>Hard Rock Stadium</td>\n",
       "    </tr>\n",
       "    <tr>\n",
       "      <th>210</th>\n",
       "      <td>2025-11-16</td>\n",
       "      <td>2025_11_WAS_MIA</td>\n",
       "      <td>2025</td>\n",
       "      <td>REG</td>\n",
       "      <td>11</td>\n",
       "      <td>2025-11-16</td>\n",
       "      <td>Sunday</td>\n",
       "      <td>09:30</td>\n",
       "      <td>WAS</td>\n",
       "      <td>NaN</td>\n",
       "      <td>MIA</td>\n",
       "      <td>NaN</td>\n",
       "      <td>Neutral</td>\n",
       "      <td>NaN</td>\n",
       "      <td>NaN</td>\n",
       "      <td>...</td>\n",
       "      <td>None</td>\n",
       "      <td>0</td>\n",
       "      <td>outdoors</td>\n",
       "      <td>grass</td>\n",
       "      <td>NaN</td>\n",
       "      <td>NaN</td>\n",
       "      <td>None</td>\n",
       "      <td>None</td>\n",
       "      <td>None</td>\n",
       "      <td>None</td>\n",
       "      <td>Dan Quinn</td>\n",
       "      <td>Mike McDaniel</td>\n",
       "      <td>None</td>\n",
       "      <td>MIA00</td>\n",
       "      <td>Hard Rock Stadium</td>\n",
       "    </tr>\n",
       "    <tr>\n",
       "      <th>211</th>\n",
       "      <td>2025-11-30</td>\n",
       "      <td>2025_13_NO_MIA</td>\n",
       "      <td>2025</td>\n",
       "      <td>REG</td>\n",
       "      <td>13</td>\n",
       "      <td>2025-11-30</td>\n",
       "      <td>Sunday</td>\n",
       "      <td>13:00</td>\n",
       "      <td>NO</td>\n",
       "      <td>NaN</td>\n",
       "      <td>MIA</td>\n",
       "      <td>NaN</td>\n",
       "      <td>Home</td>\n",
       "      <td>NaN</td>\n",
       "      <td>NaN</td>\n",
       "      <td>...</td>\n",
       "      <td>None</td>\n",
       "      <td>0</td>\n",
       "      <td>outdoors</td>\n",
       "      <td>grass</td>\n",
       "      <td>NaN</td>\n",
       "      <td>NaN</td>\n",
       "      <td>None</td>\n",
       "      <td>None</td>\n",
       "      <td>None</td>\n",
       "      <td>None</td>\n",
       "      <td>Kellen Moore</td>\n",
       "      <td>Mike McDaniel</td>\n",
       "      <td>None</td>\n",
       "      <td>MIA00</td>\n",
       "      <td>Hard Rock Stadium</td>\n",
       "    </tr>\n",
       "    <tr>\n",
       "      <th>212</th>\n",
       "      <td>2025-12-21</td>\n",
       "      <td>2025_16_CIN_MIA</td>\n",
       "      <td>2025</td>\n",
       "      <td>REG</td>\n",
       "      <td>16</td>\n",
       "      <td>2025-12-21</td>\n",
       "      <td>Sunday</td>\n",
       "      <td>20:20</td>\n",
       "      <td>CIN</td>\n",
       "      <td>NaN</td>\n",
       "      <td>MIA</td>\n",
       "      <td>NaN</td>\n",
       "      <td>Home</td>\n",
       "      <td>NaN</td>\n",
       "      <td>NaN</td>\n",
       "      <td>...</td>\n",
       "      <td>None</td>\n",
       "      <td>0</td>\n",
       "      <td>outdoors</td>\n",
       "      <td>grass</td>\n",
       "      <td>NaN</td>\n",
       "      <td>NaN</td>\n",
       "      <td>None</td>\n",
       "      <td>None</td>\n",
       "      <td>None</td>\n",
       "      <td>None</td>\n",
       "      <td>Zac Taylor</td>\n",
       "      <td>Mike McDaniel</td>\n",
       "      <td>None</td>\n",
       "      <td>MIA00</td>\n",
       "      <td>Hard Rock Stadium</td>\n",
       "    </tr>\n",
       "    <tr>\n",
       "      <th>213</th>\n",
       "      <td>2025-12-28</td>\n",
       "      <td>2025_17_TB_MIA</td>\n",
       "      <td>2025</td>\n",
       "      <td>REG</td>\n",
       "      <td>17</td>\n",
       "      <td>2025-12-28</td>\n",
       "      <td>Sunday</td>\n",
       "      <td>13:00</td>\n",
       "      <td>TB</td>\n",
       "      <td>NaN</td>\n",
       "      <td>MIA</td>\n",
       "      <td>NaN</td>\n",
       "      <td>Home</td>\n",
       "      <td>NaN</td>\n",
       "      <td>NaN</td>\n",
       "      <td>...</td>\n",
       "      <td>None</td>\n",
       "      <td>0</td>\n",
       "      <td>outdoors</td>\n",
       "      <td>grass</td>\n",
       "      <td>NaN</td>\n",
       "      <td>NaN</td>\n",
       "      <td>None</td>\n",
       "      <td>None</td>\n",
       "      <td>None</td>\n",
       "      <td>None</td>\n",
       "      <td>Todd Bowles</td>\n",
       "      <td>Mike McDaniel</td>\n",
       "      <td>None</td>\n",
       "      <td>MIA00</td>\n",
       "      <td>Hard Rock Stadium</td>\n",
       "    </tr>\n",
       "  </tbody>\n",
       "</table>\n",
       "<p>10 rows × 47 columns</p>\n",
       "</div>"
      ],
      "text/plain": [
       "        gameday          game_id  season game_type  week   gameday_1  \\\n",
       "204  2024-12-22   2024_16_SF_MIA    2024       REG    16  2024-12-22   \n",
       "205  2025-09-14   2025_02_NE_MIA    2025       REG     2  2025-09-14   \n",
       "206  2025-09-29  2025_04_NYJ_MIA    2025       REG     4  2025-09-29   \n",
       "207  2025-10-12  2025_06_LAC_MIA    2025       REG     6  2025-10-12   \n",
       "208  2025-10-30  2025_09_BAL_MIA    2025       REG     9  2025-10-30   \n",
       "209  2025-11-09  2025_10_BUF_MIA    2025       REG    10  2025-11-09   \n",
       "210  2025-11-16  2025_11_WAS_MIA    2025       REG    11  2025-11-16   \n",
       "211  2025-11-30   2025_13_NO_MIA    2025       REG    13  2025-11-30   \n",
       "212  2025-12-21  2025_16_CIN_MIA    2025       REG    16  2025-12-21   \n",
       "213  2025-12-28   2025_17_TB_MIA    2025       REG    17  2025-12-28   \n",
       "\n",
       "      weekday gametime away_team  away_score home_team  home_score location  \\\n",
       "204    Sunday    16:25        SF        17.0       MIA        29.0     Home   \n",
       "205    Sunday    13:00        NE        33.0       MIA        27.0     Home   \n",
       "206    Monday    19:15       NYJ         NaN       MIA         NaN     Home   \n",
       "207    Sunday    13:00       LAC         NaN       MIA         NaN     Home   \n",
       "208  Thursday    20:15       BAL         NaN       MIA         NaN     Home   \n",
       "209    Sunday    13:00       BUF         NaN       MIA         NaN     Home   \n",
       "210    Sunday    09:30       WAS         NaN       MIA         NaN  Neutral   \n",
       "211    Sunday    13:00        NO         NaN       MIA         NaN     Home   \n",
       "212    Sunday    20:20       CIN         NaN       MIA         NaN     Home   \n",
       "213    Sunday    13:00        TB         NaN       MIA         NaN     Home   \n",
       "\n",
       "     result  total  ...  over_odds  div_game      roof surface  temp  wind  \\\n",
       "204    12.0   46.0  ...       -112         0  outdoors   grass  73.0  12.0   \n",
       "205    -6.0   60.0  ...       -105         1  outdoors   grass  89.0   4.0   \n",
       "206     NaN    NaN  ...       None         1  outdoors   grass   NaN   NaN   \n",
       "207     NaN    NaN  ...       None         0  outdoors   grass   NaN   NaN   \n",
       "208     NaN    NaN  ...       None         0  outdoors   grass   NaN   NaN   \n",
       "209     NaN    NaN  ...       None         1  outdoors   grass   NaN   NaN   \n",
       "210     NaN    NaN  ...       None         0  outdoors   grass   NaN   NaN   \n",
       "211     NaN    NaN  ...       None         0  outdoors   grass   NaN   NaN   \n",
       "212     NaN    NaN  ...       None         0  outdoors   grass   NaN   NaN   \n",
       "213     NaN    NaN  ...       None         0  outdoors   grass   NaN   NaN   \n",
       "\n",
       "     away_qb_id  home_qb_id  away_qb_name    home_qb_name      away_coach  \\\n",
       "204  00-0037834  00-0036212   Brock Purdy  Tua Tagovailoa   Kyle Shanahan   \n",
       "205  00-0039851  00-0036212    Drake Maye  Tua Tagovailoa     Mike Vrabel   \n",
       "206        None        None          None            None     Aaron Glenn   \n",
       "207        None        None          None            None    Jim Harbaugh   \n",
       "208        None        None          None            None   John Harbaugh   \n",
       "209        None        None          None            None  Sean McDermott   \n",
       "210        None        None          None            None       Dan Quinn   \n",
       "211        None        None          None            None    Kellen Moore   \n",
       "212        None        None          None            None      Zac Taylor   \n",
       "213        None        None          None            None     Todd Bowles   \n",
       "\n",
       "        home_coach      referee stadium_id            stadium  \n",
       "204  Mike McDaniel  Scott Novak      MIA00  Hard Rock Stadium  \n",
       "205  Mike McDaniel   Alex Moore      MIA00  Hard Rock Stadium  \n",
       "206  Mike McDaniel         None      MIA00  Hard Rock Stadium  \n",
       "207  Mike McDaniel         None      MIA00  Hard Rock Stadium  \n",
       "208  Mike McDaniel         None      MIA00  Hard Rock Stadium  \n",
       "209  Mike McDaniel         None      MIA00  Hard Rock Stadium  \n",
       "210  Mike McDaniel         None      MIA00  Hard Rock Stadium  \n",
       "211  Mike McDaniel         None      MIA00  Hard Rock Stadium  \n",
       "212  Mike McDaniel         None      MIA00  Hard Rock Stadium  \n",
       "213  Mike McDaniel         None      MIA00  Hard Rock Stadium  \n",
       "\n",
       "[10 rows x 47 columns]"
      ]
     },
     "execution_count": 43,
     "metadata": {},
     "output_type": "execute_result"
    }
   ],
   "source": [
    "con.execute(\"select gameday, * from schedule where home_team = 'MIA'\").df().tail(10)"
   ]
  },
  {
   "cell_type": "code",
   "execution_count": 8,
   "metadata": {},
   "outputs": [],
   "source": [
    "con.commit()\n",
    "con.close()"
   ]
  },
  {
   "cell_type": "code",
   "execution_count": null,
   "metadata": {},
   "outputs": [],
   "source": []
  }
 ],
 "metadata": {
  "kernelspec": {
   "display_name": "nfl_sim",
   "language": "python",
   "name": "python3"
  },
  "language_info": {
   "codemirror_mode": {
    "name": "ipython",
    "version": 3
   },
   "file_extension": ".py",
   "mimetype": "text/x-python",
   "name": "python",
   "nbconvert_exporter": "python",
   "pygments_lexer": "ipython3",
   "version": "3.12.2"
  }
 },
 "nbformat": 4,
 "nbformat_minor": 2
}
