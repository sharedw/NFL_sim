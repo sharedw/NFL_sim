{
 "cells": [
  {
   "cell_type": "code",
   "execution_count": 32,
   "metadata": {},
   "outputs": [],
   "source": [
    "import nflreadpy as nfl\n",
    "import pandas as pd\n",
    "import duckdb\n",
    "import polars as pl\n",
    "pd.set_option('display.max_columns',30)"
   ]
  },
  {
   "cell_type": "code",
   "execution_count": 11,
   "metadata": {},
   "outputs": [],
   "source": [
    "con = duckdb.connect(\"data/nfl.duckdb\")"
   ]
  },
  {
   "cell_type": "code",
   "execution_count": null,
   "metadata": {},
   "outputs": [],
   "source": [
    "end_year = 2026\n",
    "years=range(2000,end_year)"
   ]
  },
  {
   "cell_type": "code",
   "execution_count": null,
   "metadata": {},
   "outputs": [
    {
     "name": "stdout",
     "output_type": "stream",
     "text": [
      "Downloading https://github.com/nflverse/nflverse-data/releases/download/stats_player/stats_player_week_2000.parquet\n"
     ]
    },
    {
     "name": "stderr",
     "output_type": "stream",
     "text": [
      "Downloading: 100%|██████████| 579k/579k [00:00<00:00, 18.1MB/s]\n"
     ]
    },
    {
     "name": "stdout",
     "output_type": "stream",
     "text": [
      "Downloading https://github.com/nflverse/nflverse-data/releases/download/stats_player/stats_player_week_2001.parquet\n"
     ]
    },
    {
     "name": "stderr",
     "output_type": "stream",
     "text": [
      "Downloading: 100%|██████████| 585k/585k [00:00<00:00, 117MB/s]"
     ]
    },
    {
     "name": "stdout",
     "output_type": "stream",
     "text": [
      "Downloading https://github.com/nflverse/nflverse-data/releases/download/stats_player/stats_player_week_2002.parquet\n"
     ]
    },
    {
     "name": "stderr",
     "output_type": "stream",
     "text": [
      "\n",
      "Downloading: 100%|██████████| 607k/607k [00:00<00:00, 152MB/s]"
     ]
    },
    {
     "name": "stdout",
     "output_type": "stream",
     "text": [
      "Downloading https://github.com/nflverse/nflverse-data/releases/download/stats_player/stats_player_week_2003.parquet\n"
     ]
    },
    {
     "name": "stderr",
     "output_type": "stream",
     "text": [
      "\n",
      "Downloading: 100%|██████████| 529k/529k [00:00<00:00, 106MB/s]\n"
     ]
    },
    {
     "name": "stdout",
     "output_type": "stream",
     "text": [
      "Downloading https://github.com/nflverse/nflverse-data/releases/download/stats_player/stats_player_week_2004.parquet\n"
     ]
    },
    {
     "name": "stderr",
     "output_type": "stream",
     "text": [
      "Downloading: 100%|██████████| 526k/526k [00:00<00:00, 175MB/s]\n"
     ]
    },
    {
     "name": "stdout",
     "output_type": "stream",
     "text": [
      "Downloading https://github.com/nflverse/nflverse-data/releases/download/stats_player/stats_player_week_2005.parquet\n"
     ]
    },
    {
     "name": "stderr",
     "output_type": "stream",
     "text": [
      "Downloading: 100%|██████████| 524k/524k [00:00<00:00, 105MB/s]\n"
     ]
    },
    {
     "name": "stdout",
     "output_type": "stream",
     "text": [
      "Downloading https://github.com/nflverse/nflverse-data/releases/download/stats_player/stats_player_week_2006.parquet\n"
     ]
    },
    {
     "name": "stderr",
     "output_type": "stream",
     "text": [
      "Downloading: 100%|██████████| 551k/551k [00:00<00:00, 138MB/s]\n"
     ]
    },
    {
     "name": "stdout",
     "output_type": "stream",
     "text": [
      "Downloading https://github.com/nflverse/nflverse-data/releases/download/stats_player/stats_player_week_2007.parquet\n"
     ]
    },
    {
     "name": "stderr",
     "output_type": "stream",
     "text": [
      "Downloading: 100%|██████████| 558k/558k [00:00<00:00, 186MB/s]\n"
     ]
    },
    {
     "name": "stdout",
     "output_type": "stream",
     "text": [
      "Downloading https://github.com/nflverse/nflverse-data/releases/download/stats_player/stats_player_week_2008.parquet\n"
     ]
    },
    {
     "name": "stderr",
     "output_type": "stream",
     "text": [
      "Downloading: 100%|██████████| 554k/554k [00:00<00:00, 139MB/s]\n"
     ]
    },
    {
     "name": "stdout",
     "output_type": "stream",
     "text": [
      "Downloading https://github.com/nflverse/nflverse-data/releases/download/stats_player/stats_player_week_2009.parquet\n"
     ]
    },
    {
     "name": "stderr",
     "output_type": "stream",
     "text": [
      "Downloading: 100%|██████████| 704k/704k [00:00<00:00, 141MB/s]\n"
     ]
    },
    {
     "name": "stdout",
     "output_type": "stream",
     "text": [
      "Downloading https://github.com/nflverse/nflverse-data/releases/download/stats_player/stats_player_week_2010.parquet\n"
     ]
    },
    {
     "name": "stderr",
     "output_type": "stream",
     "text": [
      "Downloading: 100%|██████████| 701k/701k [00:00<00:00, 117MB/s]\n"
     ]
    },
    {
     "name": "stdout",
     "output_type": "stream",
     "text": [
      "Downloading https://github.com/nflverse/nflverse-data/releases/download/stats_player/stats_player_week_2011.parquet\n"
     ]
    },
    {
     "name": "stderr",
     "output_type": "stream",
     "text": [
      "Downloading: 100%|██████████| 701k/701k [00:00<00:00, 140MB/s]\n"
     ]
    },
    {
     "name": "stdout",
     "output_type": "stream",
     "text": [
      "Downloading https://github.com/nflverse/nflverse-data/releases/download/stats_player/stats_player_week_2012.parquet\n"
     ]
    },
    {
     "name": "stderr",
     "output_type": "stream",
     "text": [
      "Downloading: 100%|██████████| 714k/714k [00:00<00:00, 143MB/s]\n"
     ]
    },
    {
     "name": "stdout",
     "output_type": "stream",
     "text": [
      "Downloading https://github.com/nflverse/nflverse-data/releases/download/stats_player/stats_player_week_2013.parquet\n"
     ]
    },
    {
     "name": "stderr",
     "output_type": "stream",
     "text": [
      "Downloading: 100%|██████████| 704k/704k [00:00<00:00, 93.7MB/s]\n"
     ]
    },
    {
     "name": "stdout",
     "output_type": "stream",
     "text": [
      "Downloading https://github.com/nflverse/nflverse-data/releases/download/stats_player/stats_player_week_2014.parquet\n"
     ]
    },
    {
     "name": "stderr",
     "output_type": "stream",
     "text": [
      "Downloading: 100%|██████████| 716k/716k [00:00<00:00, 119MB/s]\n"
     ]
    },
    {
     "name": "stdout",
     "output_type": "stream",
     "text": [
      "Downloading https://github.com/nflverse/nflverse-data/releases/download/stats_player/stats_player_week_2015.parquet\n"
     ]
    },
    {
     "name": "stderr",
     "output_type": "stream",
     "text": [
      "Downloading: 100%|██████████| 718k/718k [00:00<00:00, 120MB/s]\n"
     ]
    },
    {
     "name": "stdout",
     "output_type": "stream",
     "text": [
      "Downloading https://github.com/nflverse/nflverse-data/releases/download/stats_player/stats_player_week_2016.parquet\n"
     ]
    },
    {
     "name": "stderr",
     "output_type": "stream",
     "text": [
      "Downloading: 100%|██████████| 717k/717k [00:00<00:00, 179MB/s]\n"
     ]
    },
    {
     "name": "stdout",
     "output_type": "stream",
     "text": [
      "Downloading https://github.com/nflverse/nflverse-data/releases/download/stats_player/stats_player_week_2017.parquet\n"
     ]
    },
    {
     "name": "stderr",
     "output_type": "stream",
     "text": [
      "Downloading: 100%|██████████| 714k/714k [00:00<00:00, 357MB/s]\n"
     ]
    },
    {
     "name": "stdout",
     "output_type": "stream",
     "text": [
      "Downloading https://github.com/nflverse/nflverse-data/releases/download/stats_player/stats_player_week_2018.parquet\n"
     ]
    },
    {
     "name": "stderr",
     "output_type": "stream",
     "text": [
      "Downloading: 100%|██████████| 716k/716k [00:00<00:00, 119MB/s]\n"
     ]
    },
    {
     "name": "stdout",
     "output_type": "stream",
     "text": [
      "Downloading https://github.com/nflverse/nflverse-data/releases/download/stats_player/stats_player_week_2019.parquet\n"
     ]
    },
    {
     "name": "stderr",
     "output_type": "stream",
     "text": [
      "Downloading: 100%|██████████| 715k/715k [00:00<00:00, 179MB/s]\n"
     ]
    },
    {
     "name": "stdout",
     "output_type": "stream",
     "text": [
      "Downloading https://github.com/nflverse/nflverse-data/releases/download/stats_player/stats_player_week_2020.parquet\n"
     ]
    },
    {
     "name": "stderr",
     "output_type": "stream",
     "text": [
      "Downloading: 100%|██████████| 731k/731k [00:00<00:00, 104MB/s]\n"
     ]
    },
    {
     "name": "stdout",
     "output_type": "stream",
     "text": [
      "Downloading https://github.com/nflverse/nflverse-data/releases/download/stats_player/stats_player_week_2021.parquet\n"
     ]
    },
    {
     "name": "stderr",
     "output_type": "stream",
     "text": [
      "Downloading: 100%|██████████| 767k/767k [00:00<00:00, 153MB/s]\n"
     ]
    },
    {
     "name": "stdout",
     "output_type": "stream",
     "text": [
      "Downloading https://github.com/nflverse/nflverse-data/releases/download/stats_player/stats_player_week_2022.parquet\n"
     ]
    },
    {
     "name": "stderr",
     "output_type": "stream",
     "text": [
      "Downloading: 100%|██████████| 759k/759k [00:00<00:00, 94.9MB/s]\n"
     ]
    },
    {
     "name": "stdout",
     "output_type": "stream",
     "text": [
      "Downloading https://github.com/nflverse/nflverse-data/releases/download/stats_player/stats_player_week_2023.parquet\n"
     ]
    },
    {
     "name": "stderr",
     "output_type": "stream",
     "text": [
      "Downloading: 100%|██████████| 758k/758k [00:00<00:00, 94.8MB/s]\n"
     ]
    },
    {
     "name": "stdout",
     "output_type": "stream",
     "text": [
      "Downloading https://github.com/nflverse/nflverse-data/releases/download/stats_player/stats_player_week_2024.parquet\n"
     ]
    },
    {
     "name": "stderr",
     "output_type": "stream",
     "text": [
      "Downloading: 100%|██████████| 762k/762k [00:00<00:00, 152MB/s]\n"
     ]
    },
    {
     "name": "stdout",
     "output_type": "stream",
     "text": [
      "Downloading https://github.com/nflverse/nflverse-data/releases/download/stats_player/stats_player_week_2025.parquet\n"
     ]
    },
    {
     "name": "stderr",
     "output_type": "stream",
     "text": [
      "Downloading: 100%|██████████| 144k/144k [00:00<?, ?B/s]\n"
     ]
    }
   ],
   "source": [
    "weekly = nfl.load_player_stats(range(2000,end_year))\n",
    "weekly.write_parquet('data/weekly.parquet')\n",
    "con.execute(\"CREATE OR REPLACE TABLE weekly AS SELECT * FROM weekly\")"
   ]
  },
  {
   "cell_type": "code",
   "execution_count": 7,
   "metadata": {},
   "outputs": [
    {
     "name": "stdout",
     "output_type": "stream",
     "text": [
      "Downloading https://github.com/nflverse/nflverse-data/releases/download/pbp/play_by_play_2000.parquet\n"
     ]
    },
    {
     "name": "stderr",
     "output_type": "stream",
     "text": [
      "Downloading: 100%|██████████| 13.4M/13.4M [00:02<00:00, 6.63MB/s]\n"
     ]
    },
    {
     "name": "stdout",
     "output_type": "stream",
     "text": [
      "Downloading https://github.com/nflverse/nflverse-data/releases/download/pbp/play_by_play_2001.parquet\n"
     ]
    },
    {
     "name": "stderr",
     "output_type": "stream",
     "text": [
      "Downloading: 100%|██████████| 14.0M/14.0M [00:02<00:00, 6.45MB/s]\n"
     ]
    },
    {
     "name": "stdout",
     "output_type": "stream",
     "text": [
      "Downloading https://github.com/nflverse/nflverse-data/releases/download/pbp/play_by_play_2002.parquet\n"
     ]
    },
    {
     "name": "stderr",
     "output_type": "stream",
     "text": [
      "Downloading: 100%|██████████| 14.8M/14.8M [00:02<00:00, 5.92MB/s]\n"
     ]
    },
    {
     "name": "stdout",
     "output_type": "stream",
     "text": [
      "Downloading https://github.com/nflverse/nflverse-data/releases/download/pbp/play_by_play_2003.parquet\n"
     ]
    },
    {
     "name": "stderr",
     "output_type": "stream",
     "text": [
      "Downloading: 100%|██████████| 14.6M/14.6M [00:02<00:00, 6.14MB/s]\n"
     ]
    },
    {
     "name": "stdout",
     "output_type": "stream",
     "text": [
      "Downloading https://github.com/nflverse/nflverse-data/releases/download/pbp/play_by_play_2004.parquet\n"
     ]
    },
    {
     "name": "stderr",
     "output_type": "stream",
     "text": [
      "Downloading: 100%|██████████| 14.6M/14.6M [00:02<00:00, 6.12MB/s]\n"
     ]
    },
    {
     "name": "stdout",
     "output_type": "stream",
     "text": [
      "Downloading https://github.com/nflverse/nflverse-data/releases/download/pbp/play_by_play_2005.parquet\n"
     ]
    },
    {
     "name": "stderr",
     "output_type": "stream",
     "text": [
      "Downloading: 100%|██████████| 14.6M/14.6M [00:02<00:00, 6.14MB/s]\n"
     ]
    },
    {
     "name": "stdout",
     "output_type": "stream",
     "text": [
      "Downloading https://github.com/nflverse/nflverse-data/releases/download/pbp/play_by_play_2006.parquet\n"
     ]
    },
    {
     "name": "stderr",
     "output_type": "stream",
     "text": [
      "Downloading: 100%|██████████| 18.6M/18.6M [00:03<00:00, 4.83MB/s]\n"
     ]
    },
    {
     "name": "stdout",
     "output_type": "stream",
     "text": [
      "Downloading https://github.com/nflverse/nflverse-data/releases/download/pbp/play_by_play_2007.parquet\n"
     ]
    },
    {
     "name": "stderr",
     "output_type": "stream",
     "text": [
      "Downloading: 100%|██████████| 18.7M/18.7M [00:03<00:00, 4.84MB/s]\n"
     ]
    },
    {
     "name": "stdout",
     "output_type": "stream",
     "text": [
      "Downloading https://github.com/nflverse/nflverse-data/releases/download/pbp/play_by_play_2008.parquet\n"
     ]
    },
    {
     "name": "stderr",
     "output_type": "stream",
     "text": [
      "Downloading: 100%|██████████| 18.6M/18.6M [00:03<00:00, 4.83MB/s]\n"
     ]
    },
    {
     "name": "stdout",
     "output_type": "stream",
     "text": [
      "Downloading https://github.com/nflverse/nflverse-data/releases/download/pbp/play_by_play_2009.parquet\n"
     ]
    },
    {
     "name": "stderr",
     "output_type": "stream",
     "text": [
      "Downloading: 100%|██████████| 18.9M/18.9M [00:03<00:00, 4.74MB/s]\n"
     ]
    },
    {
     "name": "stdout",
     "output_type": "stream",
     "text": [
      "Downloading https://github.com/nflverse/nflverse-data/releases/download/pbp/play_by_play_2010.parquet\n"
     ]
    },
    {
     "name": "stderr",
     "output_type": "stream",
     "text": [
      "Downloading: 100%|██████████| 19.1M/19.1M [00:04<00:00, 4.68MB/s]\n"
     ]
    },
    {
     "name": "stdout",
     "output_type": "stream",
     "text": [
      "Downloading https://github.com/nflverse/nflverse-data/releases/download/pbp/play_by_play_2011.parquet\n"
     ]
    },
    {
     "name": "stderr",
     "output_type": "stream",
     "text": [
      "Downloading: 100%|██████████| 19.1M/19.1M [00:04<00:00, 4.62MB/s]\n"
     ]
    },
    {
     "name": "stdout",
     "output_type": "stream",
     "text": [
      "Downloading https://github.com/nflverse/nflverse-data/releases/download/pbp/play_by_play_2012.parquet\n"
     ]
    },
    {
     "name": "stderr",
     "output_type": "stream",
     "text": [
      "Downloading: 100%|██████████| 19.3M/19.3M [00:04<00:00, 4.59MB/s]\n"
     ]
    },
    {
     "name": "stdout",
     "output_type": "stream",
     "text": [
      "Downloading https://github.com/nflverse/nflverse-data/releases/download/pbp/play_by_play_2013.parquet\n"
     ]
    },
    {
     "name": "stderr",
     "output_type": "stream",
     "text": [
      "Downloading: 100%|██████████| 19.5M/19.5M [00:04<00:00, 4.60MB/s]\n"
     ]
    },
    {
     "name": "stdout",
     "output_type": "stream",
     "text": [
      "Downloading https://github.com/nflverse/nflverse-data/releases/download/pbp/play_by_play_2014.parquet\n"
     ]
    },
    {
     "name": "stderr",
     "output_type": "stream",
     "text": [
      "Downloading: 100%|██████████| 19.4M/19.4M [00:04<00:00, 4.16MB/s]\n"
     ]
    },
    {
     "name": "stdout",
     "output_type": "stream",
     "text": [
      "Downloading https://github.com/nflverse/nflverse-data/releases/download/pbp/play_by_play_2015.parquet\n"
     ]
    },
    {
     "name": "stderr",
     "output_type": "stream",
     "text": [
      "Downloading: 100%|██████████| 19.5M/19.5M [00:04<00:00, 4.43MB/s]\n"
     ]
    },
    {
     "name": "stdout",
     "output_type": "stream",
     "text": [
      "Downloading https://github.com/nflverse/nflverse-data/releases/download/pbp/play_by_play_2016.parquet\n"
     ]
    },
    {
     "name": "stderr",
     "output_type": "stream",
     "text": [
      "Downloading: 100%|██████████| 19.3M/19.3M [00:04<00:00, 4.40MB/s]\n"
     ]
    },
    {
     "name": "stdout",
     "output_type": "stream",
     "text": [
      "Downloading https://github.com/nflverse/nflverse-data/releases/download/pbp/play_by_play_2017.parquet\n"
     ]
    },
    {
     "name": "stderr",
     "output_type": "stream",
     "text": [
      "Downloading: 100%|██████████| 19.1M/19.1M [00:04<00:00, 4.75MB/s]\n"
     ]
    },
    {
     "name": "stdout",
     "output_type": "stream",
     "text": [
      "Downloading https://github.com/nflverse/nflverse-data/releases/download/pbp/play_by_play_2018.parquet\n"
     ]
    },
    {
     "name": "stderr",
     "output_type": "stream",
     "text": [
      "Downloading: 100%|██████████| 19.1M/19.1M [00:04<00:00, 4.62MB/s]\n"
     ]
    },
    {
     "name": "stdout",
     "output_type": "stream",
     "text": [
      "Downloading https://github.com/nflverse/nflverse-data/releases/download/pbp/play_by_play_2019.parquet\n"
     ]
    },
    {
     "name": "stderr",
     "output_type": "stream",
     "text": [
      "Downloading: 100%|██████████| 19.1M/19.1M [00:04<00:00, 4.71MB/s]\n"
     ]
    },
    {
     "name": "stdout",
     "output_type": "stream",
     "text": [
      "Downloading https://github.com/nflverse/nflverse-data/releases/download/pbp/play_by_play_2020.parquet\n"
     ]
    },
    {
     "name": "stderr",
     "output_type": "stream",
     "text": [
      "Downloading: 100%|██████████| 19.3M/19.3M [00:04<00:00, 4.70MB/s]\n"
     ]
    },
    {
     "name": "stdout",
     "output_type": "stream",
     "text": [
      "Downloading https://github.com/nflverse/nflverse-data/releases/download/pbp/play_by_play_2021.parquet\n"
     ]
    },
    {
     "name": "stderr",
     "output_type": "stream",
     "text": [
      "Downloading: 100%|██████████| 20.3M/20.3M [00:04<00:00, 4.47MB/s]\n"
     ]
    },
    {
     "name": "stdout",
     "output_type": "stream",
     "text": [
      "Downloading https://github.com/nflverse/nflverse-data/releases/download/pbp/play_by_play_2022.parquet\n"
     ]
    },
    {
     "name": "stderr",
     "output_type": "stream",
     "text": [
      "Downloading: 100%|██████████| 20.4M/20.4M [00:04<00:00, 4.31MB/s]\n"
     ]
    },
    {
     "name": "stdout",
     "output_type": "stream",
     "text": [
      "Downloading https://github.com/nflverse/nflverse-data/releases/download/pbp/play_by_play_2023.parquet\n"
     ]
    },
    {
     "name": "stderr",
     "output_type": "stream",
     "text": [
      "Downloading: 100%|██████████| 20.5M/20.5M [00:04<00:00, 4.33MB/s]\n"
     ]
    },
    {
     "name": "stdout",
     "output_type": "stream",
     "text": [
      "Downloading https://github.com/nflverse/nflverse-data/releases/download/pbp/play_by_play_2024.parquet\n"
     ]
    },
    {
     "name": "stderr",
     "output_type": "stream",
     "text": [
      "Downloading: 100%|██████████| 20.6M/20.6M [00:04<00:00, 4.40MB/s]\n"
     ]
    },
    {
     "name": "stdout",
     "output_type": "stream",
     "text": [
      "Downloading https://github.com/nflverse/nflverse-data/releases/download/pbp/play_by_play_2025.parquet\n"
     ]
    },
    {
     "name": "stderr",
     "output_type": "stream",
     "text": [
      "Downloading: 100%|██████████| 1.42M/1.42M [00:00<00:00, 59.3MB/s]\n"
     ]
    }
   ],
   "source": [
    "pbp = nfl.load_pbp(years)"
   ]
  },
  {
   "cell_type": "code",
   "execution_count": 8,
   "metadata": {},
   "outputs": [],
   "source": [
    "pbp.write_parquet('data/pbp.parquet')"
   ]
  },
  {
   "cell_type": "code",
   "execution_count": 15,
   "metadata": {},
   "outputs": [
    {
     "data": {
      "application/vnd.jupyter.widget-view+json": {
       "model_id": "0c42c19eb09a45d1ad6143407f6036b5",
       "version_major": 2,
       "version_minor": 0
      },
      "text/plain": [
       "FloatProgress(value=0.0, layout=Layout(width='auto'), style=ProgressStyle(bar_color='black'))"
      ]
     },
     "metadata": {},
     "output_type": "display_data"
    },
    {
     "data": {
      "text/plain": [
       "<duckdb.duckdb.DuckDBPyConnection at 0x1b200365db0>"
      ]
     },
     "execution_count": 15,
     "metadata": {},
     "output_type": "execute_result"
    }
   ],
   "source": [
    "#pbp.write_database('pbp', 'sqlite:///data/nfl.db', if_table_exists='replace')\n",
    "con.execute(\"CREATE OR REPLACE TABLE pbp AS SELECT * FROM pbp\")"
   ]
  },
  {
   "cell_type": "code",
   "execution_count": 17,
   "metadata": {},
   "outputs": [
    {
     "name": "stdout",
     "output_type": "stream",
     "text": [
      "Downloading https://github.com/nflverse/nflverse-data/releases/download/rosters/roster_2002.parquet\n"
     ]
    },
    {
     "name": "stderr",
     "output_type": "stream",
     "text": [
      "Downloading: 100%|██████████| 247k/247k [00:00<00:00, 123MB/s]\n"
     ]
    },
    {
     "name": "stdout",
     "output_type": "stream",
     "text": [
      "Downloading https://github.com/nflverse/nflverse-data/releases/download/rosters/roster_2003.parquet\n"
     ]
    },
    {
     "name": "stderr",
     "output_type": "stream",
     "text": [
      "Downloading: 100%|██████████| 250k/250k [00:00<00:00, 83.5MB/s]"
     ]
    },
    {
     "name": "stdout",
     "output_type": "stream",
     "text": [
      "Downloading https://github.com/nflverse/nflverse-data/releases/download/rosters/roster_2004.parquet\n"
     ]
    },
    {
     "name": "stderr",
     "output_type": "stream",
     "text": [
      "\n",
      "Downloading: 100%|██████████| 255k/255k [00:00<00:00, 255MB/s]\n"
     ]
    },
    {
     "name": "stdout",
     "output_type": "stream",
     "text": [
      "Downloading https://github.com/nflverse/nflverse-data/releases/download/rosters/roster_2005.parquet\n"
     ]
    },
    {
     "name": "stderr",
     "output_type": "stream",
     "text": [
      "Downloading: 100%|██████████| 259k/259k [00:00<00:00, 129MB/s]\n"
     ]
    },
    {
     "name": "stdout",
     "output_type": "stream",
     "text": [
      "Downloading https://github.com/nflverse/nflverse-data/releases/download/rosters/roster_2006.parquet\n"
     ]
    },
    {
     "name": "stderr",
     "output_type": "stream",
     "text": [
      "Downloading: 100%|██████████| 263k/263k [00:00<00:00, 132MB/s]\n"
     ]
    },
    {
     "name": "stdout",
     "output_type": "stream",
     "text": [
      "Downloading https://github.com/nflverse/nflverse-data/releases/download/rosters/roster_2007.parquet\n"
     ]
    },
    {
     "name": "stderr",
     "output_type": "stream",
     "text": [
      "Downloading: 100%|██████████| 269k/269k [00:00<00:00, 53.8MB/s]\n"
     ]
    },
    {
     "name": "stdout",
     "output_type": "stream",
     "text": [
      "Downloading https://github.com/nflverse/nflverse-data/releases/download/rosters/roster_2008.parquet\n"
     ]
    },
    {
     "name": "stderr",
     "output_type": "stream",
     "text": [
      "Downloading: 100%|██████████| 275k/275k [00:00<00:00, 68.8MB/s]"
     ]
    },
    {
     "name": "stdout",
     "output_type": "stream",
     "text": [
      "Downloading https://github.com/nflverse/nflverse-data/releases/download/rosters/roster_2009.parquet\n"
     ]
    },
    {
     "name": "stderr",
     "output_type": "stream",
     "text": [
      "\n",
      "Downloading: 100%|██████████| 284k/284k [00:00<00:00, 94.5MB/s]\n"
     ]
    },
    {
     "name": "stdout",
     "output_type": "stream",
     "text": [
      "Downloading https://github.com/nflverse/nflverse-data/releases/download/rosters/roster_2010.parquet\n"
     ]
    },
    {
     "name": "stderr",
     "output_type": "stream",
     "text": [
      "Downloading: 100%|██████████| 296k/296k [00:00<00:00, 98.6MB/s]\n"
     ]
    },
    {
     "name": "stdout",
     "output_type": "stream",
     "text": [
      "Downloading https://github.com/nflverse/nflverse-data/releases/download/rosters/roster_2011.parquet\n"
     ]
    },
    {
     "name": "stderr",
     "output_type": "stream",
     "text": [
      "Downloading: 100%|██████████| 304k/304k [00:00<00:00, 60.9MB/s]\n"
     ]
    },
    {
     "name": "stdout",
     "output_type": "stream",
     "text": [
      "Downloading https://github.com/nflverse/nflverse-data/releases/download/rosters/roster_2012.parquet\n"
     ]
    },
    {
     "name": "stderr",
     "output_type": "stream",
     "text": [
      "Downloading: 100%|██████████| 319k/319k [00:00<00:00, 106MB/s]\n"
     ]
    },
    {
     "name": "stdout",
     "output_type": "stream",
     "text": [
      "Downloading https://github.com/nflverse/nflverse-data/releases/download/rosters/roster_2013.parquet\n"
     ]
    },
    {
     "name": "stderr",
     "output_type": "stream",
     "text": [
      "Downloading: 100%|██████████| 332k/332k [00:00<00:00, 66.3MB/s]\n"
     ]
    },
    {
     "name": "stdout",
     "output_type": "stream",
     "text": [
      "Downloading https://github.com/nflverse/nflverse-data/releases/download/rosters/roster_2014.parquet\n"
     ]
    },
    {
     "name": "stderr",
     "output_type": "stream",
     "text": [
      "Downloading: 100%|██████████| 351k/351k [00:00<00:00, 58.4MB/s]"
     ]
    },
    {
     "name": "stdout",
     "output_type": "stream",
     "text": [
      "Downloading https://github.com/nflverse/nflverse-data/releases/download/rosters/roster_2015.parquet\n"
     ]
    },
    {
     "name": "stderr",
     "output_type": "stream",
     "text": [
      "\n",
      "Downloading: 100%|██████████| 371k/371k [00:00<00:00, 74.1MB/s]\n"
     ]
    },
    {
     "name": "stdout",
     "output_type": "stream",
     "text": [
      "Downloading https://github.com/nflverse/nflverse-data/releases/download/rosters/roster_2016.parquet\n"
     ]
    },
    {
     "name": "stderr",
     "output_type": "stream",
     "text": [
      "Downloading: 100%|██████████| 502k/502k [00:00<00:00, 71.8MB/s]\n"
     ]
    },
    {
     "name": "stdout",
     "output_type": "stream",
     "text": [
      "Downloading https://github.com/nflverse/nflverse-data/releases/download/rosters/roster_2017.parquet\n"
     ]
    },
    {
     "name": "stderr",
     "output_type": "stream",
     "text": [
      "Downloading: 100%|██████████| 540k/540k [00:00<00:00, 49.1MB/s]\n"
     ]
    },
    {
     "name": "stdout",
     "output_type": "stream",
     "text": [
      "Downloading https://github.com/nflverse/nflverse-data/releases/download/rosters/roster_2018.parquet\n"
     ]
    },
    {
     "name": "stderr",
     "output_type": "stream",
     "text": [
      "Downloading: 100%|██████████| 574k/574k [00:00<00:00, 44.1MB/s]\n"
     ]
    },
    {
     "name": "stdout",
     "output_type": "stream",
     "text": [
      "Downloading https://github.com/nflverse/nflverse-data/releases/download/rosters/roster_2019.parquet\n"
     ]
    },
    {
     "name": "stderr",
     "output_type": "stream",
     "text": [
      "Downloading: 100%|██████████| 582k/582k [00:00<00:00, 50.6MB/s]\n"
     ]
    },
    {
     "name": "stdout",
     "output_type": "stream",
     "text": [
      "Downloading https://github.com/nflverse/nflverse-data/releases/download/rosters/roster_2020.parquet\n"
     ]
    },
    {
     "name": "stderr",
     "output_type": "stream",
     "text": [
      "Downloading: 100%|██████████| 583k/583k [00:00<00:00, 68.5MB/s]\n"
     ]
    },
    {
     "name": "stdout",
     "output_type": "stream",
     "text": [
      "Downloading https://github.com/nflverse/nflverse-data/releases/download/rosters/roster_2021.parquet\n"
     ]
    },
    {
     "name": "stderr",
     "output_type": "stream",
     "text": [
      "Downloading: 100%|██████████| 559k/559k [00:00<00:00, 58.8MB/s]\n"
     ]
    },
    {
     "name": "stdout",
     "output_type": "stream",
     "text": [
      "Downloading https://github.com/nflverse/nflverse-data/releases/download/rosters/roster_2022.parquet\n"
     ]
    },
    {
     "name": "stderr",
     "output_type": "stream",
     "text": [
      "Downloading: 100%|██████████| 560k/560k [00:00<00:00, 70.0MB/s]"
     ]
    },
    {
     "name": "stdout",
     "output_type": "stream",
     "text": [
      "Downloading https://github.com/nflverse/nflverse-data/releases/download/rosters/roster_2023.parquet\n"
     ]
    },
    {
     "name": "stderr",
     "output_type": "stream",
     "text": [
      "\n",
      "Downloading: 100%|██████████| 555k/555k [00:00<00:00, 79.2MB/s]\n"
     ]
    },
    {
     "name": "stdout",
     "output_type": "stream",
     "text": [
      "Downloading https://github.com/nflverse/nflverse-data/releases/download/rosters/roster_2024.parquet\n"
     ]
    },
    {
     "name": "stderr",
     "output_type": "stream",
     "text": [
      "Downloading: 100%|██████████| 566k/566k [00:00<00:00, 56.6MB/s]\n"
     ]
    },
    {
     "name": "stdout",
     "output_type": "stream",
     "text": [
      "Downloading https://github.com/nflverse/nflverse-data/releases/download/rosters/roster_2025.parquet\n"
     ]
    },
    {
     "name": "stderr",
     "output_type": "stream",
     "text": [
      "Downloading: 100%|██████████| 516k/516k [00:00<00:00, 64.5MB/s]\n"
     ]
    },
    {
     "data": {
      "text/html": [
       "<div><style>\n",
       ".dataframe > thead > tr,\n",
       ".dataframe > tbody > tr {\n",
       "  text-align: right;\n",
       "  white-space: pre-wrap;\n",
       "}\n",
       "</style>\n",
       "<small>shape: (60_268, 36)</small><table border=\"1\" class=\"dataframe\"><thead><tr><th>season</th><th>team</th><th>position</th><th>depth_chart_position</th><th>jersey_number</th><th>status</th><th>full_name</th><th>first_name</th><th>last_name</th><th>birth_date</th><th>height</th><th>weight</th><th>college</th><th>gsis_id</th><th>espn_id</th><th>sportradar_id</th><th>yahoo_id</th><th>rotowire_id</th><th>pff_id</th><th>pfr_id</th><th>fantasy_data_id</th><th>sleeper_id</th><th>years_exp</th><th>headshot_url</th><th>ngs_position</th><th>week</th><th>game_type</th><th>status_description_abbr</th><th>football_name</th><th>esb_id</th><th>gsis_it_id</th><th>smart_id</th><th>entry_year</th><th>rookie_year</th><th>draft_club</th><th>draft_number</th></tr><tr><td>i32</td><td>str</td><td>str</td><td>str</td><td>str</td><td>str</td><td>str</td><td>str</td><td>str</td><td>date</td><td>f64</td><td>i32</td><td>str</td><td>str</td><td>str</td><td>str</td><td>str</td><td>str</td><td>str</td><td>str</td><td>str</td><td>str</td><td>i32</td><td>str</td><td>str</td><td>i32</td><td>str</td><td>str</td><td>str</td><td>str</td><td>str</td><td>str</td><td>i32</td><td>i32</td><td>str</td><td>str</td></tr></thead><tbody><tr><td>2002</td><td>&quot;CHI&quot;</td><td>&quot;RB&quot;</td><td>null</td><td>&quot;27&quot;</td><td>&quot;ACT&quot;</td><td>&quot;Rabih Abdullah&quot;</td><td>&quot;Rabih&quot;</td><td>&quot;Abdullah&quot;</td><td>1975-04-27</td><td>72.0</td><td>220</td><td>null</td><td>&quot;00-0000007&quot;</td><td>null</td><td>null</td><td>null</td><td>null</td><td>null</td><td>null</td><td>null</td><td>null</td><td>4</td><td>&quot;https://static.www.nfl.com/ima…</td><td>null</td><td>17</td><td>&quot;REG&quot;</td><td>&quot;A01&quot;</td><td>&quot;Rabih&quot;</td><td>&quot;ABD675101&quot;</td><td>null</td><td>&quot;32004142-4467-5101-8326-4b71f9…</td><td>1998</td><td>1998</td><td>null</td><td>null</td></tr><tr><td>2002</td><td>&quot;NYJ&quot;</td><td>&quot;CB&quot;</td><td>null</td><td>&quot;29&quot;</td><td>&quot;ACT&quot;</td><td>&quot;Donnie Abraham&quot;</td><td>&quot;Nathaniel&quot;</td><td>&quot;Abraham&quot;</td><td>1973-10-08</td><td>70.0</td><td>192</td><td>null</td><td>&quot;00-0000017&quot;</td><td>null</td><td>null</td><td>null</td><td>null</td><td>null</td><td>null</td><td>null</td><td>null</td><td>6</td><td>&quot;https://static.www.nfl.com/ima…</td><td>null</td><td>19</td><td>&quot;DIV&quot;</td><td>&quot;A01&quot;</td><td>&quot;Donnie&quot;</td><td>&quot;ABR073258&quot;</td><td>null</td><td>&quot;32004142-5207-3258-ebd3-814f82…</td><td>1996</td><td>1996</td><td>&quot;TB&quot;</td><td>&quot;71&quot;</td></tr><tr><td>2002</td><td>&quot;TEN&quot;</td><td>&quot;G&quot;</td><td>null</td><td>&quot;67&quot;</td><td>&quot;ACT&quot;</td><td>&quot;Tom Ackerman&quot;</td><td>&quot;Thomas&quot;</td><td>&quot;Ackerman&quot;</td><td>1972-09-06</td><td>75.0</td><td>292</td><td>null</td><td>&quot;00-0000032&quot;</td><td>null</td><td>null</td><td>null</td><td>null</td><td>null</td><td>null</td><td>null</td><td>null</td><td>6</td><td>&quot;https://static.www.nfl.com/ima…</td><td>null</td><td>20</td><td>&quot;CON&quot;</td><td>&quot;A01&quot;</td><td>&quot;Tom&quot;</td><td>&quot;ACK425040&quot;</td><td>null</td><td>&quot;32004143-4b42-5040-5e4c-ffc269…</td><td>1996</td><td>1996</td><td>&quot;NO&quot;</td><td>&quot;145&quot;</td></tr><tr><td>2002</td><td>&quot;DAL&quot;</td><td>&quot;T&quot;</td><td>null</td><td>&quot;76&quot;</td><td>&quot;ACT&quot;</td><td>&quot;Flozell Adams&quot;</td><td>&quot;Flozell&quot;</td><td>&quot;Adams&quot;</td><td>1975-05-18</td><td>79.0</td><td>357</td><td>null</td><td>&quot;00-0000045&quot;</td><td>null</td><td>null</td><td>null</td><td>null</td><td>null</td><td>null</td><td>null</td><td>null</td><td>4</td><td>&quot;https://static.www.nfl.com/ima…</td><td>null</td><td>17</td><td>&quot;REG&quot;</td><td>&quot;A01&quot;</td><td>&quot;Flozell&quot;</td><td>&quot;ADA280969&quot;</td><td>null</td><td>&quot;32004144-4128-0969-9390-de3ae3…</td><td>1998</td><td>1998</td><td>&quot;DAL&quot;</td><td>&quot;38&quot;</td></tr><tr><td>2002</td><td>&quot;OAK&quot;</td><td>&quot;DT&quot;</td><td>null</td><td>&quot;95&quot;</td><td>&quot;ACT&quot;</td><td>&quot;Sam Adams&quot;</td><td>&quot;Sam&quot;</td><td>&quot;Adams&quot;</td><td>1973-06-13</td><td>75.0</td><td>330</td><td>null</td><td>&quot;00-0000065&quot;</td><td>null</td><td>null</td><td>null</td><td>null</td><td>null</td><td>null</td><td>null</td><td>null</td><td>8</td><td>&quot;https://static.www.nfl.com/ima…</td><td>null</td><td>21</td><td>&quot;SB&quot;</td><td>&quot;A01&quot;</td><td>&quot;Sam&quot;</td><td>&quot;ADA571656&quot;</td><td>null</td><td>&quot;32004144-4157-1656-c9b5-9681a9…</td><td>1994</td><td>1994</td><td>&quot;SEA&quot;</td><td>&quot;8&quot;</td></tr><tr><td>&hellip;</td><td>&hellip;</td><td>&hellip;</td><td>&hellip;</td><td>&hellip;</td><td>&hellip;</td><td>&hellip;</td><td>&hellip;</td><td>&hellip;</td><td>&hellip;</td><td>&hellip;</td><td>&hellip;</td><td>&hellip;</td><td>&hellip;</td><td>&hellip;</td><td>&hellip;</td><td>&hellip;</td><td>&hellip;</td><td>&hellip;</td><td>&hellip;</td><td>&hellip;</td><td>&hellip;</td><td>&hellip;</td><td>&hellip;</td><td>&hellip;</td><td>&hellip;</td><td>&hellip;</td><td>&hellip;</td><td>&hellip;</td><td>&hellip;</td><td>&hellip;</td><td>&hellip;</td><td>&hellip;</td><td>&hellip;</td><td>&hellip;</td><td>&hellip;</td></tr><tr><td>2025</td><td>&quot;KC&quot;</td><td>&quot;LB&quot;</td><td>&quot;LB&quot;</td><td>&quot;49&quot;</td><td>&quot;CUT&quot;</td><td>&quot;Xander Mueller&quot;</td><td>&quot;Xander&quot;</td><td>&quot;Mueller&quot;</td><td>null</td><td>null</td><td>232</td><td>null</td><td>&quot;00-0040780&quot;</td><td>null</td><td>null</td><td>null</td><td>null</td><td>null</td><td>null</td><td>null</td><td>null</td><td>0</td><td>null</td><td>null</td><td>1</td><td>&quot;REG&quot;</td><td>&quot;W03&quot;</td><td>&quot;Xander&quot;</td><td>&quot;MUE622935&quot;</td><td>&quot;59264&quot;</td><td>&quot;32004d55-4562-2935-86f2-6931bc…</td><td>2025</td><td>2025</td><td>null</td><td>null</td></tr><tr><td>2025</td><td>&quot;IND&quot;</td><td>&quot;LB&quot;</td><td>&quot;LB&quot;</td><td>&quot;49&quot;</td><td>&quot;CUT&quot;</td><td>&quot;Joseph Vaughn&quot;</td><td>&quot;Joseph&quot;</td><td>&quot;Vaughn&quot;</td><td>null</td><td>null</td><td>238</td><td>null</td><td>&quot;00-0040781&quot;</td><td>null</td><td>null</td><td>null</td><td>null</td><td>null</td><td>null</td><td>null</td><td>null</td><td>0</td><td>null</td><td>null</td><td>1</td><td>&quot;REG&quot;</td><td>&quot;W03&quot;</td><td>&quot;Joseph&quot;</td><td>&quot;VAU443667&quot;</td><td>&quot;59277&quot;</td><td>&quot;32005641-5544-3667-4846-303a16…</td><td>2025</td><td>2025</td><td>null</td><td>null</td></tr><tr><td>2025</td><td>&quot;CLE&quot;</td><td>&quot;WR&quot;</td><td>&quot;WR&quot;</td><td>&quot;16&quot;</td><td>&quot;ACT&quot;</td><td>&quot;Isaiah Bond&quot;</td><td>&quot;Isaiah&quot;</td><td>&quot;Bond&quot;</td><td>2004-03-15</td><td>71.0</td><td>180</td><td>&quot;Texas; Alabama&quot;</td><td>&quot;00-0040782&quot;</td><td>null</td><td>null</td><td>null</td><td>null</td><td>null</td><td>null</td><td>null</td><td>null</td><td>0</td><td>&quot;https://static.www.nfl.com/ima…</td><td>null</td><td>2</td><td>&quot;REG&quot;</td><td>&quot;A01&quot;</td><td>&quot;Isaiah&quot;</td><td>&quot;BON168854&quot;</td><td>&quot;59278&quot;</td><td>&quot;3200424f-4e16-8854-5500-4fcd95…</td><td>2025</td><td>2025</td><td>null</td><td>null</td></tr><tr><td>2025</td><td>&quot;IND&quot;</td><td>&quot;LB&quot;</td><td>&quot;LB&quot;</td><td>&quot;47&quot;</td><td>&quot;CUT&quot;</td><td>&quot;Jake Chaney&quot;</td><td>&quot;Jake&quot;</td><td>&quot;Chaney&quot;</td><td>null</td><td>null</td><td>230</td><td>null</td><td>&quot;00-0040783&quot;</td><td>null</td><td>null</td><td>null</td><td>null</td><td>null</td><td>null</td><td>null</td><td>null</td><td>0</td><td>null</td><td>null</td><td>1</td><td>&quot;REG&quot;</td><td>&quot;W03&quot;</td><td>&quot;Jake&quot;</td><td>&quot;CHA365039&quot;</td><td>&quot;59276&quot;</td><td>&quot;32004348-4136-5039-1d25-b16549…</td><td>2025</td><td>2025</td><td>null</td><td>null</td></tr><tr><td>2025</td><td>&quot;CLE&quot;</td><td>&quot;RB&quot;</td><td>&quot;RB&quot;</td><td>&quot;10&quot;</td><td>&quot;EXE&quot;</td><td>&quot;Quinshon Judkins&quot;</td><td>&quot;Quinshon&quot;</td><td>&quot;Judkins&quot;</td><td>null</td><td>null</td><td>219</td><td>null</td><td>null</td><td>null</td><td>null</td><td>null</td><td>null</td><td>null</td><td>null</td><td>null</td><td>null</td><td>0</td><td>&quot;https://static.www.nfl.com/ima…</td><td>null</td><td>2</td><td>&quot;REG&quot;</td><td>&quot;E02&quot;</td><td>&quot;Quinshon&quot;</td><td>&quot;JUD359919&quot;</td><td>&quot;58241&quot;</td><td>&quot;32004841-5351-2236-fd73-19b38e…</td><td>2025</td><td>2025</td><td>&quot;CLE&quot;</td><td>&quot;36&quot;</td></tr></tbody></table></div>"
      ],
      "text/plain": [
       "shape: (60_268, 36)\n",
       "┌────────┬──────┬──────────┬─────────────┬───┬────────────┬─────────────┬────────────┬─────────────┐\n",
       "│ season ┆ team ┆ position ┆ depth_chart ┆ … ┆ entry_year ┆ rookie_year ┆ draft_club ┆ draft_numbe │\n",
       "│ ---    ┆ ---  ┆ ---      ┆ _position   ┆   ┆ ---        ┆ ---         ┆ ---        ┆ r           │\n",
       "│ i32    ┆ str  ┆ str      ┆ ---         ┆   ┆ i32        ┆ i32         ┆ str        ┆ ---         │\n",
       "│        ┆      ┆          ┆ str         ┆   ┆            ┆             ┆            ┆ str         │\n",
       "╞════════╪══════╪══════════╪═════════════╪═══╪════════════╪═════════════╪════════════╪═════════════╡\n",
       "│ 2002   ┆ CHI  ┆ RB       ┆ null        ┆ … ┆ 1998       ┆ 1998        ┆ null       ┆ null        │\n",
       "│ 2002   ┆ NYJ  ┆ CB       ┆ null        ┆ … ┆ 1996       ┆ 1996        ┆ TB         ┆ 71          │\n",
       "│ 2002   ┆ TEN  ┆ G        ┆ null        ┆ … ┆ 1996       ┆ 1996        ┆ NO         ┆ 145         │\n",
       "│ 2002   ┆ DAL  ┆ T        ┆ null        ┆ … ┆ 1998       ┆ 1998        ┆ DAL        ┆ 38          │\n",
       "│ 2002   ┆ OAK  ┆ DT       ┆ null        ┆ … ┆ 1994       ┆ 1994        ┆ SEA        ┆ 8           │\n",
       "│ …      ┆ …    ┆ …        ┆ …           ┆ … ┆ …          ┆ …           ┆ …          ┆ …           │\n",
       "│ 2025   ┆ KC   ┆ LB       ┆ LB          ┆ … ┆ 2025       ┆ 2025        ┆ null       ┆ null        │\n",
       "│ 2025   ┆ IND  ┆ LB       ┆ LB          ┆ … ┆ 2025       ┆ 2025        ┆ null       ┆ null        │\n",
       "│ 2025   ┆ CLE  ┆ WR       ┆ WR          ┆ … ┆ 2025       ┆ 2025        ┆ null       ┆ null        │\n",
       "│ 2025   ┆ IND  ┆ LB       ┆ LB          ┆ … ┆ 2025       ┆ 2025        ┆ null       ┆ null        │\n",
       "│ 2025   ┆ CLE  ┆ RB       ┆ RB          ┆ … ┆ 2025       ┆ 2025        ┆ CLE        ┆ 36          │\n",
       "└────────┴──────┴──────────┴─────────────┴───┴────────────┴─────────────┴────────────┴─────────────┘"
      ]
     },
     "execution_count": 17,
     "metadata": {},
     "output_type": "execute_result"
    }
   ],
   "source": [
    "rosters = nfl.load_rosters(range(2002,end_year))\n",
    "rosters"
   ]
  },
  {
   "cell_type": "code",
   "execution_count": 18,
   "metadata": {},
   "outputs": [
    {
     "data": {
      "text/plain": [
       "<duckdb.duckdb.DuckDBPyConnection at 0x1b200365db0>"
      ]
     },
     "execution_count": 18,
     "metadata": {},
     "output_type": "execute_result"
    }
   ],
   "source": [
    "#rosters.to_sql('rosters', conn, if_exists='replace', index=False)\n",
    "con.execute(\"CREATE OR REPLACE TABLE rosters AS SELECT * FROM rosters\")"
   ]
  },
  {
   "cell_type": "code",
   "execution_count": 25,
   "metadata": {},
   "outputs": [
    {
     "name": "stdout",
     "output_type": "stream",
     "text": [
      "Downloading https://github.com/dynastyprocess/data/raw/master/files/db_playerids.csv\n"
     ]
    },
    {
     "name": "stderr",
     "output_type": "stream",
     "text": [
      "Downloading: 2.52MB [00:00, 19.2MB/s]                  \n"
     ]
    },
    {
     "data": {
      "text/html": [
       "<div><style>\n",
       ".dataframe > thead > tr,\n",
       ".dataframe > tbody > tr {\n",
       "  text-align: right;\n",
       "  white-space: pre-wrap;\n",
       "}\n",
       "</style>\n",
       "<small>shape: (12_121, 35)</small><table border=\"1\" class=\"dataframe\"><thead><tr><th>mfl_id</th><th>sportradar_id</th><th>fantasypros_id</th><th>gsis_id</th><th>pff_id</th><th>sleeper_id</th><th>nfl_id</th><th>espn_id</th><th>yahoo_id</th><th>fleaflicker_id</th><th>cbs_id</th><th>pfr_id</th><th>cfbref_id</th><th>rotowire_id</th><th>rotoworld_id</th><th>ktc_id</th><th>stats_id</th><th>stats_global_id</th><th>fantasy_data_id</th><th>swish_id</th><th>name</th><th>merge_name</th><th>position</th><th>team</th><th>birthdate</th><th>age</th><th>draft_year</th><th>draft_round</th><th>draft_pick</th><th>draft_ovr</th><th>twitter_username</th><th>height</th><th>weight</th><th>college</th><th>db_season</th></tr><tr><td>i64</td><td>str</td><td>i64</td><td>str</td><td>str</td><td>i64</td><td>str</td><td>i64</td><td>str</td><td>str</td><td>i64</td><td>str</td><td>str</td><td>i64</td><td>str</td><td>i64</td><td>i64</td><td>i64</td><td>str</td><td>str</td><td>str</td><td>str</td><td>str</td><td>str</td><td>str</td><td>f64</td><td>i64</td><td>i64</td><td>i64</td><td>str</td><td>str</td><td>i64</td><td>i64</td><td>str</td><td>i64</td></tr></thead><tbody><tr><td>17030</td><td>&quot;3c76cab3-3df2-43dd-acaa-57e055…</td><td>24755</td><td>null</td><td>null</td><td>12522</td><td>null</td><td>4688380</td><td>null</td><td>null</td><td>3168422</td><td>null</td><td>null</td><td>16997</td><td>null</td><td>1730</td><td>41786</td><td>0</td><td>null</td><td>null</td><td>&quot;Cam Ward&quot;</td><td>&quot;cam ward&quot;</td><td>&quot;QB&quot;</td><td>&quot;TEN&quot;</td><td>&quot;2002-05-25&quot;</td><td>23.3</td><td>2025</td><td>1</td><td>1</td><td>null</td><td>null</td><td>74</td><td>219</td><td>&quot;Miami (FL)&quot;</td><td>2025</td></tr><tr><td>17031</td><td>&quot;270e09bc-8bf8-44b0-87ed-1fd014…</td><td>25968</td><td>null</td><td>null</td><td>12524</td><td>null</td><td>4432762</td><td>null</td><td>null</td><td>26710004</td><td>null</td><td>null</td><td>18479</td><td>null</td><td>1731</td><td>41930</td><td>0</td><td>null</td><td>null</td><td>&quot;Shedeur Sanders&quot;</td><td>&quot;shedeur sanders&quot;</td><td>&quot;QB&quot;</td><td>&quot;CLE&quot;</td><td>&quot;2002-02-07&quot;</td><td>23.6</td><td>2025</td><td>5</td><td>6</td><td>null</td><td>null</td><td>74</td><td>212</td><td>&quot;Colorado&quot;</td><td>2025</td></tr><tr><td>17032</td><td>&quot;53848cba-bcad-4cd0-bb35-0a1f6e…</td><td>23160</td><td>null</td><td>null</td><td>12508</td><td>null</td><td>4689114</td><td>null</td><td>null</td><td>26694019</td><td>null</td><td>null</td><td>18574</td><td>null</td><td>1732</td><td>41810</td><td>0</td><td>null</td><td>null</td><td>&quot;Jaxson Dart&quot;</td><td>&quot;jaxson dart&quot;</td><td>&quot;QB&quot;</td><td>&quot;NYG&quot;</td><td>&quot;2003-05-13&quot;</td><td>22.3</td><td>2025</td><td>1</td><td>25</td><td>null</td><td>null</td><td>74</td><td>223</td><td>&quot;Ole Miss&quot;</td><td>2025</td></tr><tr><td>17033</td><td>&quot;b0eb5b67-4ef2-462d-bfe7-e73bcc…</td><td>22884</td><td>null</td><td>null</td><td>12510</td><td>null</td><td>4432734</td><td>null</td><td>null</td><td>26694943</td><td>null</td><td>null</td><td>18477</td><td>null</td><td>1733</td><td>41882</td><td>0</td><td>null</td><td>null</td><td>&quot;Jalen Milroe&quot;</td><td>&quot;jalen milroe&quot;</td><td>&quot;QB&quot;</td><td>&quot;SEA&quot;</td><td>&quot;2002-12-13&quot;</td><td>22.7</td><td>2025</td><td>3</td><td>28</td><td>null</td><td>null</td><td>74</td><td>216</td><td>&quot;Alabama&quot;</td><td>2025</td></tr><tr><td>17034</td><td>&quot;d89f0384-21a6-44e4-8aa6-324cb2…</td><td>23680</td><td>null</td><td>null</td><td>12500</td><td>null</td><td>4889929</td><td>null</td><td>null</td><td>26746721</td><td>null</td><td>null</td><td>18505</td><td>null</td><td>1734</td><td>42037</td><td>0</td><td>null</td><td>null</td><td>&quot;Quinn Ewers&quot;</td><td>&quot;quinn ewers&quot;</td><td>&quot;QB&quot;</td><td>&quot;MIA&quot;</td><td>&quot;2003-05-13&quot;</td><td>22.3</td><td>2025</td><td>7</td><td>15</td><td>null</td><td>null</td><td>74</td><td>209</td><td>&quot;Texas&quot;</td><td>2025</td></tr><tr><td>&hellip;</td><td>&hellip;</td><td>&hellip;</td><td>&hellip;</td><td>&hellip;</td><td>&hellip;</td><td>&hellip;</td><td>&hellip;</td><td>&hellip;</td><td>&hellip;</td><td>&hellip;</td><td>&hellip;</td><td>&hellip;</td><td>&hellip;</td><td>&hellip;</td><td>&hellip;</td><td>&hellip;</td><td>&hellip;</td><td>&hellip;</td><td>&hellip;</td><td>&hellip;</td><td>&hellip;</td><td>&hellip;</td><td>&hellip;</td><td>&hellip;</td><td>&hellip;</td><td>&hellip;</td><td>&hellip;</td><td>&hellip;</td><td>&hellip;</td><td>&hellip;</td><td>&hellip;</td><td>&hellip;</td><td>&hellip;</td><td>&hellip;</td></tr><tr><td>972</td><td>null</td><td>null</td><td>null</td><td>null</td><td>null</td><td>null</td><td>null</td><td>null</td><td>null</td><td>null</td><td>null</td><td>null</td><td>null</td><td>null</td><td>null</td><td>null</td><td>null</td><td>null</td><td>null</td><td>&quot;Doug Brien&quot;</td><td>&quot;doug brien&quot;</td><td>&quot;PK&quot;</td><td>&quot;NOS&quot;</td><td>null</td><td>null</td><td>null</td><td>null</td><td>null</td><td>null</td><td>null</td><td>null</td><td>null</td><td>null</td><td>2025</td></tr><tr><td>978</td><td>null</td><td>null</td><td>null</td><td>null</td><td>null</td><td>null</td><td>null</td><td>null</td><td>null</td><td>null</td><td>null</td><td>null</td><td>null</td><td>null</td><td>null</td><td>null</td><td>null</td><td>null</td><td>null</td><td>&quot;Jeremy Brigham&quot;</td><td>&quot;jeremy brigham&quot;</td><td>&quot;TE&quot;</td><td>&quot;OAK&quot;</td><td>null</td><td>null</td><td>null</td><td>null</td><td>null</td><td>null</td><td>null</td><td>null</td><td>null</td><td>null</td><td>2025</td></tr><tr><td>984</td><td>null</td><td>null</td><td>null</td><td>null</td><td>null</td><td>null</td><td>null</td><td>null</td><td>null</td><td>null</td><td>null</td><td>null</td><td>null</td><td>null</td><td>null</td><td>null</td><td>null</td><td>null</td><td>null</td><td>&quot;Vincent Brisby&quot;</td><td>&quot;vincent brisby&quot;</td><td>&quot;WR&quot;</td><td>&quot;FA&quot;</td><td>null</td><td>null</td><td>null</td><td>null</td><td>null</td><td>null</td><td>null</td><td>null</td><td>null</td><td>null</td><td>2025</td></tr><tr><td>990</td><td>null</td><td>null</td><td>null</td><td>null</td><td>null</td><td>null</td><td>null</td><td>null</td><td>null</td><td>null</td><td>null</td><td>null</td><td>null</td><td>null</td><td>null</td><td>null</td><td>null</td><td>null</td><td>null</td><td>&quot;Bubby Brister&quot;</td><td>&quot;bubby brister&quot;</td><td>&quot;QB&quot;</td><td>&quot;KCC&quot;</td><td>null</td><td>null</td><td>null</td><td>null</td><td>null</td><td>null</td><td>null</td><td>null</td><td>null</td><td>null</td><td>2025</td></tr><tr><td>996</td><td>null</td><td>null</td><td>null</td><td>null</td><td>null</td><td>null</td><td>null</td><td>null</td><td>null</td><td>null</td><td>null</td><td>null</td><td>null</td><td>null</td><td>null</td><td>null</td><td>null</td><td>null</td><td>null</td><td>&quot;Lorenzo Bromell&quot;</td><td>&quot;lorenzo bromell&quot;</td><td>&quot;DL&quot;</td><td>&quot;MIA&quot;</td><td>null</td><td>null</td><td>null</td><td>null</td><td>null</td><td>null</td><td>null</td><td>null</td><td>null</td><td>null</td><td>2025</td></tr></tbody></table></div>"
      ],
      "text/plain": [
       "shape: (12_121, 35)\n",
       "┌────────┬────────────────┬───────────────┬─────────┬───┬────────┬────────┬────────────┬───────────┐\n",
       "│ mfl_id ┆ sportradar_id  ┆ fantasypros_i ┆ gsis_id ┆ … ┆ height ┆ weight ┆ college    ┆ db_season │\n",
       "│ ---    ┆ ---            ┆ d             ┆ ---     ┆   ┆ ---    ┆ ---    ┆ ---        ┆ ---       │\n",
       "│ i64    ┆ str            ┆ ---           ┆ str     ┆   ┆ i64    ┆ i64    ┆ str        ┆ i64       │\n",
       "│        ┆                ┆ i64           ┆         ┆   ┆        ┆        ┆            ┆           │\n",
       "╞════════╪════════════════╪═══════════════╪═════════╪═══╪════════╪════════╪════════════╪═══════════╡\n",
       "│ 17030  ┆ 3c76cab3-3df2- ┆ 24755         ┆ null    ┆ … ┆ 74     ┆ 219    ┆ Miami (FL) ┆ 2025      │\n",
       "│        ┆ 43dd-acaa-57e0 ┆               ┆         ┆   ┆        ┆        ┆            ┆           │\n",
       "│        ┆ 55…            ┆               ┆         ┆   ┆        ┆        ┆            ┆           │\n",
       "│ 17031  ┆ 270e09bc-8bf8- ┆ 25968         ┆ null    ┆ … ┆ 74     ┆ 212    ┆ Colorado   ┆ 2025      │\n",
       "│        ┆ 44b0-87ed-1fd0 ┆               ┆         ┆   ┆        ┆        ┆            ┆           │\n",
       "│        ┆ 14…            ┆               ┆         ┆   ┆        ┆        ┆            ┆           │\n",
       "│ 17032  ┆ 53848cba-bcad- ┆ 23160         ┆ null    ┆ … ┆ 74     ┆ 223    ┆ Ole Miss   ┆ 2025      │\n",
       "│        ┆ 4cd0-bb35-0a1f ┆               ┆         ┆   ┆        ┆        ┆            ┆           │\n",
       "│        ┆ 6e…            ┆               ┆         ┆   ┆        ┆        ┆            ┆           │\n",
       "│ 17033  ┆ b0eb5b67-4ef2- ┆ 22884         ┆ null    ┆ … ┆ 74     ┆ 216    ┆ Alabama    ┆ 2025      │\n",
       "│        ┆ 462d-bfe7-e73b ┆               ┆         ┆   ┆        ┆        ┆            ┆           │\n",
       "│        ┆ cc…            ┆               ┆         ┆   ┆        ┆        ┆            ┆           │\n",
       "│ 17034  ┆ d89f0384-21a6- ┆ 23680         ┆ null    ┆ … ┆ 74     ┆ 209    ┆ Texas      ┆ 2025      │\n",
       "│        ┆ 44e4-8aa6-324c ┆               ┆         ┆   ┆        ┆        ┆            ┆           │\n",
       "│        ┆ b2…            ┆               ┆         ┆   ┆        ┆        ┆            ┆           │\n",
       "│ …      ┆ …              ┆ …             ┆ …       ┆ … ┆ …      ┆ …      ┆ …          ┆ …         │\n",
       "│ 972    ┆ null           ┆ null          ┆ null    ┆ … ┆ null   ┆ null   ┆ null       ┆ 2025      │\n",
       "│ 978    ┆ null           ┆ null          ┆ null    ┆ … ┆ null   ┆ null   ┆ null       ┆ 2025      │\n",
       "│ 984    ┆ null           ┆ null          ┆ null    ┆ … ┆ null   ┆ null   ┆ null       ┆ 2025      │\n",
       "│ 990    ┆ null           ┆ null          ┆ null    ┆ … ┆ null   ┆ null   ┆ null       ┆ 2025      │\n",
       "│ 996    ┆ null           ┆ null          ┆ null    ┆ … ┆ null   ┆ null   ┆ null       ┆ 2025      │\n",
       "└────────┴────────────────┴───────────────┴─────────┴───┴────────┴────────┴────────────┴───────────┘"
      ]
     },
     "execution_count": 25,
     "metadata": {},
     "output_type": "execute_result"
    }
   ],
   "source": [
    "ids = nfl.load_ff_playerids()\n",
    "ids"
   ]
  },
  {
   "cell_type": "code",
   "execution_count": null,
   "metadata": {},
   "outputs": [
    {
     "data": {
      "text/plain": [
       "<duckdb.duckdb.DuckDBPyConnection at 0x1b200365db0>"
      ]
     },
     "execution_count": 27,
     "metadata": {},
     "output_type": "execute_result"
    }
   ],
   "source": [
    "#ids.to_sql('ids', conn, if_exists='replace', index=False)\n",
    "con.execute(\"CREATE OR REPLACE TABLE ids AS SELECT * FROM ids\")"
   ]
  },
  {
   "cell_type": "code",
   "execution_count": 36,
   "metadata": {},
   "outputs": [
    {
     "data": {
      "text/plain": [
       "<duckdb.duckdb.DuckDBPyConnection at 0x1b200365db0>"
      ]
     },
     "execution_count": 36,
     "metadata": {},
     "output_type": "execute_result"
    }
   ],
   "source": [
    "snaps = nfl.load_snap_counts(range(2012,end_year))\n",
    "team_map = {'OAK':'LV',\n",
    "            'STL':'LA',\n",
    "            'SD':'LAC'}\n",
    "snaps = snaps.to_pandas()  # temporarily convert\n",
    "snaps['team'] = snaps['team'].map(lambda x: team_map.get(x,x))\n",
    "snaps = pl.from_pandas(snaps)\n",
    "#snaps.to_sql('snaps', conn, if_exists='replace', index=False)\n",
    "con.execute(\"CREATE OR REPLACE TABLE snaps AS SELECT * FROM snaps\")"
   ]
  },
  {
   "cell_type": "code",
   "execution_count": 40,
   "metadata": {},
   "outputs": [
    {
     "data": {
      "application/vnd.jupyter.widget-view+json": {
       "model_id": "6d1c07a77d004459bb744272f45f509a",
       "version_major": 2,
       "version_minor": 0
      },
      "text/plain": [
       "FloatProgress(value=0.0, layout=Layout(width='auto'), style=ProgressStyle(bar_color='black'))"
      ]
     },
     "metadata": {},
     "output_type": "display_data"
    },
    {
     "data": {
      "text/plain": [
       "<duckdb.duckdb.DuckDBPyConnection at 0x1b200365db0>"
      ]
     },
     "execution_count": 40,
     "metadata": {},
     "output_type": "execute_result"
    }
   ],
   "source": [
    "depth = nfl.load_depth_charts(range(2001,end_year)).unique()\n",
    "\n",
    "team_map = {'OAK':'LV',\n",
    "            'STL':'LA',\n",
    "            'SD':'LAC'}\n",
    "\n",
    "depth = depth.to_pandas()  # temporarily convert\n",
    "depth['club_code'] = depth['club_code'].apply(lambda x: team_map.get(x,x))\n",
    "depth = depth.sort_values(by=['season','club_code','week','depth_team'])\n",
    "depth['dense_depth'] = depth.groupby(['club_code','season','week','position', 'game_type','formation']).cumcount()\n",
    "depth['depth_position'] = depth['depth_position'].replace({'\\n    ':None})\n",
    "depth['depth_position'] = depth['depth_position'].fillna(depth['position'])\n",
    "depth = depth.rename({'club_code':'team_name'},axis=1)\n",
    "\n",
    "#depth.to_sql('depth', conn, if_exists='replace', index=False)\n",
    "con.execute(\"CREATE OR REPLACE TABLE depth AS SELECT * FROM depth\")"
   ]
  },
  {
   "cell_type": "code",
   "execution_count": 41,
   "metadata": {},
   "outputs": [
    {
     "name": "stdout",
     "output_type": "stream",
     "text": [
      "Downloading https://github.com/nflverse/nfldata/raw/master/data/games.csv\n"
     ]
    },
    {
     "name": "stderr",
     "output_type": "stream",
     "text": [
      "Downloading: 2.09MB [00:00, 25.5MB/s]                  \n"
     ]
    },
    {
     "data": {
      "text/html": [
       "<div><style>\n",
       ".dataframe > thead > tr,\n",
       ".dataframe > tbody > tr {\n",
       "  text-align: right;\n",
       "  white-space: pre-wrap;\n",
       "}\n",
       "</style>\n",
       "<small>shape: (7_004, 46)</small><table border=\"1\" class=\"dataframe\"><thead><tr><th>game_id</th><th>season</th><th>game_type</th><th>week</th><th>gameday</th><th>weekday</th><th>gametime</th><th>away_team</th><th>away_score</th><th>home_team</th><th>home_score</th><th>location</th><th>result</th><th>total</th><th>overtime</th><th>old_game_id</th><th>gsis</th><th>nfl_detail_id</th><th>pfr</th><th>pff</th><th>espn</th><th>ftn</th><th>away_rest</th><th>home_rest</th><th>away_moneyline</th><th>home_moneyline</th><th>spread_line</th><th>away_spread_odds</th><th>home_spread_odds</th><th>total_line</th><th>under_odds</th><th>over_odds</th><th>div_game</th><th>roof</th><th>surface</th><th>temp</th><th>wind</th><th>away_qb_id</th><th>home_qb_id</th><th>away_qb_name</th><th>home_qb_name</th><th>away_coach</th><th>home_coach</th><th>referee</th><th>stadium_id</th><th>stadium</th></tr><tr><td>str</td><td>i64</td><td>str</td><td>i64</td><td>str</td><td>str</td><td>str</td><td>str</td><td>i64</td><td>str</td><td>i64</td><td>str</td><td>i64</td><td>i64</td><td>i64</td><td>i64</td><td>i64</td><td>str</td><td>str</td><td>str</td><td>i64</td><td>str</td><td>i64</td><td>i64</td><td>str</td><td>str</td><td>f64</td><td>str</td><td>str</td><td>f64</td><td>str</td><td>str</td><td>i64</td><td>str</td><td>str</td><td>i64</td><td>i64</td><td>str</td><td>str</td><td>str</td><td>str</td><td>str</td><td>str</td><td>str</td><td>str</td><td>str</td></tr></thead><tbody><tr><td>&quot;2000_01_SF_ATL&quot;</td><td>2000</td><td>&quot;REG&quot;</td><td>1</td><td>&quot;2000-09-03&quot;</td><td>&quot;Sunday&quot;</td><td>&quot;13:00&quot;</td><td>&quot;SF&quot;</td><td>28</td><td>&quot;ATL&quot;</td><td>36</td><td>&quot;Home&quot;</td><td>8</td><td>64</td><td>0</td><td>2000090310</td><td>998</td><td>null</td><td>&quot;200009030atl&quot;</td><td>null</td><td>200903001</td><td>null</td><td>7</td><td>7</td><td>null</td><td>null</td><td>6.5</td><td>null</td><td>null</td><td>46.5</td><td>null</td><td>null</td><td>1</td><td>&quot;dome&quot;</td><td>&quot;astroturf&quot;</td><td>null</td><td>null</td><td>&quot;00-0005755&quot;</td><td>&quot;00-0002876&quot;</td><td>&quot;Jeff Garcia&quot;</td><td>&quot;Chris Chandler&quot;</td><td>&quot;Steve Mariucci&quot;</td><td>&quot;Dan Reeves&quot;</td><td>&quot;Walt Coleman&quot;</td><td>&quot;ATL00&quot;</td><td>&quot;Georgia Dome&quot;</td></tr><tr><td>&quot;2000_01_JAX_CLE&quot;</td><td>2000</td><td>&quot;REG&quot;</td><td>1</td><td>&quot;2000-09-03&quot;</td><td>&quot;Sunday&quot;</td><td>&quot;13:00&quot;</td><td>&quot;JAX&quot;</td><td>27</td><td>&quot;CLE&quot;</td><td>7</td><td>&quot;Home&quot;</td><td>-20</td><td>34</td><td>0</td><td>2000090306</td><td>994</td><td>null</td><td>&quot;200009030cle&quot;</td><td>null</td><td>200903005</td><td>null</td><td>7</td><td>7</td><td>null</td><td>null</td><td>-10.5</td><td>null</td><td>null</td><td>38.5</td><td>null</td><td>null</td><td>1</td><td>&quot;outdoors&quot;</td><td>&quot;grass&quot;</td><td>78</td><td>6</td><td>&quot;00-0002110&quot;</td><td>&quot;00-0003535&quot;</td><td>&quot;Mark Brunell&quot;</td><td>&quot;Tim Couch&quot;</td><td>&quot;Tom Coughlin&quot;</td><td>&quot;Chris Palmer&quot;</td><td>&quot;Bernie Kukar&quot;</td><td>&quot;CLE00&quot;</td><td>&quot;Cleveland Browns Stadium&quot;</td></tr><tr><td>&quot;2000_01_IND_KC&quot;</td><td>2000</td><td>&quot;REG&quot;</td><td>1</td><td>&quot;2000-09-03&quot;</td><td>&quot;Sunday&quot;</td><td>&quot;13:00&quot;</td><td>&quot;IND&quot;</td><td>27</td><td>&quot;KC&quot;</td><td>14</td><td>&quot;Home&quot;</td><td>-13</td><td>41</td><td>0</td><td>2000090305</td><td>993</td><td>null</td><td>&quot;200009030kan&quot;</td><td>null</td><td>200903012</td><td>null</td><td>7</td><td>7</td><td>null</td><td>null</td><td>-3.5</td><td>null</td><td>null</td><td>44.0</td><td>null</td><td>null</td><td>0</td><td>&quot;outdoors&quot;</td><td>&quot;grass&quot;</td><td>90</td><td>5</td><td>&quot;00-0010346&quot;</td><td>&quot;00-0006300&quot;</td><td>&quot;Peyton Manning&quot;</td><td>&quot;Elvis Grbac&quot;</td><td>&quot;Jim Mora&quot;</td><td>&quot;Gunther Cunningham&quot;</td><td>&quot;Larry Nemmers&quot;</td><td>&quot;KAN00&quot;</td><td>&quot;Arrowhead Stadium&quot;</td></tr><tr><td>&quot;2000_01_CHI_MIN&quot;</td><td>2000</td><td>&quot;REG&quot;</td><td>1</td><td>&quot;2000-09-03&quot;</td><td>&quot;Sunday&quot;</td><td>&quot;13:00&quot;</td><td>&quot;CHI&quot;</td><td>27</td><td>&quot;MIN&quot;</td><td>30</td><td>&quot;Home&quot;</td><td>3</td><td>57</td><td>0</td><td>2000090303</td><td>991</td><td>null</td><td>&quot;200009030min&quot;</td><td>null</td><td>200903016</td><td>null</td><td>7</td><td>7</td><td>null</td><td>null</td><td>4.5</td><td>null</td><td>null</td><td>46.5</td><td>null</td><td>null</td><td>1</td><td>&quot;dome&quot;</td><td>&quot;astroturf&quot;</td><td>null</td><td>null</td><td>&quot;00-0011044&quot;</td><td>&quot;00-0003739&quot;</td><td>&quot;Cade McNown&quot;</td><td>&quot;Daunte Culpepper&quot;</td><td>&quot;Dick Jauron&quot;</td><td>&quot;Dennis Green&quot;</td><td>&quot;Ed Hochuli&quot;</td><td>&quot;MIN00&quot;</td><td>&quot;Hubert H. Humphrey Metrodome&quot;</td></tr><tr><td>&quot;2000_01_TB_NE&quot;</td><td>2000</td><td>&quot;REG&quot;</td><td>1</td><td>&quot;2000-09-03&quot;</td><td>&quot;Sunday&quot;</td><td>&quot;13:00&quot;</td><td>&quot;TB&quot;</td><td>21</td><td>&quot;NE&quot;</td><td>16</td><td>&quot;Home&quot;</td><td>-5</td><td>37</td><td>0</td><td>2000090312</td><td>1000</td><td>null</td><td>&quot;200009030nwe&quot;</td><td>null</td><td>200903017</td><td>null</td><td>7</td><td>7</td><td>null</td><td>null</td><td>-3.0</td><td>null</td><td>null</td><td>36.0</td><td>null</td><td>null</td><td>0</td><td>&quot;outdoors&quot;</td><td>&quot;grass&quot;</td><td>71</td><td>5</td><td>&quot;00-0009266&quot;</td><td>&quot;00-0001361&quot;</td><td>&quot;Shaun King&quot;</td><td>&quot;Drew Bledsoe&quot;</td><td>&quot;Tony Dungy&quot;</td><td>&quot;Bill Belichick&quot;</td><td>&quot;Jeff Triplette&quot;</td><td>&quot;BOS99&quot;</td><td>&quot;Foxboro Stadium&quot;</td></tr><tr><td>&hellip;</td><td>&hellip;</td><td>&hellip;</td><td>&hellip;</td><td>&hellip;</td><td>&hellip;</td><td>&hellip;</td><td>&hellip;</td><td>&hellip;</td><td>&hellip;</td><td>&hellip;</td><td>&hellip;</td><td>&hellip;</td><td>&hellip;</td><td>&hellip;</td><td>&hellip;</td><td>&hellip;</td><td>&hellip;</td><td>&hellip;</td><td>&hellip;</td><td>&hellip;</td><td>&hellip;</td><td>&hellip;</td><td>&hellip;</td><td>&hellip;</td><td>&hellip;</td><td>&hellip;</td><td>&hellip;</td><td>&hellip;</td><td>&hellip;</td><td>&hellip;</td><td>&hellip;</td><td>&hellip;</td><td>&hellip;</td><td>&hellip;</td><td>&hellip;</td><td>&hellip;</td><td>&hellip;</td><td>&hellip;</td><td>&hellip;</td><td>&hellip;</td><td>&hellip;</td><td>&hellip;</td><td>&hellip;</td><td>&hellip;</td><td>&hellip;</td></tr><tr><td>&quot;2025_18_DAL_NYG&quot;</td><td>2025</td><td>&quot;REG&quot;</td><td>18</td><td>&quot;2026-01-04&quot;</td><td>&quot;Sunday&quot;</td><td>&quot;13:00&quot;</td><td>&quot;DAL&quot;</td><td>null</td><td>&quot;NYG&quot;</td><td>null</td><td>&quot;Home&quot;</td><td>null</td><td>null</td><td>null</td><td>2025010411</td><td>null</td><td>null</td><td>&quot;202501040nyg&quot;</td><td>&quot;28684&quot;</td><td>401772963</td><td>&quot;7001&quot;</td><td>6</td><td>6</td><td>null</td><td>null</td><td>null</td><td>null</td><td>null</td><td>null</td><td>null</td><td>null</td><td>1</td><td>&quot;outdoors&quot;</td><td>&quot;fieldturf&quot;</td><td>null</td><td>null</td><td>null</td><td>null</td><td>null</td><td>null</td><td>&quot;Brian Schottenheimer&quot;</td><td>&quot;Brian Daboll&quot;</td><td>null</td><td>&quot;NYC01&quot;</td><td>&quot;MetLife Stadium&quot;</td></tr><tr><td>&quot;2025_18_WAS_PHI&quot;</td><td>2025</td><td>&quot;REG&quot;</td><td>18</td><td>&quot;2026-01-04&quot;</td><td>&quot;Sunday&quot;</td><td>&quot;13:00&quot;</td><td>&quot;WAS&quot;</td><td>null</td><td>&quot;PHI&quot;</td><td>null</td><td>&quot;Home&quot;</td><td>null</td><td>null</td><td>null</td><td>2025010412</td><td>null</td><td>null</td><td>&quot;202501040phi&quot;</td><td>&quot;28685&quot;</td><td>401772959</td><td>&quot;7002&quot;</td><td>6</td><td>6</td><td>null</td><td>null</td><td>null</td><td>null</td><td>null</td><td>null</td><td>null</td><td>null</td><td>1</td><td>&quot;outdoors&quot;</td><td>&quot;grass&quot;</td><td>null</td><td>null</td><td>null</td><td>null</td><td>null</td><td>null</td><td>&quot;Dan Quinn&quot;</td><td>&quot;Nick Sirianni&quot;</td><td>null</td><td>&quot;PHI00&quot;</td><td>&quot;Lincoln Financial Field&quot;</td></tr><tr><td>&quot;2025_18_BAL_PIT&quot;</td><td>2025</td><td>&quot;REG&quot;</td><td>18</td><td>&quot;2026-01-04&quot;</td><td>&quot;Sunday&quot;</td><td>&quot;13:00&quot;</td><td>&quot;BAL&quot;</td><td>null</td><td>&quot;PIT&quot;</td><td>null</td><td>&quot;Home&quot;</td><td>null</td><td>null</td><td>null</td><td>2025010413</td><td>null</td><td>null</td><td>&quot;202501040pit&quot;</td><td>&quot;28686&quot;</td><td>401772960</td><td>&quot;7003&quot;</td><td>10</td><td>10</td><td>null</td><td>null</td><td>null</td><td>null</td><td>null</td><td>null</td><td>null</td><td>null</td><td>1</td><td>&quot;outdoors&quot;</td><td>&quot;grass&quot;</td><td>null</td><td>null</td><td>null</td><td>null</td><td>null</td><td>null</td><td>&quot;John Harbaugh&quot;</td><td>&quot;Mike Tomlin&quot;</td><td>null</td><td>&quot;PIT00&quot;</td><td>&quot;Acrisure Stadium&quot;</td></tr><tr><td>&quot;2025_18_SEA_SF&quot;</td><td>2025</td><td>&quot;REG&quot;</td><td>18</td><td>&quot;2026-01-04&quot;</td><td>&quot;Sunday&quot;</td><td>&quot;13:00&quot;</td><td>&quot;SEA&quot;</td><td>null</td><td>&quot;SF&quot;</td><td>null</td><td>&quot;Home&quot;</td><td>null</td><td>null</td><td>null</td><td>2025010414</td><td>null</td><td>null</td><td>&quot;202501040sfo&quot;</td><td>&quot;28687&quot;</td><td>401772961</td><td>&quot;7004&quot;</td><td>9</td><td>5</td><td>null</td><td>null</td><td>null</td><td>null</td><td>null</td><td>null</td><td>null</td><td>null</td><td>1</td><td>&quot;outdoors&quot;</td><td>&quot;grass&quot;</td><td>null</td><td>null</td><td>null</td><td>null</td><td>null</td><td>null</td><td>&quot;Mike Macdonald&quot;</td><td>&quot;Kyle Shanahan&quot;</td><td>null</td><td>&quot;SFO01&quot;</td><td>&quot;Levi&#x27;s Stadium&quot;</td></tr><tr><td>&quot;2025_18_CAR_TB&quot;</td><td>2025</td><td>&quot;REG&quot;</td><td>18</td><td>&quot;2026-01-04&quot;</td><td>&quot;Sunday&quot;</td><td>&quot;13:00&quot;</td><td>&quot;CAR&quot;</td><td>null</td><td>&quot;TB&quot;</td><td>null</td><td>&quot;Home&quot;</td><td>null</td><td>null</td><td>null</td><td>2025010415</td><td>null</td><td>null</td><td>&quot;202501040tam&quot;</td><td>&quot;28688&quot;</td><td>401772969</td><td>&quot;7005&quot;</td><td>6</td><td>6</td><td>null</td><td>null</td><td>null</td><td>null</td><td>null</td><td>null</td><td>null</td><td>null</td><td>1</td><td>&quot;outdoors&quot;</td><td>&quot;grass&quot;</td><td>null</td><td>null</td><td>null</td><td>null</td><td>null</td><td>null</td><td>&quot;Dave Canales&quot;</td><td>&quot;Todd Bowles&quot;</td><td>null</td><td>&quot;TAM00&quot;</td><td>&quot;Raymond James Stadium&quot;</td></tr></tbody></table></div>"
      ],
      "text/plain": [
       "shape: (7_004, 46)\n",
       "┌─────────────┬────────┬───────────┬──────┬───┬─────────────┬────────────┬────────────┬────────────┐\n",
       "│ game_id     ┆ season ┆ game_type ┆ week ┆ … ┆ home_coach  ┆ referee    ┆ stadium_id ┆ stadium    │\n",
       "│ ---         ┆ ---    ┆ ---       ┆ ---  ┆   ┆ ---         ┆ ---        ┆ ---        ┆ ---        │\n",
       "│ str         ┆ i64    ┆ str       ┆ i64  ┆   ┆ str         ┆ str        ┆ str        ┆ str        │\n",
       "╞═════════════╪════════╪═══════════╪══════╪═══╪═════════════╪════════════╪════════════╪════════════╡\n",
       "│ 2000_01_SF_ ┆ 2000   ┆ REG       ┆ 1    ┆ … ┆ Dan Reeves  ┆ Walt       ┆ ATL00      ┆ Georgia    │\n",
       "│ ATL         ┆        ┆           ┆      ┆   ┆             ┆ Coleman    ┆            ┆ Dome       │\n",
       "│ 2000_01_JAX ┆ 2000   ┆ REG       ┆ 1    ┆ … ┆ Chris       ┆ Bernie     ┆ CLE00      ┆ Cleveland  │\n",
       "│ _CLE        ┆        ┆           ┆      ┆   ┆ Palmer      ┆ Kukar      ┆            ┆ Browns     │\n",
       "│             ┆        ┆           ┆      ┆   ┆             ┆            ┆            ┆ Stadium    │\n",
       "│ 2000_01_IND ┆ 2000   ┆ REG       ┆ 1    ┆ … ┆ Gunther     ┆ Larry      ┆ KAN00      ┆ Arrowhead  │\n",
       "│ _KC         ┆        ┆           ┆      ┆   ┆ Cunningham  ┆ Nemmers    ┆            ┆ Stadium    │\n",
       "│ 2000_01_CHI ┆ 2000   ┆ REG       ┆ 1    ┆ … ┆ Dennis      ┆ Ed Hochuli ┆ MIN00      ┆ Hubert H.  │\n",
       "│ _MIN        ┆        ┆           ┆      ┆   ┆ Green       ┆            ┆            ┆ Humphrey   │\n",
       "│             ┆        ┆           ┆      ┆   ┆             ┆            ┆            ┆ Metrodome  │\n",
       "│ 2000_01_TB_ ┆ 2000   ┆ REG       ┆ 1    ┆ … ┆ Bill        ┆ Jeff       ┆ BOS99      ┆ Foxboro    │\n",
       "│ NE          ┆        ┆           ┆      ┆   ┆ Belichick   ┆ Triplette  ┆            ┆ Stadium    │\n",
       "│ …           ┆ …      ┆ …         ┆ …    ┆ … ┆ …           ┆ …          ┆ …          ┆ …          │\n",
       "│ 2025_18_DAL ┆ 2025   ┆ REG       ┆ 18   ┆ … ┆ Brian       ┆ null       ┆ NYC01      ┆ MetLife    │\n",
       "│ _NYG        ┆        ┆           ┆      ┆   ┆ Daboll      ┆            ┆            ┆ Stadium    │\n",
       "│ 2025_18_WAS ┆ 2025   ┆ REG       ┆ 18   ┆ … ┆ Nick        ┆ null       ┆ PHI00      ┆ Lincoln    │\n",
       "│ _PHI        ┆        ┆           ┆      ┆   ┆ Sirianni    ┆            ┆            ┆ Financial  │\n",
       "│             ┆        ┆           ┆      ┆   ┆             ┆            ┆            ┆ Field      │\n",
       "│ 2025_18_BAL ┆ 2025   ┆ REG       ┆ 18   ┆ … ┆ Mike Tomlin ┆ null       ┆ PIT00      ┆ Acrisure   │\n",
       "│ _PIT        ┆        ┆           ┆      ┆   ┆             ┆            ┆            ┆ Stadium    │\n",
       "│ 2025_18_SEA ┆ 2025   ┆ REG       ┆ 18   ┆ … ┆ Kyle        ┆ null       ┆ SFO01      ┆ Levi's     │\n",
       "│ _SF         ┆        ┆           ┆      ┆   ┆ Shanahan    ┆            ┆            ┆ Stadium    │\n",
       "│ 2025_18_CAR ┆ 2025   ┆ REG       ┆ 18   ┆ … ┆ Todd Bowles ┆ null       ┆ TAM00      ┆ Raymond    │\n",
       "│ _TB         ┆        ┆           ┆      ┆   ┆             ┆            ┆            ┆ James      │\n",
       "│             ┆        ┆           ┆      ┆   ┆             ┆            ┆            ┆ Stadium    │\n",
       "└─────────────┴────────┴───────────┴──────┴───┴─────────────┴────────────┴────────────┴────────────┘"
      ]
     },
     "execution_count": 41,
     "metadata": {},
     "output_type": "execute_result"
    }
   ],
   "source": [
    "schedule = nfl.load_schedules(years)\n",
    "#schedule.to_sql('schedule', conn, if_exists='replace', index=False)\n",
    "con.execute(\"CREATE OR REPLACE TABLE schedule AS SELECT * FROM schedule\")\n",
    "schedule"
   ]
  },
  {
   "cell_type": "code",
   "execution_count": 43,
   "metadata": {},
   "outputs": [],
   "source": [
    "con.commit()\n",
    "con.close()"
   ]
  },
  {
   "cell_type": "code",
   "execution_count": null,
   "metadata": {},
   "outputs": [],
   "source": []
  }
 ],
 "metadata": {
  "kernelspec": {
   "display_name": "nfl_sim",
   "language": "python",
   "name": "python3"
  },
  "language_info": {
   "codemirror_mode": {
    "name": "ipython",
    "version": 3
   },
   "file_extension": ".py",
   "mimetype": "text/x-python",
   "name": "python",
   "nbconvert_exporter": "python",
   "pygments_lexer": "ipython3",
   "version": "3.12.2"
  }
 },
 "nbformat": 4,
 "nbformat_minor": 2
}
