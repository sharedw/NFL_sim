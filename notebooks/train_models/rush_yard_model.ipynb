{
 "cells": [
  {
   "cell_type": "code",
   "execution_count": 130,
   "id": "337cf783",
   "metadata": {},
   "outputs": [],
   "source": [
    "import duckdb\n",
    "import pandas as pd\n",
    "import numpy as np\n",
    "import torch.optim as optim\n",
    "import torch.nn.functional as F\n",
    "import matplotlib.pyplot as plt\n",
    "from utils.quack import Quack\n",
    "from sim_utils.modeling import update_config"
   ]
  },
  {
   "cell_type": "code",
   "execution_count": 131,
   "id": "09b60be2",
   "metadata": {},
   "outputs": [],
   "source": [
    "rusher_stat_cols =[\n",
    " 'carries_roll',\n",
    " 'rushing_yards_roll',\n",
    " #'rushing_tds_roll',\n",
    " #'rushing_first_downs_roll',\n",
    " #'receiving_yards_roll',\n",
    " #'receiving_tds_roll',\n",
    " #'fantasy_points_ppr_roll',\n",
    " 'yards_per_carry_roll']\n",
    "\n",
    "team_stat_cols = [\n",
    " #'completions_team_roll',\n",
    " #'attempts_team_roll',\n",
    " 'carries_team_roll',\n",
    " #'passing_yards_team_roll',\n",
    " 'rushing_yards_team_roll',\n",
    " 'pass_pct_team_roll',\n",
    " 'yards_per_carry_team_roll',\n",
    "]\n",
    "opp_stat_cols = [\n",
    "#'completions_opp_roll',\n",
    " #'attempts_opp_roll',\n",
    " 'carries_opp_roll',\n",
    " #'passing_yards_opp_roll',\n",
    " 'rushing_yards_opp_roll',\n",
    " 'pass_pct_opp_roll',\n",
    " 'yards_per_carry_opp_roll',\n",
    "]\n",
    "\n",
    "game_context_cols = [\n",
    "\t\"yardline_100\",\n",
    "\t\"ydstogo\",\n",
    "\t\"down\",\n",
    "\t\"goal_to_go\",\n",
    "\t#\"posteam_score\",\n",
    "\t#\"defteam_score\",\n",
    "\t#\"score_differential\",\n",
    "\t#'quarter_seconds_remaining',\n",
    "\t#'half_seconds_remaining',\n",
    "\t#'game_seconds_remaining',\n",
    "\t#\"wind\",\n",
    "\t#\"temp\",\n",
    "\t#'spread_line',\n",
    "\t#'total_line',\n",
    "]\n",
    "\n",
    "x_cols = game_context_cols +rusher_stat_cols + ['is_first_down', 'is_second_down', 'is_third_down','is_fourth_down', 'touchdown', 'short_to_first'] #+ ['run_gap_encoded'] + rusher_stat_cols + team_stat_cols + opp_stat_cols "
   ]
  },
  {
   "cell_type": "code",
   "execution_count": 132,
   "id": "4cf29e0d",
   "metadata": {},
   "outputs": [
    {
     "data": {
      "text/plain": [
       "'abc.carries_roll, abc.rushing_yards_roll, abc.yards_per_carry_roll'"
      ]
     },
     "execution_count": 132,
     "metadata": {},
     "output_type": "execute_result"
    }
   ],
   "source": [
    "def select_columns(cols:list, alias:str=None, coalesce=False):\n",
    "\n",
    "\tif alias:\n",
    "\t\ttemp = (f'{alias}.' + x for x in cols)\n",
    "\telse:\n",
    "\t\ttemp = cols\n",
    "\tif coalesce:\n",
    "\t\ttemp = (f'coalesce({x}, 0) as {y}' for x,y in zip(temp, cols))\n",
    "\treturn ', '.join(temp)\n",
    "\n",
    "\n",
    "select_columns(rusher_stat_cols, alias='abc')"
   ]
  },
  {
   "cell_type": "code",
   "execution_count": 133,
   "id": "6c4c7488",
   "metadata": {},
   "outputs": [],
   "source": [
    "rushes = Quack.query(f\"\"\"\n",
    "select pbp.desc,pbp.game_id, pbp.yards_gained,pbp.yards_gained + 30 as yards_shifted,\n",
    "\tcase when pbp.down = 1 then 1 else 0 end as is_first_down,\n",
    "\tcase when pbp.down = 2 then 1 else 0 end as is_second_down,\n",
    "\tcase when pbp.down = 3 then 1 else 0 end as is_third_down,\n",
    "\tcase when pbp.down = 4 then 1 else 0 end as is_fourth_down,\n",
    "\tpbp.first_down, pbp.touchdown,\n",
    "\tcase when pbp.ydstogo < 3 then 1 else 0 end as short_to_first,\n",
    "\t{select_columns(game_context_cols, alias='pbp', coalesce=False)},\n",
    "\t{select_columns(team_stat_cols, alias='t', coalesce=True)},\n",
    "\t{select_columns(opp_stat_cols, alias='o', coalesce=True)},\n",
    "\t{select_columns(rusher_stat_cols, alias='r', coalesce=True)}\n",
    "\tfrom pbp join team_feats as t \n",
    "\ton pbp.posteam = t.team\n",
    "\tand pbp.game_id = t.game_id\n",
    "\tjoin opp_feats as o\n",
    "\ton pbp.defteam = o.opponent_team\n",
    "\tand pbp.game_id = o.game_id\n",
    "\tjoin player_weekly_agg as r\n",
    "\ton r.game_id = pbp.game_id\n",
    "\tand pbp.rusher_player_id = r.gsis_id\n",
    "\tand r.team = pbp.posteam\n",
    "\tand pbp.play_type = 'run'\n",
    "\tand pbp.yards_gained is not null\n",
    "\tand pbp.down is not null\n",
    "\tand pbp.penalty = 0\n",
    "\tand pbp.fumble = 0\n",
    "\"\"\")\n",
    "\n",
    "rushes[rusher_stat_cols] = rushes[rusher_stat_cols].fillna(0)\n",
    "\n",
    "X = rushes[x_cols]\n",
    "y = rushes['yards_shifted']\n",
    "X_td = rushes.loc[rushes.touchdown==1][x_cols].copy().reset_index(drop=True)\n",
    "y_td = rushes.loc[rushes.touchdown==1]['yards_shifted'].copy().reset_index(drop=True)"
   ]
  },
  {
   "cell_type": "code",
   "execution_count": 134,
   "id": "7e070d51",
   "metadata": {},
   "outputs": [],
   "source": [
    "import torch\n",
    "import torch.nn as nn\n",
    "\n",
    "class ResBlock(nn.Module):\n",
    "\tdef __init__(self, n_hidden):\n",
    "\t\tsuper().__init__()\n",
    "\t\tself.layer = nn.Sequential(\n",
    "\t\t\tnn.LayerNorm(n_hidden),\n",
    "\t\t\tnn.Linear(n_hidden, n_hidden),\n",
    "\t\t\tnn.ReLU()\n",
    "\t\t)\n",
    "\t\n",
    "\tdef forward(self, x):\n",
    "\t\treturn x + self.layer(x)\n",
    "\n",
    "\n",
    "class masked_model(nn.Module):\n",
    "\tdef __init__(self, n_in=11, n_out=130, n_hidden=512):\n",
    "\t\tsuper(masked_model, self).__init__()\n",
    "\t\tself.n_out=n_out\n",
    "\t\tself.main_layers = nn.Sequential(\n",
    "\t\tnn.Linear(n_in, n_hidden),nn.ReLU(),\n",
    "\t\tResBlock(n_hidden),\n",
    "\t\tResBlock(n_hidden),\n",
    "\t\tResBlock(n_hidden),\n",
    "\t\tResBlock(n_hidden),\n",
    "\t\tResBlock(n_hidden),\n",
    "\t\tResBlock(n_hidden),\n",
    "\t\tResBlock(n_hidden),\n",
    "\t\t)\n",
    "\t\tself.output_layer  = nn.Linear(n_hidden, n_out)\n",
    "\t\tself.td_head = nn.Sequential(nn.Linear(n_in, n_hidden),nn.ReLU(),\n",
    "\t\tResBlock(n_hidden), nn.Linear(n_hidden,1))\n",
    "\tdef forward(self, x):\n",
    "\n",
    "\t\t\n",
    "\t\t# Extract the feature to pass to the final layer (e.g., the first feature)\n",
    "\t\tyardline = x[:, 0].unsqueeze(1)  # Assuming you want the first feature, shape [batch_size, 1]\n",
    "\t\ttd_bin = (yardline + 30).long().squeeze(1)\n",
    "\t\ttd_logits = self.td_head(x)\n",
    "\t\tx = self.main_layers(x)\n",
    "\t\tlogits = self.output_layer(x)\n",
    "\t\tbatch_indices = torch.arange(logits.size(0), device=logits.device)\n",
    "\t\tlogits[batch_indices, td_bin] = logits[batch_indices, td_bin] + td_logits.squeeze(1)\n",
    "\t\t\n",
    "\t\tyard_values = torch.arange(-30, self.n_out - 30, device=x.device).float().unsqueeze(0)\n",
    "\t\tmask = (yard_values <= yardline).float()\n",
    "\t\tlogits = logits + (mask - 1) * 1e9\n",
    "\n",
    "\t\treturn logits"
   ]
  },
  {
   "cell_type": "code",
   "execution_count": 135,
   "id": "35204ecb",
   "metadata": {},
   "outputs": [],
   "source": [
    "X_tensor = torch.tensor(X.values, dtype=torch.float32)\n",
    "\n",
    "def get_sample(num_samples):\n",
    "\tidx = np.random.randint(0,len(X_tensor), num_samples)\n",
    "\treturn X_tensor[idx]\n",
    "\n",
    "model = masked_model(\n",
    "\tn_in=len(x_cols),\n",
    "\tn_out=130,\n",
    "\tn_hidden=64,\n",
    ")\n",
    "\n",
    "c = get_sample(5)\n",
    "pred = model(c)"
   ]
  },
  {
   "cell_type": "code",
   "execution_count": 136,
   "id": "ff57a8cf",
   "metadata": {},
   "outputs": [
    {
     "data": {
      "text/plain": [
       "tensor([True, True, True, True, True])"
      ]
     },
     "execution_count": 136,
     "metadata": {},
     "output_type": "execute_result"
    }
   ],
   "source": [
    "c[:,1] > c[:,2]"
   ]
  },
  {
   "cell_type": "code",
   "execution_count": 138,
   "id": "d01f1d63",
   "metadata": {},
   "outputs": [
    {
     "data": {
      "text/plain": [
       "tensor([ 0,  1,  2,  3,  4,  5,  6,  7,  8,  9, 10, 11, 12, 13, 14, 15, 16, 17,\n",
       "        18, 19, 20, 21, 22, 23, 24, 25, 26, 27, 28, 29, 30, 31, 32, 33, 34, 35,\n",
       "        36, 37, 38, 39])"
      ]
     },
     "execution_count": 138,
     "metadata": {},
     "output_type": "execute_result"
    }
   ],
   "source": [
    "torch.arange(40)"
   ]
  },
  {
   "cell_type": "code",
   "execution_count": 139,
   "id": "1cf2f975",
   "metadata": {},
   "outputs": [
    {
     "name": "stdout",
     "output_type": "stream",
     "text": [
      "tensor([ 91,  59,  26, 112, 124, 101, 108, 112, 123])\n",
      "tensor([0.2530, 0.5468, 0.8638, 0.1233, 0.0237, 0.1712, 0.1711, 0.1013, 0.0525])\n"
     ]
    }
   ],
   "source": [
    "\n",
    "# Example tensors\n",
    "probs = torch.randn(9, 130)       # [batch, features]\n",
    "probs = torch.softmax(probs, dim=1)\n",
    "ydstogo = torch.randint(0, 130, (9,))  # [batch]\n",
    "print(ydstogo)\n",
    "\n",
    "# Create a mask\n",
    "mask = torch.arange(probs.size(1)).unsqueeze(0) >= ydstogo.unsqueeze(1)  # [9, 130]\n",
    "\n",
    "# Apply mask\n",
    "masked_output = probs * mask\n",
    "\n",
    "print(masked_output.sum(1))\n"
   ]
  },
  {
   "cell_type": "code",
   "execution_count": 140,
   "id": "71dc7d44",
   "metadata": {},
   "outputs": [],
   "source": [
    "class FocalLoss(nn.Module):\n",
    "\tdef __init__(self, gamma=2.0):\n",
    "\t\tsuper().__init__()\n",
    "\t\tself.gamma = gamma\n",
    "\t\n",
    "\tdef forward(self, logits, targets):\n",
    "\t\tce_loss = F.cross_entropy(logits, targets, reduction='none')\n",
    "\t\tpt = torch.exp(-ce_loss)\n",
    "\t\tfocal_loss = ((1 - pt) ** self.gamma) * ce_loss\n",
    "\t\treturn focal_loss.mean()"
   ]
  },
  {
   "cell_type": "code",
   "execution_count": 141,
   "id": "6ad9603d",
   "metadata": {},
   "outputs": [],
   "source": [
    "class FocalLossSoft(nn.Module):\n",
    "\tdef __init__(self, gamma=2.0):\n",
    "\t\tsuper().__init__()\n",
    "\t\tself.gamma = gamma\n",
    "\n",
    "\tdef forward(self, logits, targets):  # targets: [B, num_classes]\n",
    "\t\tlog_probs = F.log_softmax(logits, dim=1)\n",
    "\t\tprobs = log_probs.exp()\n",
    "\t\tloss = -((1 - probs) ** self.gamma) * targets * log_probs\n",
    "\t\treturn loss.sum(dim=1).mean()"
   ]
  },
  {
   "cell_type": "code",
   "execution_count": 142,
   "id": "27b5831a",
   "metadata": {},
   "outputs": [],
   "source": [
    "def adjacent_label_smoothing(labels,yardline, num_classes=130, smoothing=0.1):\n",
    "\tbatch_size = labels.size(0)\n",
    "\tsmoothed = torch.zeros(batch_size, num_classes, device=labels.device)\n",
    "\t\n",
    "\tfor i, label in enumerate(labels):\n",
    "\t\tlabel = label.item()\n",
    "\t\tsmoothed[i, label] = 1.0 - smoothing\n",
    "\t\t\n",
    "\t\tif label > 0:\n",
    "\t\t\tsmoothed[i, label - 1] = smoothing / 2\n",
    "\t\telse:\n",
    "\t\t\tsmoothed[i, label] += smoothing / 2\n",
    "\t\t\n",
    "\t\tif label < num_classes - 1:\n",
    "\t\t\tsmoothed[i, label + 1] = smoothing / 2\n",
    "\t\telse:\n",
    "\t\t\tsmoothed[i, label] += smoothing / 2\n",
    "\t\n",
    "\tmask = torch.arange(smoothed.size(1)).expand(len(rushes['yardline_100']), -1) > torch.tensor(rushes['yardline_100'] + 30).unsqueeze(1)\n",
    "\tsmoothed[mask] = 0\n",
    "\n",
    "\treturn smoothed"
   ]
  },
  {
   "cell_type": "code",
   "execution_count": null,
   "id": "351043e3",
   "metadata": {},
   "outputs": [],
   "source": [
    "def train_model(X, y, n_in, n_out,n_hidden=50, epochs=20, batch_size=128, model=None):\n",
    "\n",
    "\tdevice = torch.device('cuda' if torch.cuda.is_available() else 'cpu')\n",
    "\ty = torch.tensor(y,dtype=torch.long).to(device)\n",
    "\t# Define the model, loss function, and optimizer\n",
    "\t\n",
    "\tX_tensor = torch.tensor(X.values, dtype=torch.float32).to(device)\n",
    "\tsmoothed_y = adjacent_label_smoothing(y,X_tensor[:,0], num_classes=130, smoothing = 0.1)\n",
    "\tif not model:\n",
    "\t\tmodel = masked_model(\n",
    "\t\tn_in=n_in,\n",
    "\t\tn_out=n_out,\n",
    "\t\tn_hidden=n_hidden,\n",
    "\t\t).to(device)\n",
    "\tcriterion = FocalLossSoft(gamma=2)\n",
    "\ttd_criterion = nn.CrossEntropyLoss()\n",
    "\tfd_criterion = nn.CrossEntropyLoss()\n",
    "\tcriterion_mse = nn.MSELoss()\n",
    "\toptimizer = optim.Adam(model.parameters(), lr=0.001, weight_decay=0.007)\n",
    "\n",
    "\tnum_samples = X_tensor.size(0)\n",
    "\tindices = torch.randperm(num_samples, device=device)\n",
    "\n",
    "\t# Calculate train-test split sizes\n",
    "\tsplit = num_samples // 5  # 20% test data\n",
    "\ttest_indices = indices[:split]\n",
    "\ttrain_indices = indices[split:]\n",
    "\n",
    "\t# Create train-test splits using the shuffled indices\n",
    "\n",
    "\tXtr = X_tensor[train_indices].to(device)\n",
    "\tXtst = X_tensor[test_indices].to(device)\n",
    "\ttrain_y = y[train_indices].to(device)\n",
    "\ttrain_y_smooth = smoothed_y[train_indices].to(device)\n",
    "\ttest_y =  y[test_indices].to(device)\n",
    "\ttest_y_smooth = smoothed_y[test_indices].to(device)\n",
    "\ttrain_is_td = (y[train_indices] >= (30 +  Xtr[:,0])).float()\n",
    "\ttrain_is_fd = (y[train_indices] >= (30 + Xtr[:,1])).float()\n",
    "\tprint(train_is_fd.mean())\n",
    "\tprint(train_is_td.mean())\n",
    "\t# Training loop\n",
    "\n",
    "\tfor epoch in range(epochs):\n",
    "\t\tmodel.train()\n",
    "\t\tpermutation = torch.randperm(Xtr.size(0))\n",
    "\t\tepoch_mean_loss = 0\n",
    "\t\tepoch_class_loss = 0\n",
    "\n",
    "\t\tfor i in range(0, Xtr.size(0), batch_size):\n",
    "\t\t\tbatch_idx = permutation[i:i + batch_size]\n",
    "\t\t\tbatch_x, batch_y, batch_y_smooth, batch_td, batch_fd = Xtr[batch_idx], train_y[batch_idx], train_y_smooth[batch_idx],train_is_fd[batch_idx], train_is_td[batch_idx]\n",
    "\n",
    "\t\t\toptimizer.zero_grad()\n",
    "\t\t\toutputs = model(batch_x)  # Shape: [batch_size, n_out]\n",
    "\t\t\tprobs = torch.softmax(outputs, dim=1)\n",
    "\n",
    "\n",
    "\t\t\tfd_mask = torch.arange(probs.size(1), device=device).unsqueeze(0) >= batch_x[:,0].unsqueeze(1)  # [9, 130]\n",
    "\t\t\tfd_output = (probs * fd_mask).sum(1)\n",
    "\t\t\ttd_mask = torch.arange(probs.size(1),device=device).unsqueeze(0) >= batch_x[:,0].unsqueeze(1)  # [9, 130]\n",
    "\t\t\ttd_output = (probs * fd_mask).sum(1)\n",
    "\t\t\ttd_loss = td_criterion(fd_output, batch_fd) * 0.5\n",
    "\t\t\tfd_loss = fd_criterion(fd_output, batch_fd) * 0.5\n",
    "\n",
    "\t\t\tprobs_mean = (torch.arange(0,n_out, dtype=torch.float32).to(device) * probs).sum(1)\n",
    "\t\t\tclassifier_loss = criterion(outputs, batch_y_smooth)\n",
    "\t\t\tmean_loss =  criterion_mse(probs_mean, batch_y.float()) \n",
    "\t\t\tloss = classifier_loss + mean_loss + td_loss + fd_loss\n",
    "\t\t\tloss.backward()\n",
    "\t\t\toptimizer.step()\n",
    "\n",
    "\t\t\tepoch_mean_loss += mean_loss.item()\n",
    "\t\t\tepoch_class_loss += classifier_loss.item()\n",
    "\t\tn_batches = len(range(0, Xtr.size(0), batch_size))\n",
    "\t\tprint(f\"Epoch {epoch+1}/{epochs}, Classifier Loss: {epoch_class_loss/n_batches:.4f}, MSE Loss: {epoch_mean_loss/n_batches:.4f}\")\n",
    "\n",
    "\n",
    "\t\tmodel.eval()\n",
    "\t\twith torch.no_grad():\n",
    "\t\t\ttest_preds = model(Xtst)\n",
    "\t\t\ttest_loss = criterion(test_preds, test_y_smooth).item() \n",
    "\t\t\taccuracy = (test_preds.argmax(dim=1) == test_y).float().mean().item()\n",
    "\t\tprint(f\"Test Loss: {test_loss:.4f}, Test Accuracy: {accuracy:.4f}\")\n",
    "\n",
    "\t\ttest_preds = F.softmax(test_preds,dim=1)[0].to('cpu')\n",
    "\tplt.hist(test_preds, alpha=0.5, color='r')\n",
    "\tplt.hist(test_y.to('cpu'), alpha=0.5, color='b')\n",
    "\treturn model"
   ]
  },
  {
   "cell_type": "code",
   "execution_count": 144,
   "id": "12ffcb18",
   "metadata": {},
   "outputs": [
    {
     "name": "stdout",
     "output_type": "stream",
     "text": [
      "tensor(0.2478, device='cuda:0')\n",
      "tensor(0.0340, device='cuda:0')\n",
      "Epoch 1/20, Classifier Loss: 20.6763, MSE Loss: 42.8802\n",
      "Test Loss: 12.4843, Test Accuracy: 0.1223\n",
      "Epoch 2/20, Classifier Loss: 14.1626, MSE Loss: 40.6497\n",
      "Test Loss: 13.9646, Test Accuracy: 0.0685\n",
      "Epoch 3/20, Classifier Loss: 8.1676, MSE Loss: 39.0475\n",
      "Test Loss: 7.0706, Test Accuracy: 0.1209\n",
      "Epoch 4/20, Classifier Loss: 7.1808, MSE Loss: 37.9042\n",
      "Test Loss: 4.6302, Test Accuracy: 0.1383\n",
      "Epoch 5/20, Classifier Loss: 4.8776, MSE Loss: 36.5256\n",
      "Test Loss: 4.4390, Test Accuracy: 0.1083\n",
      "Epoch 6/20, Classifier Loss: 3.6939, MSE Loss: 35.1037\n",
      "Test Loss: 2.9973, Test Accuracy: 0.1357\n",
      "Epoch 7/20, Classifier Loss: 2.8978, MSE Loss: 33.9684\n",
      "Test Loss: 2.7443, Test Accuracy: 0.1179\n",
      "Epoch 8/20, Classifier Loss: 2.8900, MSE Loss: 34.5384\n",
      "Test Loss: 3.1395, Test Accuracy: 0.0989\n",
      "Epoch 9/20, Classifier Loss: 2.7636, MSE Loss: 33.8724\n",
      "Test Loss: 2.5742, Test Accuracy: 0.1577\n",
      "Epoch 10/20, Classifier Loss: 2.6028, MSE Loss: 33.8162\n",
      "Test Loss: 2.5634, Test Accuracy: 0.1413\n",
      "Epoch 11/20, Classifier Loss: 3.0314, MSE Loss: 34.1286\n",
      "Test Loss: 2.5521, Test Accuracy: 0.1625\n",
      "Epoch 12/20, Classifier Loss: 2.5537, MSE Loss: 33.7690\n",
      "Test Loss: 2.5912, Test Accuracy: 0.1431\n",
      "Epoch 13/20, Classifier Loss: 2.5086, MSE Loss: 33.7214\n",
      "Test Loss: 2.5987, Test Accuracy: 0.1278\n",
      "Epoch 14/20, Classifier Loss: 2.8432, MSE Loss: 34.2658\n",
      "Test Loss: 2.5294, Test Accuracy: 0.1422\n",
      "Epoch 15/20, Classifier Loss: 2.5211, MSE Loss: 32.4873\n",
      "Test Loss: 2.4499, Test Accuracy: 0.1631\n",
      "Epoch 16/20, Classifier Loss: 2.8954, MSE Loss: 32.1115\n",
      "Test Loss: 2.4593, Test Accuracy: 0.1519\n",
      "Epoch 17/20, Classifier Loss: 3.6082, MSE Loss: 33.7837\n",
      "Test Loss: 2.7311, Test Accuracy: 0.1509\n",
      "Epoch 18/20, Classifier Loss: 2.8657, MSE Loss: 33.7961\n",
      "Test Loss: 3.1850, Test Accuracy: 0.1098\n",
      "Epoch 19/20, Classifier Loss: 2.9140, MSE Loss: 33.2714\n",
      "Test Loss: 5.2230, Test Accuracy: 0.0964\n",
      "Epoch 20/20, Classifier Loss: 3.6477, MSE Loss: 33.9644\n",
      "Test Loss: 3.7720, Test Accuracy: 0.1102\n"
     ]
    },
    {
     "data": {
      "image/png": "[encoded data removed]",
      "text/plain": [
       "<Figure size 640x480 with 1 Axes>"
      ]
     },
     "metadata": {},
     "output_type": "display_data"
    }
   ],
   "source": [
    "rush_yards_model = train_model(X,y, n_in=len(x_cols), n_out=130, n_hidden = 512, epochs=20)\n",
    "\n",
    "#Test Loss: 2.3133, Test Accuracy: 0.1709 \n",
    "#Test Loss: 2.8949, Test Accuracy: 0.1649 add label smoothing, no focal loss\n",
    "#Test Loss: 2.4887, Test Accuracy: 0.1709 smoothing + focal + remove 1st down leakage\n",
    "#Test Loss: 2.4681, Test Accuracy: 0.1682 maskedmodel2\n",
    "#Test Loss: 2.4735, Test Accuracy: 0.1648 hierarchical thing\n",
    "#Test Loss: 2.4042, Test Accuracy: 0.1596 "
   ]
  },
  {
   "cell_type": "code",
   "execution_count": 145,
   "id": "9d9ee6d6",
   "metadata": {},
   "outputs": [],
   "source": [
    "\n",
    "rush_yards_model = rush_yards_model.to('cpu')\n",
    "model_path = \"models/run_yards_gained.pt\"\n",
    "torch.save(rush_yards_model.state_dict(), model_path)\n",
    "\n",
    "\n",
    "feature_config = {\n",
    "\t'rush_yard_cols':x_cols\n",
    "}\n",
    "feature_config\n",
    "\n",
    "update_config(feature_config)"
   ]
  },
  {
   "cell_type": "code",
   "execution_count": 150,
   "id": "aa208c18",
   "metadata": {},
   "outputs": [
    {
     "name": "stdout",
     "output_type": "stream",
     "text": [
      "Actual mean: 4.89, Model mean: 4.24\n",
      "number of datapoints: 505\n"
     ]
    },
    {
     "data": {
      "text/plain": [
       "(-20.0, 25.0)"
      ]
     },
     "execution_count": 150,
     "metadata": {},
     "output_type": "execute_result"
    },
    {
     "data": {
      "image/png": "[encoded data removed]",
      "text/plain": [
       "<Figure size 640x480 with 1 Axes>"
      ]
     },
     "metadata": {},
     "output_type": "display_data"
    }
   ],
   "source": [
    "def sample_model_yardline(yard, down):\n",
    "\tsample = rushes.loc[(rushes.ydstogo == yard) & (rushes.down == down) & (rushes.yardline_100 > 15)]\n",
    "\tinp =  sample[x_cols]\n",
    "\ty = sample['yards_gained']\n",
    "\n",
    "\tinp =  torch.tensor(inp.values, dtype=torch.float32)\n",
    "\tout = rush_yards_model(inp).mean(0).detach().numpy()\n",
    "\texp_logits = np.exp(out - np.max(out))\n",
    "\tprobs = exp_logits / exp_logits.sum()\n",
    "\tplt.hist(y, range(-30,100), density=True, alpha=0.9)\n",
    "\n",
    "\tactual_mean = y.mean()\n",
    "\tmodel_mean = (np.arange(len(probs)) - 30) @ probs  # adjust if 0th class = -30\n",
    "\tprint(f\"Actual mean: {actual_mean:.2f}, Model mean: {model_mean:.2f}\")\n",
    "\tprint(f'number of datapoints: {len(inp)}')\n",
    "\treturn probs\n",
    "\n",
    "yard = 5\n",
    "down = 1\n",
    "plt.bar(range(-30 ,100 ), sample_model_yardline(yard, down), width=1, \n",
    "\t\talpha=0.5, align=\"edge\", label=\"Bar Chart\", color='r')\n",
    "plt.xlim(-20,yard+20)"
   ]
  },
  {
   "cell_type": "code",
   "execution_count": null,
   "id": "15f5c097",
   "metadata": {},
   "outputs": [],
   "source": []
  },
  {
   "cell_type": "code",
   "execution_count": null,
   "id": "08692f4c",
   "metadata": {},
   "outputs": [],
   "source": []
  }
 ],
 "metadata": {
  "kernelspec": {
   "display_name": "nfl_sim",
   "language": "python",
   "name": "python3"
  },
  "language_info": {
   "codemirror_mode": {
    "name": "ipython",
    "version": 3
   },
   "file_extension": ".py",
   "mimetype": "text/x-python",
   "name": "python",
   "nbconvert_exporter": "python",
   "pygments_lexer": "ipython3",
   "version": "3.12.2"
  }
 },
 "nbformat": 4,
 "nbformat_minor": 5
}
