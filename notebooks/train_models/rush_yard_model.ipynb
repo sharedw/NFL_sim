{
 "cells": [
  {
   "cell_type": "code",
   "execution_count": null,
   "id": "337cf783",
   "metadata": {},
   "outputs": [
    {
     "data": {
      "text/plain": [
       "True"
      ]
     },
     "execution_count": 13,
     "metadata": {},
     "output_type": "execute_result"
    }
   ],
   "source": [
    "import pandas as pd\n",
    "import numpy as np\n",
    "import torch\n",
    "import torch.optim as optim\n",
    "import torch.nn as nn\n",
    "import torch.nn.functional as F\n",
    "import matplotlib.pyplot as plt\n",
    "from utils.quack import Quack\n",
    "from sim_utils.modeling import update_config, maskedModel, ResBlock, FocalLoss, FocalLossSoft, adjacent_label_smoothing #noqa\n",
    "torch.cuda.is_available()"
   ]
  },
  {
   "cell_type": "code",
   "execution_count": 14,
   "id": "09b60be2",
   "metadata": {},
   "outputs": [],
   "source": [
    "rusher_stat_cols =[\n",
    " 'carries_roll',\n",
    " 'rushing_yards_roll',\n",
    " #'rushing_tds_roll',\n",
    " #'rushing_first_downs_roll',\n",
    " #'receiving_yards_roll',\n",
    " #'receiving_tds_roll',\n",
    " #'fantasy_points_ppr_roll',\n",
    " 'yards_per_carry_roll']\n",
    "\n",
    "team_stat_cols = [\n",
    " #'completions_team_roll',\n",
    " #'attempts_team_roll',\n",
    " 'carries_team_roll',\n",
    " #'passing_yards_team_roll',\n",
    " 'rushing_yards_team_roll',\n",
    " 'pass_pct_team_roll',\n",
    " 'yards_per_carry_team_roll',\n",
    "]\n",
    "opp_stat_cols = [\n",
    "#'completions_opp_roll',\n",
    " #'attempts_opp_roll',\n",
    " 'carries_opp_roll',\n",
    " #'passing_yards_opp_roll',\n",
    " 'rushing_yards_opp_roll',\n",
    " 'pass_pct_opp_roll',\n",
    " 'yards_per_carry_opp_roll',\n",
    "]\n",
    "\n",
    "game_context_cols = [\n",
    "\t\"yardline_100\",\n",
    "\t\"ydstogo\",\n",
    "\t\"down\",\n",
    "\t\"goal_to_go\",\n",
    "\t#\"posteam_score\",\n",
    "\t#\"defteam_score\",\n",
    "\t#\"score_differential\",\n",
    "\t#'quarter_seconds_remaining',\n",
    "\t#'half_seconds_remaining',\n",
    "\t#'game_seconds_remaining',\n",
    "\t#\"wind\",\n",
    "\t#\"temp\",\n",
    "\t#'spread_line',\n",
    "\t#'total_line',\n",
    "]\n",
    "\n",
    "x_cols = game_context_cols #+ ['is_first_down', 'is_second_down', 'is_third_down','is_fourth_down', 'touchdown', 'short_to_first'] # + rusher_stat_cols + ['run_gap_encoded'] + rusher_stat_cols + team_stat_cols + opp_stat_cols "
   ]
  },
  {
   "cell_type": "code",
   "execution_count": 15,
   "id": "6c4c7488",
   "metadata": {},
   "outputs": [],
   "source": [
    "rushes = Quack.query(f\"\"\"\n",
    "select pbp.desc,pbp.game_id, pbp.yards_gained,pbp.yards_gained + 40 as yards_shifted,\n",
    "\tcase when pbp.down = 1 then 1 else 0 end as is_first_down,\n",
    "\tcase when pbp.down = 2 then 1 else 0 end as is_second_down,\n",
    "\tcase when pbp.down = 3 then 1 else 0 end as is_third_down,\n",
    "\tcase when pbp.down = 4 then 1 else 0 end as is_fourth_down,\n",
    "\tpbp.first_down, pbp.touchdown,\n",
    "\tcase when pbp.ydstogo < 3 then 1 else 0 end as short_to_first,\n",
    "\t{Quack.select_columns(game_context_cols, alias='pbp', coalesce=True)},\n",
    "\t--{Quack.select_columns(team_stat_cols, alias='t', coalesce=True)},\n",
    "\t--{Quack.select_columns(opp_stat_cols, alias='o', coalesce=True)},\n",
    "\t--{Quack.select_columns(rusher_stat_cols, alias='r', coalesce=True)}\n",
    "\tfrom pbp \n",
    "\t--join team_feats as t \n",
    "\t--on pbp.posteam = t.team\n",
    "\t--and pbp.game_id = t.game_id\n",
    "\t--join opp_feats as o\n",
    "\t--on pbp.defteam = o.opponent_team\n",
    "\t--and pbp.game_id = o.game_id\n",
    "\t--join player_weekly_agg as r\n",
    "\t--on r.game_id = pbp.game_id\n",
    "\t--and pbp.rusher_player_id = r.gsis_id\n",
    "\t--and r.team = pbp.posteam\n",
    "\twhere pbp.play_type = 'run'\n",
    "\tand pbp.yards_gained is not null\n",
    "\tand pbp.down is not null\n",
    "\tand pbp.penalty = 0\n",
    "\tand pbp.fumble = 0\n",
    "\"\"\")\n",
    "\n",
    "\n",
    "X = rushes[x_cols]\n",
    "y = rushes['yards_shifted']\n",
    "X_tensor = torch.tensor(X.values, dtype=torch.float32)\n",
    "y_tensor = torch.tensor(y.values, dtype=torch.long)\n",
    "#X_td = rushes.loc[rushes.touchdown==1][x_cols].copy().reset_index(drop=True)\n",
    "#y_td = rushes.loc[rushes.touchdown==1]['yards_shifted'].copy().reset_index(drop=True)"
   ]
  },
  {
   "cell_type": "code",
   "execution_count": null,
   "id": "35204ecb",
   "metadata": {},
   "outputs": [],
   "source": [
    "def get_sample(num_samples):\n",
    "\tidx = np.random.randint(0,len(X_tensor), num_samples)\n",
    "\treturn X_tensor[idx]\n",
    "\n",
    "model = maskedModel(\n",
    "\tn_in=len(x_cols),\n",
    "\tn_out=140,\n",
    "\tn_hidden=64,\n",
    ")\n",
    "\n",
    "c = get_sample(5)\n",
    "pred = model(c)"
   ]
  },
  {
   "cell_type": "code",
   "execution_count": 19,
   "id": "1cf2f975",
   "metadata": {},
   "outputs": [
    {
     "name": "stdout",
     "output_type": "stream",
     "text": [
      "tensor([119,  22,  79,  11,  47,  56,  14, 102, 103])\n",
      "tensor([0.1551, 0.8109, 0.4313, 0.9416, 0.6918, 0.5034, 0.9305, 0.2414, 0.2108])\n"
     ]
    }
   ],
   "source": [
    "\n",
    "probs = torch.randn(9, 140)       # [batch, features]\n",
    "probs = torch.softmax(probs, dim=1)\n",
    "ydstogo = torch.randint(0, 140, (9,))  # [batch]\n",
    "print(ydstogo)\n",
    "\n",
    "# Create a mask\n",
    "mask = torch.arange(probs.size(1)).unsqueeze(0) >= ydstogo.unsqueeze(1)  # [9, 140]\n",
    "\n",
    "# Apply mask\n",
    "masked_output = probs * mask\n",
    "\n",
    "print(masked_output.sum(1))\n"
   ]
  },
  {
   "cell_type": "code",
   "execution_count": null,
   "id": "b51f8c46",
   "metadata": {},
   "outputs": [],
   "source": [
    "class maskedModel(nn.Module):\n",
    "\tdef __init__(self, n_in=11, n_out=140, n_hidden=512):\n",
    "\t\tsuper(maskedModel, self).__init__()\n",
    "\t\tself.n_out=n_out\n",
    "\t\tself.main_layers = nn.Sequential(\n",
    "\t\tnn.Linear(n_in, n_hidden),nn.ReLU(),\n",
    "\t\tResBlock(n_hidden),\n",
    "\t\tResBlock(n_hidden),\n",
    "\t\tResBlock(n_hidden),\n",
    "\t\tResBlock(n_hidden),\n",
    "\t\t#ResBlock(n_hidden),\n",
    "\t\t#ResBlock(n_hidden),\n",
    "\t\t#ResBlock(n_hidden),\n",
    "\t\t)\n",
    "\t\tself.output_layer  = nn.Linear(n_hidden, n_out)\n",
    "\t\tself.td_head = nn.Sequential(nn.Linear(n_in, n_hidden),nn.ReLU(),\n",
    "\t\tResBlock(n_hidden), nn.Linear(n_hidden,1))\n",
    "\t\t\n",
    "\tdef forward(self, x):\n",
    "\t\t# Extract the feature to pass to the final layer (e.g., the first feature)\n",
    "\t\tyardline = x[:, 0].unsqueeze(1)  # Assuming you want the first feature, shape [batch_size, 1]\n",
    "\t\t#td_bin = (yardline + 40).long().squeeze(1)\n",
    "\t\t#td_logits = self.td_head(x)\n",
    "\t\tx = self.main_layers(x)\n",
    "\t\tlogits = self.output_layer(x)\n",
    "\t\t#batch_indices = torch.arange(logits.size(0), device=logits.device)\n",
    "\t\t#logits[batch_indices, td_bin] = logits[batch_indices, td_bin] + td_logits.squeeze(1)\n",
    "\t\t\n",
    "\t\tyard_values = torch.arange(-40, self.n_out - 40, device=x.device).float().unsqueeze(0)\n",
    "\t\tmask = (yard_values <= yardline).float()\n",
    "\t\tlogits = logits + (mask - 1) * 1e9\n",
    "\n",
    "\t\treturn logits"
   ]
  },
  {
   "cell_type": "code",
   "execution_count": 37,
   "id": "0fba7533",
   "metadata": {},
   "outputs": [
    {
     "data": {
      "text/plain": [
       "tensor([-40, -39, -38, -37, -36, -35, -34, -33, -32, -31, -30, -29, -28, -27,\n",
       "        -26, -25, -24, -23, -22, -21, -20, -19, -18, -17, -16, -15, -14, -13,\n",
       "        -12, -11, -10,  -9,  -8,  -7,  -6,  -5,  -4,  -3,  -2,  -1,   0,   1,\n",
       "          2,   3,   4,   5,   6,   7,   8,   9,  10,  11,  12,  13,  14,  15,\n",
       "         16,  17,  18,  19,  20,  21,  22,  23,  24,  25,  26,  27,  28,  29,\n",
       "         30,  31,  32,  33,  34,  35,  36,  37,  38,  39,  40,  41,  42,  43,\n",
       "         44,  45,  46,  47,  48,  49,  50,  51,  52,  53,  54,  55,  56,  57,\n",
       "         58,  59,  60,  61,  62,  63,  64,  65,  66,  67,  68,  69,  70,  71,\n",
       "         72,  73,  74,  75,  76,  77,  78,  79,  80,  81,  82,  83,  84,  85,\n",
       "         86,  87,  88,  89,  90,  91,  92,  93,  94,  95,  96,  97,  98,  99])"
      ]
     },
     "execution_count": 37,
     "metadata": {},
     "output_type": "execute_result"
    }
   ],
   "source": [
    "torch.arange(-40, 140 - 40)"
   ]
  },
  {
   "cell_type": "code",
   "execution_count": null,
   "id": "351043e3",
   "metadata": {},
   "outputs": [],
   "source": [
    "def train_model(X, y, n_in, n_out,n_hidden=50, epochs=20, batch_size=128, model=None):\n",
    "\tdevice = torch.device('cuda' if torch.cuda.is_available() else 'cpu')\n",
    "\tprint(device)\n",
    "\tX = X.to(device)\n",
    "\ty = y.to(device)\n",
    "\n",
    "\tprint('tensors loading')\n",
    "\t#smoothed_y = adjacent_label_smoothing(y,X[:,0], num_classes=140, smoothing = 0.1)\n",
    "\n",
    "\tif not model:\n",
    "\t\tmodel = maskedModel(\n",
    "\t\tn_in=n_in,\n",
    "\t\tn_out=n_out,\n",
    "\t\tn_hidden=n_hidden,\n",
    "\t\t).to(device)\n",
    "\t#criterion = FocalLoss(gamma=2)\n",
    "\tcriterion = nn.CrossEntropyLoss()\n",
    "\ttd_criterion = nn.BCEWithLogitsLoss()\n",
    "\tfd_criterion = nn.BCEWithLogitsLoss()\n",
    "\tcriterion_mse = nn.MSELoss()\n",
    "\toptimizer = optim.Adam(model.parameters(), lr=0.0009, weight_decay=0.007)\n",
    "\n",
    "\tnum_samples = X.size(0)\n",
    "\tindices = torch.randperm(num_samples, device=device)\n",
    "\n",
    "\t# Calculate train-test split sizes\n",
    "\tsplit = num_samples // 5  # 20% test data\n",
    "\ttest_indices = indices[:split]\n",
    "\ttrain_indices = indices[split:]\n",
    "\n",
    "\t# Create train-test splits using the shuffled indices\n",
    "\tprint('splitting batches')\n",
    "\tXtr = X[train_indices].to(device)\n",
    "\tXtst = X[test_indices].to(device)\n",
    "\ttrain_y = y[train_indices].to(device)\n",
    "\ttrain_y_smooth = y[train_indices].to(device)\n",
    "\ttest_y =  y[test_indices].to(device)\n",
    "\ttest_y_smooth = y[test_indices].to(device)\n",
    "\ttrain_is_td = (y[train_indices] == (40 +  Xtr[:,0])).float()\n",
    "\ttrain_is_fd = (y[train_indices] >= (40 + Xtr[:,1])).float()\n",
    "\tprint(train_is_fd.mean())\n",
    "\tprint(train_is_td.mean())\n",
    "\t# Training loop\n",
    "\n",
    "\tfor epoch in range(epochs):\n",
    "\t\tmodel.train()\n",
    "\t\tpermutation = torch.randperm(Xtr.size(0))\n",
    "\t\tepoch_mean_loss = 0\n",
    "\t\tepoch_class_loss = 0\n",
    "\n",
    "\t\tfor i in range(0, Xtr.size(0), batch_size):\n",
    "\t\t\tbatch_idx = permutation[i:i + batch_size]\n",
    "\t\t\tbatch_x, batch_y, batch_y_smooth = Xtr[batch_idx], train_y[batch_idx], train_y_smooth[batch_idx]\n",
    "\t\t\tbatch_td, batch_fd = train_is_td[batch_idx], train_is_fd[batch_idx]\n",
    "\n",
    "\t\t\toptimizer.zero_grad()\n",
    "\t\t\toutputs = model(batch_x)  # Shape: [batch_size, n_out]\n",
    "\t\t\tprobs = torch.softmax(outputs, dim=1)\n",
    "\n",
    "\n",
    "\t\t\tfd_mask = torch.arange(probs.size(1), device=device).unsqueeze(0) >= (batch_x[:,1] + 40).unsqueeze(1)  # [9, 140]\n",
    "\t\t\tfd_output = (probs * fd_mask).sum(1)\n",
    "\t\t\ttd_mask = torch.arange(probs.size(1),device=device).unsqueeze(0) >= (batch_x[:,0] + 40).unsqueeze(1)  # [9, 140]\n",
    "\t\t\ttd_output = (probs * td_mask).sum(1)\n",
    "\t\t\ttd_loss = td_criterion(td_output, batch_td) * 1\n",
    "\t\t\tfd_loss = fd_criterion(fd_output, batch_fd) * 0.5\n",
    "\n",
    "\t\t\tprobs_mean = (torch.arange(0,n_out, dtype=torch.float32).to(device) * probs).sum(1)\n",
    "\t\t\tclassifier_loss = criterion(outputs, batch_y_smooth)\n",
    "\t\t\tmean_loss =  criterion_mse(probs_mean, batch_y.float()) \n",
    "\t\t\tloss = classifier_loss + mean_loss #+ td_loss + fd_loss\n",
    "\t\t\t#loss = classifier_loss + td_loss\n",
    "\t\t\tloss.backward()\n",
    "\t\t\toptimizer.step()\n",
    "\n",
    "\t\t\tepoch_mean_loss += mean_loss.item()\n",
    "\t\t\tepoch_class_loss += classifier_loss.item()\n",
    "\t\tn_batches = len(range(0, Xtr.size(0), batch_size))\n",
    "\t\tprint(f\"Epoch {epoch+1}/{epochs}, Classifier Loss: {epoch_class_loss/n_batches:.4f}, MSE Loss: {epoch_mean_loss/n_batches:.4f}\")\n",
    "\n",
    "\n",
    "\t\tmodel.eval()\n",
    "\t\twith torch.no_grad():\n",
    "\t\t\ttest_preds = model(Xtst)\n",
    "\t\t\ttest_loss = criterion(test_preds, test_y_smooth).item() \n",
    "\t\t\taccuracy = (test_preds.argmax(dim=1) == test_y).float().mean().item()\n",
    "\t\tprint(f\"Test Loss: {test_loss:.4f}, Test Accuracy: {accuracy:.4f}\")\n",
    "\n",
    "\t\ttest_preds = F.softmax(test_preds,dim=1)[0].to('cpu')\n",
    "\tplt.hist(test_preds, alpha=0.5, color='r')\n",
    "\tplt.hist(test_y.to('cpu'), alpha=0.5, color='b')\n",
    "\treturn model"
   ]
  },
  {
   "cell_type": "code",
   "execution_count": 27,
   "id": "12ffcb18",
   "metadata": {},
   "outputs": [
    {
     "name": "stdout",
     "output_type": "stream",
     "text": [
      "cuda\n",
      "tensors loading\n",
      "splitting batches\n",
      "tensor(0.2376, device='cuda:0')\n",
      "tensor(0.0326, device='cuda:0')\n",
      "Epoch 1/8, Classifier Loss: 4.5499, MSE Loss: 39.1627\n",
      "Test Loss: 4.7024, Test Accuracy: 0.0971\n",
      "Epoch 2/8, Classifier Loss: 4.3033, MSE Loss: 38.3358\n",
      "Test Loss: 4.3824, Test Accuracy: 0.1161\n",
      "Epoch 3/8, Classifier Loss: 3.5671, MSE Loss: 38.2683\n",
      "Test Loss: 6.2058, Test Accuracy: 0.0907\n",
      "Epoch 4/8, Classifier Loss: 3.3650, MSE Loss: 38.1858\n",
      "Test Loss: 3.0367, Test Accuracy: 0.1383\n",
      "Epoch 5/8, Classifier Loss: 2.9642, MSE Loss: 38.1156\n",
      "Test Loss: 2.9262, Test Accuracy: 0.1208\n",
      "Epoch 6/8, Classifier Loss: 2.8563, MSE Loss: 38.0883\n",
      "Test Loss: 2.8447, Test Accuracy: 0.1282\n",
      "Epoch 7/8, Classifier Loss: 2.8315, MSE Loss: 38.0611\n",
      "Test Loss: 2.8241, Test Accuracy: 0.1400\n",
      "Epoch 8/8, Classifier Loss: 2.8226, MSE Loss: 38.0103\n",
      "Test Loss: 2.8374, Test Accuracy: 0.1400\n"
     ]
    },
    {
     "data": {
      "image/png": "[encoded data removed]",
      "text/plain": [
       "<Figure size 640x480 with 1 Axes>"
      ]
     },
     "metadata": {},
     "output_type": "display_data"
    }
   ],
   "source": [
    "rush_yards_model = train_model(X_tensor,y_tensor, n_in=len(x_cols), n_out=140, n_hidden = 128, epochs=8)\n",
    "\n",
    "#Test Loss: 2.3133, Test Accuracy: 0.1709 \n",
    "#Test Loss: 2.8949, Test Accuracy: 0.1649 add label smoothing, no focal loss\n",
    "#Test Loss: 2.4887, Test Accuracy: 0.1709 smoothing + focal + remove 1st down leakage\n",
    "#Test Loss: 2.4681, Test Accuracy: 0.1682 maskedmodel2\n",
    "#Test Loss: 2.4735, Test Accuracy: 0.1648 hierarchical thing\n",
    "#Test Loss: 2.4042, Test Accuracy: 0.1596 "
   ]
  },
  {
   "cell_type": "code",
   "execution_count": 28,
   "id": "9d9ee6d6",
   "metadata": {},
   "outputs": [],
   "source": [
    "\n",
    "rush_yards_model = rush_yards_model.to('cpu')\n",
    "model_path = \"models/run_yards_gained.pt\"\n",
    "torch.save(rush_yards_model.state_dict(), model_path)\n",
    "\n",
    "\n",
    "feature_config = {\n",
    "\t'rush_yard_cols':x_cols\n",
    "}\n",
    "feature_config\n",
    "\n",
    "update_config(feature_config)"
   ]
  },
  {
   "cell_type": "code",
   "execution_count": 106,
   "id": "aa208c18",
   "metadata": {},
   "outputs": [
    {
     "name": "stdout",
     "output_type": "stream",
     "text": [
      "true_first=np.float64(0.37)\n",
      "true_td=np.float64(0.34)\n",
      "Actual mean: 1.37, Model mean: 1.27\n",
      "number of datapoints: 2504\n"
     ]
    },
    {
     "data": {
      "text/plain": [
       "(-10.0, 23.0)"
      ]
     },
     "execution_count": 106,
     "metadata": {},
     "output_type": "execute_result"
    },
    {
     "data": {
      "image/png": "[encoded data removed]",
      "text/plain": [
       "<Figure size 640x480 with 1 Axes>"
      ]
     },
     "metadata": {},
     "output_type": "display_data"
    }
   ],
   "source": [
    "def sample_model_yardline(yard, down):\n",
    "\tsample = rushes.loc[(rushes.yardline_100 == yard) & (rushes.down.between(1,3))].reset_index(drop=True)\n",
    "\ttrue_first = sample['first_down'].mean().round(2)\n",
    "\ttrue_td = sample['touchdown'].mean().round(2)\n",
    "\tprint(f\"{true_first=}\")\n",
    "\tprint(f\"{true_td=}\")\n",
    "\tinp =  sample[x_cols]\n",
    "\ty = sample['yards_gained']\n",
    "\n",
    "\tinp = torch.tensor(inp.values, dtype=torch.float32)\n",
    "\tout = rush_yards_model(inp).detach().numpy()\n",
    "\texp_logits = np.exp(out - np.max(out, axis=1, keepdims=True))\n",
    "\tprobs = exp_logits / exp_logits.sum(axis=1, keepdims=True)\n",
    "     \n",
    "\tprobs = probs.mean(axis=0)\n",
    "\t\n",
    "\n",
    "\tplt.hist(y, range(-40,101),width=1, density=True, alpha=0.8, label='actual')\n",
    "\n",
    "\tactual_mean = y.mean()\n",
    "\tmodel_mean = (np.arange(len(probs)) - 40) @ probs\n",
    "\tprint(f\"Actual mean: {actual_mean:.2f}, Model mean: {model_mean:.2f}\")\n",
    "\tprint(f'number of datapoints: {len(inp)}')\n",
    "\treturn probs\n",
    "\n",
    "yard = 3\n",
    "down = 3\n",
    "probs = sample_model_yardline(yard, down)\n",
    "plt.bar(range(-40, 100), probs, width=1, alpha=0.5, align=\"edge\", label=\"model\", color='r')\n",
    "\n",
    "# Add index labels on top of bars\n",
    "for i, p in enumerate(probs):\n",
    "    yard_val = -40 + i\n",
    "    if -10 <= yard_val <= yard + 20:  # only label visible range\n",
    "        plt.text(yard_val + 0.5, p + 0.002, str(yard_val),\n",
    "                 ha='center', va='bottom', fontsize=8, rotation=90)\n",
    "\n",
    "\n",
    "plt.legend()\n",
    "plt.xlim(-10,yard+20)"
   ]
  },
  {
   "cell_type": "code",
   "execution_count": 110,
   "id": "a53078f3",
   "metadata": {},
   "outputs": [
    {
     "name": "stdout",
     "output_type": "stream",
     "text": [
      "true_first=np.float64(0.37)\n",
      "true_td=np.float64(0.34)\n"
     ]
    }
   ],
   "source": [
    "def sample_model_yardline(yard, down):\n",
    "\tsample = rushes.loc[(rushes.yardline_100 == yard) & (rushes.down.between(1,3))].reset_index(drop=True)\n",
    "\ttrue_first = sample['first_down'].mean().round(2)\n",
    "\ttrue_td = sample['touchdown'].mean().round(2)\n",
    "\tprint(f\"{true_first=}\")\n",
    "\tprint(f\"{true_td=}\")\n",
    "\tinp =  sample[x_cols]\n",
    "\ty = sample['yards_gained']\n",
    "\n",
    "\tinp = torch.tensor(inp.values, dtype=torch.float32)\n",
    "\tout = rush_yards_model(inp).detach().numpy()\n",
    "\texp_logits = np.exp(out - np.max(out, axis=1, keepdims=True))\n",
    "\tprobs = exp_logits / exp_logits.sum(axis=1, keepdims=True)\n",
    "\treturn probs, sample['yardline_100'].values\n",
    "\tprobs = probs.mean(axis=0)\n",
    "\t\n",
    "\n",
    "\tplt.hist(y, range(-40,101),width=1, density=True, alpha=0.8, label='actual')\n",
    "\n",
    "\tactual_mean = y.mean()\n",
    "\tmodel_mean = (np.arange(len(probs)) - 40) @ probs\n",
    "\tprint(f\"Actual mean: {actual_mean:.2f}, Model mean: {model_mean:.2f}\")\n",
    "\tprint(f'number of datapoints: {len(inp)}')\n",
    "\treturn probs\n",
    "\n",
    "yard = 3\n",
    "down = 3\n",
    "probs, ydl = sample_model_yardline(yard, down)"
   ]
  },
  {
   "cell_type": "code",
   "execution_count": 111,
   "id": "e497043b",
   "metadata": {},
   "outputs": [
    {
     "data": {
      "text/plain": [
       "array([1.2869335e-04, 1.2954386e-04, 1.3045447e-04, 1.3136896e-04,\n",
       "       1.3231386e-04, 1.3329694e-04, 1.3546050e-04, 1.3539083e-04,\n",
       "       1.3628903e-04, 1.3734827e-04, 1.4108761e-04, 1.4027998e-04,\n",
       "       1.5214954e-04, 1.4287941e-04, 1.4775114e-04, 1.4406446e-04,\n",
       "       1.4526983e-04, 1.4800922e-04, 1.4775578e-04, 1.4912938e-04,\n",
       "       1.5593795e-04, 1.5168931e-04, 1.7123601e-04, 1.5462418e-04,\n",
       "       1.5959275e-04, 1.5733675e-04, 1.6483616e-04, 1.7034277e-04,\n",
       "       2.0641209e-04, 2.4715994e-04, 3.1854436e-04, 4.4863790e-04,\n",
       "       4.8645271e-04, 5.8891828e-04, 1.4043025e-03, 2.0759937e-03,\n",
       "       4.7603748e-03, 1.0282198e-02, 2.1517346e-02, 4.7504477e-02,\n",
       "       1.1826762e-01, 2.6156905e-01, 2.8071404e-01, 2.4553433e-01,\n",
       "       0.0000000e+00, 0.0000000e+00, 0.0000000e+00, 0.0000000e+00,\n",
       "       0.0000000e+00, 0.0000000e+00, 0.0000000e+00, 0.0000000e+00,\n",
       "       0.0000000e+00, 0.0000000e+00, 0.0000000e+00, 0.0000000e+00,\n",
       "       0.0000000e+00, 0.0000000e+00, 0.0000000e+00, 0.0000000e+00,\n",
       "       0.0000000e+00, 0.0000000e+00, 0.0000000e+00, 0.0000000e+00,\n",
       "       0.0000000e+00, 0.0000000e+00, 0.0000000e+00, 0.0000000e+00,\n",
       "       0.0000000e+00, 0.0000000e+00, 0.0000000e+00, 0.0000000e+00,\n",
       "       0.0000000e+00, 0.0000000e+00, 0.0000000e+00, 0.0000000e+00,\n",
       "       0.0000000e+00, 0.0000000e+00, 0.0000000e+00, 0.0000000e+00,\n",
       "       0.0000000e+00, 0.0000000e+00, 0.0000000e+00, 0.0000000e+00,\n",
       "       0.0000000e+00, 0.0000000e+00, 0.0000000e+00, 0.0000000e+00,\n",
       "       0.0000000e+00, 0.0000000e+00, 0.0000000e+00, 0.0000000e+00,\n",
       "       0.0000000e+00, 0.0000000e+00, 0.0000000e+00, 0.0000000e+00,\n",
       "       0.0000000e+00, 0.0000000e+00, 0.0000000e+00, 0.0000000e+00,\n",
       "       0.0000000e+00, 0.0000000e+00, 0.0000000e+00, 0.0000000e+00,\n",
       "       0.0000000e+00, 0.0000000e+00, 0.0000000e+00, 0.0000000e+00,\n",
       "       0.0000000e+00, 0.0000000e+00, 0.0000000e+00, 0.0000000e+00,\n",
       "       0.0000000e+00, 0.0000000e+00, 0.0000000e+00, 0.0000000e+00,\n",
       "       0.0000000e+00, 0.0000000e+00, 0.0000000e+00, 0.0000000e+00,\n",
       "       0.0000000e+00, 0.0000000e+00, 0.0000000e+00, 0.0000000e+00,\n",
       "       0.0000000e+00, 0.0000000e+00, 0.0000000e+00, 0.0000000e+00,\n",
       "       0.0000000e+00, 0.0000000e+00, 0.0000000e+00, 0.0000000e+00,\n",
       "       0.0000000e+00, 0.0000000e+00, 0.0000000e+00, 0.0000000e+00,\n",
       "       0.0000000e+00, 0.0000000e+00, 0.0000000e+00, 0.0000000e+00],\n",
       "      dtype=float32)"
      ]
     },
     "execution_count": 111,
     "metadata": {},
     "output_type": "execute_result"
    }
   ],
   "source": [
    "probs[0]"
   ]
  },
  {
   "cell_type": "code",
   "execution_count": 112,
   "id": "18af8757",
   "metadata": {},
   "outputs": [
    {
     "data": {
      "text/plain": [
       "np.float32(0.0006021935)"
      ]
     },
     "execution_count": 112,
     "metadata": {},
     "output_type": "execute_result"
    }
   ],
   "source": [
    "probs[np.arange(len(probs)), ydl.astype(int) + 30].mean()"
   ]
  },
  {
   "cell_type": "code",
   "execution_count": 95,
   "id": "d970f638",
   "metadata": {},
   "outputs": [
    {
     "data": {
      "text/plain": [
       "array([[1, 3],\n",
       "       [5, 7]])"
      ]
     },
     "execution_count": 95,
     "metadata": {},
     "output_type": "execute_result"
    }
   ],
   "source": [
    "test = np.array([[0,1,2,3],[4,5,6,7]])\n",
    "test[:,[1,3]]"
   ]
  },
  {
   "cell_type": "code",
   "execution_count": null,
   "id": "83ddc572",
   "metadata": {},
   "outputs": [
    {
     "data": {
      "text/plain": [
       "array([1, 7])"
      ]
     },
     "execution_count": 99,
     "metadata": {},
     "output_type": "execute_result"
    }
   ],
   "source": [
    "#td prod\n",
    "\n",
    "\n",
    "a = np.arange(4 * 2).reshape(2, 4)\n",
    "cols = np.array([1,3])\n",
    "\n",
    "out = a[np.arange(len(cols)), cols]\n",
    "out"
   ]
  },
  {
   "cell_type": "code",
   "execution_count": null,
   "id": "745d517a",
   "metadata": {},
   "outputs": [
    {
     "name": "stdout",
     "output_type": "stream",
     "text": [
      "[2.93837483 1.06331011 2.82127522]\n"
     ]
    }
   ],
   "source": [
    "#fd prob\n",
    "\n",
    "probs = np.random.rand(3, 10)\n",
    "starts = np.array([4, 8, 2])  # start index for each row\n",
    "def get_fd_chance(probs, ydl):\n",
    "    \n",
    "\t# build a mask for summing\n",
    "\tcols = np.arange(probs.shape[1])\n",
    "\tmask = cols >= starts[:, None]   # shape (3, 10), True where col >= start\n",
    "\n",
    "\tsums = (probs * mask).sum(axis=1)\n",
    "\treturn sums\n",
    "print(sums)\n"
   ]
  },
  {
   "cell_type": "code",
   "execution_count": null,
   "id": "c8ca24a7",
   "metadata": {},
   "outputs": [],
   "source": []
  }
 ],
 "metadata": {
  "kernelspec": {
   "display_name": "nfl-sim",
   "language": "python",
   "name": "python3"
  },
  "language_info": {
   "codemirror_mode": {
    "name": "ipython",
    "version": 3
   },
   "file_extension": ".py",
   "mimetype": "text/x-python",
   "name": "python",
   "nbconvert_exporter": "python",
   "pygments_lexer": "ipython3",
   "version": "3.12.5"
  }
 },
 "nbformat": 4,
 "nbformat_minor": 5
}
