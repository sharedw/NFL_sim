{
 "cells": [
  {
   "cell_type": "code",
   "execution_count": 1,
   "id": "337cf783",
   "metadata": {},
   "outputs": [],
   "source": [
    "import duckdb\n",
    "import pandas as pd\n",
    "import numpy as np\n",
    "import torch.optim as optim\n",
    "import torch.nn.functional as F\n",
    "import matplotlib.pyplot as plt\n",
    "from utils.quack import Quack\n",
    "from sim_utils.modeling import update_config"
   ]
  },
  {
   "cell_type": "code",
   "execution_count": 2,
   "id": "69e5d6cf",
   "metadata": {},
   "outputs": [],
   "source": [
    "def fetch_rushes():\n",
    "\tpass"
   ]
  },
  {
   "cell_type": "code",
   "execution_count": 3,
   "id": "09b60be2",
   "metadata": {},
   "outputs": [],
   "source": [
    "rusher_stat_cols =[\n",
    " 'carries_roll',\n",
    " 'rushing_yards_roll',\n",
    " #'rushing_tds_roll',\n",
    " #'rushing_first_downs_roll',\n",
    " #'receiving_yards_roll',\n",
    " #'receiving_tds_roll',\n",
    " #'fantasy_points_ppr_roll',\n",
    " 'yards_per_carry_roll']\n",
    "\n",
    "team_stat_cols = [\n",
    " #'completions_team_roll',\n",
    " #'attempts_team_roll',\n",
    " 'carries_team_roll',\n",
    " #'passing_yards_team_roll',\n",
    " 'rushing_yards_team_roll',\n",
    " 'pass_pct_team_roll',\n",
    " 'yards_per_carry_team_roll',\n",
    "]\n",
    "opp_stat_cols = [\n",
    "#'completions_opp_roll',\n",
    " #'attempts_opp_roll',\n",
    " 'carries_opp_roll',\n",
    " #'passing_yards_opp_roll',\n",
    " 'rushing_yards_opp_roll',\n",
    " 'pass_pct_opp_roll',\n",
    " 'yards_per_carry_opp_roll',\n",
    "]\n",
    "\n",
    "game_context_cols = [\n",
    "\t\"yardline_100\",\n",
    "\t\"down\",\n",
    "\t\"goal_to_go\",\n",
    "\t\"ydstogo\",\n",
    "\t#\"posteam_score\",\n",
    "\t#\"defteam_score\",\n",
    "\t#\"score_differential\",\n",
    "\t#'quarter_seconds_remaining',\n",
    "\t#'half_seconds_remaining',\n",
    "\t#'game_seconds_remaining',\n",
    "\t#\"wind\",\n",
    "\t#\"temp\",\n",
    "\t#'spread_line',\n",
    "\t#'total_line',\n",
    "]\n",
    "\n",
    "x_cols = game_context_cols +rusher_stat_cols + ['is_first_down', 'is_second_down', 'is_third_down','is_fourth_down', 'first_down', 'touchdown'] #+ ['run_gap_encoded'] + rusher_stat_cols + team_stat_cols + opp_stat_cols "
   ]
  },
  {
   "cell_type": "code",
   "execution_count": 4,
   "id": "d1211af7",
   "metadata": {},
   "outputs": [
    {
     "data": {
      "text/plain": [
       "13"
      ]
     },
     "execution_count": 4,
     "metadata": {},
     "output_type": "execute_result"
    }
   ],
   "source": [
    "len(x_cols)"
   ]
  },
  {
   "cell_type": "code",
   "execution_count": 5,
   "id": "6c4c7488",
   "metadata": {},
   "outputs": [],
   "source": [
    "rushes = Quack.query(f\"\"\"\n",
    "select pbp.desc,pbp.game_id, pbp.yards_gained,\n",
    "\tcase when pbp.run_gap = 'end' then 2\n",
    "\t\twhen pbp.run_gap = 'tackle' then 1\n",
    "\t\twhen pbp.run_gap = 'guard' then 0  else 1 end as run_gap_encoded,\n",
    "\tcase when pbp.down = 1 then '1' else 0 end as is_first_down,\n",
    "\tcase when pbp.down = 2 then '1' else 0 end as is_second_down,\n",
    "\tcase when pbp.down = 3 then '1' else 0 end as is_third_down,\n",
    "\tcase when pbp.down = 4 then '1' else 0 end as is_fourth_down,\n",
    "                     pbp.first_down, pbp.touchdown,\n",
    "\t{', '.join(('pbp.' + x for x in game_context_cols))},\n",
    "\t{', '.join(('t.' + x for x in team_stat_cols))},\n",
    "\t{', '.join(('o.' + x for x in opp_stat_cols))},\n",
    "\t{', '.join(('r.' + x for x in rusher_stat_cols))},\n",
    "\tfrom pbp join team_feats as t \n",
    "\ton pbp.posteam = t.team\n",
    "\tand pbp.game_id = t.game_id\n",
    "\tjoin opp_feats as o\n",
    "\ton pbp.defteam = o.opponent_team\n",
    "\tand pbp.game_id = o.game_id\n",
    "\tjoin player_weekly_agg as r\n",
    "\ton r.game_id = pbp.game_id\n",
    "\tand pbp.rusher_player_id = r.gsis_id\n",
    "\tand r.team = pbp.posteam\n",
    "\tand pbp.play_type = 'run'\n",
    "\tand pbp.yards_gained is not null\n",
    "\tand pbp.down is not null\n",
    "    and pbp.penalty = 0\n",
    "    and pbp.fumble = 0\n",
    "\"\"\")"
   ]
  },
  {
   "cell_type": "code",
   "execution_count": 6,
   "id": "83145da7",
   "metadata": {},
   "outputs": [],
   "source": [
    "rushes[rusher_stat_cols] = rushes[rusher_stat_cols].fillna(0)\n",
    "rushes['yards_shifted'] = rushes['yards_gained'] + 30"
   ]
  },
  {
   "cell_type": "code",
   "execution_count": null,
   "id": "7e070d51",
   "metadata": {},
   "outputs": [],
   "source": [
    "import torch\n",
    "import torch.nn as nn\n",
    "\n",
    "class ResBlock(nn.Module):\n",
    "\tdef __init__(self, n_hidden):\n",
    "\t\tsuper().__init__()\n",
    "\t\tself.layer = nn.Sequential(\n",
    "\t\t\tnn.Linear(n_hidden, n_hidden),\n",
    "\t\t\tnn.LayerNorm(n_hidden),\n",
    "\t\t\tnn.ReLU()\n",
    "\t\t)\n",
    "\t\n",
    "\tdef forward(self, x):\n",
    "\t\treturn x + self.layer(x)\n",
    "\n",
    "class masked_model(nn.Module):\n",
    "\tdef __init__(self, n_in=11, n_out=109, n_hidden=50):\n",
    "\t\tsuper(masked_model, self).__init__()\n",
    "\t\tself.n_out=n_out\n",
    "\t\tself.main_layers = nn.Sequential(\n",
    "\t\tnn.Linear(n_in, n_hidden),nn.ReLU(),\n",
    "\t\tResBlock(n_hidden),\n",
    "\t\tResBlock(n_hidden),\n",
    "\t\tResBlock(n_hidden),\n",
    "\t\tResBlock(n_hidden),\n",
    "\t\tResBlock(n_hidden),\n",
    "\t\tResBlock(n_hidden),\n",
    "\t\tResBlock(n_hidden),\n",
    "\t\t)\n",
    "\t\tself.output_layer  = nn.Linear(n_hidden, n_out)\n",
    "\t\tself.td_head = nn.Linear(n_hidden, 1)\n",
    "\tdef forward(self, x):\n",
    "\n",
    "\t\t\n",
    "\t\t# Extract the feature to pass to the final layer (e.g., the first feature)\n",
    "\t\tyardline = x[:, 0].unsqueeze(1)  # Assuming you want the first feature, shape [batch_size, 1]\n",
    "\t\tyard_values = torch.arange(0, self.n_out, device=x.device).float().unsqueeze(0)\n",
    "\t\tmask = (yard_values <= yardline + 30).float()\n",
    "\t\ttd_bin = (yardline + 30).long().squeeze(1)\n",
    "\n",
    "\t\tx = self.main_layers(x)\n",
    "\t\tlogits = self.output_layer(x)\n",
    "\t\ttd_logits = self.td_head(x)\n",
    "\t\tbatch_indices = torch.arange(logits.size(0), device=logits.device)\n",
    "\t\tlogits[batch_indices, td_bin] = logits[batch_indices, td_bin] + td_logits.squeeze(1)\n",
    "\t\tprint()\n",
    "        \n",
    "\n",
    "\t\tmasked_logits = logits + (mask - 1) * 1e9\n",
    "\n",
    "\t\treturn masked_logits"
   ]
  },
  {
   "cell_type": "code",
   "execution_count": 89,
   "id": "fcb39704",
   "metadata": {},
   "outputs": [],
   "source": [
    "X = rushes[x_cols]\n",
    "y = rushes['yards_shifted']\n",
    "X_td = rushes.loc[rushes.touchdown==1][x_cols].copy().reset_index(drop=True)\n",
    "y_td = rushes.loc[rushes.touchdown==1]['yards_shifted'].copy().reset_index(drop=True)"
   ]
  },
  {
   "cell_type": "code",
   "execution_count": 90,
   "id": "35204ecb",
   "metadata": {},
   "outputs": [
    {
     "name": "stdout",
     "output_type": "stream",
     "text": [
      "torch.Size([1, 13])\n"
     ]
    }
   ],
   "source": [
    "X_tensor = torch.tensor(X.values, dtype=torch.float32)\n",
    "\n",
    "def get_sample(num_samples):\n",
    "\tidx = np.random.randint(0,len(X_tensor), num_samples)\n",
    "\treturn X_tensor[idx]\n",
    "\n",
    "get_sample(2)\n",
    "\n",
    "model = masked_model(\n",
    "\tn_in=len(x_cols),\n",
    "\tn_out=130,\n",
    "\tn_hidden=64,\n",
    ")\n",
    "\t\t\t# numerical value\n",
    "c = get_sample(1)\n",
    "print(c.shape)\n",
    "pred = model(c)"
   ]
  },
  {
   "cell_type": "code",
   "execution_count": 56,
   "id": "71dc7d44",
   "metadata": {},
   "outputs": [],
   "source": [
    "class FocalLoss(nn.Module):\n",
    "    def __init__(self, gamma=2.0):\n",
    "        super().__init__()\n",
    "        self.gamma = gamma\n",
    "    \n",
    "    def forward(self, logits, targets):\n",
    "        ce_loss = F.cross_entropy(logits, targets, reduction='none')\n",
    "        pt = torch.exp(-ce_loss)\n",
    "        focal_loss = ((1 - pt) ** self.gamma) * ce_loss\n",
    "        return focal_loss.mean()"
   ]
  },
  {
   "cell_type": "code",
   "execution_count": 123,
   "id": "351043e3",
   "metadata": {},
   "outputs": [],
   "source": [
    "def train_model(X, y, n_in, n_out,n_hidden=50, epochs=20, batch_size=128, model=None):\n",
    "\n",
    "\tdevice = torch.device('cuda' if torch.cuda.is_available() else 'cpu')\n",
    "\ty = torch.tensor(y,dtype=torch.long).to(device)\n",
    "\t# Define the model, loss function, and optimizer\n",
    "\n",
    "\tX_tensor = torch.tensor(X.values, dtype=torch.float32).to(device)\n",
    "\tif not model:\n",
    "\t\tmodel = masked_model(\n",
    "\t\tn_in=n_in,\n",
    "\t\tn_out=n_out,\n",
    "\t\tn_hidden=n_hidden,\n",
    "\t\t).to(device)\n",
    "\tcriterion = FocalLoss(gamma=3.0) # Suitable for classification\n",
    "\t#criterion = nn.CrossEntropyLoss()\n",
    "\tcriterion_mse = nn.MSELoss()\n",
    "\toptimizer = optim.Adam(model.parameters(), lr=0.001, weight_decay=0.009)\n",
    "\n",
    "\tnum_samples = X_tensor.size(0)\n",
    "\tindices = torch.randperm(num_samples, device=device)\n",
    "\n",
    "\t# Calculate train-test split sizes\n",
    "\tsplit = num_samples // 5  # 20% test data\n",
    "\ttest_indices = indices[:split]\n",
    "\ttrain_indices = indices[split:]\n",
    "\n",
    "\t# Create train-test splits using the shuffled indices\n",
    "\n",
    "\tXtr = X_tensor[train_indices].to(device)\n",
    "\tXtst = X_tensor[test_indices].to(device)\n",
    "\ttrain_y = y[train_indices].to(device)\n",
    "\ttest_y =  y[test_indices].to(device)\n",
    "\n",
    "\t# Training loop\n",
    "\tepochs = epochs\n",
    "\n",
    "\tfor epoch in range(epochs):\n",
    "\t\tmodel.train()\n",
    "\t\tpermutation = torch.randperm(Xtr.size(0))\n",
    "\t\tepoch_mean_loss = 0\n",
    "\t\tepoch_class_loss = 0\n",
    "\n",
    "\t\tfor i in range(0, Xtr.size(0), batch_size):\n",
    "\t\t\tbatch_idx = permutation[i:i + batch_size]\n",
    "\t\t\tbatch_x, batch_y = Xtr[batch_idx], train_y[batch_idx]\n",
    "\n",
    "\t\t\toptimizer.zero_grad()\n",
    "\t\t\toutputs = model(batch_x)  # Shape: [batch_size, n_out]\n",
    "\t\t\tprobs = torch.softmax(outputs, dim=1)\n",
    "\t\t\tprobs_mean = (torch.arange(0,130, dtype=torch.float32).to(device) * probs).sum(1)\n",
    "\t\t\tclassifier_loss = criterion(outputs, batch_y)\n",
    "\t\t\tmean_loss =  criterion_mse(probs_mean, batch_y.float()) * 1.5\n",
    "\t\t\tloss = classifier_loss + mean_loss\n",
    "\t\t\tloss.backward()\n",
    "\t\t\toptimizer.step()\n",
    "\n",
    "\t\t\tepoch_mean_loss += mean_loss.item()\n",
    "\t\t\tepoch_class_loss += classifier_loss.item()\n",
    "\n",
    "\t\tprint(f\"Epoch {epoch+1}/{epochs}, Classifier Loss: {epoch_class_loss/len(Xtr):.4f}, MSE Loss: {epoch_mean_loss/len(Xtr):.4f}\")\n",
    "\n",
    "\t\t# Evaluation on the test set\n",
    "\t\tmodel.eval()\n",
    "\t\twith torch.no_grad():\n",
    "\t\t\ttest_preds = model(Xtst)  # Shape: [num_samples, 100]\n",
    "\t\t\ttest_loss = criterion(test_preds, test_y).item() \n",
    "\t\t\taccuracy = (test_preds.argmax(dim=1) == test_y).float().mean().item()\n",
    "\t\tprint(f\"Test Loss: {test_loss:.4f}, Test Accuracy: {accuracy:.4f}\")\n",
    "\n",
    "\t\ttest_preds = F.softmax(test_preds,dim=1)[0].to('cpu')\n",
    "\tplt.hist(test_preds, alpha=0.5, color='r')\n",
    "\tplt.hist(test_y.to('cpu'), alpha=0.5, color='b')\n",
    "\treturn model"
   ]
  },
  {
   "cell_type": "code",
   "execution_count": 124,
   "id": "a9d2036f",
   "metadata": {},
   "outputs": [
    {
     "name": "stdout",
     "output_type": "stream",
     "text": [
      "Epoch 1/7, Classifier Loss: 0.2169, MSE Loss: 0.4614\n",
      "Test Loss: 28.1153, Test Accuracy: 0.1217\n",
      "Epoch 2/7, Classifier Loss: 0.1170, MSE Loss: 0.3638\n",
      "Test Loss: 9.7693, Test Accuracy: 0.1316\n",
      "Epoch 3/7, Classifier Loss: 0.0661, MSE Loss: 0.2784\n",
      "Test Loss: 5.0409, Test Accuracy: 0.1475\n",
      "Epoch 4/7, Classifier Loss: 0.0445, MSE Loss: 0.2679\n",
      "Test Loss: 6.5860, Test Accuracy: 0.1508\n",
      "Epoch 5/7, Classifier Loss: 0.0390, MSE Loss: 0.2703\n",
      "Test Loss: 13.1320, Test Accuracy: 0.1339\n",
      "Epoch 6/7, Classifier Loss: 0.0378, MSE Loss: 0.2670\n",
      "Test Loss: 3.5039, Test Accuracy: 0.1544\n",
      "Epoch 7/7, Classifier Loss: 0.0302, MSE Loss: 0.2637\n",
      "Test Loss: 3.5821, Test Accuracy: 0.1496\n"
     ]
    },
    {
     "data": {
      "image/png": "[encoded data removed]",
      "text/plain": [
       "<Figure size 640x480 with 1 Axes>"
      ]
     },
     "metadata": {},
     "output_type": "display_data"
    }
   ],
   "source": [
    "rush_yards_model = train_model(X,y, n_in=len(x_cols), n_out=130, n_hidden = 512, epochs=7)\n",
    "\n",
    "#Epoch 10/10, Classifier Loss: 0.0408, MSE Loss: 0.3164\n",
    "#Epoch 10/10, Classifier Loss: 0.0405, MSE Loss: 0.2760 with touchdown head thing\n",
    "#Epoch 10/10, Classifier Loss: 0.0323, MSE Loss: 0.2484 ? but this was so busted idk"
   ]
  },
  {
   "cell_type": "code",
   "execution_count": 125,
   "id": "9d9ee6d6",
   "metadata": {},
   "outputs": [],
   "source": [
    "\n",
    "rush_yards_model = rush_yards_model.to('cpu')\n",
    "model_path = \"models/run_yards_gained.pt\"\n",
    "torch.save(rush_yards_model.state_dict(), model_path)\n",
    "\n",
    "\n",
    "feature_config = {\n",
    "\t'rush_yard_cols':x_cols\n",
    "}\n",
    "feature_config\n",
    "\n",
    "update_config(feature_config)"
   ]
  },
  {
   "cell_type": "code",
   "execution_count": 126,
   "id": "aa208c18",
   "metadata": {},
   "outputs": [
    {
     "name": "stdout",
     "output_type": "stream",
     "text": [
      "Actual mean: 4.54, Model mean: 3.91\n",
      "number of datapoints: 1349\n"
     ]
    },
    {
     "data": {
      "text/plain": [
       "(-20.0, 37.0)"
      ]
     },
     "execution_count": 126,
     "metadata": {},
     "output_type": "execute_result"
    },
    {
     "data": {
      "image/png": "[encoded data removed]",
      "text/plain": [
       "<Figure size 640x480 with 1 Axes>"
      ]
     },
     "metadata": {},
     "output_type": "display_data"
    }
   ],
   "source": [
    "def sample_model_yardline(yard, down):\n",
    "\tinp = rushes.loc[(rushes.yardline_100==yard), x_cols]\n",
    "\ty = rushes.loc[ (rushes.yardline_100==yard), 'yards_gained']\n",
    "\n",
    "\tinp =  torch.tensor(inp.values, dtype=torch.float32)\n",
    "\tout = rush_yards_model(inp).mean(0).detach().numpy()\n",
    "\texp_logits = np.exp(out - np.max(out))\n",
    "\tprobs = exp_logits / exp_logits.sum()\n",
    "\tplt.hist(y, range(-30,100), density=True, alpha=0.9)\n",
    "\n",
    "\tactual_mean = y.mean()\n",
    "\tmodel_mean = (np.arange(len(probs)) - 30) @ probs  # adjust if 0th class = -30\n",
    "\tprint(f\"Actual mean: {actual_mean:.2f}, Model mean: {model_mean:.2f}\")\n",
    "\tprint(f'number of datapoints: {len(inp)}')\n",
    "\treturn probs\n",
    "\n",
    "yard = 27\n",
    "down = 1\n",
    "plt.bar(range(-30 ,100 ), sample_model_yardline(yard, down), width=1, \n",
    "        alpha=0.5, align=\"edge\", label=\"Bar Chart\", color='r')\n",
    "plt.xlim(-20,yard+10)"
   ]
  },
  {
   "cell_type": "code",
   "execution_count": null,
   "id": "cb031e72",
   "metadata": {},
   "outputs": [],
   "source": []
  }
 ],
 "metadata": {
  "kernelspec": {
   "display_name": "nfl_sim",
   "language": "python",
   "name": "python3"
  },
  "language_info": {
   "codemirror_mode": {
    "name": "ipython",
    "version": 3
   },
   "file_extension": ".py",
   "mimetype": "text/x-python",
   "name": "python",
   "nbconvert_exporter": "python",
   "pygments_lexer": "ipython3",
   "version": "3.12.2"
  }
 },
 "nbformat": 4,
 "nbformat_minor": 5
}
