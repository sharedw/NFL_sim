{
 "cells": [
  {
   "cell_type": "code",
   "execution_count": null,
   "id": "97ea606a",
   "metadata": {},
   "outputs": [],
   "source": [
    "import duckdb\n",
    "import pandas as pd\n",
    "import numpy as np\n",
    "import torch\n",
    "import torch.nn as nn\n",
    "import torch.optim as optim\n",
    "import torch.nn.functional as F\n",
    "import matplotlib.pyplot as plt\n",
    "from utils.quack import Quack\n",
    "from sim_utils.modeling import update_config"
   ]
  },
  {
   "cell_type": "code",
   "execution_count": 65,
   "id": "c89f5d60",
   "metadata": {},
   "outputs": [],
   "source": [
    "receiver_stat_cols = [\n",
    "    \"dense_depth\",\n",
    "    \"receptions_roll\",\n",
    "    \"targets_roll\",\n",
    "    \"receiving_yards_roll\",\n",
    "    \"receiving_tds_roll\",\n",
    "    \"receiving_air_yards_roll\",\n",
    "    \"receiving_yards_after_catch_roll\",\n",
    "    \"receiving_first_downs_roll\",\n",
    "    \"target_share_roll\",\n",
    "    \"air_yards_share_roll\",\n",
    "    \"fantasy_points_ppr_roll\",\n",
    "    'yards_per_target_roll',\n",
    "    'yards_per_catch_roll',\n",
    "]\n",
    "\n",
    "team_stat_cols = [\n",
    " 'completions_team_roll',\n",
    " 'attempts_team_roll',\n",
    " 'carries_team_roll',\n",
    " 'passing_yards_team_roll',\n",
    " 'rushing_yards_team_roll',\n",
    " 'pass_pct_team_roll',\n",
    "]\n",
    "opp_stat_cols = [\n",
    " 'completions_opp_roll',\n",
    " 'attempts_opp_roll',\n",
    " 'carries_opp_roll',\n",
    " 'passing_yards_opp_roll',\n",
    " 'rushing_yards_opp_roll',\n",
    " 'pass_pct_opp_roll']\n",
    "\n",
    "game_context_cols = [\n",
    "\t\"yardline_100\",\n",
    "\t\"down\",\n",
    "\t\"goal_to_go\",\n",
    "\t\"ydstogo\",\n",
    "\t\"posteam_score\",\n",
    "\t\"defteam_score\",\n",
    "\t\"score_differential\",\n",
    "\t#'quarter_seconds_remaining',\n",
    "\t#'half_seconds_remaining',\n",
    "\t'game_seconds_remaining',\n",
    "\t#\"wind\",\n",
    "\t#\"temp\",\n",
    "\t'spread_line',\n",
    "\t'total_line'\n",
    "]\n",
    "\n",
    "air_yards_cols = [\n",
    "    \"dense_depth\",\n",
    "    \"receptions_roll\",\n",
    "    \"targets_roll\",\n",
    "    \"receiving_yards_roll\",\n",
    "    \"receiving_tds_roll\",\n",
    "    \"receiving_air_yards_roll\",\n",
    "    \"receiving_yards_after_catch_roll\",\n",
    "    \"receiving_first_downs_roll\",\n",
    "    \"target_share_roll\",\n",
    "    \"air_yards_share_roll\",\n",
    "    \"fantasy_points_ppr_roll\",\n",
    "    'yards_per_target_roll',\n",
    "    'yards_per_catch_roll',\n",
    "] + game_context_cols + ['passing_yards_opp_roll']"
   ]
  },
  {
   "cell_type": "code",
   "execution_count": 66,
   "id": "aabd7ef8",
   "metadata": {},
   "outputs": [],
   "source": [
    "passes = Quack.query(f\"\"\"\n",
    "select pbp.game_id, pbp.air_yards,\n",
    "\t{', '.join(('pbp.' + x for x in game_context_cols))},\n",
    "\t{', '.join(('t.' + x for x in team_stat_cols))},\n",
    "\t{', '.join(('o.' + x for x in opp_stat_cols))},\n",
    "\t{', '.join(('r.' + x for x in receiver_stat_cols))},\n",
    "\tfrom pbp join team_feats as t \n",
    "\ton pbp.posteam = t.team\n",
    "\tand pbp.game_id = t.game_id\n",
    "\tjoin opp_feats as o\n",
    "\ton pbp.defteam = o.opponent_team\n",
    "\tand pbp.game_id = o.game_id\n",
    "\tjoin player_weekly_agg as r\n",
    "\ton r.game_id = pbp.game_id\n",
    "\tand pbp.receiver_player_id = r.gsis_id\n",
    "\tand r.team = pbp.posteam\n",
    "\tand pbp.pass = 1\n",
    "\tand pbp.pass_attempt = 1\n",
    "\tand pbp.down is not null\n",
    "    and pbp.play_type = 'pass'\n",
    "\"\"\")\n",
    "\n",
    "passes[receiver_stat_cols] = passes[receiver_stat_cols].fillna(0)"
   ]
  },
  {
   "cell_type": "code",
   "execution_count": null,
   "id": "d62769d9",
   "metadata": {},
   "outputs": [],
   "source": [
    "\n",
    "\n",
    "class masked_model(nn.Module):\n",
    "\tdef __init__(self, n_in=11, n_out=109, n_hidden=256, dropout_prob=0.):\n",
    "\t\tsuper(masked_model, self).__init__()\n",
    "\t\tself.n_out=n_out\n",
    "\t\tself.main_layers = nn.Sequential(\n",
    "\t\tnn.Linear(n_in, n_hidden),nn.ReLU(),\n",
    "\t\tnn.Linear(n_hidden, n_hidden),nn.ReLU(),\n",
    "\t\tnn.Dropout(p=dropout_prob),\n",
    "\t\tnn.Linear(n_hidden, n_hidden),nn.ReLU(),\n",
    "\t\t)\n",
    "\t\tself.add_yardline = nn.Linear(n_hidden + 1, n_hidden)\n",
    "\t\tself.last_layers = nn.Sequential(\n",
    "\t\t\t\t\tnn.Linear(n_hidden, n_hidden),nn.ReLU()\n",
    "\t\t)\n",
    "\tdef forward(self, x):\n",
    "\t\t# Extract the feature to pass to the final layer (e.g., the first feature)\n",
    "\t\tfeature_to_pass = x[:, 0].unsqueeze(1)  # Assuming you want the first feature, shape [batch_size, 1]\n",
    "\n",
    "\t\tx = self.main_layers(x)\n",
    "\t\tx = torch.cat((x, feature_to_pass), dim=1) \n",
    "\t\tx = self.add_yardline(x)\n",
    "\n",
    "\n",
    "\n",
    "\n",
    "\t\t#end_zone = feature_to_pass[:,0].clone().detach().view(-1)\n",
    "\t\t#accum_mask = torch.nn.functional.one_hot(end_zone.type(torch.LongTensor)+30, self.n_out)\n",
    "\t\t#accum_mask =  accum_mask +  torch.sum(accum_mask, dim=1, keepdims=True) - torch.cumsum(accum_mask, dim=1)\n",
    "\t\t#accum_mask = accum_mask.type(torch.bool)\n",
    "\t\t#x = x.masked_fill(~accum_mask, float('-1000'))\n",
    "\n",
    "\t\treturn x"
   ]
  },
  {
   "cell_type": "code",
   "execution_count": 68,
   "id": "9bac8570",
   "metadata": {},
   "outputs": [],
   "source": [
    "def train_model(X, y, n_in, n_out,n_hidden=50, epochs=20, batch_size=512):\n",
    "\n",
    "\tdevice = torch.device('cuda' if torch.cuda.is_available() else 'cpu')\n",
    "\ty = torch.tensor(y,dtype=torch.long).to(device)\n",
    "\t# Define the model, loss function, and optimizer\n",
    "\n",
    "\tX_tensor = torch.tensor(X.values, dtype=torch.float32).to(device)\n",
    "\tmodel = model = masked_model(\n",
    "\tn_in=n_in,\n",
    "\tn_out=n_out,\n",
    "\tn_hidden=n_hidden,\n",
    "\tdropout_prob=0.\n",
    "\t).to(device)\n",
    "\tcriterion = nn.CrossEntropyLoss()  # Suitable for classification\n",
    "\toptimizer = optim.Adam(model.parameters(), lr=0.001, weight_decay=0.1)\n",
    "\n",
    "\tnum_samples = X_tensor.size(0)\n",
    "\tindices = torch.randperm(num_samples, device=device)\n",
    "\n",
    "\t# Calculate train-test split sizes\n",
    "\tsplit = num_samples // 5  # 20% test data\n",
    "\ttest_indices = indices[:split]\n",
    "\ttrain_indices = indices[split:]\n",
    "\n",
    "\t# Create train-test splits using the shuffled indices\n",
    "\n",
    "\tXtr = X_tensor[train_indices].to(device)\n",
    "\tXtst = X_tensor[test_indices].to(device)\n",
    "\ttrain_y = y[train_indices].to(device)\n",
    "\ttest_y =  y[test_indices].to(device)\n",
    "\n",
    "\t# Training loop\n",
    "\tepochs = epochs\n",
    "\tbatch_size = 64\n",
    "\n",
    "\tfor epoch in range(epochs):\n",
    "\t\tmodel.train()\n",
    "\t\tpermutation = torch.randperm(Xtr.size(0))\n",
    "\t\tepoch_loss = 0\n",
    "\n",
    "\t\tfor i in range(0, Xtr.size(0), batch_size):\n",
    "\t\t\tindices = permutation[i:i + batch_size]\n",
    "\t\t\tbatch_x, batch_y = Xtr[indices], train_y[indices]\n",
    "\n",
    "\t\t\toptimizer.zero_grad()\n",
    "\t\t\toutputs = model(batch_x)  # Shape: [batch_size, n_out]\n",
    "\n",
    "\n",
    "\t\t\tloss = criterion(outputs, batch_y)  # batch_y must be [batch_size] with class indices\n",
    "\t\t\tloss.backward()\n",
    "\t\t\toptimizer.step()\n",
    "\n",
    "\t\t\tepoch_loss += loss.item()\n",
    "\n",
    "\t\tprint(f\"Epoch {epoch+1}/{epochs}, Loss: {epoch_loss/len(Xtr):.4f}\")\n",
    "\n",
    "\t\t# Evaluation on the test set\n",
    "\tmodel.eval()\n",
    "\twith torch.no_grad():\n",
    "\t\ttest_preds = model(Xtst)  # Shape: [num_samples, 100]\n",
    "\t\ttest_loss = criterion(test_preds, test_y).item() \n",
    "\t\taccuracy = (test_preds.argmax(dim=1) == test_y).float().mean().item()\n",
    "\tprint(f\"Test Loss: {test_loss:.4f}, Test Accuracy: {accuracy:.4f}\")\n",
    "\n",
    "\ttest_preds = F.softmax(test_preds,dim=1)[0].to('cpu')\n",
    "\tsamples = torch.clamp( torch.multinomial(test_preds,100,replacement=True),max=76) - 30\n",
    "\tavg = round(samples.double().mean().item(), 3)\n",
    "\tplt.hist(test_preds, alpha=0.5, color='r')\n",
    "\tplt.hist(test_y.to('cpu'), alpha=0.5, color='b')\n",
    "\treturn model"
   ]
  },
  {
   "cell_type": "code",
   "execution_count": 69,
   "id": "84d41acb",
   "metadata": {},
   "outputs": [
    {
     "data": {
      "text/plain": [
       "(207483,)"
      ]
     },
     "execution_count": 69,
     "metadata": {},
     "output_type": "execute_result"
    }
   ],
   "source": [
    "passes['air_yards_20'] = (passes['air_yards'] + 20).clip(lower=0, upper=130)\n",
    "data = passes[air_yards_cols + ['air_yards_20']].copy()\n",
    "data = data.dropna()\n",
    "X = data[air_yards_cols]\n",
    "y = data['air_yards_20']\n",
    "obs = len(X)\n",
    "num_feats = len(air_yards_cols)\n",
    "y.shape"
   ]
  },
  {
   "cell_type": "code",
   "execution_count": 70,
   "id": "2ab3777d",
   "metadata": {},
   "outputs": [
    {
     "name": "stdout",
     "output_type": "stream",
     "text": [
      "Epoch 1/5, Loss: 0.0608\n",
      "Epoch 2/5, Loss: 0.0561\n",
      "Epoch 3/5, Loss: 0.0560\n",
      "Epoch 4/5, Loss: 0.0559\n",
      "Epoch 5/5, Loss: 0.0559\n",
      "Test Loss: 3.5773, Test Accuracy: 0.0718\n"
     ]
    },
    {
     "data": {
      "image/png": "[encoded data removed]",
      "text/plain": [
       "<Figure size 640x480 with 1 Axes>"
      ]
     },
     "metadata": {},
     "output_type": "display_data"
    }
   ],
   "source": [
    "air_yards_model = train_model(X, y, num_feats, 119, n_hidden=512, epochs = 5) # 3.327, 0.0865\n",
    "air_yards_model = air_yards_model.to('cpu')"
   ]
  },
  {
   "cell_type": "code",
   "execution_count": 78,
   "id": "68a801d6",
   "metadata": {},
   "outputs": [
    {
     "name": "stdout",
     "output_type": "stream",
     "text": [
      "Actual mean: 8.53, Model mean: 9.22\n"
     ]
    },
    {
     "data": {
      "text/plain": [
       "(-10.0, 40.0)"
      ]
     },
     "execution_count": 78,
     "metadata": {},
     "output_type": "execute_result"
    },
    {
     "data": {
      "image/png": "[encoded data removed]",
      "text/plain": [
       "<Figure size 640x480 with 1 Axes>"
      ]
     },
     "metadata": {},
     "output_type": "display_data"
    }
   ],
   "source": [
    "def sample_model_yardline(yard):\n",
    "\tinp = passes.loc[passes.yardline_100 == yard, air_yards_cols]\n",
    "\tinp =  torch.tensor(inp.values, dtype=torch.float32)\n",
    "\tout = air_yards_model(inp).mean(0).detach().numpy()\n",
    "\texp_logits = np.exp(out - np.max(out))\n",
    "\tprobs = exp_logits / exp_logits.sum()\n",
    "\ty = passes.loc[passes.yardline_100 == yard, ['air_yards']]\n",
    "\tplt.hist(y, range(-10,yard+2), density=True)\n",
    "\n",
    "\n",
    "\tactual_mean = y['air_yards'].mean()\n",
    "\tmodel_mean = (np.arange(len(probs)) - 20) @ probs\n",
    "\tprint(f\"Actual mean: {actual_mean:.2f}, Model mean: {model_mean:.2f}\")\n",
    "\t\n",
    "\treturn probs\n",
    "\n",
    "yard = 30\n",
    "plt.plot(range(-20 ,99 ),sample_model_yardline(yard))\n",
    "plt.xlim(-10,yard+10)"
   ]
  },
  {
   "cell_type": "code",
   "execution_count": null,
   "id": "2fd5abde",
   "metadata": {},
   "outputs": [],
   "source": []
  }
 ],
 "metadata": {
  "kernelspec": {
   "display_name": "nfl_sim",
   "language": "python",
   "name": "python3"
  },
  "language_info": {
   "codemirror_mode": {
    "name": "ipython",
    "version": 3
   },
   "file_extension": ".py",
   "mimetype": "text/x-python",
   "name": "python",
   "nbconvert_exporter": "python",
   "pygments_lexer": "ipython3",
   "version": "3.12.2"
  }
 },
 "nbformat": 4,
 "nbformat_minor": 5
}
