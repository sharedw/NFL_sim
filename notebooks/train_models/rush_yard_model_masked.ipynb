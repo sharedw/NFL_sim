{
 "cells": [
  {
   "cell_type": "code",
   "execution_count": 1,
   "id": "337cf783",
   "metadata": {},
   "outputs": [],
   "source": [
    "import duckdb\n",
    "import pandas as pd\n",
    "import numpy as np\n",
    "import torch.optim as optim\n",
    "import torch.nn.functional as F\n",
    "import matplotlib.pyplot as plt\n",
    "from utils.quack import Quack\n",
    "from sim_utils.modeling import update_config"
   ]
  },
  {
   "cell_type": "code",
   "execution_count": 2,
   "id": "69e5d6cf",
   "metadata": {},
   "outputs": [],
   "source": [
    "def fetch_rushes():\n",
    "\tpass"
   ]
  },
  {
   "cell_type": "code",
   "execution_count": 3,
   "id": "09b60be2",
   "metadata": {},
   "outputs": [],
   "source": [
    "rusher_stat_cols =[\n",
    " 'carries_roll',\n",
    " 'rushing_yards_roll',\n",
    " #'rushing_tds_roll',\n",
    " #'rushing_first_downs_roll',\n",
    " #'receiving_yards_roll',\n",
    " #'receiving_tds_roll',\n",
    " #'fantasy_points_ppr_roll',\n",
    " 'yards_per_carry_roll']\n",
    "\n",
    "team_stat_cols = [\n",
    " #'completions_team_roll',\n",
    " #'attempts_team_roll',\n",
    " 'carries_team_roll',\n",
    " #'passing_yards_team_roll',\n",
    " 'rushing_yards_team_roll',\n",
    " 'pass_pct_team_roll',\n",
    " 'yards_per_carry_team_roll',\n",
    "]\n",
    "opp_stat_cols = [\n",
    "#'completions_opp_roll',\n",
    " #'attempts_opp_roll',\n",
    " 'carries_opp_roll',\n",
    " #'passing_yards_opp_roll',\n",
    " 'rushing_yards_opp_roll',\n",
    " 'pass_pct_opp_roll',\n",
    " 'yards_per_carry_opp_roll',\n",
    "]\n",
    "\n",
    "game_context_cols = [\n",
    "\t\"yardline_100\",\n",
    "\t\"down\",\n",
    "\t\"goal_to_go\",\n",
    "\t\"ydstogo\",\n",
    "\t#\"posteam_score\",\n",
    "\t#\"defteam_score\",\n",
    "\t#\"score_differential\",\n",
    "\t#'quarter_seconds_remaining',\n",
    "\t#'half_seconds_remaining',\n",
    "\t#'game_seconds_remaining',\n",
    "\t#\"wind\",\n",
    "\t#\"temp\",\n",
    "\t#'spread_line',\n",
    "\t#'total_line',\n",
    "]\n",
    "\n",
    "x_cols = game_context_cols + ['is_first_down', 'is_second_down', 'is_third_down','is_fourth_down', 'first_down', 'touchdown'] #+ ['run_gap_encoded'] + rusher_stat_cols + team_stat_cols + opp_stat_cols "
   ]
  },
  {
   "cell_type": "code",
   "execution_count": 4,
   "id": "b5e22e87",
   "metadata": {},
   "outputs": [
    {
     "data": {
      "text/plain": [
       "['yardline_100',\n",
       " 'down',\n",
       " 'goal_to_go',\n",
       " 'ydstogo',\n",
       " 'is_first_down',\n",
       " 'is_second_down',\n",
       " 'is_third_down',\n",
       " 'is_fourth_down',\n",
       " 'first_down',\n",
       " 'touchdown']"
      ]
     },
     "execution_count": 4,
     "metadata": {},
     "output_type": "execute_result"
    }
   ],
   "source": [
    "x_cols"
   ]
  },
  {
   "cell_type": "code",
   "execution_count": 5,
   "id": "6c4c7488",
   "metadata": {},
   "outputs": [],
   "source": [
    "rushes = Quack.query(f\"\"\"\n",
    "select pbp.desc,pbp.game_id, pbp.yards_gained,\n",
    "\tcase when pbp.run_gap = 'end' then 2\n",
    "\t\twhen pbp.run_gap = 'tackle' then 1\n",
    "\t\twhen pbp.run_gap = 'guard' then 0  else 1 end as run_gap_encoded,\n",
    "\tcase when pbp.down = 1 then '1' else 0 end as is_first_down,\n",
    "\tcase when pbp.down = 2 then '1' else 0 end as is_second_down,\n",
    "\tcase when pbp.down = 3 then '1' else 0 end as is_third_down,\n",
    "\tcase when pbp.down = 4 then '1' else 0 end as is_fourth_down,\n",
    "                     pbp.first_down, pbp.touchdown,\n",
    "\t{', '.join(('pbp.' + x for x in game_context_cols))},\n",
    "\t{', '.join(('t.' + x for x in team_stat_cols))},\n",
    "\t{', '.join(('o.' + x for x in opp_stat_cols))},\n",
    "\t{', '.join(('r.' + x for x in rusher_stat_cols))},\n",
    "\tfrom pbp join team_feats as t \n",
    "\ton pbp.posteam = t.team\n",
    "\tand pbp.game_id = t.game_id\n",
    "\tjoin opp_feats as o\n",
    "\ton pbp.defteam = o.opponent_team\n",
    "\tand pbp.game_id = o.game_id\n",
    "\tjoin player_weekly_agg as r\n",
    "\ton r.game_id = pbp.game_id\n",
    "\tand pbp.rusher_player_id = r.gsis_id\n",
    "\tand r.team = pbp.posteam\n",
    "\tand pbp.play_type = 'run'\n",
    "\tand pbp.yards_gained is not null\n",
    "\tand pbp.down is not null\n",
    "    and pbp.penalty = 0\n",
    "    and pbp.fumble = 0\n",
    "\"\"\")"
   ]
  },
  {
   "cell_type": "code",
   "execution_count": 6,
   "id": "83145da7",
   "metadata": {},
   "outputs": [],
   "source": [
    "rushes[rusher_stat_cols] = rushes[rusher_stat_cols].fillna(0)\n",
    "rushes['yards_shifted'] = rushes['yards_gained'] + 30"
   ]
  },
  {
   "cell_type": "code",
   "execution_count": 7,
   "id": "7e070d51",
   "metadata": {},
   "outputs": [],
   "source": [
    "import torch\n",
    "import torch.nn as nn\n",
    "\n",
    "class CornHead(nn.Module):\n",
    "\tdef __init__(self, in_features, num_classes):\n",
    "\t\tsuper().__init__()\n",
    "\t\tself.fc = nn.Linear(in_features, num_classes - 1)\n",
    "\n",
    "\tdef forward(self, x):\n",
    "\t\t# logits shape: (batch_size, num_classes - 1)\n",
    "\t\treturn self.fc(x)\n",
    "\n",
    "class TransformerBlock(nn.Module):\n",
    "\tdef __init__(self, n_hidden, num_heads=2, dropout=0.1):\n",
    "\t\tsuper().__init__()\n",
    "\t\tself.attn = nn.MultiheadAttention(embed_dim=n_hidden, num_heads=num_heads, batch_first=True)\n",
    "\t\tself.attn_norm = nn.LayerNorm(n_hidden)\n",
    "\n",
    "\t\tself.ff = nn.Sequential(\n",
    "\t\t\tnn.Linear(n_hidden, n_hidden * 2),\n",
    "\t\t\tnn.ReLU(),\n",
    "\t\t\tnn.Linear(n_hidden * 2, n_hidden),\n",
    "\t\t\tnn.Dropout(dropout)\n",
    "\t\t)\n",
    "\t\tself.ff_norm = nn.LayerNorm(n_hidden)\n",
    "\n",
    "\tdef forward(self, x):\n",
    "\t\t# Self-attention + residual\n",
    "\t\tattn_out, _ = self.attn(x, x, x)\n",
    "\t\tx = self.attn_norm(x + attn_out)\n",
    "\n",
    "\t\t# Feedforward + residual\n",
    "\t\tff_out = self.ff(x)\n",
    "\t\tx = self.ff_norm(x + ff_out)\n",
    "\n",
    "\t\treturn x\n",
    "\n",
    "\n",
    "class masked_model(nn.Module):\n",
    "\tdef __init__(self, n_in=11, n_out=109, n_hidden=50, dropout_prob=0.1, num_layers=2):\n",
    "\t\tsuper().__init__()\n",
    "\t\tself.n_out = n_out\n",
    "\t\tself.n_in = n_in\n",
    "\t\tself.n_hidden = n_hidden\n",
    "\t\t# Embed each feature\n",
    "\t\tself.feature_embed = nn.Linear(1, n_hidden)\n",
    "\t\t# Stack of transformer blocks\n",
    "\t\tself.blocks = nn.ModuleList([\n",
    "\t\t\tTransformerBlock(n_hidden, num_heads=8, dropout=dropout_prob)\n",
    "\t\t\tfor _ in range(num_layers)\n",
    "\t\t])\n",
    "\t\t# MLP after flattening\n",
    "\t\tself.main_layers = nn.Sequential(\n",
    "\t\t\tnn.Linear(n_in * n_hidden, n_hidden), nn.ReLU(),\n",
    "\t\t\tnn.Linear(n_hidden, n_hidden), nn.ReLU(),\n",
    "\t\t\tnn.Dropout(p=dropout_prob),\n",
    "\t\t\tnn.Linear(n_hidden, n_hidden), nn.ReLU(),\n",
    "\t\t)\n",
    "\t\tself.CornHead = CornHead(n_hidden, n_out)\n",
    "\n",
    "\tdef forward(self, x):\n",
    "\t\tx = x.unsqueeze(-1) \n",
    "\t\tx = self.feature_embed(x)                # [batch, n_in, n_hidden]\n",
    "\t\t# Pass through stacked transformer blocks\n",
    "\t\tfor block in self.blocks:\n",
    "\t\t\tx = block(x)\n",
    "\t\t# Flatten tokens\n",
    "\t\tx = x.reshape(x.size(0), -1)             # [batch, n_in * n_hidden]\n",
    "\t\t# MLP\n",
    "\t\tx = self.main_layers(x)\n",
    "\n",
    "\t\treturn self.CornHead(x)\n"
   ]
  },
  {
   "cell_type": "code",
   "execution_count": 8,
   "id": "be092093",
   "metadata": {},
   "outputs": [],
   "source": [
    "class CornLoss(nn.Module):\n",
    "    def __init__(self, num_classes):\n",
    "        super().__init__()\n",
    "        self.num_classes = num_classes\n",
    "\n",
    "    def forward(self, logits, y):\n",
    "        \"\"\"\n",
    "        logits: (batch_size, num_classes-1) raw outputs\n",
    "        y: (batch_size,) true labels in [0, num_classes-1]\n",
    "        \"\"\"\n",
    "        batch_size = y.size(0)\n",
    "        # create binary targets for each threshold\n",
    "        y_expanded = y.unsqueeze(1).expand(-1, self.num_classes - 1)  \n",
    "        thresholds = torch.arange(self.num_classes - 1, device=y.device).unsqueeze(0)\n",
    "        target = (y_expanded > thresholds).float()\n",
    "\n",
    "        # binary cross entropy per threshold\n",
    "        loss = F.binary_cross_entropy_with_logits(logits, target, reduction='none')\n",
    "        return loss.mean()"
   ]
  },
  {
   "cell_type": "code",
   "execution_count": 9,
   "id": "c1f6685e",
   "metadata": {},
   "outputs": [
    {
     "data": {
      "text/plain": [
       "np.float64(0.0)"
      ]
     },
     "execution_count": 9,
     "metadata": {},
     "output_type": "execute_result"
    }
   ],
   "source": [
    "(rushes['yardline_100'] - rushes['yards_gained'] ).min()\n",
    "#(rushes['yardline_100'] - rushes['yards_gained'] ).max()"
   ]
  },
  {
   "cell_type": "code",
   "execution_count": 10,
   "id": "fcb39704",
   "metadata": {},
   "outputs": [],
   "source": [
    "X = rushes[x_cols].copy()\n",
    "y = (rushes['yardline_100'] - rushes['yards_gained'] )\n",
    "obs = len(X)\n",
    "num_feats = len(X)"
   ]
  },
  {
   "cell_type": "code",
   "execution_count": 11,
   "id": "35204ecb",
   "metadata": {},
   "outputs": [
    {
     "name": "stdout",
     "output_type": "stream",
     "text": [
      "torch.Size([5, 10])\n"
     ]
    }
   ],
   "source": [
    "X_tensor = torch.tensor(X.values, dtype=torch.float32)\n",
    "\n",
    "def get_sample(num_samples):\n",
    "\tidx = np.random.randint(0,len(X_tensor), num_samples)\n",
    "\treturn X_tensor[idx]\n",
    "\n",
    "get_sample(2)\n",
    "\n",
    "model = masked_model(\n",
    "\tn_in=len(x_cols),\n",
    "\tn_out=101,\n",
    "\tn_hidden=256,\n",
    "\tdropout_prob=0.\n",
    ")\n",
    "\t\t\t# numerical value\n",
    "c = get_sample(5)\n",
    "print(c.shape)\n",
    "pred = model(c)"
   ]
  },
  {
   "cell_type": "code",
   "execution_count": 16,
   "id": "42e25f7d",
   "metadata": {},
   "outputs": [],
   "source": [
    "\n",
    "def corn_probs(logits):\n",
    "    \"\"\"\n",
    "    logits: (batch_size, num_classes-1)\n",
    "    returns: (batch_size, num_classes) probability for each class\n",
    "    \"\"\"\n",
    "    # sigmoid gives P(y > k) for each threshold\n",
    "    p = torch.sigmoid(logits)  # shape: (batch, num_classes-1)\n",
    "\n",
    "    # prepend 1 and append 0 to compute class probabilities\n",
    "    # P(y = 0) = 1 - P(y > 0)\n",
    "    # P(y = k) = P(y > k-1) - P(y > k)\n",
    "    # P(y = last) = P(y > last-1)\n",
    "    p = torch.cat([torch.ones(p.size(0), 1, device=p.device), p, torch.zeros(p.size(0), 1, device=p.device)], dim=1)\n",
    "    probs = p[:, :-1] - p[:, 1:]\n",
    "    return probs  # shape: (batch, num_classes)"
   ]
  },
  {
   "cell_type": "code",
   "execution_count": 30,
   "id": "351043e3",
   "metadata": {},
   "outputs": [],
   "source": [
    "def train_model(X, y, n_in, n_out,n_hidden=64, epochs=20, batch_size=512):\n",
    "\n",
    "\tdevice = torch.device('cuda' if torch.cuda.is_available() else 'cpu')\n",
    "\ty = torch.tensor(y,dtype=torch.long).to(device)\n",
    "\t# Define the model, loss function, and optimizer\n",
    "\n",
    "\tX_tensor = torch.tensor(X.values, dtype=torch.float32).to(device)\n",
    "\tmodel = model = masked_model(\n",
    "\tn_in=n_in,\n",
    "\tn_out=n_out,\n",
    "\tn_hidden=n_hidden,\n",
    "\tdropout_prob=0.\n",
    "\t).to(device)\n",
    "\tcriterion = CornLoss(n_out)  # Suitable for classification\n",
    "\t#criterion_mse = nn.MSELoss()\n",
    "\toptimizer = optim.Adam(model.parameters(), lr=0.001, weight_decay=0.1)\n",
    "\n",
    "\tnum_samples = X_tensor.size(0)\n",
    "\tindices = torch.randperm(num_samples, device=device)\n",
    "\n",
    "\t# Calculate train-test split sizes\n",
    "\tsplit = num_samples // 5  # 20% test data\n",
    "\ttest_indices = indices[:split]\n",
    "\ttrain_indices = indices[split:]\n",
    "\n",
    "\t# Create train-test splits using the shuffled indices\n",
    "\n",
    "\tXtr = X_tensor[train_indices].to(device)\n",
    "\tXtst = X_tensor[test_indices].to(device)\n",
    "\ttrain_y = y[train_indices].to(device)\n",
    "\ttest_y =  y[test_indices].to(device)\n",
    "\n",
    "\t# Training loop\n",
    "\tepochs = epochs\n",
    "\tbatch_size = 64\n",
    "\n",
    "\tfor epoch in range(epochs):\n",
    "\t\tmodel.train()\n",
    "\t\tpermutation = torch.randperm(Xtr.size(0))\n",
    "\t\tepoch_loss = 0\n",
    "\n",
    "\t\tfor i in range(0, Xtr.size(0), batch_size):\n",
    "\t\t\tindices = permutation[i:i + batch_size]\n",
    "\t\t\tbatch_x, batch_y = Xtr[indices], train_y[indices]\n",
    "\n",
    "\t\t\toptimizer.zero_grad()\n",
    "\t\t\toutputs = model(batch_x)  # Shape: [batch_size, n_out]\n",
    "\n",
    "\t\t\tloss = criterion(outputs, batch_y)\n",
    "\t\t\tloss.backward()\n",
    "\t\t\toptimizer.step()\n",
    "\n",
    "\t\t\tepoch_loss += loss.item()\n",
    "\n",
    "\t\tprint(f\"Epoch {epoch+1}/{epochs}, Loss: {epoch_loss/len(Xtr):.4f}\")\n",
    "\n",
    "\t\t# Evaluation on the test set\n",
    "\tmodel.eval()\n",
    "\twith torch.no_grad():\n",
    "\t\ttest_preds = model(Xtst)\n",
    "\t\ttest_loss = criterion(test_preds, test_y).item()\n",
    "\t\t\n",
    "\t\tpred_classes = corn_predict(test_preds)\n",
    "\t\taccuracy = (pred_classes == test_y).float().mean().item()\n",
    "\n",
    "\t\tprobs = corn_probs(test_preds)\n",
    "\t\tsampled = torch.multinomial(probs[0], 100, replacement=True)\n",
    "\t\tsampled = torch.clamp(sampled, max=76)\n",
    "\t\tavg = sampled.double().mean().item()\n",
    "\n",
    "\tprint(f\"Test Loss: {test_loss:.4f}, Test Accuracy: {accuracy:.4f}\")\n",
    "\tplt.hist(probs[0].cpu(), alpha=0.5, color='r')\n",
    "\tplt.hist(test_y.cpu(), alpha=0.5, color='b')\n",
    "\treturn model"
   ]
  },
  {
   "cell_type": "code",
   "execution_count": 32,
   "id": "a9d2036f",
   "metadata": {},
   "outputs": [
    {
     "name": "stdout",
     "output_type": "stream",
     "text": [
      "Epoch 1/5, Loss: 0.0067\n",
      "Epoch 2/5, Loss: 0.0066\n",
      "Epoch 3/5, Loss: 0.0066\n",
      "Epoch 4/5, Loss: 0.0066\n",
      "Epoch 5/5, Loss: 0.0066\n"
     ]
    },
    {
     "ename": "RuntimeError",
     "evalue": "CUDA error: device-side assert triggered\nCUDA kernel errors might be asynchronously reported at some other API call, so the stacktrace below might be incorrect.\nFor debugging consider passing CUDA_LAUNCH_BLOCKING=1\nCompile with `TORCH_USE_CUDA_DSA` to enable device-side assertions.\n",
     "output_type": "error",
     "traceback": [
      "\u001b[1;31m---------------------------------------------------------------------------\u001b[0m",
      "\u001b[1;31mRuntimeError\u001b[0m                              Traceback (most recent call last)",
      "Cell \u001b[1;32mIn[32], line 13\u001b[0m\n\u001b[0;32m      9\u001b[0m     decisions \u001b[38;5;241m=\u001b[39m (probs \u001b[38;5;241m>\u001b[39m \u001b[38;5;241m0.5\u001b[39m)\u001b[38;5;241m.\u001b[39mint()           \u001b[38;5;66;03m# 1 if y > k\u001b[39;00m\n\u001b[0;32m     10\u001b[0m     \u001b[38;5;28;01mreturn\u001b[39;00m decisions\u001b[38;5;241m.\u001b[39msum(dim\u001b[38;5;241m=\u001b[39m\u001b[38;5;241m1\u001b[39m)               \u001b[38;5;66;03m# count thresholds passed\u001b[39;00m\n\u001b[1;32m---> 13\u001b[0m rush_yards_model \u001b[38;5;241m=\u001b[39m \u001b[43mtrain_model\u001b[49m\u001b[43m(\u001b[49m\u001b[43mX\u001b[49m\u001b[43m,\u001b[49m\u001b[43my\u001b[49m\u001b[43m,\u001b[49m\u001b[43m \u001b[49m\u001b[38;5;28;43mlen\u001b[39;49m\u001b[43m(\u001b[49m\u001b[43mx_cols\u001b[49m\u001b[43m)\u001b[49m\u001b[43m,\u001b[49m\u001b[43m \u001b[49m\u001b[38;5;241;43m101\u001b[39;49m\u001b[43m,\u001b[49m\u001b[43m \u001b[49m\u001b[43mn_hidden\u001b[49m\u001b[43m \u001b[49m\u001b[38;5;241;43m=\u001b[39;49m\u001b[43m \u001b[49m\u001b[38;5;241;43m256\u001b[39;49m\u001b[43m,\u001b[49m\u001b[43m \u001b[49m\u001b[43mepochs\u001b[49m\u001b[38;5;241;43m=\u001b[39;49m\u001b[38;5;241;43m5\u001b[39;49m\u001b[43m)\u001b[49m\n",
      "Cell \u001b[1;32mIn[30], line 67\u001b[0m, in \u001b[0;36mtrain_model\u001b[1;34m(X, y, n_in, n_out, n_hidden, epochs, batch_size)\u001b[0m\n\u001b[0;32m     64\u001b[0m accuracy \u001b[38;5;241m=\u001b[39m (pred_classes \u001b[38;5;241m==\u001b[39m test_y)\u001b[38;5;241m.\u001b[39mfloat()\u001b[38;5;241m.\u001b[39mmean()\u001b[38;5;241m.\u001b[39mitem()\n\u001b[0;32m     66\u001b[0m probs \u001b[38;5;241m=\u001b[39m corn_probs(test_preds)\n\u001b[1;32m---> 67\u001b[0m sampled \u001b[38;5;241m=\u001b[39m \u001b[43mtorch\u001b[49m\u001b[38;5;241;43m.\u001b[39;49m\u001b[43mmultinomial\u001b[49m\u001b[43m(\u001b[49m\u001b[43mprobs\u001b[49m\u001b[43m[\u001b[49m\u001b[38;5;241;43m0\u001b[39;49m\u001b[43m]\u001b[49m\u001b[43m,\u001b[49m\u001b[43m \u001b[49m\u001b[38;5;241;43m100\u001b[39;49m\u001b[43m,\u001b[49m\u001b[43m \u001b[49m\u001b[43mreplacement\u001b[49m\u001b[38;5;241;43m=\u001b[39;49m\u001b[38;5;28;43;01mTrue\u001b[39;49;00m\u001b[43m)\u001b[49m\n\u001b[0;32m     68\u001b[0m sampled \u001b[38;5;241m=\u001b[39m torch\u001b[38;5;241m.\u001b[39mclamp(sampled, \u001b[38;5;28mmax\u001b[39m\u001b[38;5;241m=\u001b[39m\u001b[38;5;241m76\u001b[39m)\n\u001b[0;32m     69\u001b[0m avg \u001b[38;5;241m=\u001b[39m sampled\u001b[38;5;241m.\u001b[39mdouble()\u001b[38;5;241m.\u001b[39mmean()\u001b[38;5;241m.\u001b[39mitem()\n",
      "\u001b[1;31mRuntimeError\u001b[0m: CUDA error: device-side assert triggered\nCUDA kernel errors might be asynchronously reported at some other API call, so the stacktrace below might be incorrect.\nFor debugging consider passing CUDA_LAUNCH_BLOCKING=1\nCompile with `TORCH_USE_CUDA_DSA` to enable device-side assertions.\n"
     ]
    }
   ],
   "source": [
    "import torch\n",
    "\n",
    "def corn_predict(logits):\n",
    "    \"\"\"\n",
    "    logits: (batch_size, num_classes-1)\n",
    "    returns: predicted class indices (batch_size,)\n",
    "    \"\"\"\n",
    "    probs = torch.sigmoid(logits)             # P(y > k) for each threshold\n",
    "    decisions = (probs > 0.5).int()           # 1 if y > k\n",
    "    return decisions.sum(dim=1)               # count thresholds passed\n",
    "\n",
    "\n",
    "rush_yards_model = train_model(X,y, len(x_cols), 101, n_hidden = 256, epochs=5)\n"
   ]
  },
  {
   "cell_type": "code",
   "execution_count": 18,
   "id": "9d9ee6d6",
   "metadata": {},
   "outputs": [],
   "source": [
    "\n",
    "rush_yards_model = rush_yards_model.to('cpu')\n",
    "model_path = \"models/run_yards_gained.pt\"\n",
    "torch.save(rush_yards_model.state_dict(), model_path)\n",
    "\n",
    "\n",
    "feature_config = {\n",
    "\t'rush_yard_cols':x_cols\n",
    "}\n",
    "feature_config\n",
    "\n",
    "update_config(feature_config)"
   ]
  },
  {
   "cell_type": "code",
   "execution_count": 26,
   "id": "aa208c18",
   "metadata": {},
   "outputs": [
    {
     "name": "stdout",
     "output_type": "stream",
     "text": [
      "Actual mean: 11.08, Model mean: 13.49\n",
      "number of datapoints: 678\n"
     ]
    },
    {
     "data": {
      "text/plain": [
       "(-2.0, 25.0)"
      ]
     },
     "execution_count": 26,
     "metadata": {},
     "output_type": "execute_result"
    },
    {
     "data": {
      "image/png": "[encoded data removed]",
      "text/plain": [
       "<Figure size 640x480 with 1 Axes>"
      ]
     },
     "metadata": {},
     "output_type": "display_data"
    }
   ],
   "source": [
    "def sample_model_yardline(yard, down):\n",
    "\tinp = rushes.loc[(rushes.down == down) & (rushes.yardline_100==yard), x_cols].copy()\n",
    "\ty = rushes.loc[(rushes.down == down) & (rushes.yardline_100==yard), ['yards_gained', 'yardline_100']]\n",
    "\ty = (y['yardline_100'] - y['yards_gained'] )\n",
    "\tinp =  torch.tensor(inp.values, dtype=torch.float32)\n",
    "\tout = rush_yards_model(inp)#.mean(0).detach().numpy()\n",
    "\tprobs = corn_probs(out).mean(0).detach().numpy()\n",
    "\tbins = np.arange(0 + 0.5, 100 + 0.5 + 1, 1)\n",
    "\tplt.hist(y, bins=bins, density=True, alpha=0.8)\n",
    "\n",
    "\tactual_mean = y.mean()\n",
    "\tmodel_mean = np.arange(len(probs)) @ probs  # adjust if 0th class = -30\n",
    "\tprint(f\"Actual mean: {actual_mean:.2f}, Model mean: {model_mean:.2f}\")\n",
    "\tprint(f'number of datapoints: {len(inp)}')\n",
    "\treturn probs\n",
    "\n",
    "yard = 15\n",
    "down = 1\n",
    "\n",
    "plt.scatter(range(0,101),sample_model_yardline(yard, down), color='r', alpha=0.9)\n",
    "plt.xlim(-2,yard + 10)"
   ]
  },
  {
   "cell_type": "code",
   "execution_count": null,
   "id": "c9e5bda3",
   "metadata": {},
   "outputs": [
    {
     "data": {
      "image/png": "[encoded data removed]",
      "text/plain": [
       "<Figure size 640x480 with 1 Axes>"
      ]
     },
     "metadata": {},
     "output_type": "display_data"
    }
   ],
   "source": [
    "\n",
    "data = np.random.randint(1, 10, 100)\n",
    "\n",
    "# bins centered on integers\n",
    "bins = np.arange(data.min() - 0.5, data.max() + 1.5, 1)\n",
    "\n",
    "counts, edges = np.histogram(data, bins=bins)\n",
    "centers = 0.5 * (edges[1:] + edges[:-1])\n",
    "\n",
    "plt.bar(centers, counts, width=1, align='center', edgecolor='k')\n",
    "plt.xticks(range(data.min(), data.max() + 1))\n",
    "plt.show()"
   ]
  },
  {
   "cell_type": "code",
   "execution_count": null,
   "id": "3401687e",
   "metadata": {},
   "outputs": [
    {
     "ename": "NameError",
     "evalue": "name 'inp' is not defined",
     "output_type": "error",
     "traceback": [
      "\u001b[1;31m---------------------------------------------------------------------------\u001b[0m",
      "\u001b[1;31mNameError\u001b[0m                                 Traceback (most recent call last)",
      "Cell \u001b[1;32mIn[78], line 1\u001b[0m\n\u001b[1;32m----> 1\u001b[0m test_inp \u001b[38;5;241m=\u001b[39m torch\u001b[38;5;241m.\u001b[39mtensor(\u001b[43minp\u001b[49m\u001b[38;5;241m.\u001b[39mvalues, dtype\u001b[38;5;241m=\u001b[39mtorch\u001b[38;5;241m.\u001b[39mfloat32)\n",
      "\u001b[1;31mNameError\u001b[0m: name 'inp' is not defined"
     ]
    }
   ],
   "source": [
    "test_inp = torch.tensor(inp.values, dtype=torch.float32)"
   ]
  },
  {
   "cell_type": "code",
   "execution_count": null,
   "id": "cf927a78",
   "metadata": {},
   "outputs": [
    {
     "name": "stdout",
     "output_type": "stream",
     "text": [
      "torch.Size([1, 21])\n",
      "torch.Size([1, 21])\n",
      "torch.Size([1, 21])\n",
      "torch.Size([1, 21])\n"
     ]
    },
    {
     "data": {
      "image/png": "[encoded data removed]",
      "text/plain": [
       "<Figure size 1400x800 with 1 Axes>"
      ]
     },
     "metadata": {},
     "output_type": "display_data"
    }
   ],
   "source": [
    "import matplotlib.cm as cm\n",
    "colormap = cm.gnuplot\n",
    "plt.figure(figsize=(14, 8))\n",
    "num_yardlines = 15\n",
    "for yardline in range(4,8):\n",
    "\n",
    "    color = colormap(yardline / num_yardlines) \n",
    "    down=1\n",
    "    test = rushes.loc[rushes.yardline_100==yardline]\n",
    "    xx = torch.Tensor(test[x_cols].sample(1).values)\n",
    "    print(xx.shape)\n",
    "    with torch.no_grad():\n",
    "        xy = rush_yards_model(xx)\n",
    "        xy[:,30+yardline:] /= 2\n",
    "        xy = (100 * F.softmax(xy,dim=1))[0]\n",
    "        x_range = range(-10,20)\n",
    "    plt.axvline(yardline, color=color, linestyle='-.')\n",
    "    plt.plot(x_range, xy[20:50], label=yardline, color=color)\n",
    "    plt.legend()"
   ]
  },
  {
   "cell_type": "code",
   "execution_count": null,
   "id": "cb031e72",
   "metadata": {},
   "outputs": [],
   "source": []
  }
 ],
 "metadata": {
  "kernelspec": {
   "display_name": "nfl_sim",
   "language": "python",
   "name": "python3"
  },
  "language_info": {
   "codemirror_mode": {
    "name": "ipython",
    "version": 3
   },
   "file_extension": ".py",
   "mimetype": "text/x-python",
   "name": "python",
   "nbconvert_exporter": "python",
   "pygments_lexer": "ipython3",
   "version": "3.12.2"
  }
 },
 "nbformat": 4,
 "nbformat_minor": 5
}
