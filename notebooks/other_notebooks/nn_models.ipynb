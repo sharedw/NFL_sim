{
 "cells": [
  {
   "cell_type": "code",
   "execution_count": 1,
   "metadata": {},
   "outputs": [],
   "source": [
    "import pandas as pd\n",
    "import yaml\n",
    "import numpy as np\n",
    "import torch\n",
    "import torch.nn as nn\n",
    "import torch.nn.functional as F\n",
    "import torch.optim as optim\n",
    "import matplotlib.pyplot as plt\n",
    "import numpy as np\n",
    "import matplotlib.cm as cm\n",
    "from sim_utils.modeling import update_config"
   ]
  },
  {
   "cell_type": "code",
   "execution_count": 2,
   "metadata": {},
   "outputs": [],
   "source": [
    "rusher_stat_cols =[\n",
    " 'carries_roll',\n",
    " 'rushing_yards_roll',\n",
    " #'rushing_tds_roll',\n",
    " #'rushing_first_downs_roll',\n",
    " #'receiving_yards_roll',\n",
    " #'receiving_tds_roll',\n",
    " #'fantasy_points_ppr_roll',\n",
    " 'yards_per_carry_roll']"
   ]
  },
  {
   "cell_type": "code",
   "execution_count": 3,
   "metadata": {},
   "outputs": [],
   "source": [
    "team = pd.read_csv('data/agg/team_stats.csv', index_col=0)\n",
    "opp = pd.read_csv('data/agg/opp_stats.csv', index_col=0)\n",
    "team_stat_cols = [\n",
    " 'completions_team_roll',\n",
    " 'attempts_team_roll',\n",
    " 'carries_team_roll',\n",
    " 'passing_yards_team_roll',\n",
    " 'rushing_yards_team_roll',\n",
    " 'pass_pct_team_roll',\n",
    " 'completions_opp_roll',\n",
    " 'attempts_opp_roll',\n",
    " 'carries_opp_roll',\n",
    " 'passing_yards_opp_roll',\n",
    " 'rushing_yards_opp_roll',\n",
    " 'pass_pct_opp_roll']"
   ]
  },
  {
   "cell_type": "code",
   "execution_count": 32,
   "metadata": {},
   "outputs": [
    {
     "data": {
      "text/html": [
       "<div>\n",
       "<style scoped>\n",
       "    .dataframe tbody tr th:only-of-type {\n",
       "        vertical-align: middle;\n",
       "    }\n",
       "\n",
       "    .dataframe tbody tr th {\n",
       "        vertical-align: top;\n",
       "    }\n",
       "\n",
       "    .dataframe thead th {\n",
       "        text-align: right;\n",
       "    }\n",
       "</style>\n",
       "<table border=\"1\" class=\"dataframe\">\n",
       "  <thead>\n",
       "    <tr style=\"text-align: right;\">\n",
       "      <th></th>\n",
       "      <th>opponent_team</th>\n",
       "      <th>season</th>\n",
       "      <th>week</th>\n",
       "      <th>completions_opp_roll</th>\n",
       "      <th>attempts_opp_roll</th>\n",
       "      <th>carries_opp_roll</th>\n",
       "      <th>passing_yards_opp_roll</th>\n",
       "      <th>rushing_yards_opp_roll</th>\n",
       "      <th>pass_pct_opp_roll</th>\n",
       "      <th>receiving_yards_opp_roll</th>\n",
       "      <th>yards_per_carry_opp_roll</th>\n",
       "    </tr>\n",
       "  </thead>\n",
       "  <tbody>\n",
       "    <tr>\n",
       "      <th>11</th>\n",
       "      <td>KC</td>\n",
       "      <td>2000</td>\n",
       "      <td>1</td>\n",
       "      <td>1.064764</td>\n",
       "      <td>0.957898</td>\n",
       "      <td>1.190031</td>\n",
       "      <td>1.162456</td>\n",
       "      <td>1.049627</td>\n",
       "      <td>0.904024</td>\n",
       "      <td>1.162451</td>\n",
       "      <td>0.885603</td>\n",
       "    </tr>\n",
       "    <tr>\n",
       "      <th>64</th>\n",
       "      <td>KC</td>\n",
       "      <td>2000</td>\n",
       "      <td>2</td>\n",
       "      <td>1.088963</td>\n",
       "      <td>1.017766</td>\n",
       "      <td>1.134248</td>\n",
       "      <td>1.124133</td>\n",
       "      <td>1.058447</td>\n",
       "      <td>0.952702</td>\n",
       "      <td>1.124129</td>\n",
       "      <td>0.936965</td>\n",
       "    </tr>\n",
       "  </tbody>\n",
       "</table>\n",
       "</div>"
      ],
      "text/plain": [
       "   opponent_team  season  week  completions_opp_roll  attempts_opp_roll  \\\n",
       "11            KC    2000     1              1.064764           0.957898   \n",
       "64            KC    2000     2              1.088963           1.017766   \n",
       "\n",
       "    carries_opp_roll  passing_yards_opp_roll  rushing_yards_opp_roll  \\\n",
       "11          1.190031                1.162456                1.049627   \n",
       "64          1.134248                1.124133                1.058447   \n",
       "\n",
       "    pass_pct_opp_roll  receiving_yards_opp_roll  yards_per_carry_opp_roll  \n",
       "11           0.904024                  1.162451                  0.885603  \n",
       "64           0.952702                  1.124129                  0.936965  "
      ]
     },
     "execution_count": 32,
     "metadata": {},
     "output_type": "execute_result"
    }
   ],
   "source": [
    "opp.loc[opp.opponent_team=='KC'].head(2)"
   ]
  },
  {
   "cell_type": "code",
   "execution_count": 14,
   "metadata": {},
   "outputs": [],
   "source": [
    "pbp = pd.read_parquet(\"data/pbp.parquet\")\n",
    "pbp = pbp.merge(team, left_on=['posteam','season','week'], right_on=['team','season','week']).drop('team',axis=1)\n",
    "pbp = pbp.merge(opp, left_on=['defteam','season','week'], right_on=['opponent_team','season','week']).drop('opponent_team',axis=1)\n",
    "\n",
    "rushes = pbp.loc[(pbp.play_type=='run') & (~pbp.yards_gained.isna())].copy(\n",
    "    deep=True\n",
    ")\n"
   ]
  },
  {
   "cell_type": "code",
   "execution_count": 15,
   "metadata": {},
   "outputs": [
    {
     "data": {
      "text/html": [
       "<div>\n",
       "<style scoped>\n",
       "    .dataframe tbody tr th:only-of-type {\n",
       "        vertical-align: middle;\n",
       "    }\n",
       "\n",
       "    .dataframe tbody tr th {\n",
       "        vertical-align: top;\n",
       "    }\n",
       "\n",
       "    .dataframe thead th {\n",
       "        text-align: right;\n",
       "    }\n",
       "</style>\n",
       "<table border=\"1\" class=\"dataframe\">\n",
       "  <thead>\n",
       "    <tr style=\"text-align: right;\">\n",
       "      <th></th>\n",
       "      <th>play_id</th>\n",
       "      <th>game_id</th>\n",
       "      <th>old_game_id</th>\n",
       "      <th>home_team</th>\n",
       "      <th>away_team</th>\n",
       "      <th>season_type</th>\n",
       "      <th>week</th>\n",
       "      <th>posteam</th>\n",
       "      <th>posteam_type</th>\n",
       "      <th>defteam</th>\n",
       "      <th>...</th>\n",
       "      <th>pass_pct_team_roll</th>\n",
       "      <th>receiving_yards_team_roll</th>\n",
       "      <th>completions_opp_roll</th>\n",
       "      <th>attempts_opp_roll</th>\n",
       "      <th>carries_opp_roll</th>\n",
       "      <th>passing_yards_opp_roll</th>\n",
       "      <th>rushing_yards_opp_roll</th>\n",
       "      <th>pass_pct_opp_roll</th>\n",
       "      <th>receiving_yards_opp_roll</th>\n",
       "      <th>yards_per_carry_opp_roll</th>\n",
       "    </tr>\n",
       "  </thead>\n",
       "  <tbody>\n",
       "    <tr>\n",
       "      <th>1041748</th>\n",
       "      <td>40.0</td>\n",
       "      <td>2024_12_KC_CAR</td>\n",
       "      <td>2024112400</td>\n",
       "      <td>CAR</td>\n",
       "      <td>KC</td>\n",
       "      <td>REG</td>\n",
       "      <td>12</td>\n",
       "      <td>KC</td>\n",
       "      <td>away</td>\n",
       "      <td>CAR</td>\n",
       "      <td>...</td>\n",
       "      <td>1.025776</td>\n",
       "      <td>1.075575</td>\n",
       "      <td>1.078592</td>\n",
       "      <td>0.979279</td>\n",
       "      <td>1.312222</td>\n",
       "      <td>1.064520</td>\n",
       "      <td>1.475526</td>\n",
       "      <td>0.869659</td>\n",
       "      <td>1.064516</td>\n",
       "      <td>1.129021</td>\n",
       "    </tr>\n",
       "    <tr>\n",
       "      <th>1041749</th>\n",
       "      <td>63.0</td>\n",
       "      <td>2024_12_KC_CAR</td>\n",
       "      <td>2024112400</td>\n",
       "      <td>CAR</td>\n",
       "      <td>KC</td>\n",
       "      <td>REG</td>\n",
       "      <td>12</td>\n",
       "      <td>KC</td>\n",
       "      <td>away</td>\n",
       "      <td>CAR</td>\n",
       "      <td>...</td>\n",
       "      <td>1.025776</td>\n",
       "      <td>1.075575</td>\n",
       "      <td>1.078592</td>\n",
       "      <td>0.979279</td>\n",
       "      <td>1.312222</td>\n",
       "      <td>1.064520</td>\n",
       "      <td>1.475526</td>\n",
       "      <td>0.869659</td>\n",
       "      <td>1.064516</td>\n",
       "      <td>1.129021</td>\n",
       "    </tr>\n",
       "    <tr>\n",
       "      <th>1041750</th>\n",
       "      <td>85.0</td>\n",
       "      <td>2024_12_KC_CAR</td>\n",
       "      <td>2024112400</td>\n",
       "      <td>CAR</td>\n",
       "      <td>KC</td>\n",
       "      <td>REG</td>\n",
       "      <td>12</td>\n",
       "      <td>KC</td>\n",
       "      <td>away</td>\n",
       "      <td>CAR</td>\n",
       "      <td>...</td>\n",
       "      <td>1.025776</td>\n",
       "      <td>1.075575</td>\n",
       "      <td>1.078592</td>\n",
       "      <td>0.979279</td>\n",
       "      <td>1.312222</td>\n",
       "      <td>1.064520</td>\n",
       "      <td>1.475526</td>\n",
       "      <td>0.869659</td>\n",
       "      <td>1.064516</td>\n",
       "      <td>1.129021</td>\n",
       "    </tr>\n",
       "    <tr>\n",
       "      <th>1041751</th>\n",
       "      <td>107.0</td>\n",
       "      <td>2024_12_KC_CAR</td>\n",
       "      <td>2024112400</td>\n",
       "      <td>CAR</td>\n",
       "      <td>KC</td>\n",
       "      <td>REG</td>\n",
       "      <td>12</td>\n",
       "      <td>KC</td>\n",
       "      <td>away</td>\n",
       "      <td>CAR</td>\n",
       "      <td>...</td>\n",
       "      <td>1.025776</td>\n",
       "      <td>1.075575</td>\n",
       "      <td>1.078592</td>\n",
       "      <td>0.979279</td>\n",
       "      <td>1.312222</td>\n",
       "      <td>1.064520</td>\n",
       "      <td>1.475526</td>\n",
       "      <td>0.869659</td>\n",
       "      <td>1.064516</td>\n",
       "      <td>1.129021</td>\n",
       "    </tr>\n",
       "    <tr>\n",
       "      <th>1041752</th>\n",
       "      <td>133.0</td>\n",
       "      <td>2024_12_KC_CAR</td>\n",
       "      <td>2024112400</td>\n",
       "      <td>CAR</td>\n",
       "      <td>KC</td>\n",
       "      <td>REG</td>\n",
       "      <td>12</td>\n",
       "      <td>KC</td>\n",
       "      <td>away</td>\n",
       "      <td>CAR</td>\n",
       "      <td>...</td>\n",
       "      <td>1.025776</td>\n",
       "      <td>1.075575</td>\n",
       "      <td>1.078592</td>\n",
       "      <td>0.979279</td>\n",
       "      <td>1.312222</td>\n",
       "      <td>1.064520</td>\n",
       "      <td>1.475526</td>\n",
       "      <td>0.869659</td>\n",
       "      <td>1.064516</td>\n",
       "      <td>1.129021</td>\n",
       "    </tr>\n",
       "    <tr>\n",
       "      <th>...</th>\n",
       "      <td>...</td>\n",
       "      <td>...</td>\n",
       "      <td>...</td>\n",
       "      <td>...</td>\n",
       "      <td>...</td>\n",
       "      <td>...</td>\n",
       "      <td>...</td>\n",
       "      <td>...</td>\n",
       "      <td>...</td>\n",
       "      <td>...</td>\n",
       "      <td>...</td>\n",
       "      <td>...</td>\n",
       "      <td>...</td>\n",
       "      <td>...</td>\n",
       "      <td>...</td>\n",
       "      <td>...</td>\n",
       "      <td>...</td>\n",
       "      <td>...</td>\n",
       "      <td>...</td>\n",
       "      <td>...</td>\n",
       "      <td>...</td>\n",
       "    </tr>\n",
       "    <tr>\n",
       "      <th>1041915</th>\n",
       "      <td>4416.0</td>\n",
       "      <td>2024_12_KC_CAR</td>\n",
       "      <td>2024112400</td>\n",
       "      <td>CAR</td>\n",
       "      <td>KC</td>\n",
       "      <td>REG</td>\n",
       "      <td>12</td>\n",
       "      <td>KC</td>\n",
       "      <td>away</td>\n",
       "      <td>CAR</td>\n",
       "      <td>...</td>\n",
       "      <td>1.025776</td>\n",
       "      <td>1.075575</td>\n",
       "      <td>1.078592</td>\n",
       "      <td>0.979279</td>\n",
       "      <td>1.312222</td>\n",
       "      <td>1.064520</td>\n",
       "      <td>1.475526</td>\n",
       "      <td>0.869659</td>\n",
       "      <td>1.064516</td>\n",
       "      <td>1.129021</td>\n",
       "    </tr>\n",
       "    <tr>\n",
       "      <th>1041916</th>\n",
       "      <td>4443.0</td>\n",
       "      <td>2024_12_KC_CAR</td>\n",
       "      <td>2024112400</td>\n",
       "      <td>CAR</td>\n",
       "      <td>KC</td>\n",
       "      <td>REG</td>\n",
       "      <td>12</td>\n",
       "      <td>KC</td>\n",
       "      <td>away</td>\n",
       "      <td>CAR</td>\n",
       "      <td>...</td>\n",
       "      <td>1.025776</td>\n",
       "      <td>1.075575</td>\n",
       "      <td>1.078592</td>\n",
       "      <td>0.979279</td>\n",
       "      <td>1.312222</td>\n",
       "      <td>1.064520</td>\n",
       "      <td>1.475526</td>\n",
       "      <td>0.869659</td>\n",
       "      <td>1.064516</td>\n",
       "      <td>1.129021</td>\n",
       "    </tr>\n",
       "    <tr>\n",
       "      <th>1041917</th>\n",
       "      <td>4482.0</td>\n",
       "      <td>2024_12_KC_CAR</td>\n",
       "      <td>2024112400</td>\n",
       "      <td>CAR</td>\n",
       "      <td>KC</td>\n",
       "      <td>REG</td>\n",
       "      <td>12</td>\n",
       "      <td>KC</td>\n",
       "      <td>away</td>\n",
       "      <td>CAR</td>\n",
       "      <td>...</td>\n",
       "      <td>1.025776</td>\n",
       "      <td>1.075575</td>\n",
       "      <td>1.078592</td>\n",
       "      <td>0.979279</td>\n",
       "      <td>1.312222</td>\n",
       "      <td>1.064520</td>\n",
       "      <td>1.475526</td>\n",
       "      <td>0.869659</td>\n",
       "      <td>1.064516</td>\n",
       "      <td>1.129021</td>\n",
       "    </tr>\n",
       "    <tr>\n",
       "      <th>1041918</th>\n",
       "      <td>4514.0</td>\n",
       "      <td>2024_12_KC_CAR</td>\n",
       "      <td>2024112400</td>\n",
       "      <td>CAR</td>\n",
       "      <td>KC</td>\n",
       "      <td>REG</td>\n",
       "      <td>12</td>\n",
       "      <td>KC</td>\n",
       "      <td>away</td>\n",
       "      <td>CAR</td>\n",
       "      <td>...</td>\n",
       "      <td>1.025776</td>\n",
       "      <td>1.075575</td>\n",
       "      <td>1.078592</td>\n",
       "      <td>0.979279</td>\n",
       "      <td>1.312222</td>\n",
       "      <td>1.064520</td>\n",
       "      <td>1.475526</td>\n",
       "      <td>0.869659</td>\n",
       "      <td>1.064516</td>\n",
       "      <td>1.129021</td>\n",
       "    </tr>\n",
       "    <tr>\n",
       "      <th>1041919</th>\n",
       "      <td>4541.0</td>\n",
       "      <td>2024_12_KC_CAR</td>\n",
       "      <td>2024112400</td>\n",
       "      <td>CAR</td>\n",
       "      <td>KC</td>\n",
       "      <td>REG</td>\n",
       "      <td>12</td>\n",
       "      <td>CAR</td>\n",
       "      <td>home</td>\n",
       "      <td>KC</td>\n",
       "      <td>...</td>\n",
       "      <td>1.020714</td>\n",
       "      <td>0.783121</td>\n",
       "      <td>1.064764</td>\n",
       "      <td>0.992108</td>\n",
       "      <td>0.818146</td>\n",
       "      <td>0.938602</td>\n",
       "      <td>0.682951</td>\n",
       "      <td>1.091619</td>\n",
       "      <td>0.938599</td>\n",
       "      <td>0.838148</td>\n",
       "    </tr>\n",
       "  </tbody>\n",
       "</table>\n",
       "<p>172 rows × 387 columns</p>\n",
       "</div>"
      ],
      "text/plain": [
       "         play_id         game_id old_game_id home_team away_team season_type  \\\n",
       "1041748     40.0  2024_12_KC_CAR  2024112400       CAR        KC         REG   \n",
       "1041749     63.0  2024_12_KC_CAR  2024112400       CAR        KC         REG   \n",
       "1041750     85.0  2024_12_KC_CAR  2024112400       CAR        KC         REG   \n",
       "1041751    107.0  2024_12_KC_CAR  2024112400       CAR        KC         REG   \n",
       "1041752    133.0  2024_12_KC_CAR  2024112400       CAR        KC         REG   \n",
       "...          ...             ...         ...       ...       ...         ...   \n",
       "1041915   4416.0  2024_12_KC_CAR  2024112400       CAR        KC         REG   \n",
       "1041916   4443.0  2024_12_KC_CAR  2024112400       CAR        KC         REG   \n",
       "1041917   4482.0  2024_12_KC_CAR  2024112400       CAR        KC         REG   \n",
       "1041918   4514.0  2024_12_KC_CAR  2024112400       CAR        KC         REG   \n",
       "1041919   4541.0  2024_12_KC_CAR  2024112400       CAR        KC         REG   \n",
       "\n",
       "         week posteam posteam_type defteam  ... pass_pct_team_roll  \\\n",
       "1041748    12      KC         away     CAR  ...           1.025776   \n",
       "1041749    12      KC         away     CAR  ...           1.025776   \n",
       "1041750    12      KC         away     CAR  ...           1.025776   \n",
       "1041751    12      KC         away     CAR  ...           1.025776   \n",
       "1041752    12      KC         away     CAR  ...           1.025776   \n",
       "...       ...     ...          ...     ...  ...                ...   \n",
       "1041915    12      KC         away     CAR  ...           1.025776   \n",
       "1041916    12      KC         away     CAR  ...           1.025776   \n",
       "1041917    12      KC         away     CAR  ...           1.025776   \n",
       "1041918    12      KC         away     CAR  ...           1.025776   \n",
       "1041919    12     CAR         home      KC  ...           1.020714   \n",
       "\n",
       "         receiving_yards_team_roll completions_opp_roll  attempts_opp_roll  \\\n",
       "1041748                   1.075575             1.078592           0.979279   \n",
       "1041749                   1.075575             1.078592           0.979279   \n",
       "1041750                   1.075575             1.078592           0.979279   \n",
       "1041751                   1.075575             1.078592           0.979279   \n",
       "1041752                   1.075575             1.078592           0.979279   \n",
       "...                            ...                  ...                ...   \n",
       "1041915                   1.075575             1.078592           0.979279   \n",
       "1041916                   1.075575             1.078592           0.979279   \n",
       "1041917                   1.075575             1.078592           0.979279   \n",
       "1041918                   1.075575             1.078592           0.979279   \n",
       "1041919                   0.783121             1.064764           0.992108   \n",
       "\n",
       "         carries_opp_roll  passing_yards_opp_roll rushing_yards_opp_roll  \\\n",
       "1041748          1.312222                1.064520               1.475526   \n",
       "1041749          1.312222                1.064520               1.475526   \n",
       "1041750          1.312222                1.064520               1.475526   \n",
       "1041751          1.312222                1.064520               1.475526   \n",
       "1041752          1.312222                1.064520               1.475526   \n",
       "...                   ...                     ...                    ...   \n",
       "1041915          1.312222                1.064520               1.475526   \n",
       "1041916          1.312222                1.064520               1.475526   \n",
       "1041917          1.312222                1.064520               1.475526   \n",
       "1041918          1.312222                1.064520               1.475526   \n",
       "1041919          0.818146                0.938602               0.682951   \n",
       "\n",
       "         pass_pct_opp_roll  receiving_yards_opp_roll  yards_per_carry_opp_roll  \n",
       "1041748           0.869659                  1.064516                  1.129021  \n",
       "1041749           0.869659                  1.064516                  1.129021  \n",
       "1041750           0.869659                  1.064516                  1.129021  \n",
       "1041751           0.869659                  1.064516                  1.129021  \n",
       "1041752           0.869659                  1.064516                  1.129021  \n",
       "...                    ...                       ...                       ...  \n",
       "1041915           0.869659                  1.064516                  1.129021  \n",
       "1041916           0.869659                  1.064516                  1.129021  \n",
       "1041917           0.869659                  1.064516                  1.129021  \n",
       "1041918           0.869659                  1.064516                  1.129021  \n",
       "1041919           1.091619                  0.938599                  0.838148  \n",
       "\n",
       "[172 rows x 387 columns]"
      ]
     },
     "execution_count": 15,
     "metadata": {},
     "output_type": "execute_result"
    }
   ],
   "source": [
    "pbp.loc[(pbp.week==12)\n",
    "        & (pbp.season==2024)\n",
    "        & (pbp.away_team=='KC')]"
   ]
  },
  {
   "cell_type": "code",
   "execution_count": 16,
   "metadata": {},
   "outputs": [
    {
     "data": {
      "text/plain": [
       "158119"
      ]
     },
     "execution_count": 16,
     "metadata": {},
     "output_type": "execute_result"
    }
   ],
   "source": [
    "rusher_stats = pd.read_parquet('data/agg/player_weekly_agg.parquet')[['season', 'team', 'week', 'gsis_id', \n",
    "       'position', 'player_display_name', 'dense_depth',\n",
    " 'carries_roll',\n",
    " 'rushing_yards_roll',\n",
    " 'rushing_tds_roll',\n",
    " 'rushing_first_downs_roll',\n",
    " 'receptions_roll',\n",
    " 'targets_roll',\n",
    " 'receiving_yards_roll',\n",
    " 'receiving_tds_roll',\n",
    " 'fantasy_points_roll',\n",
    " 'fantasy_points_ppr_roll',\n",
    " 'yards_per_carry_roll']]\n",
    "rushes = rushes.merge(\n",
    "    rusher_stats,\n",
    "    left_on=[\"posteam\", \"season\", \"week\", \"rusher_player_id\"],\n",
    "    right_on=[\"team\", \"season\", \"week\", 'gsis_id'],\n",
    ")\n",
    "rushes[[ 'carries_roll',\n",
    " 'rushing_yards_roll',\n",
    " 'fantasy_points_ppr_roll', 'yards_per_carry_roll', 'rushing_tds_roll','rushing_first_downs_roll']] = rushes[[ 'carries_roll',\n",
    " 'rushing_yards_roll',\n",
    " 'fantasy_points_ppr_roll',\n",
    " 'yards_per_carry_roll','rushing_tds_roll','rushing_first_downs_roll']].fillna(0)\n",
    "\n",
    "rushes = rushes.loc[~rushes.down.isna()].copy(deep=True)\n",
    "len(rushes)"
   ]
  },
  {
   "cell_type": "code",
   "execution_count": 17,
   "metadata": {},
   "outputs": [],
   "source": [
    "game_context_cols = [\n",
    "    \"yardline_100\",\n",
    "    \"down\",\n",
    "    \"goal_to_go\",\n",
    "    \"ydstogo\",\n",
    "    \"posteam_score\",\n",
    "    \"defteam_score\",\n",
    "    \"score_differential\",\n",
    "    #'quarter_seconds_remaining',\n",
    "    #'half_seconds_remaining',\n",
    "    'game_seconds_remaining',\n",
    "    \"wind\",\n",
    "    \"temp\",\n",
    "    'spread_line',\n",
    "    'total_line'\n",
    "]\n",
    "team_rush_cols = [\n",
    " 'rushing_yards_team_roll',\n",
    " 'rushing_yards_opp_roll']"
   ]
  },
  {
   "cell_type": "code",
   "execution_count": 18,
   "metadata": {},
   "outputs": [
    {
     "data": {
      "text/plain": [
       "['yardline_100',\n",
       " 'down',\n",
       " 'goal_to_go',\n",
       " 'ydstogo',\n",
       " 'posteam_score',\n",
       " 'defteam_score',\n",
       " 'score_differential',\n",
       " 'game_seconds_remaining',\n",
       " 'wind',\n",
       " 'temp',\n",
       " 'spread_line',\n",
       " 'total_line',\n",
       " 'carries_roll',\n",
       " 'rushing_yards_roll',\n",
       " 'yards_per_carry_roll',\n",
       " 'rushing_yards_team_roll',\n",
       " 'rushing_yards_opp_roll']"
      ]
     },
     "execution_count": 18,
     "metadata": {},
     "output_type": "execute_result"
    }
   ],
   "source": [
    "rush_yards_cols = game_context_cols + rusher_stat_cols + team_rush_cols\n",
    "rush_yards_cols"
   ]
  },
  {
   "cell_type": "code",
   "execution_count": 19,
   "metadata": {},
   "outputs": [],
   "source": [
    "rushes['yards_shifted'] = rushes['yards_gained'] + 30"
   ]
  },
  {
   "cell_type": "code",
   "execution_count": 20,
   "metadata": {},
   "outputs": [
    {
     "data": {
      "text/plain": [
       "yardline_100                   0\n",
       "down                           0\n",
       "goal_to_go                     0\n",
       "ydstogo                        0\n",
       "posteam_score                  0\n",
       "defteam_score                  0\n",
       "score_differential             0\n",
       "game_seconds_remaining         0\n",
       "wind                       52686\n",
       "temp                       52686\n",
       "spread_line                    0\n",
       "total_line                     0\n",
       "carries_roll                   0\n",
       "rushing_yards_roll             0\n",
       "yards_per_carry_roll           0\n",
       "rushing_yards_team_roll        0\n",
       "rushing_yards_opp_roll         0\n",
       "dtype: int64"
      ]
     },
     "execution_count": 20,
     "metadata": {},
     "output_type": "execute_result"
    }
   ],
   "source": [
    "rushes[rush_yards_cols].isna().sum()"
   ]
  },
  {
   "cell_type": "code",
   "execution_count": 21,
   "metadata": {},
   "outputs": [],
   "source": [
    "import torch\n",
    "import torch.nn as nn\n",
    "\n",
    "class masked_model(nn.Module):\n",
    "    def __init__(self, n_in=11, n_out=109, n_hidden=50, dropout_prob=0.):\n",
    "        super(masked_model, self).__init__()\n",
    "        self.n_out=n_out\n",
    "        self.main_layers = nn.Sequential(\n",
    "        nn.Linear(n_in, n_hidden),nn.ReLU(),\n",
    "        nn.Linear(n_hidden, n_hidden),nn.ReLU(),\n",
    "        nn.Dropout(p=dropout_prob),\n",
    "        nn.Linear(n_hidden, n_hidden),nn.ReLU(),\n",
    "        )\n",
    "        self.add_yardline = nn.Linear(n_hidden + 1, n_out)\n",
    "    def forward(self, x):\n",
    "        # Extract the feature to pass to the final layer (e.g., the first feature)\n",
    "        feature_to_pass = x[:, 0].unsqueeze(1)  # Assuming you want the first feature, shape [batch_size, 1]\n",
    "\n",
    "        x = self.main_layers(x)\n",
    "        x = torch.cat((x, feature_to_pass), dim=1) \n",
    "        x = self.add_yardline(x)\n",
    "\n",
    "\n",
    "\n",
    "        end_zone = feature_to_pass[:,0].clone().detach().view(-1)\n",
    "        accum_mask = torch.nn.functional.one_hot(end_zone.type(torch.LongTensor)+30, self.n_out)\n",
    "        accum_mask =  accum_mask +  torch.sum(accum_mask, dim=1, keepdims=True) - torch.cumsum(accum_mask, dim=1)\n",
    "        accum_mask = accum_mask.type(torch.bool)\n",
    "        x = x.masked_fill(~accum_mask, float('-1000'))\n",
    "\n",
    "        return x\n"
   ]
  },
  {
   "cell_type": "code",
   "execution_count": 24,
   "metadata": {},
   "outputs": [],
   "source": [
    "cat_columns = [\n",
    " 'down',\n",
    " 'goal_to_go',\n",
    "\n",
    "]\n",
    "cont_columns = [\n",
    "  'yardline_100',\n",
    " 'ydstogo',\n",
    " 'posteam_score',\n",
    " 'defteam_score',\n",
    " 'score_differential',\n",
    " 'game_seconds_remaining',\n",
    " 'wind',\n",
    " 'temp',\n",
    " 'spread_line',\n",
    " 'total_line',\n",
    " 'carries_roll',\n",
    " 'rushing_yards_roll',\n",
    " 'yards_per_carry_roll',\n",
    " 'rushing_yards_team_roll',\n",
    " 'rushing_yards_opp_roll'\n",
    "]\n"
   ]
  },
  {
   "cell_type": "code",
   "execution_count": 25,
   "metadata": {},
   "outputs": [
    {
     "data": {
      "text/plain": [
       "15"
      ]
     },
     "execution_count": 25,
     "metadata": {},
     "output_type": "execute_result"
    }
   ],
   "source": [
    "len(cont_columns)"
   ]
  },
  {
   "cell_type": "code",
   "execution_count": 26,
   "metadata": {},
   "outputs": [],
   "source": [
    "X = rushes[rush_yards_cols]\n",
    "y = rushes['yards_shifted']\n",
    "obs = len(X)\n",
    "num_feats = len(rush_yards_cols)\n"
   ]
  },
  {
   "cell_type": "code",
   "execution_count": 27,
   "metadata": {},
   "outputs": [
    {
     "data": {
      "text/plain": [
       "(tensor([[3, 0],\n",
       "         [1, 0]], dtype=torch.int32),\n",
       " tensor([[ 6.6000e+01,  1.0000e+00,  3.0000e+00,  7.0000e+00, -4.0000e+00,\n",
       "           2.6660e+03,  7.0000e+00,  5.9000e+01,  1.0000e+00,  4.8000e+01,\n",
       "           1.6763e+01,  6.3891e+01,  3.7658e+00,  7.9207e-01,  9.4000e-01],\n",
       "         [ 7.5000e+01,  1.0000e+01,  2.4000e+01,  1.7000e+01,  7.0000e+00,\n",
       "           3.2500e+02,         nan,         nan, -2.0000e+00,  4.6500e+01,\n",
       "           1.0506e+01,  5.3339e+01,  4.8964e+00,  9.7592e-01,  8.8330e-01]]))"
      ]
     },
     "execution_count": 27,
     "metadata": {},
     "output_type": "execute_result"
    }
   ],
   "source": [
    "X_cat = torch.tensor(X[cat_columns].values, dtype=torch.int32)\n",
    "X_cont = torch.tensor(X[cont_columns].values, dtype=torch.float32)\n",
    "\n",
    "def get_sample(num_samples):\n",
    "    idx = np.random.randint(0,len(X_cat), num_samples)\n",
    "    return (X_cat[idx], X_cont[idx])\n",
    "\n",
    "get_sample(2)"
   ]
  },
  {
   "cell_type": "code",
   "execution_count": 28,
   "metadata": {},
   "outputs": [],
   "source": [
    "c,n = get_sample(550)"
   ]
  },
  {
   "cell_type": "code",
   "execution_count": 31,
   "metadata": {},
   "outputs": [
    {
     "name": "stdout",
     "output_type": "stream",
     "text": [
      "torch.Size([550, 2]) torch.Size([550, 15])\n"
     ]
    },
    {
     "ename": "TypeError",
     "evalue": "masked_model.forward() takes 2 positional arguments but 3 were given",
     "output_type": "error",
     "traceback": [
      "\u001b[1;31m---------------------------------------------------------------------------\u001b[0m",
      "\u001b[1;31mTypeError\u001b[0m                                 Traceback (most recent call last)",
      "Cell \u001b[1;32mIn[31], line 10\u001b[0m\n\u001b[0;32m      8\u001b[0m c,n \u001b[38;5;241m=\u001b[39m get_sample(\u001b[38;5;241m550\u001b[39m)\n\u001b[0;32m      9\u001b[0m \u001b[38;5;28mprint\u001b[39m(c\u001b[38;5;241m.\u001b[39mshape, n\u001b[38;5;241m.\u001b[39mshape)\n\u001b[1;32m---> 10\u001b[0m pred \u001b[38;5;241m=\u001b[39m \u001b[43mmodel\u001b[49m\u001b[43m(\u001b[49m\u001b[43mc\u001b[49m\u001b[38;5;241;43m.\u001b[39;49m\u001b[43mto\u001b[49m\u001b[43m(\u001b[49m\u001b[38;5;124;43m'\u001b[39;49m\u001b[38;5;124;43mcuda\u001b[39;49m\u001b[38;5;124;43m'\u001b[39;49m\u001b[43m)\u001b[49m\u001b[43m,\u001b[49m\u001b[43mn\u001b[49m\u001b[38;5;241;43m.\u001b[39;49m\u001b[43mto\u001b[49m\u001b[43m(\u001b[49m\u001b[38;5;124;43m'\u001b[39;49m\u001b[38;5;124;43mcuda\u001b[39;49m\u001b[38;5;124;43m'\u001b[39;49m\u001b[43m)\u001b[49m\u001b[43m)\u001b[49m\n\u001b[0;32m     11\u001b[0m pred\n",
      "File \u001b[1;32mc:\\Github\\nfl_sim\\.venv\\Lib\\site-packages\\torch\\nn\\modules\\module.py:1736\u001b[0m, in \u001b[0;36mModule._wrapped_call_impl\u001b[1;34m(self, *args, **kwargs)\u001b[0m\n\u001b[0;32m   1734\u001b[0m     \u001b[38;5;28;01mreturn\u001b[39;00m \u001b[38;5;28mself\u001b[39m\u001b[38;5;241m.\u001b[39m_compiled_call_impl(\u001b[38;5;241m*\u001b[39margs, \u001b[38;5;241m*\u001b[39m\u001b[38;5;241m*\u001b[39mkwargs)  \u001b[38;5;66;03m# type: ignore[misc]\u001b[39;00m\n\u001b[0;32m   1735\u001b[0m \u001b[38;5;28;01melse\u001b[39;00m:\n\u001b[1;32m-> 1736\u001b[0m     \u001b[38;5;28;01mreturn\u001b[39;00m \u001b[38;5;28;43mself\u001b[39;49m\u001b[38;5;241;43m.\u001b[39;49m\u001b[43m_call_impl\u001b[49m\u001b[43m(\u001b[49m\u001b[38;5;241;43m*\u001b[39;49m\u001b[43margs\u001b[49m\u001b[43m,\u001b[49m\u001b[43m \u001b[49m\u001b[38;5;241;43m*\u001b[39;49m\u001b[38;5;241;43m*\u001b[39;49m\u001b[43mkwargs\u001b[49m\u001b[43m)\u001b[49m\n",
      "File \u001b[1;32mc:\\Github\\nfl_sim\\.venv\\Lib\\site-packages\\torch\\nn\\modules\\module.py:1747\u001b[0m, in \u001b[0;36mModule._call_impl\u001b[1;34m(self, *args, **kwargs)\u001b[0m\n\u001b[0;32m   1742\u001b[0m \u001b[38;5;66;03m# If we don't have any hooks, we want to skip the rest of the logic in\u001b[39;00m\n\u001b[0;32m   1743\u001b[0m \u001b[38;5;66;03m# this function, and just call forward.\u001b[39;00m\n\u001b[0;32m   1744\u001b[0m \u001b[38;5;28;01mif\u001b[39;00m \u001b[38;5;129;01mnot\u001b[39;00m (\u001b[38;5;28mself\u001b[39m\u001b[38;5;241m.\u001b[39m_backward_hooks \u001b[38;5;129;01mor\u001b[39;00m \u001b[38;5;28mself\u001b[39m\u001b[38;5;241m.\u001b[39m_backward_pre_hooks \u001b[38;5;129;01mor\u001b[39;00m \u001b[38;5;28mself\u001b[39m\u001b[38;5;241m.\u001b[39m_forward_hooks \u001b[38;5;129;01mor\u001b[39;00m \u001b[38;5;28mself\u001b[39m\u001b[38;5;241m.\u001b[39m_forward_pre_hooks\n\u001b[0;32m   1745\u001b[0m         \u001b[38;5;129;01mor\u001b[39;00m _global_backward_pre_hooks \u001b[38;5;129;01mor\u001b[39;00m _global_backward_hooks\n\u001b[0;32m   1746\u001b[0m         \u001b[38;5;129;01mor\u001b[39;00m _global_forward_hooks \u001b[38;5;129;01mor\u001b[39;00m _global_forward_pre_hooks):\n\u001b[1;32m-> 1747\u001b[0m     \u001b[38;5;28;01mreturn\u001b[39;00m \u001b[43mforward_call\u001b[49m\u001b[43m(\u001b[49m\u001b[38;5;241;43m*\u001b[39;49m\u001b[43margs\u001b[49m\u001b[43m,\u001b[49m\u001b[43m \u001b[49m\u001b[38;5;241;43m*\u001b[39;49m\u001b[38;5;241;43m*\u001b[39;49m\u001b[43mkwargs\u001b[49m\u001b[43m)\u001b[49m\n\u001b[0;32m   1749\u001b[0m result \u001b[38;5;241m=\u001b[39m \u001b[38;5;28;01mNone\u001b[39;00m\n\u001b[0;32m   1750\u001b[0m called_always_called_hooks \u001b[38;5;241m=\u001b[39m \u001b[38;5;28mset\u001b[39m()\n",
      "\u001b[1;31mTypeError\u001b[0m: masked_model.forward() takes 2 positional arguments but 3 were given"
     ]
    }
   ],
   "source": [
    "model = masked_model(\n",
    "    n_in=15,\n",
    "    n_out=130,\n",
    "    n_hidden=64,\n",
    "    dropout_prob=0.\n",
    ").to('cuda')\n",
    "            # numerical value\n",
    "c,n = get_sample(550)\n",
    "print(c.shape, n.shape)\n",
    "pred = model(c.to('cuda'),n.to('cuda'))\n",
    "pred"
   ]
  },
  {
   "cell_type": "code",
   "execution_count": null,
   "metadata": {},
   "outputs": [],
   "source": [
    "def train_model(X, y, n_in, n_out,n_hidden=50, epochs=20, batch_size=512):\n",
    "\n",
    "    device = torch.device('cuda' if torch.cuda.is_available() else 'cpu')\n",
    "    y = torch.tensor(y,dtype=torch.long).to(device)\n",
    "    # Define the model, loss function, and optimizer\n",
    "\n",
    "    X_cat = torch.tensor(X[cat_columns].values, dtype=torch.int32).to(device)\n",
    "    X_cont = torch.tensor(X[cont_columns].values, dtype=torch.float32).to(device)\n",
    "    model = FTTransformer(\n",
    "        categories = (4, 2),      # tuple containing the number of unique values within each category\n",
    "        num_continuous = 15,                # number of continuous values\n",
    "        dim = 32,                           # dimension, paper set at 32\n",
    "        dim_out = 130,                        # binary prediction, but could be anything\n",
    "        depth = 6,                          # depth, paper recommended 6\n",
    "        heads = 8,                          # heads, paper recommends 8\n",
    "        attn_dropout = 0.1,                 # post-attention dropout\n",
    "        ff_dropout = 0.1                    # feed forward dropout\n",
    "    ).to(device)\n",
    "    criterion = nn.CrossEntropyLoss()  # Suitable for classification\n",
    "    optimizer = optim.Adam(model.parameters(), lr=0.001, weight_decay=0.1)\n",
    "\n",
    "    num_samples = X_cat.size(0)\n",
    "    indices = torch.randperm(num_samples, device=device)\n",
    "\n",
    "    # Calculate train-test split sizes\n",
    "    split = num_samples // 5  # 20% test data\n",
    "    test_indices = indices[:split]\n",
    "    train_indices = indices[split:]\n",
    "\n",
    "    # Create train-test splits using the shuffled indices\n",
    "\n",
    "    Xtr_cat, Xtr_cont = X_cat[train_indices].to(device), X_cont[train_indices].to(device)\n",
    "    Xtst_cat, Xtst_cont = X_cat[test_indices].to(device), X_cont[test_indices].to(device)\n",
    "    train_y = y[train_indices].to(device)\n",
    "    test_y =  y[test_indices].to(device)\n",
    "\n",
    "    # Training loop\n",
    "    epochs = epochs\n",
    "    batch_size = 64\n",
    "\n",
    "    for epoch in range(epochs):\n",
    "        model.train()\n",
    "        permutation = torch.randperm(Xtr_cat.size(0))\n",
    "        epoch_loss = 0\n",
    "\n",
    "        for i in range(0, Xtr_cat.size(0), batch_size):\n",
    "            indices = permutation[i:i + batch_size]\n",
    "            batch_x_cat,batch_x_cont, batch_y = Xtr_cat[indices], Xtr_cont[indices], train_y[indices]\n",
    "\n",
    "            optimizer.zero_grad()\n",
    "            outputs = model(batch_x_cat, batch_x_cont)  # Shape: [batch_size, 100]\n",
    "            loss = criterion(outputs, batch_y)  # batch_y must be [batch_size] with class indices\n",
    "            loss.backward()\n",
    "            optimizer.step()\n",
    "\n",
    "            epoch_loss += loss.item()\n",
    "\n",
    "        print(f\"Epoch {epoch+1}/{epochs}, Loss: {epoch_loss/len(Xtr_cat):.4f}\")\n",
    "\n",
    "        # Evaluation on the test set\n",
    "    model.eval()\n",
    "    with torch.no_grad():\n",
    "        test_preds = model(Xtst_cat, Xtst_cont)  # Shape: [num_samples, 100]\n",
    "        test_loss = criterion(test_preds, test_y).item() \n",
    "        accuracy = (test_preds.argmax(dim=1) == test_y).float().mean().item()\n",
    "    print(f\"Test Loss: {test_loss:.4f}, Test Accuracy: {accuracy:.4f}\")\n",
    "\n",
    "    test_preds = F.softmax(test_preds,dim=1)[0].to('cpu')\n",
    "    samples = torch.clamp( torch.multinomial(test_preds,100,replacement=True),max=76) - 30\n",
    "    avg = round(samples.double().mean().item(), 3)\n",
    "    plt.hist(test_preds, alpha=0.5, color='r')\n",
    "    plt.hist(test_y.to('cpu'), alpha=0.5, color='b')\n",
    "    return model"
   ]
  },
  {
   "cell_type": "code",
   "execution_count": null,
   "metadata": {},
   "outputs": [
    {
     "name": "stdout",
     "output_type": "stream",
     "text": [
      "Epoch 1/10, Loss: 0.0240\n",
      "Epoch 2/10, Loss: 0.0230\n",
      "Epoch 3/10, Loss: 0.0230\n",
      "Epoch 4/10, Loss: 0.0230\n",
      "Epoch 5/10, Loss: 0.0230\n",
      "Epoch 6/10, Loss: 0.0230\n",
      "Epoch 7/10, Loss: 0.0230\n",
      "Epoch 8/10, Loss: 0.0230\n",
      "Epoch 9/10, Loss: 0.0230\n",
      "Epoch 10/10, Loss: 0.0230\n",
      "Test Loss: 2.9379, Test Accuracy: 0.1279\n"
     ]
    },
    {
     "data": {
      "image/png": "[encoded data removed]",
      "text/plain": [
       "<Figure size 640x480 with 1 Axes>"
      ]
     },
     "metadata": {},
     "output_type": "display_data"
    }
   ],
   "source": [
    "rush_yards_model = train_model(X,y, 17, 130, n_hidden = 1024, epochs=10) # 2.937 loss, 0.1279 acc"
   ]
  },
  {
   "cell_type": "code",
   "execution_count": null,
   "metadata": {},
   "outputs": [],
   "source": [
    "def sample_df(df, num_samples):\n",
    "    device = 'cuda'\n",
    "    test = df.copy()\n",
    "    x_cat = torch.tensor(test.sample(num_samples, replace=True)[cat_columns].astype(int).values, dtype=torch.int32).to(device).reshape(num_samples,-1)\n",
    "    x_cont = torch.tensor(test.sample(num_samples, replace=True)[cont_columns].astype(float).values, dtype=torch.float32).to(device).reshape(num_samples,-1)\n",
    "    out = rush_yards_model(x_cat, x_cont)\n",
    "    return x_cont, out.to('cuda')"
   ]
  },
  {
   "cell_type": "code",
   "execution_count": null,
   "metadata": {},
   "outputs": [],
   "source": [
    "xx, res = sample_df(rushes.loc[rushes.yardline_100 < 10], 10)"
   ]
  },
  {
   "cell_type": "code",
   "execution_count": null,
   "metadata": {},
   "outputs": [
    {
     "data": {
      "text/plain": [
       "tensor([38., 38., 34., 33., 33., 33., 38., 31., 32., 38.], device='cuda:0')"
      ]
     },
     "execution_count": 55,
     "metadata": {},
     "output_type": "execute_result"
    }
   ],
   "source": [
    "ydl_shift"
   ]
  },
  {
   "cell_type": "code",
   "execution_count": null,
   "metadata": {},
   "outputs": [
    {
     "data": {
      "text/plain": [
       "tensor([[-0.6922, -0.6922, -0.6927,  ..., -0.6878, -0.6921, -0.6879],\n",
       "        [-0.6922, -0.6922, -0.6927,  ..., -0.6878, -0.6921, -0.6879],\n",
       "        [-0.6922, -0.6922, -0.6927,  ..., -0.6878, -0.6921, -0.6879],\n",
       "        ...,\n",
       "        [-0.6922, -0.6922, -0.6927,  ..., -0.6878, -0.6921, -0.6879],\n",
       "        [-0.6922, -0.6922, -0.6927,  ..., -0.6878, -0.6921, -0.6879],\n",
       "        [-0.6922, -0.6922, -0.6927,  ..., -0.6878, -0.6921, -0.6879]],\n",
       "       device='cuda:0', grad_fn=<AddmmBackward0>)"
      ]
     },
     "execution_count": 54,
     "metadata": {},
     "output_type": "execute_result"
    }
   ],
   "source": [
    "ydl_shift = xx[:,0] + 30\n",
    "res"
   ]
  },
  {
   "cell_type": "code",
   "execution_count": null,
   "metadata": {},
   "outputs": [
    {
     "data": {
      "text/plain": [
       "<Axes: >"
      ]
     },
     "execution_count": 39,
     "metadata": {},
     "output_type": "execute_result"
    },
    {
     "data": {
      "image/png": "[encoded data removed]",
      "text/plain": [
       "<Figure size 640x480 with 1 Axes>"
      ]
     },
     "metadata": {},
     "output_type": "display_data"
    }
   ],
   "source": [
    "ydl = 10\n",
    "test = rushes.loc[rushes.yardline_100==ydl, rush_yards_cols].copy()\n",
    "testy = rushes.loc[rushes.yardline_100==ydl, 'yards_shifted'].copy()\n",
    "\n",
    "\n",
    "\n",
    "\n",
    "a = sample_df(test, 30).mean(dim=0)\n",
    "a = torch.nn.functional.softmax(a,dim=0)\n",
    "#a[30+ydl] = a[30+ydl+1:].sum()\n",
    "#a[30+ydl+1:] /= 20\n",
    "a.shape\n",
    "a = a.detach().to('cpu')\n",
    "plt.scatter(range(-10,10),a[20:40])\n",
    "plt.hist(a, bins=range(-10,10),density=True, color='r')\n",
    "(testy-30).hist(density=True, alpha=0.5, bins=range(-10,10))"
   ]
  },
  {
   "cell_type": "code",
   "execution_count": null,
   "metadata": {},
   "outputs": [
    {
     "data": {
      "text/plain": [
       "(array([ 0.,  0.,  0.,  0.,  0.,  0.,  0.,  0.,  0.,  0.,  0.,  0.,  0.,\n",
       "         0.,  0.,  0.,  0.,  0.,  0.,  0.,  0.,  0.,  0.,  0.,  0.,  0.,\n",
       "         1.,  2.,  4.,  3.,  9.,  9., 12.,  9.,  9., 17.,  0.,  0.,  0.,\n",
       "         0.,  0.,  0.,  0.,  0.,  0.,  0.,  0.,  0.,  0.]),\n",
       " array([ 0.,  1.,  2.,  3.,  4.,  5.,  6.,  7.,  8.,  9., 10., 11., 12.,\n",
       "        13., 14., 15., 16., 17., 18., 19., 20., 21., 22., 23., 24., 25.,\n",
       "        26., 27., 28., 29., 30., 31., 32., 33., 34., 35., 36., 37., 38.,\n",
       "        39., 40., 41., 42., 43., 44., 45., 46., 47., 48., 49.]),\n",
       " <BarContainer object of 49 artists>)"
      ]
     },
     "execution_count": 521,
     "metadata": {},
     "output_type": "execute_result"
    },
    {
     "data": {
      "image/png": "[encoded data removed]",
      "text/plain": [
       "<Figure size 640x480 with 1 Axes>"
      ]
     },
     "metadata": {},
     "output_type": "display_data"
    }
   ],
   "source": [
    "plt.hist(testy, bins = range(0, 50, 1))"
   ]
  },
  {
   "cell_type": "code",
   "execution_count": null,
   "metadata": {},
   "outputs": [
    {
     "data": {
      "text/plain": [
       "[<matplotlib.lines.Line2D at 0x1ede13248f0>]"
      ]
     },
     "execution_count": 522,
     "metadata": {},
     "output_type": "execute_result"
    },
    {
     "data": {
      "image/png": "[encoded data removed]",
      "text/plain": [
       "<Figure size 640x480 with 1 Axes>"
      ]
     },
     "metadata": {},
     "output_type": "display_data"
    }
   ],
   "source": [
    "plt.plot(out.detach()[0:50])"
   ]
  },
  {
   "cell_type": "code",
   "execution_count": null,
   "metadata": {},
   "outputs": [],
   "source": [
    "rush_yards_model = rush_yards_model.to('cpu')"
   ]
  },
  {
   "cell_type": "code",
   "execution_count": null,
   "metadata": {},
   "outputs": [],
   "source": [
    "model_path = \"models/run_yards_gained.pt\"\n",
    "torch.save(rush_yards_model.state_dict(), model_path)\n",
    "\n",
    "\n",
    "feature_config = {\n",
    "    'rush_yard_cols':rush_yards_cols\n",
    "}\n",
    "feature_config\n",
    "\n",
    "update_config(feature_config)"
   ]
  },
  {
   "cell_type": "code",
   "execution_count": null,
   "metadata": {},
   "outputs": [
    {
     "data": {
      "text/html": [
       "<div>\n",
       "<style scoped>\n",
       "    .dataframe tbody tr th:only-of-type {\n",
       "        vertical-align: middle;\n",
       "    }\n",
       "\n",
       "    .dataframe tbody tr th {\n",
       "        vertical-align: top;\n",
       "    }\n",
       "\n",
       "    .dataframe thead th {\n",
       "        text-align: right;\n",
       "    }\n",
       "</style>\n",
       "<table border=\"1\" class=\"dataframe\">\n",
       "  <thead>\n",
       "    <tr style=\"text-align: right;\">\n",
       "      <th></th>\n",
       "      <th>yardline_100</th>\n",
       "      <th>down</th>\n",
       "      <th>goal_to_go</th>\n",
       "      <th>ydstogo</th>\n",
       "      <th>posteam_score</th>\n",
       "      <th>defteam_score</th>\n",
       "      <th>score_differential</th>\n",
       "      <th>game_seconds_remaining</th>\n",
       "      <th>wind</th>\n",
       "      <th>temp</th>\n",
       "      <th>spread_line</th>\n",
       "      <th>total_line</th>\n",
       "      <th>carries_roll</th>\n",
       "      <th>rushing_yards_roll</th>\n",
       "      <th>yards_per_carry_roll</th>\n",
       "      <th>rushing_yards_team_roll</th>\n",
       "      <th>rushing_yards_opp_roll</th>\n",
       "      <th>yards_shifted</th>\n",
       "    </tr>\n",
       "  </thead>\n",
       "  <tbody>\n",
       "    <tr>\n",
       "      <th>166</th>\n",
       "      <td>5.0</td>\n",
       "      <td>3.0</td>\n",
       "      <td>0</td>\n",
       "      <td>4.0</td>\n",
       "      <td>0.0</td>\n",
       "      <td>0.0</td>\n",
       "      <td>0.0</td>\n",
       "      <td>2969.0</td>\n",
       "      <td>10.0</td>\n",
       "      <td>64.0</td>\n",
       "      <td>5.5</td>\n",
       "      <td>40.5</td>\n",
       "      <td>0.000000</td>\n",
       "      <td>0.000000</td>\n",
       "      <td>0.000000</td>\n",
       "      <td>0.794630</td>\n",
       "      <td>0.794759</td>\n",
       "      <td>32.0</td>\n",
       "    </tr>\n",
       "    <tr>\n",
       "      <th>307</th>\n",
       "      <td>5.0</td>\n",
       "      <td>2.0</td>\n",
       "      <td>0</td>\n",
       "      <td>4.0</td>\n",
       "      <td>17.0</td>\n",
       "      <td>14.0</td>\n",
       "      <td>3.0</td>\n",
       "      <td>190.0</td>\n",
       "      <td>6.0</td>\n",
       "      <td>87.0</td>\n",
       "      <td>-2.5</td>\n",
       "      <td>37.0</td>\n",
       "      <td>0.000000</td>\n",
       "      <td>0.000000</td>\n",
       "      <td>0.000000</td>\n",
       "      <td>1.062483</td>\n",
       "      <td>1.062655</td>\n",
       "      <td>33.0</td>\n",
       "    </tr>\n",
       "    <tr>\n",
       "      <th>416</th>\n",
       "      <td>5.0</td>\n",
       "      <td>2.0</td>\n",
       "      <td>1</td>\n",
       "      <td>5.0</td>\n",
       "      <td>0.0</td>\n",
       "      <td>0.0</td>\n",
       "      <td>0.0</td>\n",
       "      <td>3332.0</td>\n",
       "      <td>10.0</td>\n",
       "      <td>75.0</td>\n",
       "      <td>-6.5</td>\n",
       "      <td>44.5</td>\n",
       "      <td>0.000000</td>\n",
       "      <td>0.000000</td>\n",
       "      <td>0.000000</td>\n",
       "      <td>0.901771</td>\n",
       "      <td>0.901918</td>\n",
       "      <td>34.0</td>\n",
       "    </tr>\n",
       "    <tr>\n",
       "      <th>740</th>\n",
       "      <td>5.0</td>\n",
       "      <td>2.0</td>\n",
       "      <td>1</td>\n",
       "      <td>5.0</td>\n",
       "      <td>0.0</td>\n",
       "      <td>0.0</td>\n",
       "      <td>0.0</td>\n",
       "      <td>2860.0</td>\n",
       "      <td>10.0</td>\n",
       "      <td>78.0</td>\n",
       "      <td>-4.0</td>\n",
       "      <td>45.5</td>\n",
       "      <td>0.000000</td>\n",
       "      <td>0.000000</td>\n",
       "      <td>0.000000</td>\n",
       "      <td>0.973198</td>\n",
       "      <td>0.973357</td>\n",
       "      <td>32.0</td>\n",
       "    </tr>\n",
       "    <tr>\n",
       "      <th>1013</th>\n",
       "      <td>5.0</td>\n",
       "      <td>2.0</td>\n",
       "      <td>0</td>\n",
       "      <td>4.0</td>\n",
       "      <td>7.0</td>\n",
       "      <td>10.0</td>\n",
       "      <td>-3.0</td>\n",
       "      <td>2414.0</td>\n",
       "      <td>5.0</td>\n",
       "      <td>58.0</td>\n",
       "      <td>-7.0</td>\n",
       "      <td>41.0</td>\n",
       "      <td>8.000000</td>\n",
       "      <td>39.000000</td>\n",
       "      <td>4.875000</td>\n",
       "      <td>0.620526</td>\n",
       "      <td>0.250037</td>\n",
       "      <td>33.0</td>\n",
       "    </tr>\n",
       "    <tr>\n",
       "      <th>...</th>\n",
       "      <td>...</td>\n",
       "      <td>...</td>\n",
       "      <td>...</td>\n",
       "      <td>...</td>\n",
       "      <td>...</td>\n",
       "      <td>...</td>\n",
       "      <td>...</td>\n",
       "      <td>...</td>\n",
       "      <td>...</td>\n",
       "      <td>...</td>\n",
       "      <td>...</td>\n",
       "      <td>...</td>\n",
       "      <td>...</td>\n",
       "      <td>...</td>\n",
       "      <td>...</td>\n",
       "      <td>...</td>\n",
       "      <td>...</td>\n",
       "      <td>...</td>\n",
       "    </tr>\n",
       "    <tr>\n",
       "      <th>211900</th>\n",
       "      <td>5.0</td>\n",
       "      <td>2.0</td>\n",
       "      <td>0</td>\n",
       "      <td>4.0</td>\n",
       "      <td>9.0</td>\n",
       "      <td>20.0</td>\n",
       "      <td>-11.0</td>\n",
       "      <td>1426.0</td>\n",
       "      <td>5.0</td>\n",
       "      <td>61.0</td>\n",
       "      <td>11.0</td>\n",
       "      <td>43.0</td>\n",
       "      <td>18.797095</td>\n",
       "      <td>92.528914</td>\n",
       "      <td>4.922511</td>\n",
       "      <td>0.957892</td>\n",
       "      <td>0.691428</td>\n",
       "      <td>33.0</td>\n",
       "    </tr>\n",
       "    <tr>\n",
       "      <th>212118</th>\n",
       "      <td>5.0</td>\n",
       "      <td>1.0</td>\n",
       "      <td>1</td>\n",
       "      <td>5.0</td>\n",
       "      <td>10.0</td>\n",
       "      <td>6.0</td>\n",
       "      <td>4.0</td>\n",
       "      <td>827.0</td>\n",
       "      <td>13.0</td>\n",
       "      <td>36.0</td>\n",
       "      <td>3.5</td>\n",
       "      <td>36.5</td>\n",
       "      <td>13.594059</td>\n",
       "      <td>71.648165</td>\n",
       "      <td>5.270550</td>\n",
       "      <td>0.621163</td>\n",
       "      <td>0.824100</td>\n",
       "      <td>33.0</td>\n",
       "    </tr>\n",
       "    <tr>\n",
       "      <th>212124</th>\n",
       "      <td>5.0</td>\n",
       "      <td>1.0</td>\n",
       "      <td>1</td>\n",
       "      <td>5.0</td>\n",
       "      <td>6.0</td>\n",
       "      <td>18.0</td>\n",
       "      <td>-12.0</td>\n",
       "      <td>509.0</td>\n",
       "      <td>13.0</td>\n",
       "      <td>36.0</td>\n",
       "      <td>-3.5</td>\n",
       "      <td>36.5</td>\n",
       "      <td>2.380535</td>\n",
       "      <td>9.888008</td>\n",
       "      <td>4.153692</td>\n",
       "      <td>1.241051</td>\n",
       "      <td>0.929983</td>\n",
       "      <td>28.0</td>\n",
       "    </tr>\n",
       "    <tr>\n",
       "      <th>212154</th>\n",
       "      <td>5.0</td>\n",
       "      <td>2.0</td>\n",
       "      <td>0</td>\n",
       "      <td>2.0</td>\n",
       "      <td>10.0</td>\n",
       "      <td>0.0</td>\n",
       "      <td>10.0</td>\n",
       "      <td>2235.0</td>\n",
       "      <td>11.0</td>\n",
       "      <td>43.0</td>\n",
       "      <td>-6.5</td>\n",
       "      <td>44.5</td>\n",
       "      <td>17.274053</td>\n",
       "      <td>84.816442</td>\n",
       "      <td>4.910049</td>\n",
       "      <td>1.237225</td>\n",
       "      <td>0.848338</td>\n",
       "      <td>34.0</td>\n",
       "    </tr>\n",
       "    <tr>\n",
       "      <th>212209</th>\n",
       "      <td>5.0</td>\n",
       "      <td>1.0</td>\n",
       "      <td>1</td>\n",
       "      <td>5.0</td>\n",
       "      <td>0.0</td>\n",
       "      <td>23.0</td>\n",
       "      <td>-23.0</td>\n",
       "      <td>1565.0</td>\n",
       "      <td>13.0</td>\n",
       "      <td>50.0</td>\n",
       "      <td>6.5</td>\n",
       "      <td>40.5</td>\n",
       "      <td>14.586745</td>\n",
       "      <td>77.879340</td>\n",
       "      <td>5.339049</td>\n",
       "      <td>1.191307</td>\n",
       "      <td>1.023109</td>\n",
       "      <td>30.0</td>\n",
       "    </tr>\n",
       "  </tbody>\n",
       "</table>\n",
       "<p>1634 rows × 18 columns</p>\n",
       "</div>"
      ],
      "text/plain": [
       "        yardline_100  down  goal_to_go  ydstogo  posteam_score  defteam_score  \\\n",
       "166              5.0   3.0           0      4.0            0.0            0.0   \n",
       "307              5.0   2.0           0      4.0           17.0           14.0   \n",
       "416              5.0   2.0           1      5.0            0.0            0.0   \n",
       "740              5.0   2.0           1      5.0            0.0            0.0   \n",
       "1013             5.0   2.0           0      4.0            7.0           10.0   \n",
       "...              ...   ...         ...      ...            ...            ...   \n",
       "211900           5.0   2.0           0      4.0            9.0           20.0   \n",
       "212118           5.0   1.0           1      5.0           10.0            6.0   \n",
       "212124           5.0   1.0           1      5.0            6.0           18.0   \n",
       "212154           5.0   2.0           0      2.0           10.0            0.0   \n",
       "212209           5.0   1.0           1      5.0            0.0           23.0   \n",
       "\n",
       "        score_differential  game_seconds_remaining  wind  temp  spread_line  \\\n",
       "166                    0.0                  2969.0  10.0  64.0          5.5   \n",
       "307                    3.0                   190.0   6.0  87.0         -2.5   \n",
       "416                    0.0                  3332.0  10.0  75.0         -6.5   \n",
       "740                    0.0                  2860.0  10.0  78.0         -4.0   \n",
       "1013                  -3.0                  2414.0   5.0  58.0         -7.0   \n",
       "...                    ...                     ...   ...   ...          ...   \n",
       "211900               -11.0                  1426.0   5.0  61.0         11.0   \n",
       "212118                 4.0                   827.0  13.0  36.0          3.5   \n",
       "212124               -12.0                   509.0  13.0  36.0         -3.5   \n",
       "212154                10.0                  2235.0  11.0  43.0         -6.5   \n",
       "212209               -23.0                  1565.0  13.0  50.0          6.5   \n",
       "\n",
       "        total_line  carries_roll  rushing_yards_roll  yards_per_carry_roll  \\\n",
       "166           40.5      0.000000            0.000000              0.000000   \n",
       "307           37.0      0.000000            0.000000              0.000000   \n",
       "416           44.5      0.000000            0.000000              0.000000   \n",
       "740           45.5      0.000000            0.000000              0.000000   \n",
       "1013          41.0      8.000000           39.000000              4.875000   \n",
       "...            ...           ...                 ...                   ...   \n",
       "211900        43.0     18.797095           92.528914              4.922511   \n",
       "212118        36.5     13.594059           71.648165              5.270550   \n",
       "212124        36.5      2.380535            9.888008              4.153692   \n",
       "212154        44.5     17.274053           84.816442              4.910049   \n",
       "212209        40.5     14.586745           77.879340              5.339049   \n",
       "\n",
       "        rushing_yards_team_roll  rushing_yards_opp_roll  yards_shifted  \n",
       "166                    0.794630                0.794759           32.0  \n",
       "307                    1.062483                1.062655           33.0  \n",
       "416                    0.901771                0.901918           34.0  \n",
       "740                    0.973198                0.973357           32.0  \n",
       "1013                   0.620526                0.250037           33.0  \n",
       "...                         ...                     ...            ...  \n",
       "211900                 0.957892                0.691428           33.0  \n",
       "212118                 0.621163                0.824100           33.0  \n",
       "212124                 1.241051                0.929983           28.0  \n",
       "212154                 1.237225                0.848338           34.0  \n",
       "212209                 1.191307                1.023109           30.0  \n",
       "\n",
       "[1634 rows x 18 columns]"
      ]
     },
     "execution_count": 509,
     "metadata": {},
     "output_type": "execute_result"
    }
   ],
   "source": [
    "test = rushes.loc[rushes.yardline_100==5][rush_yards_cols+ ['yards_shifted']]\n",
    "test"
   ]
  },
  {
   "cell_type": "code",
   "execution_count": null,
   "metadata": {},
   "outputs": [
    {
     "name": "stdout",
     "output_type": "stream",
     "text": [
      "torch.Size([1, 17])\n",
      "torch.Size([1, 17])\n",
      "torch.Size([1, 17])\n",
      "torch.Size([1, 17])\n",
      "torch.Size([1, 17])\n",
      "torch.Size([1, 17])\n",
      "torch.Size([1, 17])\n",
      "torch.Size([1, 17])\n",
      "torch.Size([1, 17])\n",
      "torch.Size([1, 17])\n",
      "torch.Size([1, 17])\n",
      "torch.Size([1, 17])\n",
      "torch.Size([1, 17])\n",
      "torch.Size([1, 17])\n"
     ]
    },
    {
     "data": {
      "image/png": "[encoded data removed]",
      "text/plain": [
       "<Figure size 1400x800 with 1 Axes>"
      ]
     },
     "metadata": {},
     "output_type": "display_data"
    }
   ],
   "source": [
    "colormap = cm.gnuplot\n",
    "plt.figure(figsize=(14, 8))\n",
    "num_yardlines = 15\n",
    "for yardline in range(1,num_yardlines):\n",
    "\n",
    "    color = colormap(yardline / num_yardlines) \n",
    "    down=1\n",
    "    test = rushes.loc[rushes.yardline_100==yardline]\n",
    "    xx = torch.Tensor(test[rush_yards_cols].sample(1).values)\n",
    "    print(xx.shape)\n",
    "    with torch.no_grad():\n",
    "        xy = rush_yards_model(xx)\n",
    "        xy[:,30+yardline:] /= 2\n",
    "        xy = (100 * F.softmax(xy,dim=1))[0]\n",
    "        x_range = range(-10,20)\n",
    "    plt.axvline(yardline, color=color, linestyle='-.')\n",
    "    plt.plot(x_range, xy[20:50], label=yardline, color=color)\n",
    "    plt.legend()"
   ]
  },
  {
   "cell_type": "code",
   "execution_count": null,
   "metadata": {},
   "outputs": [],
   "source": [
    "test = rushes.loc[rushes.yardline_100==45].sample(1)\n",
    "xx = torch.Tensor(test[rush_yards_cols].values)\n",
    "xy = torch.Tensor(test['yards_shifted'].values)"
   ]
  },
  {
   "cell_type": "code",
   "execution_count": null,
   "metadata": {},
   "outputs": [
    {
     "name": "stdout",
     "output_type": "stream",
     "text": [
      "5.907\n"
     ]
    },
    {
     "data": {
      "image/png": "[encoded data removed]",
      "text/plain": [
       "<Figure size 640x480 with 1 Axes>"
      ]
     },
     "metadata": {},
     "output_type": "display_data"
    }
   ],
   "source": [
    "res = rush_yards_model(xx)\n",
    "res = F.softmax(res,dim=1)[0]\n",
    "samples = torch.clamp( torch.multinomial(res,1000000,replacement=True),max=76) - 30\n",
    "avg = round(samples.double().mean().item(), 3)\n",
    "plt.hist(samples)\n",
    "print(avg)"
   ]
  },
  {
   "cell_type": "code",
   "execution_count": null,
   "metadata": {},
   "outputs": [
    {
     "data": {
      "text/plain": [
       "yardline_100                    45.0\n",
       "down                             1.0\n",
       "goal_to_go                         0\n",
       "ydstogo                         10.0\n",
       "posteam_score                   10.0\n",
       "defteam_score                   16.0\n",
       "score_differential              -6.0\n",
       "game_seconds_remaining         501.0\n",
       "wind                             5.0\n",
       "temp                            60.0\n",
       "spread_line                     -4.0\n",
       "total_line                      42.5\n",
       "carries_roll               15.217399\n",
       "rushing_yards_roll          80.22121\n",
       "yards_per_carry_roll        5.271677\n",
       "rushing_yards_team_roll     0.781875\n",
       "rushing_yards_opp_roll      0.483489\n",
       "Name: 128423, dtype: object"
      ]
     },
     "execution_count": 362,
     "metadata": {},
     "output_type": "execute_result"
    }
   ],
   "source": [
    "test.iloc[0][rush_yards_cols]"
   ]
  },
  {
   "cell_type": "code",
   "execution_count": null,
   "metadata": {},
   "outputs": [
    {
     "data": {
      "text/plain": [
       "tensor([[ 5.0546e+01,  1.6090e+00,  8.0000e-02,  8.0960e+00,  1.1395e+01,\n",
       "          1.0474e+01,  9.2100e-01,  1.7715e+03,  7.9610e+00,  5.8434e+01,\n",
       "         -2.9950e-01,  4.5019e+01,  1.0655e+01,  4.6563e+01,  4.2330e+00,\n",
       "          1.0372e+00,  1.0311e+00]])"
      ]
     },
     "execution_count": 377,
     "metadata": {},
     "output_type": "execute_result"
    }
   ],
   "source": [
    "test = rushes.sample(1000)\n",
    "xx = torch.Tensor(test[rush_yards_cols].values)\n",
    "xy = torch.Tensor(test['yards_shifted'].values)\n",
    "norm = xx.mean(dim=0).reshape(1,-1)\n",
    "norm"
   ]
  },
  {
   "cell_type": "code",
   "execution_count": null,
   "metadata": {},
   "outputs": [],
   "source": [
    "from sim_utils.modeling import create_reg_model\n"
   ]
  },
  {
   "cell_type": "code",
   "execution_count": null,
   "metadata": {},
   "outputs": [],
   "source": [
    "rushes['yards_shifted'] = rushes['yards_shifted'].astype(int)"
   ]
  },
  {
   "cell_type": "code",
   "execution_count": null,
   "metadata": {},
   "outputs": [
    {
     "name": "stdout",
     "output_type": "stream",
     "text": [
      "Mean Squared Error: 39.39766311645508\n",
      "R-squared: 0.03164935111999512\n"
     ]
    }
   ],
   "source": [
    "xg_model = create_reg_model(rushes, rush_yards_cols,'yards_gained' )"
   ]
  },
  {
   "cell_type": "code",
   "execution_count": null,
   "metadata": {},
   "outputs": [
    {
     "data": {
      "text/html": [
       "<div>\n",
       "<style scoped>\n",
       "    .dataframe tbody tr th:only-of-type {\n",
       "        vertical-align: middle;\n",
       "    }\n",
       "\n",
       "    .dataframe tbody tr th {\n",
       "        vertical-align: top;\n",
       "    }\n",
       "\n",
       "    .dataframe thead th {\n",
       "        text-align: right;\n",
       "    }\n",
       "</style>\n",
       "<table border=\"1\" class=\"dataframe\">\n",
       "  <thead>\n",
       "    <tr style=\"text-align: right;\">\n",
       "      <th></th>\n",
       "      <th>yardline_100</th>\n",
       "      <th>level_1</th>\n",
       "      <th>quantile</th>\n",
       "    </tr>\n",
       "  </thead>\n",
       "  <tbody>\n",
       "    <tr>\n",
       "      <th>57</th>\n",
       "      <td>20.0</td>\n",
       "      <td>0.1</td>\n",
       "      <td>-1.0</td>\n",
       "    </tr>\n",
       "    <tr>\n",
       "      <th>58</th>\n",
       "      <td>20.0</td>\n",
       "      <td>0.5</td>\n",
       "      <td>3.0</td>\n",
       "    </tr>\n",
       "    <tr>\n",
       "      <th>59</th>\n",
       "      <td>20.0</td>\n",
       "      <td>0.9</td>\n",
       "      <td>11.0</td>\n",
       "    </tr>\n",
       "  </tbody>\n",
       "</table>\n",
       "</div>"
      ],
      "text/plain": [
       "    yardline_100  level_1  quantile\n",
       "57          20.0      0.1      -1.0\n",
       "58          20.0      0.5       3.0\n",
       "59          20.0      0.9      11.0"
      ]
     },
     "execution_count": 402,
     "metadata": {},
     "output_type": "execute_result"
    }
   ],
   "source": [
    "q = rushes.groupby('yardline_100')['yards_gained'].quantile([0.1,0.5,0.9]).reset_index(name=('quantile'))\n",
    "q.loc[q.yardline_100 == 20]"
   ]
  },
  {
   "cell_type": "code",
   "execution_count": null,
   "metadata": {},
   "outputs": [
    {
     "data": {
      "image/png": "[encoded data removed]",
      "text/plain": [
       "<Figure size 640x480 with 1 Axes>"
      ]
     },
     "metadata": {},
     "output_type": "display_data"
    }
   ],
   "source": [
    "from matplotlib import pyplot\n",
    "bars = xg_model.get_booster().feature_names\n",
    "y_pos = np.arange(len(bars))\n",
    "pyplot.bar(range(len(xg_model.feature_importances_)), xg_model.feature_importances_)\n",
    "pyplot.xticks(y_pos, xg_model.get_booster().feature_names, color='black', rotation=80, fontsize='10', horizontalalignment='right')\n",
    "pyplot.show()"
   ]
  },
  {
   "cell_type": "code",
   "execution_count": null,
   "metadata": {},
   "outputs": [
    {
     "name": "stdout",
     "output_type": "stream",
     "text": [
      "spread: 0.5 4.756\n",
      "spread: 0.6 4.763\n",
      "spread: 0.7 4.756\n",
      "spread: 0.8 4.76\n",
      "spread: 0.9 4.75\n",
      "spread: 1.0 4.761\n",
      "spread: 1.1 4.763\n",
      "spread: 1.2 4.762\n",
      "spread: 1.3 4.75\n",
      "spread: 1.4 4.761\n"
     ]
    },
    {
     "data": {
      "text/plain": [
       "(array([  1166.,   1282.,   2992., 273382., 599318.,  79220.,  21343.,\n",
       "          6254.,   3294.,  11749.]),\n",
       " array([ 0.,  8., 16., 24., 32., 40., 48., 56., 64., 72., 80.]),\n",
       " <BarContainer object of 10 artists>)"
      ]
     },
     "execution_count": 310,
     "metadata": {},
     "output_type": "execute_result"
    },
    {
     "data": {
      "image/png": "[encoded data removed]",
      "text/plain": [
       "<Figure size 640x480 with 1 Axes>"
      ]
     },
     "metadata": {},
     "output_type": "display_data"
    }
   ],
   "source": [
    "norm = xx.mean(dim=0).reshape(1,-1) \n",
    "\n",
    "for ypc in range(5, 15, 1):\n",
    "#for ypc in [0,1,10,100,1000]:\n",
    "    ypc = ypc/10\n",
    "    norm[0][-1] = torch.tensor(ypc)\n",
    "    res = rush_yards_model(norm)\n",
    "    #res[:,75:] -= 4\n",
    "    res = F.softmax(res,dim=1)[0]\n",
    "    samples = torch.clamp( torch.multinomial(res,1000000,replacement=True),max=80)\n",
    "    avg = round(samples.double().mean().item()-30, 3)\n",
    "    print(f'spread: {ypc}',avg) # 3.34\n",
    "plt.hist(samples)"
   ]
  },
  {
   "cell_type": "code",
   "execution_count": null,
   "metadata": {},
   "outputs": [
    {
     "data": {
      "text/plain": [
       "tensor(0., dtype=torch.float64)"
      ]
     },
     "execution_count": 85,
     "metadata": {},
     "output_type": "execute_result"
    }
   ],
   "source": [
    "samples.double().min()"
   ]
  },
  {
   "cell_type": "code",
   "execution_count": null,
   "metadata": {},
   "outputs": [
    {
     "data": {
      "text/plain": [
       "<Axes: >"
      ]
     },
     "execution_count": 70,
     "metadata": {},
     "output_type": "execute_result"
    },
    {
     "data": {
      "image/png": "[encoded data removed]",
      "text/plain": [
       "<Figure size 640x480 with 1 Axes>"
      ]
     },
     "metadata": {},
     "output_type": "display_data"
    }
   ],
   "source": [
    "rushes.loc[rushes.yardline_100==5]['yards_shifted'].hist()"
   ]
  },
  {
   "cell_type": "code",
   "execution_count": null,
   "metadata": {},
   "outputs": [],
   "source": [
    "passes = pbp.loc[\n",
    "        (pbp['pass']==1) & \n",
    "    (pbp.pass_attempt==1) & \n",
    "    (pbp.air_yards >= -20)\n",
    "    & (pbp.play_type=='pass')\n",
    "].copy(deep=True).dropna(axis=1,how='all')"
   ]
  },
  {
   "cell_type": "code",
   "execution_count": null,
   "metadata": {},
   "outputs": [],
   "source": [
    "receiver_stats = pd.read_parquet('data/agg/player_weekly_agg.parquet')[[\n",
    "    \"season\",\n",
    "    \"team_name\",\n",
    "    \"week\",\n",
    "    \"game_type\",\n",
    "    \"gsis_id\",\n",
    "    \"position\",\n",
    "    \"depth_position\",\n",
    "    \"full_name\",\n",
    "    \"dense_depth\",\n",
    "    \"receptions_roll\",\n",
    "    \"targets_roll\",\n",
    "    \"receiving_yards_roll\",\n",
    "    \"receiving_tds_roll\",\n",
    "    \"receiving_air_yards_roll\",\n",
    "    \"receiving_yards_after_catch_roll\",\n",
    "    \"receiving_first_downs_roll\",\n",
    "    \"target_share_roll\",\n",
    "    \"air_yards_share_roll\",\n",
    "    \"fantasy_points_ppr_roll\",\n",
    "    'yards_per_target_roll',\n",
    "    'yards_per_catch_roll',\n",
    "]]"
   ]
  },
  {
   "cell_type": "code",
   "execution_count": null,
   "metadata": {},
   "outputs": [
    {
     "data": {
      "text/html": [
       "<div>\n",
       "<style scoped>\n",
       "    .dataframe tbody tr th:only-of-type {\n",
       "        vertical-align: middle;\n",
       "    }\n",
       "\n",
       "    .dataframe tbody tr th {\n",
       "        vertical-align: top;\n",
       "    }\n",
       "\n",
       "    .dataframe thead th {\n",
       "        text-align: right;\n",
       "    }\n",
       "</style>\n",
       "<table border=\"1\" class=\"dataframe\">\n",
       "  <thead>\n",
       "    <tr style=\"text-align: right;\">\n",
       "      <th></th>\n",
       "      <th>play_id</th>\n",
       "      <th>game_id</th>\n",
       "      <th>old_game_id</th>\n",
       "      <th>home_team</th>\n",
       "      <th>away_team</th>\n",
       "      <th>season_type</th>\n",
       "      <th>week</th>\n",
       "      <th>posteam</th>\n",
       "      <th>posteam_type</th>\n",
       "      <th>defteam</th>\n",
       "      <th>...</th>\n",
       "      <th>receiving_yards_roll</th>\n",
       "      <th>receiving_tds_roll</th>\n",
       "      <th>receiving_air_yards_roll</th>\n",
       "      <th>receiving_yards_after_catch_roll</th>\n",
       "      <th>receiving_first_downs_roll</th>\n",
       "      <th>target_share_roll</th>\n",
       "      <th>air_yards_share_roll</th>\n",
       "      <th>fantasy_points_ppr_roll</th>\n",
       "      <th>yards_per_target_roll</th>\n",
       "      <th>yards_per_catch_roll</th>\n",
       "    </tr>\n",
       "  </thead>\n",
       "  <tbody>\n",
       "    <tr>\n",
       "      <th>0</th>\n",
       "      <td>58.0</td>\n",
       "      <td>2010_01_ARI_STL</td>\n",
       "      <td>2010091208</td>\n",
       "      <td>LA</td>\n",
       "      <td>ARI</td>\n",
       "      <td>REG</td>\n",
       "      <td>1</td>\n",
       "      <td>ARI</td>\n",
       "      <td>away</td>\n",
       "      <td>LA</td>\n",
       "      <td>...</td>\n",
       "      <td>NaN</td>\n",
       "      <td>NaN</td>\n",
       "      <td>NaN</td>\n",
       "      <td>NaN</td>\n",
       "      <td>NaN</td>\n",
       "      <td>NaN</td>\n",
       "      <td>NaN</td>\n",
       "      <td>NaN</td>\n",
       "      <td>NaN</td>\n",
       "      <td>NaN</td>\n",
       "    </tr>\n",
       "    <tr>\n",
       "      <th>1</th>\n",
       "      <td>103.0</td>\n",
       "      <td>2010_01_ARI_STL</td>\n",
       "      <td>2010091208</td>\n",
       "      <td>LA</td>\n",
       "      <td>ARI</td>\n",
       "      <td>REG</td>\n",
       "      <td>1</td>\n",
       "      <td>ARI</td>\n",
       "      <td>away</td>\n",
       "      <td>LA</td>\n",
       "      <td>...</td>\n",
       "      <td>NaN</td>\n",
       "      <td>NaN</td>\n",
       "      <td>NaN</td>\n",
       "      <td>NaN</td>\n",
       "      <td>NaN</td>\n",
       "      <td>NaN</td>\n",
       "      <td>NaN</td>\n",
       "      <td>NaN</td>\n",
       "      <td>NaN</td>\n",
       "      <td>NaN</td>\n",
       "    </tr>\n",
       "    <tr>\n",
       "      <th>2</th>\n",
       "      <td>132.0</td>\n",
       "      <td>2010_01_ARI_STL</td>\n",
       "      <td>2010091208</td>\n",
       "      <td>LA</td>\n",
       "      <td>ARI</td>\n",
       "      <td>REG</td>\n",
       "      <td>1</td>\n",
       "      <td>ARI</td>\n",
       "      <td>away</td>\n",
       "      <td>LA</td>\n",
       "      <td>...</td>\n",
       "      <td>NaN</td>\n",
       "      <td>NaN</td>\n",
       "      <td>NaN</td>\n",
       "      <td>NaN</td>\n",
       "      <td>NaN</td>\n",
       "      <td>NaN</td>\n",
       "      <td>NaN</td>\n",
       "      <td>NaN</td>\n",
       "      <td>NaN</td>\n",
       "      <td>NaN</td>\n",
       "    </tr>\n",
       "    <tr>\n",
       "      <th>3</th>\n",
       "      <td>177.0</td>\n",
       "      <td>2010_01_ARI_STL</td>\n",
       "      <td>2010091208</td>\n",
       "      <td>LA</td>\n",
       "      <td>ARI</td>\n",
       "      <td>REG</td>\n",
       "      <td>1</td>\n",
       "      <td>ARI</td>\n",
       "      <td>away</td>\n",
       "      <td>LA</td>\n",
       "      <td>...</td>\n",
       "      <td>NaN</td>\n",
       "      <td>NaN</td>\n",
       "      <td>NaN</td>\n",
       "      <td>NaN</td>\n",
       "      <td>NaN</td>\n",
       "      <td>NaN</td>\n",
       "      <td>NaN</td>\n",
       "      <td>NaN</td>\n",
       "      <td>NaN</td>\n",
       "      <td>NaN</td>\n",
       "    </tr>\n",
       "    <tr>\n",
       "      <th>4</th>\n",
       "      <td>254.0</td>\n",
       "      <td>2010_01_ARI_STL</td>\n",
       "      <td>2010091208</td>\n",
       "      <td>LA</td>\n",
       "      <td>ARI</td>\n",
       "      <td>REG</td>\n",
       "      <td>1</td>\n",
       "      <td>LA</td>\n",
       "      <td>home</td>\n",
       "      <td>ARI</td>\n",
       "      <td>...</td>\n",
       "      <td>NaN</td>\n",
       "      <td>NaN</td>\n",
       "      <td>NaN</td>\n",
       "      <td>NaN</td>\n",
       "      <td>NaN</td>\n",
       "      <td>NaN</td>\n",
       "      <td>NaN</td>\n",
       "      <td>NaN</td>\n",
       "      <td>NaN</td>\n",
       "      <td>NaN</td>\n",
       "    </tr>\n",
       "    <tr>\n",
       "      <th>...</th>\n",
       "      <td>...</td>\n",
       "      <td>...</td>\n",
       "      <td>...</td>\n",
       "      <td>...</td>\n",
       "      <td>...</td>\n",
       "      <td>...</td>\n",
       "      <td>...</td>\n",
       "      <td>...</td>\n",
       "      <td>...</td>\n",
       "      <td>...</td>\n",
       "      <td>...</td>\n",
       "      <td>...</td>\n",
       "      <td>...</td>\n",
       "      <td>...</td>\n",
       "      <td>...</td>\n",
       "      <td>...</td>\n",
       "      <td>...</td>\n",
       "      <td>...</td>\n",
       "      <td>...</td>\n",
       "      <td>...</td>\n",
       "      <td>...</td>\n",
       "    </tr>\n",
       "    <tr>\n",
       "      <th>275457</th>\n",
       "      <td>3812.0</td>\n",
       "      <td>2024_12_TEN_HOU</td>\n",
       "      <td>2024112402</td>\n",
       "      <td>HOU</td>\n",
       "      <td>TEN</td>\n",
       "      <td>REG</td>\n",
       "      <td>12</td>\n",
       "      <td>HOU</td>\n",
       "      <td>home</td>\n",
       "      <td>TEN</td>\n",
       "      <td>...</td>\n",
       "      <td>38.103053</td>\n",
       "      <td>0.011593</td>\n",
       "      <td>47.612262</td>\n",
       "      <td>14.928183</td>\n",
       "      <td>1.793535</td>\n",
       "      <td>0.171688</td>\n",
       "      <td>0.184008</td>\n",
       "      <td>7.404114</td>\n",
       "      <td>6.947856</td>\n",
       "      <td>10.810116</td>\n",
       "    </tr>\n",
       "    <tr>\n",
       "      <th>275458</th>\n",
       "      <td>3869.0</td>\n",
       "      <td>2024_12_TEN_HOU</td>\n",
       "      <td>2024112402</td>\n",
       "      <td>HOU</td>\n",
       "      <td>TEN</td>\n",
       "      <td>REG</td>\n",
       "      <td>12</td>\n",
       "      <td>HOU</td>\n",
       "      <td>home</td>\n",
       "      <td>TEN</td>\n",
       "      <td>...</td>\n",
       "      <td>29.855179</td>\n",
       "      <td>0.083781</td>\n",
       "      <td>-1.337273</td>\n",
       "      <td>31.721545</td>\n",
       "      <td>1.191506</td>\n",
       "      <td>0.109480</td>\n",
       "      <td>-0.010025</td>\n",
       "      <td>24.402885</td>\n",
       "      <td>8.692839</td>\n",
       "      <td>15.046364</td>\n",
       "    </tr>\n",
       "    <tr>\n",
       "      <th>275459</th>\n",
       "      <td>3894.0</td>\n",
       "      <td>2024_12_TEN_HOU</td>\n",
       "      <td>2024112402</td>\n",
       "      <td>HOU</td>\n",
       "      <td>TEN</td>\n",
       "      <td>REG</td>\n",
       "      <td>12</td>\n",
       "      <td>HOU</td>\n",
       "      <td>home</td>\n",
       "      <td>TEN</td>\n",
       "      <td>...</td>\n",
       "      <td>29.855179</td>\n",
       "      <td>0.083781</td>\n",
       "      <td>-1.337273</td>\n",
       "      <td>31.721545</td>\n",
       "      <td>1.191506</td>\n",
       "      <td>0.109480</td>\n",
       "      <td>-0.010025</td>\n",
       "      <td>24.402885</td>\n",
       "      <td>8.692839</td>\n",
       "      <td>15.046364</td>\n",
       "    </tr>\n",
       "    <tr>\n",
       "      <th>275460</th>\n",
       "      <td>3953.0</td>\n",
       "      <td>2024_12_TEN_HOU</td>\n",
       "      <td>2024112402</td>\n",
       "      <td>HOU</td>\n",
       "      <td>TEN</td>\n",
       "      <td>REG</td>\n",
       "      <td>12</td>\n",
       "      <td>HOU</td>\n",
       "      <td>home</td>\n",
       "      <td>TEN</td>\n",
       "      <td>...</td>\n",
       "      <td>9.210293</td>\n",
       "      <td>0.000000</td>\n",
       "      <td>10.228033</td>\n",
       "      <td>7.625124</td>\n",
       "      <td>0.425586</td>\n",
       "      <td>0.057827</td>\n",
       "      <td>0.035774</td>\n",
       "      <td>2.089030</td>\n",
       "      <td>5.034367</td>\n",
       "      <td>7.885517</td>\n",
       "    </tr>\n",
       "    <tr>\n",
       "      <th>275461</th>\n",
       "      <td>4104.0</td>\n",
       "      <td>2024_12_TEN_HOU</td>\n",
       "      <td>2024112402</td>\n",
       "      <td>HOU</td>\n",
       "      <td>TEN</td>\n",
       "      <td>REG</td>\n",
       "      <td>12</td>\n",
       "      <td>TEN</td>\n",
       "      <td>away</td>\n",
       "      <td>HOU</td>\n",
       "      <td>...</td>\n",
       "      <td>9.065354</td>\n",
       "      <td>0.176137</td>\n",
       "      <td>3.545313</td>\n",
       "      <td>5.408754</td>\n",
       "      <td>0.418192</td>\n",
       "      <td>0.034931</td>\n",
       "      <td>0.012369</td>\n",
       "      <td>2.956687</td>\n",
       "      <td>8.197392</td>\n",
       "      <td>9.126211</td>\n",
       "    </tr>\n",
       "  </tbody>\n",
       "</table>\n",
       "<p>275462 rows × 382 columns</p>\n",
       "</div>"
      ],
      "text/plain": [
       "        play_id          game_id old_game_id home_team away_team season_type  \\\n",
       "0          58.0  2010_01_ARI_STL  2010091208        LA       ARI         REG   \n",
       "1         103.0  2010_01_ARI_STL  2010091208        LA       ARI         REG   \n",
       "2         132.0  2010_01_ARI_STL  2010091208        LA       ARI         REG   \n",
       "3         177.0  2010_01_ARI_STL  2010091208        LA       ARI         REG   \n",
       "4         254.0  2010_01_ARI_STL  2010091208        LA       ARI         REG   \n",
       "...         ...              ...         ...       ...       ...         ...   \n",
       "275457   3812.0  2024_12_TEN_HOU  2024112402       HOU       TEN         REG   \n",
       "275458   3869.0  2024_12_TEN_HOU  2024112402       HOU       TEN         REG   \n",
       "275459   3894.0  2024_12_TEN_HOU  2024112402       HOU       TEN         REG   \n",
       "275460   3953.0  2024_12_TEN_HOU  2024112402       HOU       TEN         REG   \n",
       "275461   4104.0  2024_12_TEN_HOU  2024112402       HOU       TEN         REG   \n",
       "\n",
       "        week posteam posteam_type defteam  ... receiving_yards_roll  \\\n",
       "0          1     ARI         away      LA  ...                  NaN   \n",
       "1          1     ARI         away      LA  ...                  NaN   \n",
       "2          1     ARI         away      LA  ...                  NaN   \n",
       "3          1     ARI         away      LA  ...                  NaN   \n",
       "4          1      LA         home     ARI  ...                  NaN   \n",
       "...      ...     ...          ...     ...  ...                  ...   \n",
       "275457    12     HOU         home     TEN  ...            38.103053   \n",
       "275458    12     HOU         home     TEN  ...            29.855179   \n",
       "275459    12     HOU         home     TEN  ...            29.855179   \n",
       "275460    12     HOU         home     TEN  ...             9.210293   \n",
       "275461    12     TEN         away     HOU  ...             9.065354   \n",
       "\n",
       "        receiving_tds_roll receiving_air_yards_roll  \\\n",
       "0                      NaN                      NaN   \n",
       "1                      NaN                      NaN   \n",
       "2                      NaN                      NaN   \n",
       "3                      NaN                      NaN   \n",
       "4                      NaN                      NaN   \n",
       "...                    ...                      ...   \n",
       "275457            0.011593                47.612262   \n",
       "275458            0.083781                -1.337273   \n",
       "275459            0.083781                -1.337273   \n",
       "275460            0.000000                10.228033   \n",
       "275461            0.176137                 3.545313   \n",
       "\n",
       "        receiving_yards_after_catch_roll  receiving_first_downs_roll  \\\n",
       "0                                    NaN                         NaN   \n",
       "1                                    NaN                         NaN   \n",
       "2                                    NaN                         NaN   \n",
       "3                                    NaN                         NaN   \n",
       "4                                    NaN                         NaN   \n",
       "...                                  ...                         ...   \n",
       "275457                         14.928183                    1.793535   \n",
       "275458                         31.721545                    1.191506   \n",
       "275459                         31.721545                    1.191506   \n",
       "275460                          7.625124                    0.425586   \n",
       "275461                          5.408754                    0.418192   \n",
       "\n",
       "        target_share_roll air_yards_share_roll  fantasy_points_ppr_roll  \\\n",
       "0                     NaN                  NaN                      NaN   \n",
       "1                     NaN                  NaN                      NaN   \n",
       "2                     NaN                  NaN                      NaN   \n",
       "3                     NaN                  NaN                      NaN   \n",
       "4                     NaN                  NaN                      NaN   \n",
       "...                   ...                  ...                      ...   \n",
       "275457           0.171688             0.184008                 7.404114   \n",
       "275458           0.109480            -0.010025                24.402885   \n",
       "275459           0.109480            -0.010025                24.402885   \n",
       "275460           0.057827             0.035774                 2.089030   \n",
       "275461           0.034931             0.012369                 2.956687   \n",
       "\n",
       "        yards_per_target_roll  yards_per_catch_roll  \n",
       "0                         NaN                   NaN  \n",
       "1                         NaN                   NaN  \n",
       "2                         NaN                   NaN  \n",
       "3                         NaN                   NaN  \n",
       "4                         NaN                   NaN  \n",
       "...                       ...                   ...  \n",
       "275457               6.947856             10.810116  \n",
       "275458               8.692839             15.046364  \n",
       "275459               8.692839             15.046364  \n",
       "275460               5.034367              7.885517  \n",
       "275461               8.197392              9.126211  \n",
       "\n",
       "[275462 rows x 382 columns]"
      ]
     },
     "execution_count": 73,
     "metadata": {},
     "output_type": "execute_result"
    }
   ],
   "source": [
    "passes = passes.merge(\n",
    "    receiver_stats,\n",
    "    left_on=[\"posteam\", \"season\", \"week\", \"receiver_player_id\"],\n",
    "    right_on=[\"team_name\", \"season\", \"week\", \"gsis_id\"],\n",
    ")\n",
    "passes\n"
   ]
  },
  {
   "cell_type": "code",
   "execution_count": null,
   "metadata": {},
   "outputs": [],
   "source": [
    "passes = passes.loc[~passes.receptions_roll.isna()].copy()\n",
    "#51456 "
   ]
  },
  {
   "cell_type": "code",
   "execution_count": null,
   "metadata": {},
   "outputs": [],
   "source": [
    "team_stat_cols = [\n",
    " 'completions_team_roll',\n",
    " 'attempts_team_roll',\n",
    " 'carries_team_roll',\n",
    " 'passing_yards_team_roll',\n",
    " 'rushing_yards_team_roll',\n",
    " 'pass_pct_team_roll',\n",
    " 'completions_opp_roll',\n",
    " 'attempts_opp_roll',\n",
    " 'carries_opp_roll',\n",
    " 'passing_yards_opp_roll',\n",
    " 'rushing_yards_opp_roll',\n",
    " 'pass_pct_opp_roll']"
   ]
  },
  {
   "cell_type": "code",
   "execution_count": null,
   "metadata": {},
   "outputs": [],
   "source": [
    "air_yards_cols = [\n",
    "    \"dense_depth\",\n",
    "    \"receptions_roll\",\n",
    "    \"targets_roll\",\n",
    "    \"receiving_yards_roll\",\n",
    "    \"receiving_tds_roll\",\n",
    "    \"receiving_air_yards_roll\",\n",
    "    \"receiving_yards_after_catch_roll\",\n",
    "    \"receiving_first_downs_roll\",\n",
    "    \"target_share_roll\",\n",
    "    \"air_yards_share_roll\",\n",
    "    \"fantasy_points_ppr_roll\",\n",
    "    'yards_per_target_roll',\n",
    "    'yards_per_catch_roll',\n",
    "] + game_context_cols + ['passing_yards_opp_roll']"
   ]
  },
  {
   "cell_type": "code",
   "execution_count": null,
   "metadata": {},
   "outputs": [
    {
     "data": {
      "text/plain": [
       "119"
      ]
     },
     "execution_count": 77,
     "metadata": {},
     "output_type": "execute_result"
    }
   ],
   "source": [
    "passes['target_share_roll'].isna().sum()"
   ]
  },
  {
   "cell_type": "code",
   "execution_count": null,
   "metadata": {},
   "outputs": [
    {
     "data": {
      "text/plain": [
       "torch.Size([267818])"
      ]
     },
     "execution_count": 78,
     "metadata": {},
     "output_type": "execute_result"
    }
   ],
   "source": [
    "passes['air_yards_20'] = passes['air_yards'] + 20\n",
    "data = passes[air_yards_cols + ['air_yards_20']].copy()\n",
    "data = data.dropna()\n",
    "X = torch.Tensor((data[air_yards_cols].values))\n",
    "y = torch.tensor(data['air_yards_20'].astype(int).values, dtype=torch.long)\n",
    "obs = len(X)\n",
    "num_feats = len(air_yards_cols)\n",
    "y.shape"
   ]
  },
  {
   "cell_type": "code",
   "execution_count": null,
   "metadata": {},
   "outputs": [
    {
     "name": "stdout",
     "output_type": "stream",
     "text": [
      "Epoch 1/20, Loss: 0.0079\n",
      "Epoch 2/20, Loss: 0.0068\n",
      "Epoch 3/20, Loss: 0.0068\n",
      "Epoch 4/20, Loss: 0.0068\n",
      "Epoch 5/20, Loss: 0.0068\n",
      "Epoch 6/20, Loss: 0.0068\n",
      "Epoch 7/20, Loss: 0.0068\n",
      "Epoch 8/20, Loss: 0.0068\n",
      "Epoch 9/20, Loss: 0.0068\n",
      "Epoch 10/20, Loss: 0.0068\n",
      "Epoch 11/20, Loss: 0.0068\n",
      "Epoch 12/20, Loss: 0.0068\n",
      "Epoch 13/20, Loss: 0.0068\n",
      "Epoch 14/20, Loss: 0.0068\n",
      "Epoch 15/20, Loss: 0.0068\n",
      "Epoch 16/20, Loss: 0.0068\n",
      "Epoch 17/20, Loss: 0.0068\n",
      "Epoch 18/20, Loss: 0.0068\n",
      "Epoch 19/20, Loss: 0.0068\n",
      "Epoch 20/20, Loss: 0.0068\n",
      "Test Loss: 3.4504, Test Accuracy: 0.0867\n"
     ]
    },
    {
     "data": {
      "image/png": "[encoded data removed]",
      "text/plain": [
       "<Figure size 640x480 with 1 Axes>"
      ]
     },
     "metadata": {},
     "output_type": "display_data"
    }
   ],
   "source": [
    "air_yards_model = train_model(X, y, num_feats, 119) # 3.327, 0.0865\n",
    "air_yards_model = air_yards_model.to('cpu')"
   ]
  },
  {
   "cell_type": "code",
   "execution_count": null,
   "metadata": {},
   "outputs": [],
   "source": [
    "model_path = \"models/air_yards.pt\"\n",
    "torch.save(air_yards_model.state_dict(), model_path)\n",
    "\n",
    "\n",
    "feature_config = {\n",
    "    'air_yards_cols':air_yards_cols,\n",
    "    'air_yards_model_path': 'models/air_yards.pt',\n",
    "    'run_yards_model_path': \"models/run_yards_gained.pt\"\n",
    "}\n",
    "feature_config\n",
    "\n",
    "update_config(feature_config)"
   ]
  },
  {
   "cell_type": "code",
   "execution_count": null,
   "metadata": {},
   "outputs": [
    {
     "name": "stdout",
     "output_type": "stream",
     "text": [
      "11.272468\n"
     ]
    },
    {
     "data": {
      "text/plain": [
       "<Axes: >"
      ]
     },
     "execution_count": 81,
     "metadata": {},
     "output_type": "execute_result"
    },
    {
     "data": {
      "image/png": "[encoded data removed]",
      "text/plain": [
       "<Figure size 640x480 with 1 Axes>"
      ]
     },
     "metadata": {},
     "output_type": "display_data"
    }
   ],
   "source": [
    "jj = passes.loc[passes.receiver_player_id == '00-0036322']\n",
    "print(jj['air_yards'].mean())\n",
    "jj['air_yards'].hist(density=True)\n"
   ]
  },
  {
   "cell_type": "code",
   "execution_count": null,
   "metadata": {},
   "outputs": [
    {
     "name": "stdout",
     "output_type": "stream",
     "text": [
      "tensor(11.4426, dtype=torch.float64)\n"
     ]
    },
    {
     "data": {
      "text/plain": [
       "(array([0.00017272, 0.00639656, 0.04617591, 0.03132807, 0.00898696,\n",
       "        0.00394516, 0.00198364, 0.0004293 , 0.00015712, 0.00042455]),\n",
       " array([-20., -10.,   0.,  10.,  20.,  30.,  40.,  50.,  60.,  70.,  80.]),\n",
       " <BarContainer object of 10 artists>)"
      ]
     },
     "execution_count": 82,
     "metadata": {},
     "output_type": "execute_result"
    },
    {
     "data": {
      "image/png": "[encoded data removed]",
      "text/plain": [
       "<Figure size 640x480 with 1 Axes>"
      ]
     },
     "metadata": {},
     "output_type": "display_data"
    }
   ],
   "source": [
    "test_x = torch.Tensor(jj[air_yards_cols].values)\n",
    "res = air_yards_model(test_x)\n",
    "res = F.softmax(res,dim=1)\n",
    "samples = torch.clamp( torch.multinomial(res,10000,replacement=True),max=100).reshape(-1) - 20\n",
    "print(samples.double().mean())\n",
    "plt.hist(samples,density=True)"
   ]
  },
  {
   "cell_type": "code",
   "execution_count": null,
   "metadata": {},
   "outputs": [
    {
     "data": {
      "text/html": [
       "<div>\n",
       "<style scoped>\n",
       "    .dataframe tbody tr th:only-of-type {\n",
       "        vertical-align: middle;\n",
       "    }\n",
       "\n",
       "    .dataframe tbody tr th {\n",
       "        vertical-align: top;\n",
       "    }\n",
       "\n",
       "    .dataframe thead th {\n",
       "        text-align: right;\n",
       "    }\n",
       "</style>\n",
       "<table border=\"1\" class=\"dataframe\">\n",
       "  <thead>\n",
       "    <tr style=\"text-align: right;\">\n",
       "      <th></th>\n",
       "      <th>yardline_100</th>\n",
       "      <th>yards_gained</th>\n",
       "      <th>air_yards</th>\n",
       "      <th>yards_after_catch</th>\n",
       "      <th>complete_pass</th>\n",
       "    </tr>\n",
       "  </thead>\n",
       "  <tbody>\n",
       "    <tr>\n",
       "      <th>109</th>\n",
       "      <td>54.0</td>\n",
       "      <td>13.0</td>\n",
       "      <td>9.0</td>\n",
       "      <td>4.0</td>\n",
       "      <td>1.0</td>\n",
       "    </tr>\n",
       "    <tr>\n",
       "      <th>116</th>\n",
       "      <td>72.0</td>\n",
       "      <td>23.0</td>\n",
       "      <td>20.0</td>\n",
       "      <td>3.0</td>\n",
       "      <td>1.0</td>\n",
       "    </tr>\n",
       "    <tr>\n",
       "      <th>141</th>\n",
       "      <td>74.0</td>\n",
       "      <td>3.0</td>\n",
       "      <td>3.0</td>\n",
       "      <td>0.0</td>\n",
       "      <td>1.0</td>\n",
       "    </tr>\n",
       "    <tr>\n",
       "      <th>1086</th>\n",
       "      <td>20.0</td>\n",
       "      <td>0.0</td>\n",
       "      <td>6.0</td>\n",
       "      <td>NaN</td>\n",
       "      <td>0.0</td>\n",
       "    </tr>\n",
       "    <tr>\n",
       "      <th>1087</th>\n",
       "      <td>7.0</td>\n",
       "      <td>7.0</td>\n",
       "      <td>3.0</td>\n",
       "      <td>4.0</td>\n",
       "      <td>1.0</td>\n",
       "    </tr>\n",
       "    <tr>\n",
       "      <th>...</th>\n",
       "      <td>...</td>\n",
       "      <td>...</td>\n",
       "      <td>...</td>\n",
       "      <td>...</td>\n",
       "      <td>...</td>\n",
       "    </tr>\n",
       "    <tr>\n",
       "      <th>275457</th>\n",
       "      <td>49.0</td>\n",
       "      <td>16.0</td>\n",
       "      <td>16.0</td>\n",
       "      <td>0.0</td>\n",
       "      <td>1.0</td>\n",
       "    </tr>\n",
       "    <tr>\n",
       "      <th>275458</th>\n",
       "      <td>38.0</td>\n",
       "      <td>7.0</td>\n",
       "      <td>-3.0</td>\n",
       "      <td>10.0</td>\n",
       "      <td>1.0</td>\n",
       "    </tr>\n",
       "    <tr>\n",
       "      <th>275459</th>\n",
       "      <td>31.0</td>\n",
       "      <td>20.0</td>\n",
       "      <td>0.0</td>\n",
       "      <td>20.0</td>\n",
       "      <td>1.0</td>\n",
       "    </tr>\n",
       "    <tr>\n",
       "      <th>275460</th>\n",
       "      <td>21.0</td>\n",
       "      <td>11.0</td>\n",
       "      <td>-4.0</td>\n",
       "      <td>15.0</td>\n",
       "      <td>1.0</td>\n",
       "    </tr>\n",
       "    <tr>\n",
       "      <th>275461</th>\n",
       "      <td>76.0</td>\n",
       "      <td>0.0</td>\n",
       "      <td>-4.0</td>\n",
       "      <td>NaN</td>\n",
       "      <td>0.0</td>\n",
       "    </tr>\n",
       "  </tbody>\n",
       "</table>\n",
       "<p>270160 rows × 5 columns</p>\n",
       "</div>"
      ],
      "text/plain": [
       "        yardline_100  yards_gained  air_yards  yards_after_catch  \\\n",
       "109             54.0          13.0        9.0                4.0   \n",
       "116             72.0          23.0       20.0                3.0   \n",
       "141             74.0           3.0        3.0                0.0   \n",
       "1086            20.0           0.0        6.0                NaN   \n",
       "1087             7.0           7.0        3.0                4.0   \n",
       "...              ...           ...        ...                ...   \n",
       "275457          49.0          16.0       16.0                0.0   \n",
       "275458          38.0           7.0       -3.0               10.0   \n",
       "275459          31.0          20.0        0.0               20.0   \n",
       "275460          21.0          11.0       -4.0               15.0   \n",
       "275461          76.0           0.0       -4.0                NaN   \n",
       "\n",
       "        complete_pass  \n",
       "109               1.0  \n",
       "116               1.0  \n",
       "141               1.0  \n",
       "1086              0.0  \n",
       "1087              1.0  \n",
       "...               ...  \n",
       "275457            1.0  \n",
       "275458            1.0  \n",
       "275459            1.0  \n",
       "275460            1.0  \n",
       "275461            0.0  \n",
       "\n",
       "[270160 rows x 5 columns]"
      ]
     },
     "execution_count": 83,
     "metadata": {},
     "output_type": "execute_result"
    }
   ],
   "source": [
    "passes[['yardline_100','yards_gained','air_yards','yards_after_catch', 'complete_pass']]"
   ]
  },
  {
   "cell_type": "code",
   "execution_count": null,
   "metadata": {},
   "outputs": [],
   "source": [
    "completions = passes.loc[passes.complete_pass==1].copy()\n",
    "completions['yac_25'] = completions['yards_after_catch'] + 25"
   ]
  },
  {
   "cell_type": "code",
   "execution_count": null,
   "metadata": {},
   "outputs": [
    {
     "data": {
      "text/plain": [
       "torch.Size([173144, 29])"
      ]
     },
     "execution_count": 85,
     "metadata": {},
     "output_type": "execute_result"
    }
   ],
   "source": [
    "yac_cols = air_yards_cols + ['air_yards']\n",
    "data = completions[yac_cols + ['yac_25']].copy()\n",
    "data = data.dropna()\n",
    "X = torch.Tensor((data[yac_cols].values))\n",
    "y = torch.tensor(data['yac_25'].astype(int).values, dtype=torch.long)\n",
    "obs = len(X)\n",
    "air_yards_input = len(yac_cols)\n",
    "X.shape"
   ]
  },
  {
   "cell_type": "code",
   "execution_count": null,
   "metadata": {},
   "outputs": [
    {
     "name": "stdout",
     "output_type": "stream",
     "text": [
      "Epoch 1/20, Loss: 0.0072\n",
      "Epoch 2/20, Loss: 0.0054\n",
      "Epoch 3/20, Loss: 0.0054\n",
      "Epoch 4/20, Loss: 0.0054\n",
      "Epoch 5/20, Loss: 0.0054\n",
      "Epoch 6/20, Loss: 0.0054\n",
      "Epoch 7/20, Loss: 0.0054\n",
      "Epoch 8/20, Loss: 0.0054\n",
      "Epoch 9/20, Loss: 0.0054\n",
      "Epoch 10/20, Loss: 0.0054\n",
      "Epoch 11/20, Loss: 0.0054\n",
      "Epoch 12/20, Loss: 0.0054\n",
      "Epoch 13/20, Loss: 0.0054\n",
      "Epoch 14/20, Loss: 0.0054\n",
      "Epoch 15/20, Loss: 0.0054\n",
      "Epoch 16/20, Loss: 0.0054\n",
      "Epoch 17/20, Loss: 0.0054\n",
      "Epoch 18/20, Loss: 0.0054\n",
      "Epoch 19/20, Loss: 0.0054\n",
      "Epoch 20/20, Loss: 0.0054\n",
      "Test Loss: 2.7605, Test Accuracy: 0.2382\n"
     ]
    },
    {
     "data": {
      "image/png": "[encoded data removed]",
      "text/plain": [
       "<Figure size 640x480 with 1 Axes>"
      ]
     },
     "metadata": {},
     "output_type": "display_data"
    }
   ],
   "source": [
    "yac_model = train_model(X, y, 29, 125)\n",
    "yac_model = yac_model.to('cpu')"
   ]
  },
  {
   "cell_type": "code",
   "execution_count": null,
   "metadata": {},
   "outputs": [
    {
     "data": {
      "text/plain": [
       "(array([0.00013818, 0.00011864, 0.00013705, 0.00012932, 0.00028136,\n",
       "        0.08160432, 0.06875295, 0.04257091, 0.01421545, 0.01932455]),\n",
       " array([-25. , -20.6, -16.2, -11.8,  -7.4,  -3. ,   1.4,   5.8,  10.2,\n",
       "         14.6,  19. ]),\n",
       " <BarContainer object of 10 artists>)"
      ]
     },
     "execution_count": 87,
     "metadata": {},
     "output_type": "execute_result"
    },
    {
     "data": {
      "image/png": "[encoded data removed]",
      "text/plain": [
       "<Figure size 640x480 with 1 Axes>"
      ]
     },
     "metadata": {},
     "output_type": "display_data"
    }
   ],
   "source": [
    "n = 9\n",
    "ydl = data.loc[data.yardline_100==n]\n",
    "(ydl['yac_25'] - 25).hist(density=True, alpha=0.6, color='r')\n",
    "test_x = torch.Tensor(ydl.sample(100)[yac_cols].values)\n",
    "res = yac_model(test_x)\n",
    "res = F.softmax(res,dim=1)\n",
    "samples = torch.clamp(torch.multinomial(res,10000,replacement=True).reshape(-1), max= (n+35)) - 25\n",
    "plt.hist(samples,density=True, alpha=0.6)"
   ]
  },
  {
   "cell_type": "code",
   "execution_count": null,
   "metadata": {},
   "outputs": [],
   "source": [
    "model_path = \"models/yac.pt\"\n",
    "torch.save(yac_model.state_dict(), model_path)\n",
    "\n",
    "\n",
    "feature_config = {\n",
    "    'yac_cols':yac_cols,\n",
    "    'yac_path': 'models/yac.pt',\n",
    "    'run_yards_model_path': \"models/run_yards_gained.pt\"\n",
    "}\n",
    "feature_config\n",
    "\n",
    "update_config(feature_config)"
   ]
  },
  {
   "cell_type": "code",
   "execution_count": null,
   "metadata": {},
   "outputs": [
    {
     "data": {
      "text/plain": [
       "635637    (2:00) (Shotgun) 1-K.Murray pass incomplete de...\n",
       "491196    (3:42) (Shotgun) 6-J.Luton pass short right to...\n",
       "392953    (12:15) 22-W.Gallman up the middle to NYG 37 f...\n",
       "353716    (5:56) (Shotgun) 4-D.Carr pass short right to ...\n",
       "613400    (10:38) 20-T.Pollard right tackle to NYG 1 for...\n",
       "226613    (8:44) 26-L.Bell right guard to PIT 26 for -3 ...\n",
       "78764     (12:06) (Shotgun) 35-L.Ball right guard to DEN...\n",
       "92651     (:47) (Shotgun) 11-Alex Smith pass incomplete ...\n",
       "80493     (13:11) (Shotgun) 2-M.Ryan pass short middle t...\n",
       "372040    (14:07) (No Huddle) 10-E.Manning pass incomple...\n",
       "69803     (15:00) 35-L.Ball up the middle to DEN 25 for ...\n",
       "90530     (5:37) (No Huddle) 7-B.Roethlisberger pass inc...\n",
       "357546    (1:21) (No Huddle, Shotgun) 9-M.Stafford pass ...\n",
       "98704     (1:47) (Run formation) 28-A.Peterson up the mi...\n",
       "590753    (4:43) 20-T.Pollard right tackle to MIN 16 for...\n",
       "Name: desc, dtype: object"
      ]
     },
     "execution_count": 89,
     "metadata": {},
     "output_type": "execute_result"
    }
   ],
   "source": [
    "pbp['desc'].sample(15)"
   ]
  },
  {
   "cell_type": "code",
   "execution_count": null,
   "metadata": {},
   "outputs": [
    {
     "data": {
      "text/plain": [
       "{'play_id': 2570.0,\n",
       " 'game_id': '2013_13_TB_CAR',\n",
       " 'old_game_id': '2013120100',\n",
       " 'home_team': 'CAR',\n",
       " 'away_team': 'TB',\n",
       " 'season_type': 'REG',\n",
       " 'week': 13,\n",
       " 'posteam': 'CAR',\n",
       " 'posteam_type': 'home',\n",
       " 'defteam': 'TB',\n",
       " 'game_date': '2013-12-01',\n",
       " 'quarter_seconds_remaining': 0.0,\n",
       " 'half_seconds_remaining': 900.0,\n",
       " 'game_seconds_remaining': 900.0,\n",
       " 'game_half': 'Half2',\n",
       " 'quarter_end': 1.0,\n",
       " 'drive': 18.0,\n",
       " 'sp': 0.0,\n",
       " 'qtr': 3.0,\n",
       " 'goal_to_go': 0,\n",
       " 'time': '00:00',\n",
       " 'yrdln': 'CAR 35',\n",
       " 'ydstogo': 0.0,\n",
       " 'ydsnet': 66.0,\n",
       " 'desc': 'END QUARTER 3',\n",
       " 'shotgun': 0.0,\n",
       " 'no_huddle': 0.0,\n",
       " 'qb_kneel': 0.0,\n",
       " 'qb_spike': 0.0,\n",
       " 'qb_scramble': 0.0,\n",
       " 'home_timeouts_remaining': 3.0,\n",
       " 'away_timeouts_remaining': 3.0,\n",
       " 'posteam_timeouts_remaining': 3.0,\n",
       " 'defteam_timeouts_remaining': 3.0,\n",
       " 'total_home_score': 24.0,\n",
       " 'total_away_score': 6.0,\n",
       " 'posteam_score': 24.0,\n",
       " 'defteam_score': 6.0,\n",
       " 'score_differential': 18.0,\n",
       " 'posteam_score_post': 24.0,\n",
       " 'defteam_score_post': 6.0,\n",
       " 'score_differential_post': 18.0,\n",
       " 'no_score_prob': 0.0,\n",
       " 'opp_fg_prob': 0.0,\n",
       " 'opp_safety_prob': 0.0,\n",
       " 'opp_td_prob': 0.0,\n",
       " 'fg_prob': 0.0,\n",
       " 'safety_prob': 0.0,\n",
       " 'td_prob': 0.0,\n",
       " 'extra_point_prob': 0.0,\n",
       " 'two_point_conversion_prob': 0.0,\n",
       " 'ep': 1.567589521408081,\n",
       " 'epa': 0.0,\n",
       " 'total_home_epa': 18.0356502532959,\n",
       " 'total_away_epa': -18.0356502532959,\n",
       " 'total_home_rush_epa': 6.8212456703186035,\n",
       " 'total_away_rush_epa': -6.8212456703186035,\n",
       " 'total_home_pass_epa': 9.315577507019043,\n",
       " 'total_away_pass_epa': -9.315577507019043,\n",
       " 'total_home_comp_air_epa': 0.5196682810783386,\n",
       " 'total_away_comp_air_epa': -0.5196682810783386,\n",
       " 'total_home_comp_yac_epa': 9.463583946228027,\n",
       " 'total_away_comp_yac_epa': -9.463583946228027,\n",
       " 'total_home_raw_air_epa': 5.717121124267578,\n",
       " 'total_away_raw_air_epa': -5.717121124267578,\n",
       " 'total_home_raw_yac_epa': -4.08011531829834,\n",
       " 'total_away_raw_yac_epa': 4.08011531829834,\n",
       " 'wp': 0.9870030283927917,\n",
       " 'def_wp': 0.012996971607208252,\n",
       " 'home_wp': 0.9870030283927917,\n",
       " 'away_wp': 0.012996971607208252,\n",
       " 'wpa': 0.0,\n",
       " 'vegas_wpa': 0.0,\n",
       " 'vegas_home_wpa': 0.0,\n",
       " 'home_wp_post': 0.9870030283927917,\n",
       " 'away_wp_post': 0.012996971607208252,\n",
       " 'vegas_wp': 0.9948807954788208,\n",
       " 'vegas_home_wp': 0.9948807954788208,\n",
       " 'total_home_rush_wpa': 0.20326222479343414,\n",
       " 'total_away_rush_wpa': -0.20326222479343414,\n",
       " 'total_home_pass_wpa': 0.2500933110713959,\n",
       " 'total_away_pass_wpa': -0.2500933110713959,\n",
       " 'total_home_comp_air_wpa': 0.1550874561071396,\n",
       " 'total_away_comp_air_wpa': -0.1550874561071396,\n",
       " 'total_home_comp_yac_wpa': 0.042483579367399216,\n",
       " 'total_away_comp_yac_wpa': -0.042483579367399216,\n",
       " 'total_home_raw_air_wpa': 0.1550874561071396,\n",
       " 'total_away_raw_air_wpa': -0.1550874561071396,\n",
       " 'total_home_raw_yac_wpa': -0.14682666957378387,\n",
       " 'total_away_raw_yac_wpa': 0.14682666957378387,\n",
       " 'touchback': 0.0,\n",
       " 'replay_or_challenge': 0.0,\n",
       " 'season': 2013,\n",
       " 'series': 41.0,\n",
       " 'series_success': 1.0,\n",
       " 'series_result': 'First down',\n",
       " 'order_sequence': 2570.0,\n",
       " 'start_time': '12/1/13, 13:14:03',\n",
       " 'stadium': 'Bank of America Stadium',\n",
       " 'weather': 'Partly Cloudy Temp: 56° F, Humidity: 55 %, Wind: SW 2 mph',\n",
       " 'nfl_api_id': '10012013-1201-00c0-e11f-cd3b5f0c8d52',\n",
       " 'play_clock': '0',\n",
       " 'play_deleted': 0.0,\n",
       " 'play_type_nfl': 'END_QUARTER',\n",
       " 'special_teams_play': 0.0,\n",
       " 'fixed_drive': 18.0,\n",
       " 'fixed_drive_result': 'Field goal',\n",
       " 'drive_real_start_time': '2013-12-01T20:12:05Z',\n",
       " 'drive_play_count': 13.0,\n",
       " 'drive_time_of_possession': '8:45',\n",
       " 'drive_first_downs': 3.0,\n",
       " 'drive_inside20': 1.0,\n",
       " 'drive_ended_with_score': 1.0,\n",
       " 'drive_quarter_start': 3.0,\n",
       " 'drive_quarter_end': 4.0,\n",
       " 'drive_yards_penalized': 0.0,\n",
       " 'drive_start_transition': 'PUNT',\n",
       " 'drive_end_transition': 'FIELD_GOAL',\n",
       " 'drive_game_clock_start': '00:25',\n",
       " 'drive_game_clock_end': '06:40',\n",
       " 'drive_start_yard_line': 'CAR 29',\n",
       " 'drive_end_yard_line': 'TB 5',\n",
       " 'drive_play_id_started': 2549.0,\n",
       " 'drive_play_id_ended': 2843.0,\n",
       " 'away_score': 6,\n",
       " 'home_score': 27,\n",
       " 'location': 'Home',\n",
       " 'result': 21,\n",
       " 'total': 33,\n",
       " 'spread_line': -7.5,\n",
       " 'total_line': 41.0,\n",
       " 'div_game': 1,\n",
       " 'roof': 'outdoors',\n",
       " 'surface': 'grass',\n",
       " 'temp': 56.0,\n",
       " 'wind': 2.0,\n",
       " 'home_coach': 'Ron Rivera',\n",
       " 'away_coach': 'Greg Schiano',\n",
       " 'stadium_id': 'CAR00',\n",
       " 'game_stadium': 'Bank of America Stadium',\n",
       " 'aborted_play': 0.0,\n",
       " 'success': 0.0,\n",
       " 'pass': 0.0,\n",
       " 'rush': 0.0,\n",
       " 'special': 0.0,\n",
       " 'play': 0.0,\n",
       " 'out_of_bounds': 0.0,\n",
       " 'home_opening_kickoff': 1.0,\n",
       " 'qb_epa': 0.0,\n",
       " 'year': 2013,\n",
       " 'completions_team_roll': 19.0,\n",
       " 'attempts_team_roll': 30.428571428571427,\n",
       " 'carries_team_roll': 30.571428571428573,\n",
       " 'passing_yards_team_roll': 212.7142857142857,\n",
       " 'rushing_yards_team_roll': 124.71428571428572,\n",
       " 'pass_pct_team_roll': 0.4961523386961359,\n",
       " 'receiving_yards_team_roll': 212.7142857142857,\n",
       " 'completions_opp_roll': 22.428571428571427,\n",
       " 'attempts_opp_roll': 34.857142857142854,\n",
       " 'carries_opp_roll': 24.571428571428573,\n",
       " 'passing_yards_opp_roll': 255.42857142857144,\n",
       " 'rushing_yards_opp_roll': 109.42857142857144,\n",
       " 'pass_pct_opp_roll': 0.5870730686373921,\n",
       " 'receiving_yards_opp_roll': 255.42857142857144}"
      ]
     },
     "execution_count": 90,
     "metadata": {},
     "output_type": "execute_result"
    }
   ],
   "source": [
    "pbp.iloc[177294].dropna().to_dict()"
   ]
  },
  {
   "cell_type": "code",
   "execution_count": null,
   "metadata": {},
   "outputs": [],
   "source": []
  },
  {
   "cell_type": "code",
   "execution_count": null,
   "metadata": {},
   "outputs": [],
   "source": []
  },
  {
   "cell_type": "code",
   "execution_count": null,
   "metadata": {},
   "outputs": [],
   "source": []
  }
 ],
 "metadata": {
  "kernelspec": {
   "display_name": "nfl_sim",
   "language": "python",
   "name": "python3"
  },
  "language_info": {
   "codemirror_mode": {
    "name": "ipython",
    "version": 3
   },
   "file_extension": ".py",
   "mimetype": "text/x-python",
   "name": "python",
   "nbconvert_exporter": "python",
   "pygments_lexer": "ipython3",
   "version": "3.12.2"
  }
 },
 "nbformat": 4,
 "nbformat_minor": 2
}
