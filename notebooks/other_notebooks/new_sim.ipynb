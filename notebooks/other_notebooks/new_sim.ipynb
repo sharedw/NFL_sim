{
 "cells": [
  {
   "cell_type": "code",
   "execution_count": 1,
   "id": "d83a071a",
   "metadata": {},
   "outputs": [],
   "source": [
    "from sim_utils.game import GameState"
   ]
  },
  {
   "cell_type": "code",
   "execution_count": 2,
   "id": "aeb8e428",
   "metadata": {},
   "outputs": [],
   "source": [
    "from sim_utils.team import Team"
   ]
  },
  {
   "cell_type": "code",
   "execution_count": 3,
   "id": "76eb08be",
   "metadata": {},
   "outputs": [],
   "source": [
    "t1 = Team('DET', 2024, 6)\n",
    "t2 = Team('DET', 2024, 7)\n",
    "\n",
    "game = GameState(t1, t2)"
   ]
  },
  {
   "cell_type": "code",
   "execution_count": 4,
   "id": "01836ac9",
   "metadata": {},
   "outputs": [],
   "source": [
    "game.reset_game()"
   ]
  },
  {
   "cell_type": "code",
   "execution_count": 5,
   "id": "50ae85de",
   "metadata": {},
   "outputs": [
    {
     "name": "stdout",
     "output_type": "stream",
     "text": [
      "{'yards': 2, 'air_yards': -7, 'yac': 9, 'play_type': 'pass'}\n",
      "{'yards': -3, 'air_yards': 12, 'yac': -15, 'play_type': 'pass'}\n",
      "{'yards': 0, 'air_yards': 29, 'yac': 30, 'play_type': 'pass'}\n",
      "{'yards': 0, 'play_type': 'punt'}\n",
      "{'yards': 0, 'play_type': 'punt'}\n",
      "{'yards': 0, 'play_type': 'punt'}\n",
      "{'yards': 0, 'play_type': 'punt'}\n",
      "{'yards': 0, 'play_type': 'punt'}\n",
      "{'yards': 0, 'play_type': 'punt'}\n",
      "{'yards': 0, 'play_type': 'punt'}\n",
      "{'yards': 0, 'play_type': 'punt'}\n",
      "{'yards': 0, 'play_type': 'punt'}\n",
      "{'yards': 0, 'play_type': 'punt'}\n",
      "{'yards': 0, 'play_type': 'punt'}\n",
      "{'yards': 0, 'play_type': 'punt'}\n",
      "{'yards': 0, 'play_type': 'punt'}\n",
      "{'yards': 0, 'play_type': 'punt'}\n",
      "{'yards': 0, 'play_type': 'punt'}\n",
      "{'yards': 0, 'play_type': 'punt'}\n",
      "{'yards': 0, 'play_type': 'punt'}\n",
      "{'yards': 0, 'play_type': 'punt'}\n",
      "{'yards': 0, 'play_type': 'punt'}\n",
      "{'yards': 0, 'play_type': 'punt'}\n",
      "{'yards': 0, 'play_type': 'punt'}\n",
      "{'yards': 0, 'play_type': 'punt'}\n",
      "{'yards': 0, 'play_type': 'punt'}\n",
      "{'yards': 0, 'play_type': 'punt'}\n",
      "[66, 11, 4, 0, 3, 42]\n",
      "{'yards': 2, 'play_type': 'run'}\n",
      "{'yards': 6, 'air_yards': 7, 'yac': -1, 'play_type': 'pass'}\n",
      "[30, 4, 2, 0, -3, 42]\n",
      "{'yards': 11, 'play_type': 'run'}\n",
      "{'yards': 3, 'air_yards': 3, 'yac': 0, 'play_type': 'pass'}\n",
      "[16, 7, 2, 0, -3, 42]\n",
      "{'yards': 1, 'play_type': 'run'}\n",
      "{'yards': 0, 'air_yards': 2, 'yac': 4, 'play_type': 'pass'}\n"
     ]
    },
    {
     "ename": "AttributeError",
     "evalue": "'FieldGoal' object has no attribute 'game'",
     "output_type": "error",
     "traceback": [
      "\u001b[1;31m---------------------------------------------------------------------------\u001b[0m",
      "\u001b[1;31mAttributeError\u001b[0m                            Traceback (most recent call last)",
      "Cell \u001b[1;32mIn[5], line 1\u001b[0m\n\u001b[1;32m----> 1\u001b[0m \u001b[43mgame\u001b[49m\u001b[38;5;241;43m.\u001b[39;49m\u001b[43mplay_game\u001b[49m\u001b[43m(\u001b[49m\u001b[43m)\u001b[49m\n",
      "File \u001b[1;32mc:\\Github\\nfl_sim\\src\\sim_utils\\game.py:202\u001b[0m, in \u001b[0;36mGameState.play_game\u001b[1;34m(self)\u001b[0m\n\u001b[0;32m    200\u001b[0m \u001b[38;5;28mself\u001b[39m\u001b[38;5;241m.\u001b[39mstart_game()\n\u001b[0;32m    201\u001b[0m \u001b[38;5;28;01mwhile\u001b[39;00m \u001b[38;5;28mself\u001b[39m\u001b[38;5;241m.\u001b[39mquarter \u001b[38;5;241m<\u001b[39m\u001b[38;5;241m=\u001b[39m \u001b[38;5;241m4\u001b[39m:\n\u001b[1;32m--> 202\u001b[0m \t\u001b[38;5;28;43mself\u001b[39;49m\u001b[38;5;241;43m.\u001b[39;49m\u001b[43mplay_quarter\u001b[49m\u001b[43m(\u001b[49m\u001b[43m)\u001b[49m\n\u001b[0;32m    203\u001b[0m \t\u001b[38;5;66;03m# print(self.quarter)\u001b[39;00m\n\u001b[0;32m    204\u001b[0m \u001b[38;5;28;01mif\u001b[39;00m \u001b[38;5;28mself\u001b[39m\u001b[38;5;241m.\u001b[39mhome\u001b[38;5;241m.\u001b[39mscore \u001b[38;5;241m>\u001b[39m \u001b[38;5;28mself\u001b[39m\u001b[38;5;241m.\u001b[39maway\u001b[38;5;241m.\u001b[39mscore:\n",
      "File \u001b[1;32mc:\\Github\\nfl_sim\\src\\sim_utils\\game.py:193\u001b[0m, in \u001b[0;36mGameState.play_quarter\u001b[1;34m(self)\u001b[0m\n\u001b[0;32m    191\u001b[0m \t\u001b[38;5;28mself\u001b[39m\u001b[38;5;241m.\u001b[39maway\u001b[38;5;241m.\u001b[39mtimeouts \u001b[38;5;241m=\u001b[39m \u001b[38;5;241m3\u001b[39m\n\u001b[0;32m    192\u001b[0m \u001b[38;5;28;01mwhile\u001b[39;00m \u001b[38;5;28mself\u001b[39m\u001b[38;5;241m.\u001b[39mclock \u001b[38;5;241m>\u001b[39m \u001b[38;5;241m0\u001b[39m:\n\u001b[1;32m--> 193\u001b[0m \t\u001b[38;5;28;43mself\u001b[39;49m\u001b[38;5;241;43m.\u001b[39;49m\u001b[43msim_one_play\u001b[49m\u001b[43m(\u001b[49m\u001b[38;5;28;43mself\u001b[39;49m\u001b[38;5;241;43m.\u001b[39;49m\u001b[43mpossession\u001b[49m\u001b[43m)\u001b[49m\n\u001b[0;32m    194\u001b[0m \u001b[38;5;28mself\u001b[39m\u001b[38;5;241m.\u001b[39mquarter \u001b[38;5;241m+\u001b[39m\u001b[38;5;241m=\u001b[39m \u001b[38;5;241m1\u001b[39m\n",
      "File \u001b[1;32mc:\\Github\\nfl_sim\\src\\sim_utils\\game.py:142\u001b[0m, in \u001b[0;36mGameState.sim_one_play\u001b[1;34m(self, team)\u001b[0m\n\u001b[0;32m    140\u001b[0m game_context \u001b[38;5;241m=\u001b[39m \u001b[38;5;28mself\u001b[39m\u001b[38;5;241m.\u001b[39mget_game_state()\n\u001b[0;32m    141\u001b[0m play_type \u001b[38;5;241m=\u001b[39m \u001b[38;5;28mself\u001b[39m\u001b[38;5;241m.\u001b[39mcall_play(team, game_context)\n\u001b[1;32m--> 142\u001b[0m play_result \u001b[38;5;241m=\u001b[39m \u001b[38;5;28;43mself\u001b[39;49m\u001b[38;5;241;43m.\u001b[39;49m\u001b[43mplay_functions\u001b[49m\u001b[43m[\u001b[49m\u001b[43mplay_type\u001b[49m\u001b[43m]\u001b[49m\u001b[38;5;241;43m.\u001b[39;49m\u001b[43morchestrate\u001b[49m\u001b[43m(\u001b[49m\u001b[43mteam\u001b[49m\u001b[43m,\u001b[49m\u001b[43m \u001b[49m\u001b[43mgame_context\u001b[49m\u001b[43m)\u001b[49m\n\u001b[0;32m    143\u001b[0m \u001b[38;5;28mprint\u001b[39m(play_result)\n\u001b[0;32m    144\u001b[0m \u001b[38;5;28mself\u001b[39m\u001b[38;5;241m.\u001b[39mupdate_game_state(team, play_result)\n",
      "File \u001b[1;32mc:\\Github\\nfl_sim\\src\\sim_utils\\plays.py:74\u001b[0m, in \u001b[0;36mPlay.orchestrate\u001b[1;34m(self, team, game_context)\u001b[0m\n\u001b[0;32m     73\u001b[0m \u001b[38;5;28;01mdef\u001b[39;00m\u001b[38;5;250m \u001b[39m\u001b[38;5;21morchestrate\u001b[39m(\u001b[38;5;28mself\u001b[39m, team: Team, game_context: \u001b[38;5;28mdict\u001b[39m):\n\u001b[1;32m---> 74\u001b[0m \tplay_result \u001b[38;5;241m=\u001b[39m \u001b[38;5;28;43mself\u001b[39;49m\u001b[38;5;241;43m.\u001b[39;49m\u001b[43mexecute_play\u001b[49m\u001b[43m(\u001b[49m\u001b[43m \u001b[49m\u001b[43mteam\u001b[49m\u001b[43m,\u001b[49m\u001b[43m \u001b[49m\u001b[43mgame_context\u001b[49m\u001b[43m)\u001b[49m\n\u001b[0;32m     75\u001b[0m \tplay_result[\u001b[38;5;124m'\u001b[39m\u001b[38;5;124mplay_type\u001b[39m\u001b[38;5;124m'\u001b[39m] \u001b[38;5;241m=\u001b[39m \u001b[38;5;28mself\u001b[39m\u001b[38;5;241m.\u001b[39mplay_type\n\u001b[0;32m     76\u001b[0m \t\u001b[38;5;28;01mreturn\u001b[39;00m play_result\n",
      "File \u001b[1;32mc:\\Github\\nfl_sim\\src\\sim_utils\\plays.py:239\u001b[0m, in \u001b[0;36mFieldGoal.execute_play\u001b[1;34m(self, team, game_context)\u001b[0m\n\u001b[0;32m    237\u001b[0m \u001b[38;5;28;01mif\u001b[39;00m result \u001b[38;5;241m>\u001b[39m (\u001b[38;5;241m10\u001b[39m \u001b[38;5;241m+\u001b[39m (\u001b[38;5;241m1.7\u001b[39m \u001b[38;5;241m*\u001b[39m game_context[\u001b[38;5;124m'\u001b[39m\u001b[38;5;124myardline_100\u001b[39m\u001b[38;5;124m'\u001b[39m])):\n\u001b[0;32m    238\u001b[0m \tteam\u001b[38;5;241m.\u001b[39mscore \u001b[38;5;241m+\u001b[39m\u001b[38;5;241m=\u001b[39m \u001b[38;5;241m3\u001b[39m\n\u001b[1;32m--> 239\u001b[0m \t\u001b[38;5;28;43mself\u001b[39;49m\u001b[38;5;241;43m.\u001b[39;49m\u001b[43mgame\u001b[49m\u001b[38;5;241m.\u001b[39mswitch_poss()\n\u001b[0;32m    240\u001b[0m \t\u001b[38;5;28mself\u001b[39m\u001b[38;5;241m.\u001b[39mgame\u001b[38;5;241m.\u001b[39mball_position \u001b[38;5;241m=\u001b[39m \u001b[38;5;241m65\u001b[39m\n\u001b[0;32m    241\u001b[0m \t\u001b[38;5;66;03m# print(f'{team.name} scored a FG')\u001b[39;00m\n\u001b[0;32m    242\u001b[0m \u001b[38;5;28;01melse\u001b[39;00m:\n\u001b[0;32m    243\u001b[0m \t\u001b[38;5;66;03m# print(f'{team.name} missed FG')\u001b[39;00m\n",
      "\u001b[1;31mAttributeError\u001b[0m: 'FieldGoal' object has no attribute 'game'"
     ]
    }
   ],
   "source": [
    "game.play_game()"
   ]
  },
  {
   "cell_type": "code",
   "execution_count": null,
   "id": "8788b9f5",
   "metadata": {},
   "outputs": [
    {
     "ename": "AttributeError",
     "evalue": "'PassPlay' object has no attribute 'game'",
     "output_type": "error",
     "traceback": [
      "\u001b[1;31m---------------------------------------------------------------------------\u001b[0m",
      "\u001b[1;31mAttributeError\u001b[0m                            Traceback (most recent call last)",
      "Cell \u001b[1;32mIn[24], line 1\u001b[0m\n\u001b[1;32m----> 1\u001b[0m \u001b[43mgame\u001b[49m\u001b[38;5;241;43m.\u001b[39;49m\u001b[43mplay_functions\u001b[49m\u001b[43m[\u001b[49m\u001b[38;5;124;43m'\u001b[39;49m\u001b[38;5;124;43mpass\u001b[39;49m\u001b[38;5;124;43m'\u001b[39;49m\u001b[43m]\u001b[49m\u001b[38;5;241;43m.\u001b[39;49m\u001b[43morchestrate\u001b[49m\u001b[43m(\u001b[49m\u001b[43mt1\u001b[49m\u001b[43m,\u001b[49m\u001b[43m \u001b[49m\u001b[43mgame\u001b[49m\u001b[38;5;241;43m.\u001b[39;49m\u001b[43mget_game_state\u001b[49m\u001b[43m(\u001b[49m\u001b[43m)\u001b[49m\u001b[43m)\u001b[49m\n",
      "File \u001b[1;32mc:\\Github\\nfl_sim\\src\\sim_utils\\plays.py:74\u001b[0m, in \u001b[0;36mPlay.orchestrate\u001b[1;34m(self, team, game_context)\u001b[0m\n\u001b[0;32m     73\u001b[0m \u001b[38;5;28;01mdef\u001b[39;00m\u001b[38;5;250m \u001b[39m\u001b[38;5;21morchestrate\u001b[39m(\u001b[38;5;28mself\u001b[39m, team: Team, game_context: \u001b[38;5;28mdict\u001b[39m):\n\u001b[1;32m---> 74\u001b[0m \tyards \u001b[38;5;241m=\u001b[39m \u001b[38;5;28;43mself\u001b[39;49m\u001b[38;5;241;43m.\u001b[39;49m\u001b[43mexecute_play\u001b[49m\u001b[43m(\u001b[49m\u001b[43m \u001b[49m\u001b[43mteam\u001b[49m\u001b[43m,\u001b[49m\u001b[43m \u001b[49m\u001b[43mgame_context\u001b[49m\u001b[43m)\u001b[49m\n\u001b[0;32m     75\u001b[0m \tplay_result \u001b[38;5;241m=\u001b[39m {\u001b[38;5;124m'\u001b[39m\u001b[38;5;124myards\u001b[39m\u001b[38;5;124m'\u001b[39m:yards}\n\u001b[0;32m     76\u001b[0m \t\u001b[38;5;28;01mreturn\u001b[39;00m play_result\n",
      "File \u001b[1;32mc:\\Github\\nfl_sim\\src\\sim_utils\\plays.py:213\u001b[0m, in \u001b[0;36mPassPlay.execute_play\u001b[1;34m(self, team, game_context)\u001b[0m\n\u001b[0;32m    211\u001b[0m passer\u001b[38;5;241m.\u001b[39mattempts \u001b[38;5;241m+\u001b[39m\u001b[38;5;241m=\u001b[39m \u001b[38;5;241m1\u001b[39m\n\u001b[0;32m    212\u001b[0m receiver\u001b[38;5;241m.\u001b[39mtargets \u001b[38;5;241m+\u001b[39m\u001b[38;5;241m=\u001b[39m \u001b[38;5;241m1\u001b[39m\n\u001b[1;32m--> 213\u001b[0m air_yards, yac \u001b[38;5;241m=\u001b[39m \u001b[38;5;28;43mself\u001b[39;49m\u001b[38;5;241;43m.\u001b[39;49m\u001b[43msample_air_and_yac\u001b[49m\u001b[43m(\u001b[49m\n\u001b[0;32m    214\u001b[0m \u001b[43m\t\u001b[49m\u001b[43mteam\u001b[49m\u001b[43m,\u001b[49m\u001b[43m \u001b[49m\u001b[43mreceiver\u001b[49m\u001b[43m,\u001b[49m\u001b[43m \u001b[49m\u001b[43mgame_context\u001b[49m\n\u001b[0;32m    215\u001b[0m \u001b[43m\u001b[49m\u001b[43m)\u001b[49m\n\u001b[0;32m    217\u001b[0m \u001b[38;5;28;01mif\u001b[39;00m \u001b[38;5;28mself\u001b[39m\u001b[38;5;241m.\u001b[39msample_completion(passer, receiver, team, air_yards, game_context):\n\u001b[0;32m    218\u001b[0m \tpasser\u001b[38;5;241m.\u001b[39mcompletions \u001b[38;5;241m+\u001b[39m\u001b[38;5;241m=\u001b[39m \u001b[38;5;241m1\u001b[39m\n",
      "File \u001b[1;32mc:\\Github\\nfl_sim\\src\\sim_utils\\plays.py:167\u001b[0m, in \u001b[0;36mPassPlay.sample_air_and_yac\u001b[1;34m(self, team, player, game_context)\u001b[0m\n\u001b[0;32m    160\u001b[0m raw_features \u001b[38;5;241m=\u001b[39m \u001b[38;5;28mself\u001b[39m\u001b[38;5;241m.\u001b[39mcollect_features(\n\u001b[0;32m    161\u001b[0m \tplayer\u001b[38;5;241m.\u001b[39mfeatures,\n\u001b[0;32m    162\u001b[0m \tteam\u001b[38;5;241m.\u001b[39mteam_stats,\n\u001b[0;32m    163\u001b[0m \tteam\u001b[38;5;241m.\u001b[39mopponent\u001b[38;5;241m.\u001b[39mopp_stats,\n\u001b[0;32m    164\u001b[0m \tgame_context\n\u001b[0;32m    165\u001b[0m )\n\u001b[0;32m    166\u001b[0m air_yards \u001b[38;5;241m=\u001b[39m AIR_YARDS_MODEL\u001b[38;5;241m.\u001b[39mpredict(raw_features)\n\u001b[1;32m--> 167\u001b[0m \u001b[38;5;28;01mif\u001b[39;00m air_yards \u001b[38;5;241m>\u001b[39m\u001b[38;5;241m=\u001b[39m \u001b[38;5;28;43mself\u001b[39;49m\u001b[38;5;241;43m.\u001b[39;49m\u001b[43mgame\u001b[49m\u001b[38;5;241m.\u001b[39mball_position:  \u001b[38;5;66;03m# touchdown at catch\u001b[39;00m\n\u001b[0;32m    168\u001b[0m \t\u001b[38;5;28;01mreturn\u001b[39;00m \u001b[38;5;28mself\u001b[39m\u001b[38;5;241m.\u001b[39mgame\u001b[38;5;241m.\u001b[39mball_position, \u001b[38;5;241m0\u001b[39m\n\u001b[0;32m    170\u001b[0m raw_features[\u001b[38;5;124m'\u001b[39m\u001b[38;5;124mair_yards\u001b[39m\u001b[38;5;124m'\u001b[39m] \u001b[38;5;241m=\u001b[39m air_yards\n",
      "\u001b[1;31mAttributeError\u001b[0m: 'PassPlay' object has no attribute 'game'"
     ]
    }
   ],
   "source": [
    "game.play_functions['pass'].orchestrate(t1, game.get_game_state())"
   ]
  },
  {
   "cell_type": "code",
   "execution_count": null,
   "id": "877178ac",
   "metadata": {},
   "outputs": [],
   "source": []
  }
 ],
 "metadata": {
  "kernelspec": {
   "display_name": "nfl_sim",
   "language": "python",
   "name": "python3"
  },
  "language_info": {
   "codemirror_mode": {
    "name": "ipython",
    "version": 3
   },
   "file_extension": ".py",
   "mimetype": "text/x-python",
   "name": "python",
   "nbconvert_exporter": "python",
   "pygments_lexer": "ipython3",
   "version": "3.12.2"
  }
 },
 "nbformat": 4,
 "nbformat_minor": 5
}
